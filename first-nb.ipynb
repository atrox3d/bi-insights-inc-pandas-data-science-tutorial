{
 "cells": [
  {
   "cell_type": "markdown",
   "metadata": {},
   "source": [
    "# import pandas"
   ]
  },
  {
   "cell_type": "code",
   "execution_count": 92,
   "metadata": {},
   "outputs": [],
   "source": [
    "import pandas as pd"
   ]
  },
  {
   "cell_type": "markdown",
   "metadata": {},
   "source": [
    "### explain callable format"
   ]
  },
  {
   "cell_type": "code",
   "execution_count": 93,
   "metadata": {},
   "outputs": [],
   "source": [
    "pd.options.display.float_format = '{:,.0f}'.format"
   ]
  },
  {
   "cell_type": "markdown",
   "metadata": {},
   "source": [
    "<blockquote>\n",
    "\n",
    "f is a method object bound to a string instance\n",
    "\n",
    "the format method is bound to a `str('{:,.0f}')` object\n",
    "\n",
    "when passed as an argument and called, it remebers the self argument\n",
    "\n",
    "the original self object can be retrieved via the `__self__`attribute\n",
    "</blockquote>\n"
   ]
  },
  {
   "cell_type": "code",
   "execution_count": 94,
   "metadata": {},
   "outputs": [
    {
     "data": {
      "text/plain": [
       "\"f.__self__ = '{:,.0f}'\""
      ]
     },
     "execution_count": 94,
     "metadata": {},
     "output_type": "execute_result"
    }
   ],
   "source": [
    "f = '{:,.0f}'.format\n",
    "f'{f.__self__ = }'"
   ]
  },
  {
   "cell_type": "markdown",
   "metadata": {},
   "source": [
    "# import excel file"
   ]
  },
  {
   "cell_type": "code",
   "execution_count": 95,
   "metadata": {},
   "outputs": [
    {
     "data": {
      "text/html": [
       "<div>\n",
       "<style scoped>\n",
       "    .dataframe tbody tr th:only-of-type {\n",
       "        vertical-align: middle;\n",
       "    }\n",
       "\n",
       "    .dataframe tbody tr th {\n",
       "        vertical-align: top;\n",
       "    }\n",
       "\n",
       "    .dataframe thead th {\n",
       "        text-align: right;\n",
       "    }\n",
       "</style>\n",
       "<table border=\"1\" class=\"dataframe\">\n",
       "  <thead>\n",
       "    <tr style=\"text-align: right;\">\n",
       "      <th></th>\n",
       "      <th>productcategory</th>\n",
       "      <th>productsubcategory</th>\n",
       "      <th>product</th>\n",
       "      <th>saleterritory</th>\n",
       "      <th>Country</th>\n",
       "      <th>City</th>\n",
       "      <th>Sate</th>\n",
       "      <th>Customer</th>\n",
       "      <th>Employee</th>\n",
       "      <th>OrderCount</th>\n",
       "      <th>OrderDate</th>\n",
       "      <th>StandardCost</th>\n",
       "      <th>UnitPrice</th>\n",
       "      <th>UnitPriceDiscount</th>\n",
       "      <th>Discount</th>\n",
       "      <th>ListPrice</th>\n",
       "      <th>SaleswithStandard</th>\n",
       "      <th>NetSales</th>\n",
       "      <th>OrderQuantity</th>\n",
       "      <th>Sales</th>\n",
       "    </tr>\n",
       "  </thead>\n",
       "  <tbody>\n",
       "    <tr>\n",
       "      <th>0</th>\n",
       "      <td>Clothing</td>\n",
       "      <td>Caps</td>\n",
       "      <td>AWC Logo Cap</td>\n",
       "      <td>United Kingdom</td>\n",
       "      <td>United Kingdom</td>\n",
       "      <td>Berks</td>\n",
       "      <td>England</td>\n",
       "      <td>Gary Suess</td>\n",
       "      <td>Amy Alberts</td>\n",
       "      <td>1</td>\n",
       "      <td>2012-06-30</td>\n",
       "      <td>7</td>\n",
       "      <td>5</td>\n",
       "      <td>0</td>\n",
       "      <td>1</td>\n",
       "      <td>9</td>\n",
       "      <td>97</td>\n",
       "      <td>-28</td>\n",
       "      <td>14</td>\n",
       "      <td>69</td>\n",
       "    </tr>\n",
       "    <tr>\n",
       "      <th>1</th>\n",
       "      <td>Accessories</td>\n",
       "      <td>Locks</td>\n",
       "      <td>Cable Lock</td>\n",
       "      <td>United Kingdom</td>\n",
       "      <td>United Kingdom</td>\n",
       "      <td>Berks</td>\n",
       "      <td>England</td>\n",
       "      <td>Gary Suess</td>\n",
       "      <td>Amy Alberts</td>\n",
       "      <td>1</td>\n",
       "      <td>2012-06-30</td>\n",
       "      <td>10</td>\n",
       "      <td>15</td>\n",
       "      <td>0</td>\n",
       "      <td>0</td>\n",
       "      <td>25</td>\n",
       "      <td>62</td>\n",
       "      <td>28</td>\n",
       "      <td>6</td>\n",
       "      <td>90</td>\n",
       "    </tr>\n",
       "    <tr>\n",
       "      <th>2</th>\n",
       "      <td>Clothing</td>\n",
       "      <td>Gloves</td>\n",
       "      <td>Full-Finger Gloves, L</td>\n",
       "      <td>United Kingdom</td>\n",
       "      <td>United Kingdom</td>\n",
       "      <td>Berks</td>\n",
       "      <td>England</td>\n",
       "      <td>Gary Suess</td>\n",
       "      <td>Amy Alberts</td>\n",
       "      <td>1</td>\n",
       "      <td>2012-06-30</td>\n",
       "      <td>16</td>\n",
       "      <td>23</td>\n",
       "      <td>0</td>\n",
       "      <td>0</td>\n",
       "      <td>38</td>\n",
       "      <td>125</td>\n",
       "      <td>57</td>\n",
       "      <td>8</td>\n",
       "      <td>182</td>\n",
       "    </tr>\n",
       "    <tr>\n",
       "      <th>3</th>\n",
       "      <td>Clothing</td>\n",
       "      <td>Gloves</td>\n",
       "      <td>Full-Finger Gloves, L</td>\n",
       "      <td>United Kingdom</td>\n",
       "      <td>United Kingdom</td>\n",
       "      <td>London</td>\n",
       "      <td>England</td>\n",
       "      <td>Linda Martin</td>\n",
       "      <td>Amy Alberts</td>\n",
       "      <td>1</td>\n",
       "      <td>2012-06-30</td>\n",
       "      <td>16</td>\n",
       "      <td>21</td>\n",
       "      <td>0</td>\n",
       "      <td>17</td>\n",
       "      <td>38</td>\n",
       "      <td>251</td>\n",
       "      <td>67</td>\n",
       "      <td>16</td>\n",
       "      <td>318</td>\n",
       "    </tr>\n",
       "    <tr>\n",
       "      <th>4</th>\n",
       "      <td>Clothing</td>\n",
       "      <td>Gloves</td>\n",
       "      <td>Full-Finger Gloves, M</td>\n",
       "      <td>United Kingdom</td>\n",
       "      <td>United Kingdom</td>\n",
       "      <td>Berks</td>\n",
       "      <td>England</td>\n",
       "      <td>Gary Suess</td>\n",
       "      <td>Amy Alberts</td>\n",
       "      <td>1</td>\n",
       "      <td>2012-06-30</td>\n",
       "      <td>16</td>\n",
       "      <td>23</td>\n",
       "      <td>0</td>\n",
       "      <td>0</td>\n",
       "      <td>38</td>\n",
       "      <td>110</td>\n",
       "      <td>50</td>\n",
       "      <td>7</td>\n",
       "      <td>160</td>\n",
       "    </tr>\n",
       "  </tbody>\n",
       "</table>\n",
       "</div>"
      ],
      "text/plain": [
       "  productcategory productsubcategory                product   saleterritory  \\\n",
       "0        Clothing               Caps           AWC Logo Cap  United Kingdom   \n",
       "1     Accessories              Locks             Cable Lock  United Kingdom   \n",
       "2        Clothing             Gloves  Full-Finger Gloves, L  United Kingdom   \n",
       "3        Clothing             Gloves  Full-Finger Gloves, L  United Kingdom   \n",
       "4        Clothing             Gloves  Full-Finger Gloves, M  United Kingdom   \n",
       "\n",
       "          Country    City     Sate      Customer     Employee  OrderCount  \\\n",
       "0  United Kingdom   Berks  England    Gary Suess  Amy Alberts           1   \n",
       "1  United Kingdom   Berks  England    Gary Suess  Amy Alberts           1   \n",
       "2  United Kingdom   Berks  England    Gary Suess  Amy Alberts           1   \n",
       "3  United Kingdom  London  England  Linda Martin  Amy Alberts           1   \n",
       "4  United Kingdom   Berks  England    Gary Suess  Amy Alberts           1   \n",
       "\n",
       "   OrderDate  StandardCost  UnitPrice  UnitPriceDiscount  Discount  ListPrice  \\\n",
       "0 2012-06-30             7          5                  0         1          9   \n",
       "1 2012-06-30            10         15                  0         0         25   \n",
       "2 2012-06-30            16         23                  0         0         38   \n",
       "3 2012-06-30            16         21                  0        17         38   \n",
       "4 2012-06-30            16         23                  0         0         38   \n",
       "\n",
       "   SaleswithStandard  NetSales  OrderQuantity  Sales  \n",
       "0                 97       -28             14     69  \n",
       "1                 62        28              6     90  \n",
       "2                125        57              8    182  \n",
       "3                251        67             16    318  \n",
       "4                110        50              7    160  "
      ]
     },
     "execution_count": 95,
     "metadata": {},
     "output_type": "execute_result"
    }
   ],
   "source": [
    "df = pd.read_excel('advworksdata.xlsx')\n",
    "df.head() # first 5"
   ]
  },
  {
   "cell_type": "markdown",
   "metadata": {},
   "source": [
    "## check dataframe properties"
   ]
  },
  {
   "cell_type": "markdown",
   "metadata": {},
   "source": [
    "#### show dataframe type"
   ]
  },
  {
   "cell_type": "code",
   "execution_count": 96,
   "metadata": {},
   "outputs": [
    {
     "data": {
      "text/plain": [
       "pandas.core.frame.DataFrame"
      ]
     },
     "execution_count": 96,
     "metadata": {},
     "output_type": "execute_result"
    }
   ],
   "source": [
    "type(df)"
   ]
  },
  {
   "cell_type": "markdown",
   "metadata": {},
   "source": [
    "### check if dataframe is empty"
   ]
  },
  {
   "cell_type": "code",
   "execution_count": 97,
   "metadata": {},
   "outputs": [
    {
     "data": {
      "text/plain": [
       "False"
      ]
     },
     "execution_count": 97,
     "metadata": {},
     "output_type": "execute_result"
    }
   ],
   "source": [
    "df.empty"
   ]
  },
  {
   "cell_type": "markdown",
   "metadata": {},
   "source": [
    "### show dataframe shape\n",
    "\n",
    "> shape is shown in (rows, columns)"
   ]
  },
  {
   "cell_type": "code",
   "execution_count": 98,
   "metadata": {},
   "outputs": [
    {
     "data": {
      "text/plain": [
       "(60880, 20)"
      ]
     },
     "execution_count": 98,
     "metadata": {},
     "output_type": "execute_result"
    }
   ],
   "source": [
    "df.shape"
   ]
  },
  {
   "cell_type": "markdown",
   "metadata": {},
   "source": [
    "### get list of columns"
   ]
  },
  {
   "cell_type": "code",
   "execution_count": 99,
   "metadata": {},
   "outputs": [
    {
     "data": {
      "text/plain": [
       "Index(['productcategory', 'productsubcategory', 'product', 'saleterritory',\n",
       "       'Country', 'City', 'Sate', 'Customer', 'Employee', 'OrderCount',\n",
       "       'OrderDate', 'StandardCost', 'UnitPrice', 'UnitPriceDiscount',\n",
       "       'Discount', 'ListPrice', 'SaleswithStandard', 'NetSales',\n",
       "       'OrderQuantity', 'Sales'],\n",
       "      dtype='object')"
      ]
     },
     "execution_count": 99,
     "metadata": {},
     "output_type": "execute_result"
    }
   ],
   "source": [
    "df.columns"
   ]
  },
  {
   "cell_type": "markdown",
   "metadata": {},
   "source": [
    "# work with dataframe"
   ]
  },
  {
   "cell_type": "markdown",
   "metadata": {},
   "source": [
    "## modify metadata\n",
    "\n",
    "### rename columns"
   ]
  },
  {
   "cell_type": "code",
   "execution_count": 100,
   "metadata": {},
   "outputs": [
    {
     "data": {
      "text/html": [
       "<div>\n",
       "<style scoped>\n",
       "    .dataframe tbody tr th:only-of-type {\n",
       "        vertical-align: middle;\n",
       "    }\n",
       "\n",
       "    .dataframe tbody tr th {\n",
       "        vertical-align: top;\n",
       "    }\n",
       "\n",
       "    .dataframe thead th {\n",
       "        text-align: right;\n",
       "    }\n",
       "</style>\n",
       "<table border=\"1\" class=\"dataframe\">\n",
       "  <thead>\n",
       "    <tr style=\"text-align: right;\">\n",
       "      <th></th>\n",
       "      <th>productcategory</th>\n",
       "      <th>productsubcategory</th>\n",
       "      <th>product</th>\n",
       "      <th>saleterritory</th>\n",
       "      <th>country</th>\n",
       "      <th>city</th>\n",
       "      <th>sate</th>\n",
       "      <th>customer</th>\n",
       "      <th>employee</th>\n",
       "      <th>ordercount</th>\n",
       "      <th>orderdate</th>\n",
       "      <th>standardcost</th>\n",
       "      <th>unitprice</th>\n",
       "      <th>unitpricediscount</th>\n",
       "      <th>discount</th>\n",
       "      <th>listprice</th>\n",
       "      <th>saleswithstandard</th>\n",
       "      <th>netsales</th>\n",
       "      <th>orderquantity</th>\n",
       "      <th>sales</th>\n",
       "    </tr>\n",
       "  </thead>\n",
       "  <tbody>\n",
       "    <tr>\n",
       "      <th>0</th>\n",
       "      <td>Clothing</td>\n",
       "      <td>Caps</td>\n",
       "      <td>AWC Logo Cap</td>\n",
       "      <td>United Kingdom</td>\n",
       "      <td>United Kingdom</td>\n",
       "      <td>Berks</td>\n",
       "      <td>England</td>\n",
       "      <td>Gary Suess</td>\n",
       "      <td>Amy Alberts</td>\n",
       "      <td>1</td>\n",
       "      <td>2012-06-30</td>\n",
       "      <td>7</td>\n",
       "      <td>5</td>\n",
       "      <td>0</td>\n",
       "      <td>1</td>\n",
       "      <td>9</td>\n",
       "      <td>97</td>\n",
       "      <td>-28</td>\n",
       "      <td>14</td>\n",
       "      <td>69</td>\n",
       "    </tr>\n",
       "    <tr>\n",
       "      <th>1</th>\n",
       "      <td>Accessories</td>\n",
       "      <td>Locks</td>\n",
       "      <td>Cable Lock</td>\n",
       "      <td>United Kingdom</td>\n",
       "      <td>United Kingdom</td>\n",
       "      <td>Berks</td>\n",
       "      <td>England</td>\n",
       "      <td>Gary Suess</td>\n",
       "      <td>Amy Alberts</td>\n",
       "      <td>1</td>\n",
       "      <td>2012-06-30</td>\n",
       "      <td>10</td>\n",
       "      <td>15</td>\n",
       "      <td>0</td>\n",
       "      <td>0</td>\n",
       "      <td>25</td>\n",
       "      <td>62</td>\n",
       "      <td>28</td>\n",
       "      <td>6</td>\n",
       "      <td>90</td>\n",
       "    </tr>\n",
       "    <tr>\n",
       "      <th>2</th>\n",
       "      <td>Clothing</td>\n",
       "      <td>Gloves</td>\n",
       "      <td>Full-Finger Gloves, L</td>\n",
       "      <td>United Kingdom</td>\n",
       "      <td>United Kingdom</td>\n",
       "      <td>Berks</td>\n",
       "      <td>England</td>\n",
       "      <td>Gary Suess</td>\n",
       "      <td>Amy Alberts</td>\n",
       "      <td>1</td>\n",
       "      <td>2012-06-30</td>\n",
       "      <td>16</td>\n",
       "      <td>23</td>\n",
       "      <td>0</td>\n",
       "      <td>0</td>\n",
       "      <td>38</td>\n",
       "      <td>125</td>\n",
       "      <td>57</td>\n",
       "      <td>8</td>\n",
       "      <td>182</td>\n",
       "    </tr>\n",
       "    <tr>\n",
       "      <th>3</th>\n",
       "      <td>Clothing</td>\n",
       "      <td>Gloves</td>\n",
       "      <td>Full-Finger Gloves, L</td>\n",
       "      <td>United Kingdom</td>\n",
       "      <td>United Kingdom</td>\n",
       "      <td>London</td>\n",
       "      <td>England</td>\n",
       "      <td>Linda Martin</td>\n",
       "      <td>Amy Alberts</td>\n",
       "      <td>1</td>\n",
       "      <td>2012-06-30</td>\n",
       "      <td>16</td>\n",
       "      <td>21</td>\n",
       "      <td>0</td>\n",
       "      <td>17</td>\n",
       "      <td>38</td>\n",
       "      <td>251</td>\n",
       "      <td>67</td>\n",
       "      <td>16</td>\n",
       "      <td>318</td>\n",
       "    </tr>\n",
       "    <tr>\n",
       "      <th>4</th>\n",
       "      <td>Clothing</td>\n",
       "      <td>Gloves</td>\n",
       "      <td>Full-Finger Gloves, M</td>\n",
       "      <td>United Kingdom</td>\n",
       "      <td>United Kingdom</td>\n",
       "      <td>Berks</td>\n",
       "      <td>England</td>\n",
       "      <td>Gary Suess</td>\n",
       "      <td>Amy Alberts</td>\n",
       "      <td>1</td>\n",
       "      <td>2012-06-30</td>\n",
       "      <td>16</td>\n",
       "      <td>23</td>\n",
       "      <td>0</td>\n",
       "      <td>0</td>\n",
       "      <td>38</td>\n",
       "      <td>110</td>\n",
       "      <td>50</td>\n",
       "      <td>7</td>\n",
       "      <td>160</td>\n",
       "    </tr>\n",
       "  </tbody>\n",
       "</table>\n",
       "</div>"
      ],
      "text/plain": [
       "  productcategory productsubcategory                product   saleterritory  \\\n",
       "0        Clothing               Caps           AWC Logo Cap  United Kingdom   \n",
       "1     Accessories              Locks             Cable Lock  United Kingdom   \n",
       "2        Clothing             Gloves  Full-Finger Gloves, L  United Kingdom   \n",
       "3        Clothing             Gloves  Full-Finger Gloves, L  United Kingdom   \n",
       "4        Clothing             Gloves  Full-Finger Gloves, M  United Kingdom   \n",
       "\n",
       "          country    city     sate      customer     employee  ordercount  \\\n",
       "0  United Kingdom   Berks  England    Gary Suess  Amy Alberts           1   \n",
       "1  United Kingdom   Berks  England    Gary Suess  Amy Alberts           1   \n",
       "2  United Kingdom   Berks  England    Gary Suess  Amy Alberts           1   \n",
       "3  United Kingdom  London  England  Linda Martin  Amy Alberts           1   \n",
       "4  United Kingdom   Berks  England    Gary Suess  Amy Alberts           1   \n",
       "\n",
       "   orderdate  standardcost  unitprice  unitpricediscount  discount  listprice  \\\n",
       "0 2012-06-30             7          5                  0         1          9   \n",
       "1 2012-06-30            10         15                  0         0         25   \n",
       "2 2012-06-30            16         23                  0         0         38   \n",
       "3 2012-06-30            16         21                  0        17         38   \n",
       "4 2012-06-30            16         23                  0         0         38   \n",
       "\n",
       "   saleswithstandard  netsales  orderquantity  sales  \n",
       "0                 97       -28             14     69  \n",
       "1                 62        28              6     90  \n",
       "2                125        57              8    182  \n",
       "3                251        67             16    318  \n",
       "4                110        50              7    160  "
      ]
     },
     "execution_count": 100,
     "metadata": {},
     "output_type": "execute_result"
    }
   ],
   "source": [
    "df = df.rename(columns=str.lower)\n",
    "df[0:3].sort_index(axis=1, ascending=False)\n",
    "df.head()"
   ]
  },
  {
   "cell_type": "markdown",
   "metadata": {},
   "source": [
    "### rename dataframe columns\n",
    "\n",
    "> provide a dictionary with the following structure:\n",
    "\n",
    "    {abc:def}"
   ]
  },
  {
   "cell_type": "code",
   "execution_count": 101,
   "metadata": {},
   "outputs": [
    {
     "data": {
      "text/html": [
       "<div>\n",
       "<style scoped>\n",
       "    .dataframe tbody tr th:only-of-type {\n",
       "        vertical-align: middle;\n",
       "    }\n",
       "\n",
       "    .dataframe tbody tr th {\n",
       "        vertical-align: top;\n",
       "    }\n",
       "\n",
       "    .dataframe thead th {\n",
       "        text-align: right;\n",
       "    }\n",
       "</style>\n",
       "<table border=\"1\" class=\"dataframe\">\n",
       "  <thead>\n",
       "    <tr style=\"text-align: right;\">\n",
       "      <th></th>\n",
       "      <th>category</th>\n",
       "      <th>subcategory</th>\n",
       "      <th>product</th>\n",
       "      <th>territory</th>\n",
       "      <th>country</th>\n",
       "      <th>city</th>\n",
       "      <th>state</th>\n",
       "      <th>customer</th>\n",
       "      <th>employee</th>\n",
       "      <th>ordercount</th>\n",
       "      <th>date</th>\n",
       "      <th>standardcost</th>\n",
       "      <th>unitprice</th>\n",
       "      <th>unitpricediscount</th>\n",
       "      <th>discount</th>\n",
       "      <th>listprice</th>\n",
       "      <th>saleswithstandard</th>\n",
       "      <th>netsales</th>\n",
       "      <th>quantity</th>\n",
       "      <th>sales</th>\n",
       "    </tr>\n",
       "  </thead>\n",
       "  <tbody>\n",
       "    <tr>\n",
       "      <th>0</th>\n",
       "      <td>Clothing</td>\n",
       "      <td>Caps</td>\n",
       "      <td>AWC Logo Cap</td>\n",
       "      <td>United Kingdom</td>\n",
       "      <td>United Kingdom</td>\n",
       "      <td>Berks</td>\n",
       "      <td>England</td>\n",
       "      <td>Gary Suess</td>\n",
       "      <td>Amy Alberts</td>\n",
       "      <td>1</td>\n",
       "      <td>2012-06-30</td>\n",
       "      <td>7</td>\n",
       "      <td>5</td>\n",
       "      <td>0</td>\n",
       "      <td>1</td>\n",
       "      <td>9</td>\n",
       "      <td>97</td>\n",
       "      <td>-28</td>\n",
       "      <td>14</td>\n",
       "      <td>69</td>\n",
       "    </tr>\n",
       "    <tr>\n",
       "      <th>1</th>\n",
       "      <td>Accessories</td>\n",
       "      <td>Locks</td>\n",
       "      <td>Cable Lock</td>\n",
       "      <td>United Kingdom</td>\n",
       "      <td>United Kingdom</td>\n",
       "      <td>Berks</td>\n",
       "      <td>England</td>\n",
       "      <td>Gary Suess</td>\n",
       "      <td>Amy Alberts</td>\n",
       "      <td>1</td>\n",
       "      <td>2012-06-30</td>\n",
       "      <td>10</td>\n",
       "      <td>15</td>\n",
       "      <td>0</td>\n",
       "      <td>0</td>\n",
       "      <td>25</td>\n",
       "      <td>62</td>\n",
       "      <td>28</td>\n",
       "      <td>6</td>\n",
       "      <td>90</td>\n",
       "    </tr>\n",
       "    <tr>\n",
       "      <th>2</th>\n",
       "      <td>Clothing</td>\n",
       "      <td>Gloves</td>\n",
       "      <td>Full-Finger Gloves, L</td>\n",
       "      <td>United Kingdom</td>\n",
       "      <td>United Kingdom</td>\n",
       "      <td>Berks</td>\n",
       "      <td>England</td>\n",
       "      <td>Gary Suess</td>\n",
       "      <td>Amy Alberts</td>\n",
       "      <td>1</td>\n",
       "      <td>2012-06-30</td>\n",
       "      <td>16</td>\n",
       "      <td>23</td>\n",
       "      <td>0</td>\n",
       "      <td>0</td>\n",
       "      <td>38</td>\n",
       "      <td>125</td>\n",
       "      <td>57</td>\n",
       "      <td>8</td>\n",
       "      <td>182</td>\n",
       "    </tr>\n",
       "    <tr>\n",
       "      <th>3</th>\n",
       "      <td>Clothing</td>\n",
       "      <td>Gloves</td>\n",
       "      <td>Full-Finger Gloves, L</td>\n",
       "      <td>United Kingdom</td>\n",
       "      <td>United Kingdom</td>\n",
       "      <td>London</td>\n",
       "      <td>England</td>\n",
       "      <td>Linda Martin</td>\n",
       "      <td>Amy Alberts</td>\n",
       "      <td>1</td>\n",
       "      <td>2012-06-30</td>\n",
       "      <td>16</td>\n",
       "      <td>21</td>\n",
       "      <td>0</td>\n",
       "      <td>17</td>\n",
       "      <td>38</td>\n",
       "      <td>251</td>\n",
       "      <td>67</td>\n",
       "      <td>16</td>\n",
       "      <td>318</td>\n",
       "    </tr>\n",
       "    <tr>\n",
       "      <th>4</th>\n",
       "      <td>Clothing</td>\n",
       "      <td>Gloves</td>\n",
       "      <td>Full-Finger Gloves, M</td>\n",
       "      <td>United Kingdom</td>\n",
       "      <td>United Kingdom</td>\n",
       "      <td>Berks</td>\n",
       "      <td>England</td>\n",
       "      <td>Gary Suess</td>\n",
       "      <td>Amy Alberts</td>\n",
       "      <td>1</td>\n",
       "      <td>2012-06-30</td>\n",
       "      <td>16</td>\n",
       "      <td>23</td>\n",
       "      <td>0</td>\n",
       "      <td>0</td>\n",
       "      <td>38</td>\n",
       "      <td>110</td>\n",
       "      <td>50</td>\n",
       "      <td>7</td>\n",
       "      <td>160</td>\n",
       "    </tr>\n",
       "  </tbody>\n",
       "</table>\n",
       "</div>"
      ],
      "text/plain": [
       "      category subcategory                product       territory  \\\n",
       "0     Clothing        Caps           AWC Logo Cap  United Kingdom   \n",
       "1  Accessories       Locks             Cable Lock  United Kingdom   \n",
       "2     Clothing      Gloves  Full-Finger Gloves, L  United Kingdom   \n",
       "3     Clothing      Gloves  Full-Finger Gloves, L  United Kingdom   \n",
       "4     Clothing      Gloves  Full-Finger Gloves, M  United Kingdom   \n",
       "\n",
       "          country    city    state      customer     employee  ordercount  \\\n",
       "0  United Kingdom   Berks  England    Gary Suess  Amy Alberts           1   \n",
       "1  United Kingdom   Berks  England    Gary Suess  Amy Alberts           1   \n",
       "2  United Kingdom   Berks  England    Gary Suess  Amy Alberts           1   \n",
       "3  United Kingdom  London  England  Linda Martin  Amy Alberts           1   \n",
       "4  United Kingdom   Berks  England    Gary Suess  Amy Alberts           1   \n",
       "\n",
       "        date  standardcost  unitprice  unitpricediscount  discount  listprice  \\\n",
       "0 2012-06-30             7          5                  0         1          9   \n",
       "1 2012-06-30            10         15                  0         0         25   \n",
       "2 2012-06-30            16         23                  0         0         38   \n",
       "3 2012-06-30            16         21                  0        17         38   \n",
       "4 2012-06-30            16         23                  0         0         38   \n",
       "\n",
       "   saleswithstandard  netsales  quantity  sales  \n",
       "0                 97       -28        14     69  \n",
       "1                 62        28         6     90  \n",
       "2                125        57         8    182  \n",
       "3                251        67        16    318  \n",
       "4                110        50         7    160  "
      ]
     },
     "execution_count": 101,
     "metadata": {},
     "output_type": "execute_result"
    }
   ],
   "source": [
    "df = df.rename(columns={\n",
    "    'productcategory': 'category',\n",
    "    'saleterritory': 'territory',\n",
    "    'productsubcategory': 'subcategory',\n",
    "    'orderquantity': 'quantity',\n",
    "    'orderdate': 'date',\n",
    "    'sate': 'state'\n",
    "}, errors='raise')\n",
    "df.head()"
   ]
  },
  {
   "cell_type": "markdown",
   "metadata": {},
   "source": [
    "## get subset of dataframe"
   ]
  },
  {
   "cell_type": "markdown",
   "metadata": {},
   "source": [
    "### get one column"
   ]
  },
  {
   "cell_type": "code",
   "execution_count": 102,
   "metadata": {},
   "outputs": [
    {
     "data": {
      "text/plain": [
       "0             AWC Logo Cap\n",
       "1               Cable Lock\n",
       "2    Full-Finger Gloves, L\n",
       "3    Full-Finger Gloves, L\n",
       "4    Full-Finger Gloves, M\n",
       "Name: product, dtype: object"
      ]
     },
     "execution_count": 102,
     "metadata": {},
     "output_type": "execute_result"
    }
   ],
   "source": [
    "# df['product'].head()\n",
    "df['product'][0:5]\n"
   ]
  },
  {
   "cell_type": "markdown",
   "metadata": {},
   "source": [
    "### get more columns"
   ]
  },
  {
   "cell_type": "code",
   "execution_count": 103,
   "metadata": {},
   "outputs": [
    {
     "data": {
      "text/html": [
       "<div>\n",
       "<style scoped>\n",
       "    .dataframe tbody tr th:only-of-type {\n",
       "        vertical-align: middle;\n",
       "    }\n",
       "\n",
       "    .dataframe tbody tr th {\n",
       "        vertical-align: top;\n",
       "    }\n",
       "\n",
       "    .dataframe thead th {\n",
       "        text-align: right;\n",
       "    }\n",
       "</style>\n",
       "<table border=\"1\" class=\"dataframe\">\n",
       "  <thead>\n",
       "    <tr style=\"text-align: right;\">\n",
       "      <th></th>\n",
       "      <th>category</th>\n",
       "      <th>product</th>\n",
       "    </tr>\n",
       "  </thead>\n",
       "  <tbody>\n",
       "    <tr>\n",
       "      <th>0</th>\n",
       "      <td>Clothing</td>\n",
       "      <td>AWC Logo Cap</td>\n",
       "    </tr>\n",
       "    <tr>\n",
       "      <th>1</th>\n",
       "      <td>Accessories</td>\n",
       "      <td>Cable Lock</td>\n",
       "    </tr>\n",
       "    <tr>\n",
       "      <th>2</th>\n",
       "      <td>Clothing</td>\n",
       "      <td>Full-Finger Gloves, L</td>\n",
       "    </tr>\n",
       "  </tbody>\n",
       "</table>\n",
       "</div>"
      ],
      "text/plain": [
       "      category                product\n",
       "0     Clothing           AWC Logo Cap\n",
       "1  Accessories             Cable Lock\n",
       "2     Clothing  Full-Finger Gloves, L"
      ]
     },
     "execution_count": 103,
     "metadata": {},
     "output_type": "execute_result"
    }
   ],
   "source": [
    "#  pass a list of column names to filter\n",
    "df[['category','product']][0:3]"
   ]
  },
  {
   "cell_type": "markdown",
   "metadata": {},
   "source": [
    "### limit columns of dataframe"
   ]
  },
  {
   "cell_type": "code",
   "execution_count": 104,
   "metadata": {},
   "outputs": [
    {
     "data": {
      "text/plain": [
       "Index(['category', 'subcategory', 'product', 'territory', 'country', 'city',\n",
       "       'state', 'customer', 'employee', 'ordercount', 'date', 'standardcost',\n",
       "       'unitprice', 'unitpricediscount', 'discount', 'listprice',\n",
       "       'saleswithstandard', 'netsales', 'quantity', 'sales'],\n",
       "      dtype='object')"
      ]
     },
     "execution_count": 104,
     "metadata": {},
     "output_type": "execute_result"
    }
   ],
   "source": [
    "df.columns"
   ]
  },
  {
   "cell_type": "code",
   "execution_count": 105,
   "metadata": {},
   "outputs": [
    {
     "data": {
      "text/html": [
       "<div>\n",
       "<style scoped>\n",
       "    .dataframe tbody tr th:only-of-type {\n",
       "        vertical-align: middle;\n",
       "    }\n",
       "\n",
       "    .dataframe tbody tr th {\n",
       "        vertical-align: top;\n",
       "    }\n",
       "\n",
       "    .dataframe thead th {\n",
       "        text-align: right;\n",
       "    }\n",
       "</style>\n",
       "<table border=\"1\" class=\"dataframe\">\n",
       "  <thead>\n",
       "    <tr style=\"text-align: right;\">\n",
       "      <th></th>\n",
       "      <th>category</th>\n",
       "      <th>subcategory</th>\n",
       "      <th>product</th>\n",
       "      <th>date</th>\n",
       "      <th>listprice</th>\n",
       "      <th>quantity</th>\n",
       "      <th>sales</th>\n",
       "    </tr>\n",
       "  </thead>\n",
       "  <tbody>\n",
       "    <tr>\n",
       "      <th>0</th>\n",
       "      <td>Clothing</td>\n",
       "      <td>Caps</td>\n",
       "      <td>AWC Logo Cap</td>\n",
       "      <td>2012-06-30</td>\n",
       "      <td>9</td>\n",
       "      <td>14</td>\n",
       "      <td>69</td>\n",
       "    </tr>\n",
       "    <tr>\n",
       "      <th>1</th>\n",
       "      <td>Accessories</td>\n",
       "      <td>Locks</td>\n",
       "      <td>Cable Lock</td>\n",
       "      <td>2012-06-30</td>\n",
       "      <td>25</td>\n",
       "      <td>6</td>\n",
       "      <td>90</td>\n",
       "    </tr>\n",
       "    <tr>\n",
       "      <th>2</th>\n",
       "      <td>Clothing</td>\n",
       "      <td>Gloves</td>\n",
       "      <td>Full-Finger Gloves, L</td>\n",
       "      <td>2012-06-30</td>\n",
       "      <td>38</td>\n",
       "      <td>8</td>\n",
       "      <td>182</td>\n",
       "    </tr>\n",
       "    <tr>\n",
       "      <th>3</th>\n",
       "      <td>Clothing</td>\n",
       "      <td>Gloves</td>\n",
       "      <td>Full-Finger Gloves, L</td>\n",
       "      <td>2012-06-30</td>\n",
       "      <td>38</td>\n",
       "      <td>16</td>\n",
       "      <td>318</td>\n",
       "    </tr>\n",
       "    <tr>\n",
       "      <th>4</th>\n",
       "      <td>Clothing</td>\n",
       "      <td>Gloves</td>\n",
       "      <td>Full-Finger Gloves, M</td>\n",
       "      <td>2012-06-30</td>\n",
       "      <td>38</td>\n",
       "      <td>7</td>\n",
       "      <td>160</td>\n",
       "    </tr>\n",
       "  </tbody>\n",
       "</table>\n",
       "</div>"
      ],
      "text/plain": [
       "      category subcategory                product       date  listprice  \\\n",
       "0     Clothing        Caps           AWC Logo Cap 2012-06-30          9   \n",
       "1  Accessories       Locks             Cable Lock 2012-06-30         25   \n",
       "2     Clothing      Gloves  Full-Finger Gloves, L 2012-06-30         38   \n",
       "3     Clothing      Gloves  Full-Finger Gloves, L 2012-06-30         38   \n",
       "4     Clothing      Gloves  Full-Finger Gloves, M 2012-06-30         38   \n",
       "\n",
       "   quantity  sales  \n",
       "0        14     69  \n",
       "1         6     90  \n",
       "2         8    182  \n",
       "3        16    318  \n",
       "4         7    160  "
      ]
     },
     "execution_count": 105,
     "metadata": {},
     "output_type": "execute_result"
    }
   ],
   "source": [
    "df = df['category subcategory product date listprice quantity sales'.split()]\n",
    "df.head()"
   ]
  },
  {
   "cell_type": "markdown",
   "metadata": {},
   "source": [
    "## work with dataframe data types"
   ]
  },
  {
   "cell_type": "markdown",
   "metadata": {},
   "source": [
    "### show dataframe columns data types"
   ]
  },
  {
   "cell_type": "code",
   "execution_count": 106,
   "metadata": {},
   "outputs": [
    {
     "data": {
      "text/plain": [
       "category               object\n",
       "subcategory            object\n",
       "product                object\n",
       "date           datetime64[ns]\n",
       "listprice             float64\n",
       "quantity                int64\n",
       "sales                 float64\n",
       "dtype: object"
      ]
     },
     "execution_count": 106,
     "metadata": {},
     "output_type": "execute_result"
    }
   ],
   "source": [
    "df.dtypes"
   ]
  },
  {
   "cell_type": "markdown",
   "metadata": {},
   "source": [
    "### convert column data type"
   ]
  },
  {
   "cell_type": "code",
   "execution_count": 107,
   "metadata": {},
   "outputs": [
    {
     "data": {
      "text/plain": [
       "0   2012-06-30\n",
       "1   2012-06-30\n",
       "2   2012-06-30\n",
       "3   2012-06-30\n",
       "4   2012-06-30\n",
       "Name: date, dtype: datetime64[ns]"
      ]
     },
     "execution_count": 107,
     "metadata": {},
     "output_type": "execute_result"
    }
   ],
   "source": [
    "df['date'] = pd.to_datetime(df['date'])\n",
    "df['date'].head()"
   ]
  },
  {
   "cell_type": "markdown",
   "metadata": {},
   "source": [
    "### raise error when trying to convert NANs (NULLs)"
   ]
  },
  {
   "cell_type": "code",
   "execution_count": 109,
   "metadata": {},
   "outputs": [
    {
     "name": "stdout",
     "output_type": "stream",
     "text": [
      "IntCastingNaNError('Cannot convert non-finite values (NA or inf) to integer')\n"
     ]
    }
   ],
   "source": [
    "try:\n",
    "    df['listprice'] = df['listprice'].astype(int)\n",
    "except Exception as e:\n",
    "    print(repr(e))"
   ]
  },
  {
   "cell_type": "markdown",
   "metadata": {},
   "source": [
    "## fixing NULL values"
   ]
  },
  {
   "cell_type": "markdown",
   "metadata": {},
   "source": [
    "### check whether there are columns containing nulls (nans)"
   ]
  },
  {
   "cell_type": "code",
   "execution_count": 58,
   "metadata": {},
   "outputs": [
    {
     "data": {
      "text/plain": [
       "category        True\n",
       "subcategory     True\n",
       "product         True\n",
       "date           False\n",
       "listprice       True\n",
       "quantity       False\n",
       "sales          False\n",
       "dtype: bool"
      ]
     },
     "execution_count": 58,
     "metadata": {},
     "output_type": "execute_result"
    }
   ],
   "source": [
    "df.isnull().any()"
   ]
  },
  {
   "cell_type": "markdown",
   "metadata": {},
   "source": [
    "### count null values per columns"
   ]
  },
  {
   "cell_type": "code",
   "execution_count": 59,
   "metadata": {},
   "outputs": [
    {
     "data": {
      "text/plain": [
       "category       39\n",
       "subcategory    39\n",
       "product        39\n",
       "date            0\n",
       "listprice      39\n",
       "quantity        0\n",
       "sales           0\n",
       "dtype: int64"
      ]
     },
     "execution_count": 59,
     "metadata": {},
     "output_type": "execute_result"
    }
   ],
   "source": [
    "df.isnull().sum()"
   ]
  },
  {
   "cell_type": "markdown",
   "metadata": {},
   "source": [
    "### fill column null values with custom values"
   ]
  },
  {
   "cell_type": "code",
   "execution_count": 60,
   "metadata": {},
   "outputs": [
    {
     "data": {
      "text/html": [
       "<div>\n",
       "<style scoped>\n",
       "    .dataframe tbody tr th:only-of-type {\n",
       "        vertical-align: middle;\n",
       "    }\n",
       "\n",
       "    .dataframe tbody tr th {\n",
       "        vertical-align: top;\n",
       "    }\n",
       "\n",
       "    .dataframe thead th {\n",
       "        text-align: right;\n",
       "    }\n",
       "</style>\n",
       "<table border=\"1\" class=\"dataframe\">\n",
       "  <thead>\n",
       "    <tr style=\"text-align: right;\">\n",
       "      <th></th>\n",
       "      <th>category</th>\n",
       "      <th>subcategory</th>\n",
       "      <th>product</th>\n",
       "      <th>date</th>\n",
       "      <th>listprice</th>\n",
       "      <th>quantity</th>\n",
       "      <th>sales</th>\n",
       "    </tr>\n",
       "  </thead>\n",
       "  <tbody>\n",
       "    <tr>\n",
       "      <th>581</th>\n",
       "      <td>unknown</td>\n",
       "      <td>NaN</td>\n",
       "      <td>NaN</td>\n",
       "      <td>2014-02-28</td>\n",
       "      <td>NaN</td>\n",
       "      <td>2</td>\n",
       "      <td>117</td>\n",
       "    </tr>\n",
       "    <tr>\n",
       "      <th>582</th>\n",
       "      <td>unknown</td>\n",
       "      <td>NaN</td>\n",
       "      <td>NaN</td>\n",
       "      <td>2014-02-28</td>\n",
       "      <td>NaN</td>\n",
       "      <td>1</td>\n",
       "      <td>564</td>\n",
       "    </tr>\n",
       "    <tr>\n",
       "      <th>42825</th>\n",
       "      <td>unknown</td>\n",
       "      <td>NaN</td>\n",
       "      <td>NaN</td>\n",
       "      <td>2013-05-30</td>\n",
       "      <td>NaN</td>\n",
       "      <td>2</td>\n",
       "      <td>117</td>\n",
       "    </tr>\n",
       "    <tr>\n",
       "      <th>42826</th>\n",
       "      <td>unknown</td>\n",
       "      <td>NaN</td>\n",
       "      <td>NaN</td>\n",
       "      <td>2013-05-30</td>\n",
       "      <td>NaN</td>\n",
       "      <td>2</td>\n",
       "      <td>1,128</td>\n",
       "    </tr>\n",
       "    <tr>\n",
       "      <th>42827</th>\n",
       "      <td>unknown</td>\n",
       "      <td>NaN</td>\n",
       "      <td>NaN</td>\n",
       "      <td>2013-05-30</td>\n",
       "      <td>NaN</td>\n",
       "      <td>2</td>\n",
       "      <td>528</td>\n",
       "    </tr>\n",
       "  </tbody>\n",
       "</table>\n",
       "</div>"
      ],
      "text/plain": [
       "      category subcategory product       date  listprice  quantity  sales\n",
       "581    unknown         NaN     NaN 2014-02-28        NaN         2    117\n",
       "582    unknown         NaN     NaN 2014-02-28        NaN         1    564\n",
       "42825  unknown         NaN     NaN 2013-05-30        NaN         2    117\n",
       "42826  unknown         NaN     NaN 2013-05-30        NaN         2  1,128\n",
       "42827  unknown         NaN     NaN 2013-05-30        NaN         2    528"
      ]
     },
     "execution_count": 60,
     "metadata": {},
     "output_type": "execute_result"
    }
   ],
   "source": [
    "# df['category'].fillna('unknown', inplace=True)  # deprecated in pandas 3.0\n",
    "df.category = df['category'].fillna('unknown')\n",
    "df.fillna({'category':'unknown'}, inplace=True)\n",
    "df[df.category == 'unknown'].head()"
   ]
  },
  {
   "cell_type": "code",
   "execution_count": 61,
   "metadata": {},
   "outputs": [],
   "source": [
    "df.fillna({'subcategory':'unknown'}, inplace=True)\n"
   ]
  },
  {
   "cell_type": "code",
   "execution_count": 62,
   "metadata": {},
   "outputs": [],
   "source": [
    "df.fillna({'category':0}, inplace=True)\n"
   ]
  },
  {
   "cell_type": "markdown",
   "metadata": {},
   "source": [
    "## selecting values"
   ]
  },
  {
   "cell_type": "code",
   "execution_count": 63,
   "metadata": {},
   "outputs": [
    {
     "data": {
      "text/plain": [
       "array(['Clothing', 'Accessories', 'Components', 'Bikes', 'unknown'],\n",
       "      dtype=object)"
      ]
     },
     "execution_count": 63,
     "metadata": {},
     "output_type": "execute_result"
    }
   ],
   "source": [
    "df.category.unique()"
   ]
  },
  {
   "cell_type": "code",
   "execution_count": 64,
   "metadata": {},
   "outputs": [
    {
     "data": {
      "text/plain": [
       "np.float64(80487704.17918801)"
      ]
     },
     "execution_count": 64,
     "metadata": {},
     "output_type": "execute_result"
    }
   ],
   "source": [
    "df.sales.sum()"
   ]
  },
  {
   "cell_type": "code",
   "execution_count": 65,
   "metadata": {},
   "outputs": [
    {
     "data": {
      "text/plain": [
       "np.int64(60880)"
      ]
     },
     "execution_count": 65,
     "metadata": {},
     "output_type": "execute_result"
    }
   ],
   "source": [
    "df.quantity.count()"
   ]
  },
  {
   "cell_type": "markdown",
   "metadata": {},
   "source": [
    "## slicing with loc and iloc"
   ]
  },
  {
   "cell_type": "markdown",
   "metadata": {},
   "source": [
    "### select columns and records\n",
    "\n",
    "<blockquote>\n",
    "pass a list of columns to filter columns\n",
    "\n",
    "slice the record containing the resulting columns\n",
    "\n",
    "[from-included:to-excluded]\n",
    "</blockquote>"
   ]
  },
  {
   "cell_type": "code",
   "execution_count": 66,
   "metadata": {},
   "outputs": [
    {
     "data": {
      "text/html": [
       "<div>\n",
       "<style scoped>\n",
       "    .dataframe tbody tr th:only-of-type {\n",
       "        vertical-align: middle;\n",
       "    }\n",
       "\n",
       "    .dataframe tbody tr th {\n",
       "        vertical-align: top;\n",
       "    }\n",
       "\n",
       "    .dataframe thead th {\n",
       "        text-align: right;\n",
       "    }\n",
       "</style>\n",
       "<table border=\"1\" class=\"dataframe\">\n",
       "  <thead>\n",
       "    <tr style=\"text-align: right;\">\n",
       "      <th></th>\n",
       "      <th>category</th>\n",
       "      <th>date</th>\n",
       "      <th>sales</th>\n",
       "    </tr>\n",
       "  </thead>\n",
       "  <tbody>\n",
       "    <tr>\n",
       "      <th>10</th>\n",
       "      <td>Clothing</td>\n",
       "      <td>2012-06-30</td>\n",
       "      <td>42</td>\n",
       "    </tr>\n",
       "    <tr>\n",
       "      <th>11</th>\n",
       "      <td>Components</td>\n",
       "      <td>2012-06-30</td>\n",
       "      <td>826</td>\n",
       "    </tr>\n",
       "    <tr>\n",
       "      <th>12</th>\n",
       "      <td>Components</td>\n",
       "      <td>2012-06-30</td>\n",
       "      <td>150</td>\n",
       "    </tr>\n",
       "  </tbody>\n",
       "</table>\n",
       "</div>"
      ],
      "text/plain": [
       "      category       date  sales\n",
       "10    Clothing 2012-06-30     42\n",
       "11  Components 2012-06-30    826\n",
       "12  Components 2012-06-30    150"
      ]
     },
     "execution_count": 66,
     "metadata": {},
     "output_type": "execute_result"
    }
   ],
   "source": [
    "df[['category', 'date', 'sales']][10:13]"
   ]
  },
  {
   "cell_type": "code",
   "execution_count": 67,
   "metadata": {},
   "outputs": [
    {
     "data": {
      "text/plain": [
       "10      clothing\n",
       "11    components\n",
       "12    components\n",
       "Name: category, dtype: object"
      ]
     },
     "execution_count": 67,
     "metadata": {},
     "output_type": "execute_result"
    }
   ],
   "source": [
    "# df[10:13]['category'] = df[10:13]['category'].str.lower()     # deprecated in pandas 3.0\n",
    "\n",
    "# Use `df.loc[row_indexer, \"col\"] = values` instead, to perform the assignment in a single step and ensure this keeps updating the original `df`.\n",
    "df.loc[10:13, 'category'] = df.loc[10:13, 'category'].str.lower()\n",
    "df[10:13]['category']"
   ]
  },
  {
   "cell_type": "markdown",
   "metadata": {},
   "source": [
    "## test loc syntax"
   ]
  },
  {
   "cell_type": "markdown",
   "metadata": {},
   "source": [
    "### single row\n",
    ">use index position\n",
    "\n",
    "> returns a series"
   ]
  },
  {
   "cell_type": "code",
   "execution_count": 84,
   "metadata": {},
   "outputs": [
    {
     "data": {
      "text/plain": [
       "pandas.core.series.Series"
      ]
     },
     "execution_count": 84,
     "metadata": {},
     "output_type": "execute_result"
    }
   ],
   "source": [
    "single_row = df.loc[10]\n",
    "type(single_row)\n"
   ]
  },
  {
   "cell_type": "code",
   "execution_count": 85,
   "metadata": {},
   "outputs": [
    {
     "data": {
      "text/plain": [
       "category                    clothing\n",
       "subcategory                   Gloves\n",
       "product        Half-Finger Gloves, S\n",
       "date             2012-06-30 00:00:00\n",
       "listprice                         24\n",
       "quantity                           3\n",
       "sales                             42\n",
       "Name: 10, dtype: object"
      ]
     },
     "execution_count": 85,
     "metadata": {},
     "output_type": "execute_result"
    }
   ],
   "source": [
    "single_row"
   ]
  },
  {
   "cell_type": "markdown",
   "metadata": {},
   "source": [
    "### slice of rows\n",
    "> use start and stop indexes\n",
    "\n",
    "> returns dataframe with both start and stop included"
   ]
  },
  {
   "cell_type": "code",
   "execution_count": 86,
   "metadata": {},
   "outputs": [
    {
     "data": {
      "text/plain": [
       "pandas.core.frame.DataFrame"
      ]
     },
     "execution_count": 86,
     "metadata": {},
     "output_type": "execute_result"
    }
   ],
   "source": [
    "rows = df.loc[0:5]\n",
    "type(rows)\n"
   ]
  },
  {
   "cell_type": "code",
   "execution_count": 87,
   "metadata": {},
   "outputs": [
    {
     "data": {
      "text/html": [
       "<div>\n",
       "<style scoped>\n",
       "    .dataframe tbody tr th:only-of-type {\n",
       "        vertical-align: middle;\n",
       "    }\n",
       "\n",
       "    .dataframe tbody tr th {\n",
       "        vertical-align: top;\n",
       "    }\n",
       "\n",
       "    .dataframe thead th {\n",
       "        text-align: right;\n",
       "    }\n",
       "</style>\n",
       "<table border=\"1\" class=\"dataframe\">\n",
       "  <thead>\n",
       "    <tr style=\"text-align: right;\">\n",
       "      <th></th>\n",
       "      <th>category</th>\n",
       "      <th>subcategory</th>\n",
       "      <th>product</th>\n",
       "      <th>date</th>\n",
       "      <th>listprice</th>\n",
       "      <th>quantity</th>\n",
       "      <th>sales</th>\n",
       "    </tr>\n",
       "  </thead>\n",
       "  <tbody>\n",
       "    <tr>\n",
       "      <th>0</th>\n",
       "      <td>Clothing</td>\n",
       "      <td>Caps</td>\n",
       "      <td>AWC Logo Cap</td>\n",
       "      <td>2012-06-30</td>\n",
       "      <td>9</td>\n",
       "      <td>14</td>\n",
       "      <td>69</td>\n",
       "    </tr>\n",
       "    <tr>\n",
       "      <th>1</th>\n",
       "      <td>Accessories</td>\n",
       "      <td>Locks</td>\n",
       "      <td>Cable Lock</td>\n",
       "      <td>2012-06-30</td>\n",
       "      <td>25</td>\n",
       "      <td>6</td>\n",
       "      <td>90</td>\n",
       "    </tr>\n",
       "    <tr>\n",
       "      <th>2</th>\n",
       "      <td>Clothing</td>\n",
       "      <td>Gloves</td>\n",
       "      <td>Full-Finger Gloves, L</td>\n",
       "      <td>2012-06-30</td>\n",
       "      <td>38</td>\n",
       "      <td>8</td>\n",
       "      <td>182</td>\n",
       "    </tr>\n",
       "    <tr>\n",
       "      <th>3</th>\n",
       "      <td>Clothing</td>\n",
       "      <td>Gloves</td>\n",
       "      <td>Full-Finger Gloves, L</td>\n",
       "      <td>2012-06-30</td>\n",
       "      <td>38</td>\n",
       "      <td>16</td>\n",
       "      <td>318</td>\n",
       "    </tr>\n",
       "    <tr>\n",
       "      <th>4</th>\n",
       "      <td>Clothing</td>\n",
       "      <td>Gloves</td>\n",
       "      <td>Full-Finger Gloves, M</td>\n",
       "      <td>2012-06-30</td>\n",
       "      <td>38</td>\n",
       "      <td>7</td>\n",
       "      <td>160</td>\n",
       "    </tr>\n",
       "    <tr>\n",
       "      <th>5</th>\n",
       "      <td>Clothing</td>\n",
       "      <td>Gloves</td>\n",
       "      <td>Full-Finger Gloves, M</td>\n",
       "      <td>2012-06-30</td>\n",
       "      <td>38</td>\n",
       "      <td>2</td>\n",
       "      <td>46</td>\n",
       "    </tr>\n",
       "  </tbody>\n",
       "</table>\n",
       "</div>"
      ],
      "text/plain": [
       "      category subcategory                product       date  listprice  \\\n",
       "0     Clothing        Caps           AWC Logo Cap 2012-06-30          9   \n",
       "1  Accessories       Locks             Cable Lock 2012-06-30         25   \n",
       "2     Clothing      Gloves  Full-Finger Gloves, L 2012-06-30         38   \n",
       "3     Clothing      Gloves  Full-Finger Gloves, L 2012-06-30         38   \n",
       "4     Clothing      Gloves  Full-Finger Gloves, M 2012-06-30         38   \n",
       "5     Clothing      Gloves  Full-Finger Gloves, M 2012-06-30         38   \n",
       "\n",
       "   quantity  sales  \n",
       "0        14     69  \n",
       "1         6     90  \n",
       "2         8    182  \n",
       "3        16    318  \n",
       "4         7    160  \n",
       "5         2     46  "
      ]
     },
     "execution_count": 87,
     "metadata": {},
     "output_type": "execute_result"
    }
   ],
   "source": [
    "rows"
   ]
  },
  {
   "cell_type": "markdown",
   "metadata": {},
   "source": [
    "### select rows and one column"
   ]
  },
  {
   "cell_type": "code",
   "execution_count": 88,
   "metadata": {},
   "outputs": [
    {
     "data": {
      "text/plain": [
       "0       Clothing\n",
       "1    Accessories\n",
       "2       Clothing\n",
       "3       Clothing\n",
       "4       Clothing\n",
       "5       Clothing\n",
       "Name: category, dtype: object"
      ]
     },
     "execution_count": 88,
     "metadata": {},
     "output_type": "execute_result"
    }
   ],
   "source": [
    "df.loc[0:5, 'category']"
   ]
  },
  {
   "cell_type": "markdown",
   "metadata": {},
   "source": [
    "### select rows and more columns"
   ]
  },
  {
   "cell_type": "code",
   "execution_count": 91,
   "metadata": {},
   "outputs": [
    {
     "data": {
      "text/html": [
       "<div>\n",
       "<style scoped>\n",
       "    .dataframe tbody tr th:only-of-type {\n",
       "        vertical-align: middle;\n",
       "    }\n",
       "\n",
       "    .dataframe tbody tr th {\n",
       "        vertical-align: top;\n",
       "    }\n",
       "\n",
       "    .dataframe thead th {\n",
       "        text-align: right;\n",
       "    }\n",
       "</style>\n",
       "<table border=\"1\" class=\"dataframe\">\n",
       "  <thead>\n",
       "    <tr style=\"text-align: right;\">\n",
       "      <th></th>\n",
       "      <th>category</th>\n",
       "      <th>listprice</th>\n",
       "    </tr>\n",
       "  </thead>\n",
       "  <tbody>\n",
       "    <tr>\n",
       "      <th>0</th>\n",
       "      <td>Clothing</td>\n",
       "      <td>9</td>\n",
       "    </tr>\n",
       "    <tr>\n",
       "      <th>1</th>\n",
       "      <td>Accessories</td>\n",
       "      <td>25</td>\n",
       "    </tr>\n",
       "    <tr>\n",
       "      <th>2</th>\n",
       "      <td>Clothing</td>\n",
       "      <td>38</td>\n",
       "    </tr>\n",
       "    <tr>\n",
       "      <th>3</th>\n",
       "      <td>Clothing</td>\n",
       "      <td>38</td>\n",
       "    </tr>\n",
       "    <tr>\n",
       "      <th>4</th>\n",
       "      <td>Clothing</td>\n",
       "      <td>38</td>\n",
       "    </tr>\n",
       "    <tr>\n",
       "      <th>5</th>\n",
       "      <td>Clothing</td>\n",
       "      <td>38</td>\n",
       "    </tr>\n",
       "  </tbody>\n",
       "</table>\n",
       "</div>"
      ],
      "text/plain": [
       "      category  listprice\n",
       "0     Clothing          9\n",
       "1  Accessories         25\n",
       "2     Clothing         38\n",
       "3     Clothing         38\n",
       "4     Clothing         38\n",
       "5     Clothing         38"
      ]
     },
     "execution_count": 91,
     "metadata": {},
     "output_type": "execute_result"
    }
   ],
   "source": [
    "df.loc[0:5, ['category', 'listprice']]"
   ]
  },
  {
   "cell_type": "markdown",
   "metadata": {},
   "source": [
    "\n",
    "\n",
    "\n",
    "\n",
    "\n",
    "\n",
    "# BREAK\n",
    "<br/>\n",
    "<br/>\n",
    "<br/>\n",
    "<br/>\n",
    "<br/>\n",
    "<br/>\n",
    "<br/>\n",
    "<br/>\n",
    "<br/>\n",
    "<br/>\n",
    "<br/>\n",
    "<br/>\n",
    "<br/>\n",
    "<br/>\n",
    "<br/>\n",
    "<br/>\n",
    "<br/>\n",
    "<br/>\n",
    "<br/>\n",
    "<br/>\n",
    "<br/>\n",
    "<br/>\n",
    "<br/>\n",
    "\n",
    "---\n"
   ]
  },
  {
   "cell_type": "code",
   "execution_count": 28,
   "metadata": {},
   "outputs": [
    {
     "data": {
      "text/plain": [
       "str"
      ]
     },
     "execution_count": 28,
     "metadata": {},
     "output_type": "execute_result"
    }
   ],
   "source": [
    "df[df.category.name]\n",
    "type(df.category.name)"
   ]
  },
  {
   "cell_type": "markdown",
   "metadata": {},
   "source": [
    "### select records\n",
    "\n",
    "<blockquote>\n",
    "slice the dataframe records\n",
    "\n",
    "[from-included:to-excluded]\n",
    "</blockquote>"
   ]
  },
  {
   "cell_type": "code",
   "execution_count": 29,
   "metadata": {},
   "outputs": [
    {
     "data": {
      "text/html": [
       "<div>\n",
       "<style scoped>\n",
       "    .dataframe tbody tr th:only-of-type {\n",
       "        vertical-align: middle;\n",
       "    }\n",
       "\n",
       "    .dataframe tbody tr th {\n",
       "        vertical-align: top;\n",
       "    }\n",
       "\n",
       "    .dataframe thead th {\n",
       "        text-align: right;\n",
       "    }\n",
       "</style>\n",
       "<table border=\"1\" class=\"dataframe\">\n",
       "  <thead>\n",
       "    <tr style=\"text-align: right;\">\n",
       "      <th></th>\n",
       "      <th>category</th>\n",
       "      <th>subcategory</th>\n",
       "      <th>product</th>\n",
       "      <th>date</th>\n",
       "      <th>listprice</th>\n",
       "      <th>quantity</th>\n",
       "      <th>sales</th>\n",
       "    </tr>\n",
       "  </thead>\n",
       "  <tbody>\n",
       "    <tr>\n",
       "      <th>10</th>\n",
       "      <td>clothing</td>\n",
       "      <td>Gloves</td>\n",
       "      <td>Half-Finger Gloves, S</td>\n",
       "      <td>2012-06-30</td>\n",
       "      <td>24</td>\n",
       "      <td>3</td>\n",
       "      <td>42</td>\n",
       "    </tr>\n",
       "    <tr>\n",
       "      <th>11</th>\n",
       "      <td>components</td>\n",
       "      <td>Forks</td>\n",
       "      <td>HL Fork</td>\n",
       "      <td>2012-06-30</td>\n",
       "      <td>229</td>\n",
       "      <td>6</td>\n",
       "      <td>826</td>\n",
       "    </tr>\n",
       "    <tr>\n",
       "      <th>12</th>\n",
       "      <td>components</td>\n",
       "      <td>Headsets</td>\n",
       "      <td>HL Headset</td>\n",
       "      <td>2012-06-30</td>\n",
       "      <td>125</td>\n",
       "      <td>2</td>\n",
       "      <td>150</td>\n",
       "    </tr>\n",
       "  </tbody>\n",
       "</table>\n",
       "</div>"
      ],
      "text/plain": [
       "      category subcategory                product       date  listprice  \\\n",
       "10    clothing      Gloves  Half-Finger Gloves, S 2012-06-30         24   \n",
       "11  components       Forks                HL Fork 2012-06-30        229   \n",
       "12  components    Headsets             HL Headset 2012-06-30        125   \n",
       "\n",
       "    quantity  sales  \n",
       "10         3     42  \n",
       "11         6    826  \n",
       "12         2    150  "
      ]
     },
     "execution_count": 29,
     "metadata": {},
     "output_type": "execute_result"
    }
   ],
   "source": [
    "df[10:13]"
   ]
  },
  {
   "cell_type": "code",
   "execution_count": 30,
   "metadata": {},
   "outputs": [
    {
     "data": {
      "text/plain": [
       "Index(['category', 'subcategory', 'product', 'date', 'listprice', 'quantity',\n",
       "       'sales'],\n",
       "      dtype='object')"
      ]
     },
     "execution_count": 30,
     "metadata": {},
     "output_type": "execute_result"
    }
   ],
   "source": [
    "df.columns"
   ]
  },
  {
   "cell_type": "markdown",
   "metadata": {},
   "source": [
    "### select records and column"
   ]
  },
  {
   "cell_type": "code",
   "execution_count": 31,
   "metadata": {},
   "outputs": [
    {
     "data": {
      "text/plain": [
       "10      clothing\n",
       "11    components\n",
       "12    components\n",
       "Name: category, dtype: object"
      ]
     },
     "execution_count": 31,
     "metadata": {},
     "output_type": "execute_result"
    }
   ],
   "source": [
    "df[10:13]['category'].str.lower()"
   ]
  },
  {
   "cell_type": "markdown",
   "metadata": {},
   "source": [
    "> same thing, just swapped selectors\n"
   ]
  },
  {
   "cell_type": "code",
   "execution_count": 32,
   "metadata": {},
   "outputs": [
    {
     "data": {
      "text/plain": [
       "10      clothing\n",
       "11    components\n",
       "12    components\n",
       "Name: category, dtype: object"
      ]
     },
     "execution_count": 32,
     "metadata": {},
     "output_type": "execute_result"
    }
   ],
   "source": [
    "df['category'][10:13].str.lower()"
   ]
  },
  {
   "cell_type": "code",
   "execution_count": 33,
   "metadata": {},
   "outputs": [
    {
     "data": {
      "text/html": [
       "<div>\n",
       "<style scoped>\n",
       "    .dataframe tbody tr th:only-of-type {\n",
       "        vertical-align: middle;\n",
       "    }\n",
       "\n",
       "    .dataframe tbody tr th {\n",
       "        vertical-align: top;\n",
       "    }\n",
       "\n",
       "    .dataframe thead th {\n",
       "        text-align: right;\n",
       "    }\n",
       "</style>\n",
       "<table border=\"1\" class=\"dataframe\">\n",
       "  <thead>\n",
       "    <tr style=\"text-align: right;\">\n",
       "      <th></th>\n",
       "      <th>category</th>\n",
       "      <th>subcategory</th>\n",
       "      <th>product</th>\n",
       "      <th>date</th>\n",
       "      <th>listprice</th>\n",
       "      <th>quantity</th>\n",
       "      <th>sales</th>\n",
       "    </tr>\n",
       "  </thead>\n",
       "  <tbody>\n",
       "    <tr>\n",
       "      <th>0</th>\n",
       "      <td>Clothing</td>\n",
       "      <td>Caps</td>\n",
       "      <td>AWC Logo Cap</td>\n",
       "      <td>2012-06-30</td>\n",
       "      <td>9</td>\n",
       "      <td>14</td>\n",
       "      <td>69</td>\n",
       "    </tr>\n",
       "    <tr>\n",
       "      <th>1</th>\n",
       "      <td>Accessories</td>\n",
       "      <td>Locks</td>\n",
       "      <td>Cable Lock</td>\n",
       "      <td>2012-06-30</td>\n",
       "      <td>25</td>\n",
       "      <td>6</td>\n",
       "      <td>90</td>\n",
       "    </tr>\n",
       "    <tr>\n",
       "      <th>2</th>\n",
       "      <td>Clothing</td>\n",
       "      <td>Gloves</td>\n",
       "      <td>Full-Finger Gloves, L</td>\n",
       "      <td>2012-06-30</td>\n",
       "      <td>38</td>\n",
       "      <td>8</td>\n",
       "      <td>182</td>\n",
       "    </tr>\n",
       "  </tbody>\n",
       "</table>\n",
       "</div>"
      ],
      "text/plain": [
       "      category subcategory                product       date  listprice  \\\n",
       "0     Clothing        Caps           AWC Logo Cap 2012-06-30          9   \n",
       "1  Accessories       Locks             Cable Lock 2012-06-30         25   \n",
       "2     Clothing      Gloves  Full-Finger Gloves, L 2012-06-30         38   \n",
       "\n",
       "   quantity  sales  \n",
       "0        14     69  \n",
       "1         6     90  \n",
       "2         8    182  "
      ]
     },
     "execution_count": 33,
     "metadata": {},
     "output_type": "execute_result"
    }
   ],
   "source": [
    "df[0:3]"
   ]
  },
  {
   "cell_type": "markdown",
   "metadata": {},
   "source": [
    "## other"
   ]
  },
  {
   "cell_type": "markdown",
   "metadata": {},
   "source": [
    "### pivot"
   ]
  },
  {
   "cell_type": "code",
   "execution_count": 34,
   "metadata": {},
   "outputs": [
    {
     "data": {
      "text/html": [
       "<div>\n",
       "<style scoped>\n",
       "    .dataframe tbody tr th:only-of-type {\n",
       "        vertical-align: middle;\n",
       "    }\n",
       "\n",
       "    .dataframe tbody tr th {\n",
       "        vertical-align: top;\n",
       "    }\n",
       "\n",
       "    .dataframe thead th {\n",
       "        text-align: right;\n",
       "    }\n",
       "</style>\n",
       "<table border=\"1\" class=\"dataframe\">\n",
       "  <thead>\n",
       "    <tr style=\"text-align: right;\">\n",
       "      <th></th>\n",
       "      <th>0</th>\n",
       "      <th>1</th>\n",
       "      <th>2</th>\n",
       "      <th>3</th>\n",
       "      <th>4</th>\n",
       "      <th>5</th>\n",
       "      <th>6</th>\n",
       "      <th>7</th>\n",
       "      <th>8</th>\n",
       "      <th>9</th>\n",
       "      <th>...</th>\n",
       "      <th>60870</th>\n",
       "      <th>60871</th>\n",
       "      <th>60872</th>\n",
       "      <th>60873</th>\n",
       "      <th>60874</th>\n",
       "      <th>60875</th>\n",
       "      <th>60876</th>\n",
       "      <th>60877</th>\n",
       "      <th>60878</th>\n",
       "      <th>60879</th>\n",
       "    </tr>\n",
       "  </thead>\n",
       "  <tbody>\n",
       "    <tr>\n",
       "      <th>category</th>\n",
       "      <td>Clothing</td>\n",
       "      <td>Accessories</td>\n",
       "      <td>Clothing</td>\n",
       "      <td>Clothing</td>\n",
       "      <td>Clothing</td>\n",
       "      <td>Clothing</td>\n",
       "      <td>Clothing</td>\n",
       "      <td>Clothing</td>\n",
       "      <td>Clothing</td>\n",
       "      <td>Clothing</td>\n",
       "      <td>...</td>\n",
       "      <td>Bikes</td>\n",
       "      <td>Bikes</td>\n",
       "      <td>Bikes</td>\n",
       "      <td>Accessories</td>\n",
       "      <td>Clothing</td>\n",
       "      <td>Clothing</td>\n",
       "      <td>Clothing</td>\n",
       "      <td>Clothing</td>\n",
       "      <td>Clothing</td>\n",
       "      <td>Clothing</td>\n",
       "    </tr>\n",
       "    <tr>\n",
       "      <th>subcategory</th>\n",
       "      <td>Caps</td>\n",
       "      <td>Locks</td>\n",
       "      <td>Gloves</td>\n",
       "      <td>Gloves</td>\n",
       "      <td>Gloves</td>\n",
       "      <td>Gloves</td>\n",
       "      <td>Gloves</td>\n",
       "      <td>Gloves</td>\n",
       "      <td>Gloves</td>\n",
       "      <td>Gloves</td>\n",
       "      <td>...</td>\n",
       "      <td>Touring Bikes</td>\n",
       "      <td>Touring Bikes</td>\n",
       "      <td>Touring Bikes</td>\n",
       "      <td>Bottles and Cages</td>\n",
       "      <td>Shorts</td>\n",
       "      <td>Shorts</td>\n",
       "      <td>Shorts</td>\n",
       "      <td>Shorts</td>\n",
       "      <td>Shorts</td>\n",
       "      <td>Shorts</td>\n",
       "    </tr>\n",
       "    <tr>\n",
       "      <th>product</th>\n",
       "      <td>AWC Logo Cap</td>\n",
       "      <td>Cable Lock</td>\n",
       "      <td>Full-Finger Gloves, L</td>\n",
       "      <td>Full-Finger Gloves, L</td>\n",
       "      <td>Full-Finger Gloves, M</td>\n",
       "      <td>Full-Finger Gloves, M</td>\n",
       "      <td>Full-Finger Gloves, S</td>\n",
       "      <td>Full-Finger Gloves, S</td>\n",
       "      <td>Half-Finger Gloves, L</td>\n",
       "      <td>Half-Finger Gloves, M</td>\n",
       "      <td>...</td>\n",
       "      <td>Touring-3000 Yellow, 62</td>\n",
       "      <td>Touring-3000 Yellow, 62</td>\n",
       "      <td>Touring-3000 Yellow, 62</td>\n",
       "      <td>Water Bottle - 30 oz.</td>\n",
       "      <td>Women's Mountain Shorts, L</td>\n",
       "      <td>Women's Mountain Shorts, L</td>\n",
       "      <td>Women's Mountain Shorts, L</td>\n",
       "      <td>Women's Mountain Shorts, M</td>\n",
       "      <td>Women's Mountain Shorts, S</td>\n",
       "      <td>Women's Mountain Shorts, S</td>\n",
       "    </tr>\n",
       "  </tbody>\n",
       "</table>\n",
       "<p>3 rows × 60880 columns</p>\n",
       "</div>"
      ],
      "text/plain": [
       "                    0            1                      2      \\\n",
       "category         Clothing  Accessories               Clothing   \n",
       "subcategory          Caps        Locks                 Gloves   \n",
       "product      AWC Logo Cap   Cable Lock  Full-Finger Gloves, L   \n",
       "\n",
       "                             3                      4      \\\n",
       "category                  Clothing               Clothing   \n",
       "subcategory                 Gloves                 Gloves   \n",
       "product      Full-Finger Gloves, L  Full-Finger Gloves, M   \n",
       "\n",
       "                             5                      6      \\\n",
       "category                  Clothing               Clothing   \n",
       "subcategory                 Gloves                 Gloves   \n",
       "product      Full-Finger Gloves, M  Full-Finger Gloves, S   \n",
       "\n",
       "                             7                      8      \\\n",
       "category                  Clothing               Clothing   \n",
       "subcategory                 Gloves                 Gloves   \n",
       "product      Full-Finger Gloves, S  Half-Finger Gloves, L   \n",
       "\n",
       "                             9      ...                    60870  \\\n",
       "category                  Clothing  ...                    Bikes   \n",
       "subcategory                 Gloves  ...            Touring Bikes   \n",
       "product      Half-Finger Gloves, M  ...  Touring-3000 Yellow, 62   \n",
       "\n",
       "                               60871                    60872  \\\n",
       "category                       Bikes                    Bikes   \n",
       "subcategory            Touring Bikes            Touring Bikes   \n",
       "product      Touring-3000 Yellow, 62  Touring-3000 Yellow, 62   \n",
       "\n",
       "                             60873                       60874  \\\n",
       "category               Accessories                    Clothing   \n",
       "subcategory      Bottles and Cages                      Shorts   \n",
       "product      Water Bottle - 30 oz.  Women's Mountain Shorts, L   \n",
       "\n",
       "                                  60875                       60876  \\\n",
       "category                       Clothing                    Clothing   \n",
       "subcategory                      Shorts                      Shorts   \n",
       "product      Women's Mountain Shorts, L  Women's Mountain Shorts, L   \n",
       "\n",
       "                                  60877                       60878  \\\n",
       "category                       Clothing                    Clothing   \n",
       "subcategory                      Shorts                      Shorts   \n",
       "product      Women's Mountain Shorts, M  Women's Mountain Shorts, S   \n",
       "\n",
       "                                  60879  \n",
       "category                       Clothing  \n",
       "subcategory                      Shorts  \n",
       "product      Women's Mountain Shorts, S  \n",
       "\n",
       "[3 rows x 60880 columns]"
      ]
     },
     "execution_count": 34,
     "metadata": {},
     "output_type": "execute_result"
    }
   ],
   "source": [
    "df.T.head(3)"
   ]
  }
 ],
 "metadata": {
  "kernelspec": {
   "display_name": ".venv",
   "language": "python",
   "name": "python3"
  },
  "language_info": {
   "codemirror_mode": {
    "name": "ipython",
    "version": 3
   },
   "file_extension": ".py",
   "mimetype": "text/x-python",
   "name": "python",
   "nbconvert_exporter": "python",
   "pygments_lexer": "ipython3",
   "version": "3.12.4"
  }
 },
 "nbformat": 4,
 "nbformat_minor": 2
}
