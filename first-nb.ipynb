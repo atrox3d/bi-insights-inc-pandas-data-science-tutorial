{
 "cells": [
  {
   "cell_type": "markdown",
   "metadata": {},
   "source": [
    "# import pandas"
   ]
  },
  {
   "cell_type": "code",
   "execution_count": 139,
   "metadata": {},
   "outputs": [],
   "source": [
    "import pandas as pd"
   ]
  },
  {
   "cell_type": "markdown",
   "metadata": {},
   "source": [
    "### explain callable format"
   ]
  },
  {
   "cell_type": "code",
   "execution_count": 140,
   "metadata": {},
   "outputs": [],
   "source": [
    "pd.options.display.float_format = '{:,.0f}'.format"
   ]
  },
  {
   "cell_type": "markdown",
   "metadata": {},
   "source": [
    "<blockquote>\n",
    "\n",
    "f is a method object bound to a string instance\n",
    "\n",
    "the format method is bound to a `str('{:,.0f}')` object\n",
    "\n",
    "when passed as an argument and called, it remebers the self argument\n",
    "\n",
    "the original self object can be retrieved via the `__self__`attribute\n",
    "</blockquote>\n"
   ]
  },
  {
   "cell_type": "code",
   "execution_count": 141,
   "metadata": {},
   "outputs": [
    {
     "data": {
      "text/plain": [
       "\"f.__self__ = '{:,.0f}'\""
      ]
     },
     "execution_count": 141,
     "metadata": {},
     "output_type": "execute_result"
    }
   ],
   "source": [
    "f = '{:,.0f}'.format\n",
    "f'{f.__self__ = }'"
   ]
  },
  {
   "cell_type": "markdown",
   "metadata": {},
   "source": [
    "# import excel file"
   ]
  },
  {
   "cell_type": "code",
   "execution_count": 142,
   "metadata": {},
   "outputs": [
    {
     "data": {
      "text/html": [
       "<div>\n",
       "<style scoped>\n",
       "    .dataframe tbody tr th:only-of-type {\n",
       "        vertical-align: middle;\n",
       "    }\n",
       "\n",
       "    .dataframe tbody tr th {\n",
       "        vertical-align: top;\n",
       "    }\n",
       "\n",
       "    .dataframe thead th {\n",
       "        text-align: right;\n",
       "    }\n",
       "</style>\n",
       "<table border=\"1\" class=\"dataframe\">\n",
       "  <thead>\n",
       "    <tr style=\"text-align: right;\">\n",
       "      <th></th>\n",
       "      <th>productcategory</th>\n",
       "      <th>productsubcategory</th>\n",
       "      <th>product</th>\n",
       "      <th>saleterritory</th>\n",
       "      <th>Country</th>\n",
       "      <th>City</th>\n",
       "      <th>Sate</th>\n",
       "      <th>Customer</th>\n",
       "      <th>Employee</th>\n",
       "      <th>OrderCount</th>\n",
       "      <th>OrderDate</th>\n",
       "      <th>StandardCost</th>\n",
       "      <th>UnitPrice</th>\n",
       "      <th>UnitPriceDiscount</th>\n",
       "      <th>Discount</th>\n",
       "      <th>ListPrice</th>\n",
       "      <th>SaleswithStandard</th>\n",
       "      <th>NetSales</th>\n",
       "      <th>OrderQuantity</th>\n",
       "      <th>Sales</th>\n",
       "    </tr>\n",
       "  </thead>\n",
       "  <tbody>\n",
       "    <tr>\n",
       "      <th>0</th>\n",
       "      <td>Clothing</td>\n",
       "      <td>Caps</td>\n",
       "      <td>AWC Logo Cap</td>\n",
       "      <td>United Kingdom</td>\n",
       "      <td>United Kingdom</td>\n",
       "      <td>Berks</td>\n",
       "      <td>England</td>\n",
       "      <td>Gary Suess</td>\n",
       "      <td>Amy Alberts</td>\n",
       "      <td>1</td>\n",
       "      <td>2012-06-30</td>\n",
       "      <td>7</td>\n",
       "      <td>5</td>\n",
       "      <td>0</td>\n",
       "      <td>1</td>\n",
       "      <td>9</td>\n",
       "      <td>97</td>\n",
       "      <td>-28</td>\n",
       "      <td>14</td>\n",
       "      <td>69</td>\n",
       "    </tr>\n",
       "    <tr>\n",
       "      <th>1</th>\n",
       "      <td>Accessories</td>\n",
       "      <td>Locks</td>\n",
       "      <td>Cable Lock</td>\n",
       "      <td>United Kingdom</td>\n",
       "      <td>United Kingdom</td>\n",
       "      <td>Berks</td>\n",
       "      <td>England</td>\n",
       "      <td>Gary Suess</td>\n",
       "      <td>Amy Alberts</td>\n",
       "      <td>1</td>\n",
       "      <td>2012-06-30</td>\n",
       "      <td>10</td>\n",
       "      <td>15</td>\n",
       "      <td>0</td>\n",
       "      <td>0</td>\n",
       "      <td>25</td>\n",
       "      <td>62</td>\n",
       "      <td>28</td>\n",
       "      <td>6</td>\n",
       "      <td>90</td>\n",
       "    </tr>\n",
       "    <tr>\n",
       "      <th>2</th>\n",
       "      <td>Clothing</td>\n",
       "      <td>Gloves</td>\n",
       "      <td>Full-Finger Gloves, L</td>\n",
       "      <td>United Kingdom</td>\n",
       "      <td>United Kingdom</td>\n",
       "      <td>Berks</td>\n",
       "      <td>England</td>\n",
       "      <td>Gary Suess</td>\n",
       "      <td>Amy Alberts</td>\n",
       "      <td>1</td>\n",
       "      <td>2012-06-30</td>\n",
       "      <td>16</td>\n",
       "      <td>23</td>\n",
       "      <td>0</td>\n",
       "      <td>0</td>\n",
       "      <td>38</td>\n",
       "      <td>125</td>\n",
       "      <td>57</td>\n",
       "      <td>8</td>\n",
       "      <td>182</td>\n",
       "    </tr>\n",
       "    <tr>\n",
       "      <th>3</th>\n",
       "      <td>Clothing</td>\n",
       "      <td>Gloves</td>\n",
       "      <td>Full-Finger Gloves, L</td>\n",
       "      <td>United Kingdom</td>\n",
       "      <td>United Kingdom</td>\n",
       "      <td>London</td>\n",
       "      <td>England</td>\n",
       "      <td>Linda Martin</td>\n",
       "      <td>Amy Alberts</td>\n",
       "      <td>1</td>\n",
       "      <td>2012-06-30</td>\n",
       "      <td>16</td>\n",
       "      <td>21</td>\n",
       "      <td>0</td>\n",
       "      <td>17</td>\n",
       "      <td>38</td>\n",
       "      <td>251</td>\n",
       "      <td>67</td>\n",
       "      <td>16</td>\n",
       "      <td>318</td>\n",
       "    </tr>\n",
       "    <tr>\n",
       "      <th>4</th>\n",
       "      <td>Clothing</td>\n",
       "      <td>Gloves</td>\n",
       "      <td>Full-Finger Gloves, M</td>\n",
       "      <td>United Kingdom</td>\n",
       "      <td>United Kingdom</td>\n",
       "      <td>Berks</td>\n",
       "      <td>England</td>\n",
       "      <td>Gary Suess</td>\n",
       "      <td>Amy Alberts</td>\n",
       "      <td>1</td>\n",
       "      <td>2012-06-30</td>\n",
       "      <td>16</td>\n",
       "      <td>23</td>\n",
       "      <td>0</td>\n",
       "      <td>0</td>\n",
       "      <td>38</td>\n",
       "      <td>110</td>\n",
       "      <td>50</td>\n",
       "      <td>7</td>\n",
       "      <td>160</td>\n",
       "    </tr>\n",
       "  </tbody>\n",
       "</table>\n",
       "</div>"
      ],
      "text/plain": [
       "  productcategory productsubcategory                product   saleterritory         Country    City     Sate      Customer     Employee  OrderCount  OrderDate  StandardCost  UnitPrice  UnitPriceDiscount  Discount  ListPrice  SaleswithStandard  NetSales  OrderQuantity  Sales\n",
       "0        Clothing               Caps           AWC Logo Cap  United Kingdom  United Kingdom   Berks  England    Gary Suess  Amy Alberts           1 2012-06-30             7          5                  0         1          9                 97       -28             14     69\n",
       "1     Accessories              Locks             Cable Lock  United Kingdom  United Kingdom   Berks  England    Gary Suess  Amy Alberts           1 2012-06-30            10         15                  0         0         25                 62        28              6     90\n",
       "2        Clothing             Gloves  Full-Finger Gloves, L  United Kingdom  United Kingdom   Berks  England    Gary Suess  Amy Alberts           1 2012-06-30            16         23                  0         0         38                125        57              8    182\n",
       "3        Clothing             Gloves  Full-Finger Gloves, L  United Kingdom  United Kingdom  London  England  Linda Martin  Amy Alberts           1 2012-06-30            16         21                  0        17         38                251        67             16    318\n",
       "4        Clothing             Gloves  Full-Finger Gloves, M  United Kingdom  United Kingdom   Berks  England    Gary Suess  Amy Alberts           1 2012-06-30            16         23                  0         0         38                110        50              7    160"
      ]
     },
     "execution_count": 142,
     "metadata": {},
     "output_type": "execute_result"
    }
   ],
   "source": [
    "df = pd.read_excel('advworksdata.xlsx')\n",
    "df.head() # first 5"
   ]
  },
  {
   "cell_type": "markdown",
   "metadata": {},
   "source": [
    "## check dataframe properties"
   ]
  },
  {
   "cell_type": "markdown",
   "metadata": {},
   "source": [
    "#### show dataframe type"
   ]
  },
  {
   "cell_type": "code",
   "execution_count": 143,
   "metadata": {},
   "outputs": [
    {
     "data": {
      "text/plain": [
       "pandas.core.frame.DataFrame"
      ]
     },
     "execution_count": 143,
     "metadata": {},
     "output_type": "execute_result"
    }
   ],
   "source": [
    "type(df)"
   ]
  },
  {
   "cell_type": "markdown",
   "metadata": {},
   "source": [
    "### check if dataframe is empty"
   ]
  },
  {
   "cell_type": "code",
   "execution_count": 144,
   "metadata": {},
   "outputs": [
    {
     "data": {
      "text/plain": [
       "False"
      ]
     },
     "execution_count": 144,
     "metadata": {},
     "output_type": "execute_result"
    }
   ],
   "source": [
    "df.empty"
   ]
  },
  {
   "cell_type": "markdown",
   "metadata": {},
   "source": [
    "### show dataframe shape\n",
    "\n",
    "> shape is shown in (rows, columns)"
   ]
  },
  {
   "cell_type": "code",
   "execution_count": 145,
   "metadata": {},
   "outputs": [
    {
     "data": {
      "text/plain": [
       "(60880, 20)"
      ]
     },
     "execution_count": 145,
     "metadata": {},
     "output_type": "execute_result"
    }
   ],
   "source": [
    "df.shape"
   ]
  },
  {
   "cell_type": "markdown",
   "metadata": {},
   "source": [
    "### get list of columns"
   ]
  },
  {
   "cell_type": "code",
   "execution_count": 146,
   "metadata": {},
   "outputs": [
    {
     "data": {
      "text/plain": [
       "Index(['productcategory', 'productsubcategory', 'product', 'saleterritory', 'Country', 'City', 'Sate', 'Customer', 'Employee', 'OrderCount', 'OrderDate', 'StandardCost', 'UnitPrice', 'UnitPriceDiscount', 'Discount', 'ListPrice', 'SaleswithStandard', 'NetSales', 'OrderQuantity', 'Sales'], dtype='object')"
      ]
     },
     "execution_count": 146,
     "metadata": {},
     "output_type": "execute_result"
    }
   ],
   "source": [
    "df.columns"
   ]
  },
  {
   "cell_type": "markdown",
   "metadata": {},
   "source": [
    "# work with dataframe"
   ]
  },
  {
   "cell_type": "markdown",
   "metadata": {},
   "source": [
    "## modify metadata\n",
    "\n",
    "### rename columns"
   ]
  },
  {
   "cell_type": "code",
   "execution_count": 147,
   "metadata": {},
   "outputs": [
    {
     "data": {
      "text/html": [
       "<div>\n",
       "<style scoped>\n",
       "    .dataframe tbody tr th:only-of-type {\n",
       "        vertical-align: middle;\n",
       "    }\n",
       "\n",
       "    .dataframe tbody tr th {\n",
       "        vertical-align: top;\n",
       "    }\n",
       "\n",
       "    .dataframe thead th {\n",
       "        text-align: right;\n",
       "    }\n",
       "</style>\n",
       "<table border=\"1\" class=\"dataframe\">\n",
       "  <thead>\n",
       "    <tr style=\"text-align: right;\">\n",
       "      <th></th>\n",
       "      <th>productcategory</th>\n",
       "      <th>productsubcategory</th>\n",
       "      <th>product</th>\n",
       "      <th>saleterritory</th>\n",
       "      <th>country</th>\n",
       "      <th>city</th>\n",
       "      <th>sate</th>\n",
       "      <th>customer</th>\n",
       "      <th>employee</th>\n",
       "      <th>ordercount</th>\n",
       "      <th>orderdate</th>\n",
       "      <th>standardcost</th>\n",
       "      <th>unitprice</th>\n",
       "      <th>unitpricediscount</th>\n",
       "      <th>discount</th>\n",
       "      <th>listprice</th>\n",
       "      <th>saleswithstandard</th>\n",
       "      <th>netsales</th>\n",
       "      <th>orderquantity</th>\n",
       "      <th>sales</th>\n",
       "    </tr>\n",
       "  </thead>\n",
       "  <tbody>\n",
       "    <tr>\n",
       "      <th>0</th>\n",
       "      <td>Clothing</td>\n",
       "      <td>Caps</td>\n",
       "      <td>AWC Logo Cap</td>\n",
       "      <td>United Kingdom</td>\n",
       "      <td>United Kingdom</td>\n",
       "      <td>Berks</td>\n",
       "      <td>England</td>\n",
       "      <td>Gary Suess</td>\n",
       "      <td>Amy Alberts</td>\n",
       "      <td>1</td>\n",
       "      <td>2012-06-30</td>\n",
       "      <td>7</td>\n",
       "      <td>5</td>\n",
       "      <td>0</td>\n",
       "      <td>1</td>\n",
       "      <td>9</td>\n",
       "      <td>97</td>\n",
       "      <td>-28</td>\n",
       "      <td>14</td>\n",
       "      <td>69</td>\n",
       "    </tr>\n",
       "    <tr>\n",
       "      <th>1</th>\n",
       "      <td>Accessories</td>\n",
       "      <td>Locks</td>\n",
       "      <td>Cable Lock</td>\n",
       "      <td>United Kingdom</td>\n",
       "      <td>United Kingdom</td>\n",
       "      <td>Berks</td>\n",
       "      <td>England</td>\n",
       "      <td>Gary Suess</td>\n",
       "      <td>Amy Alberts</td>\n",
       "      <td>1</td>\n",
       "      <td>2012-06-30</td>\n",
       "      <td>10</td>\n",
       "      <td>15</td>\n",
       "      <td>0</td>\n",
       "      <td>0</td>\n",
       "      <td>25</td>\n",
       "      <td>62</td>\n",
       "      <td>28</td>\n",
       "      <td>6</td>\n",
       "      <td>90</td>\n",
       "    </tr>\n",
       "    <tr>\n",
       "      <th>2</th>\n",
       "      <td>Clothing</td>\n",
       "      <td>Gloves</td>\n",
       "      <td>Full-Finger Gloves, L</td>\n",
       "      <td>United Kingdom</td>\n",
       "      <td>United Kingdom</td>\n",
       "      <td>Berks</td>\n",
       "      <td>England</td>\n",
       "      <td>Gary Suess</td>\n",
       "      <td>Amy Alberts</td>\n",
       "      <td>1</td>\n",
       "      <td>2012-06-30</td>\n",
       "      <td>16</td>\n",
       "      <td>23</td>\n",
       "      <td>0</td>\n",
       "      <td>0</td>\n",
       "      <td>38</td>\n",
       "      <td>125</td>\n",
       "      <td>57</td>\n",
       "      <td>8</td>\n",
       "      <td>182</td>\n",
       "    </tr>\n",
       "    <tr>\n",
       "      <th>3</th>\n",
       "      <td>Clothing</td>\n",
       "      <td>Gloves</td>\n",
       "      <td>Full-Finger Gloves, L</td>\n",
       "      <td>United Kingdom</td>\n",
       "      <td>United Kingdom</td>\n",
       "      <td>London</td>\n",
       "      <td>England</td>\n",
       "      <td>Linda Martin</td>\n",
       "      <td>Amy Alberts</td>\n",
       "      <td>1</td>\n",
       "      <td>2012-06-30</td>\n",
       "      <td>16</td>\n",
       "      <td>21</td>\n",
       "      <td>0</td>\n",
       "      <td>17</td>\n",
       "      <td>38</td>\n",
       "      <td>251</td>\n",
       "      <td>67</td>\n",
       "      <td>16</td>\n",
       "      <td>318</td>\n",
       "    </tr>\n",
       "    <tr>\n",
       "      <th>4</th>\n",
       "      <td>Clothing</td>\n",
       "      <td>Gloves</td>\n",
       "      <td>Full-Finger Gloves, M</td>\n",
       "      <td>United Kingdom</td>\n",
       "      <td>United Kingdom</td>\n",
       "      <td>Berks</td>\n",
       "      <td>England</td>\n",
       "      <td>Gary Suess</td>\n",
       "      <td>Amy Alberts</td>\n",
       "      <td>1</td>\n",
       "      <td>2012-06-30</td>\n",
       "      <td>16</td>\n",
       "      <td>23</td>\n",
       "      <td>0</td>\n",
       "      <td>0</td>\n",
       "      <td>38</td>\n",
       "      <td>110</td>\n",
       "      <td>50</td>\n",
       "      <td>7</td>\n",
       "      <td>160</td>\n",
       "    </tr>\n",
       "  </tbody>\n",
       "</table>\n",
       "</div>"
      ],
      "text/plain": [
       "  productcategory productsubcategory                product   saleterritory         country    city     sate      customer     employee  ordercount  orderdate  standardcost  unitprice  unitpricediscount  discount  listprice  saleswithstandard  netsales  orderquantity  sales\n",
       "0        Clothing               Caps           AWC Logo Cap  United Kingdom  United Kingdom   Berks  England    Gary Suess  Amy Alberts           1 2012-06-30             7          5                  0         1          9                 97       -28             14     69\n",
       "1     Accessories              Locks             Cable Lock  United Kingdom  United Kingdom   Berks  England    Gary Suess  Amy Alberts           1 2012-06-30            10         15                  0         0         25                 62        28              6     90\n",
       "2        Clothing             Gloves  Full-Finger Gloves, L  United Kingdom  United Kingdom   Berks  England    Gary Suess  Amy Alberts           1 2012-06-30            16         23                  0         0         38                125        57              8    182\n",
       "3        Clothing             Gloves  Full-Finger Gloves, L  United Kingdom  United Kingdom  London  England  Linda Martin  Amy Alberts           1 2012-06-30            16         21                  0        17         38                251        67             16    318\n",
       "4        Clothing             Gloves  Full-Finger Gloves, M  United Kingdom  United Kingdom   Berks  England    Gary Suess  Amy Alberts           1 2012-06-30            16         23                  0         0         38                110        50              7    160"
      ]
     },
     "execution_count": 147,
     "metadata": {},
     "output_type": "execute_result"
    }
   ],
   "source": [
    "df = df.rename(columns=str.lower)\n",
    "df[0:3].sort_index(axis=1, ascending=False)\n",
    "df.head()"
   ]
  },
  {
   "cell_type": "markdown",
   "metadata": {},
   "source": [
    "### rename dataframe columns\n",
    "\n",
    "> provide a dictionary with the following structure:\n",
    "\n",
    "    {abc:def}"
   ]
  },
  {
   "cell_type": "code",
   "execution_count": 148,
   "metadata": {},
   "outputs": [
    {
     "data": {
      "text/html": [
       "<div>\n",
       "<style scoped>\n",
       "    .dataframe tbody tr th:only-of-type {\n",
       "        vertical-align: middle;\n",
       "    }\n",
       "\n",
       "    .dataframe tbody tr th {\n",
       "        vertical-align: top;\n",
       "    }\n",
       "\n",
       "    .dataframe thead th {\n",
       "        text-align: right;\n",
       "    }\n",
       "</style>\n",
       "<table border=\"1\" class=\"dataframe\">\n",
       "  <thead>\n",
       "    <tr style=\"text-align: right;\">\n",
       "      <th></th>\n",
       "      <th>category</th>\n",
       "      <th>subcategory</th>\n",
       "      <th>product</th>\n",
       "      <th>territory</th>\n",
       "      <th>country</th>\n",
       "      <th>city</th>\n",
       "      <th>state</th>\n",
       "      <th>customer</th>\n",
       "      <th>employee</th>\n",
       "      <th>ordercount</th>\n",
       "      <th>date</th>\n",
       "      <th>standardcost</th>\n",
       "      <th>unitprice</th>\n",
       "      <th>unitpricediscount</th>\n",
       "      <th>discount</th>\n",
       "      <th>listprice</th>\n",
       "      <th>saleswithstandard</th>\n",
       "      <th>netsales</th>\n",
       "      <th>quantity</th>\n",
       "      <th>sales</th>\n",
       "    </tr>\n",
       "  </thead>\n",
       "  <tbody>\n",
       "    <tr>\n",
       "      <th>0</th>\n",
       "      <td>Clothing</td>\n",
       "      <td>Caps</td>\n",
       "      <td>AWC Logo Cap</td>\n",
       "      <td>United Kingdom</td>\n",
       "      <td>United Kingdom</td>\n",
       "      <td>Berks</td>\n",
       "      <td>England</td>\n",
       "      <td>Gary Suess</td>\n",
       "      <td>Amy Alberts</td>\n",
       "      <td>1</td>\n",
       "      <td>2012-06-30</td>\n",
       "      <td>7</td>\n",
       "      <td>5</td>\n",
       "      <td>0</td>\n",
       "      <td>1</td>\n",
       "      <td>9</td>\n",
       "      <td>97</td>\n",
       "      <td>-28</td>\n",
       "      <td>14</td>\n",
       "      <td>69</td>\n",
       "    </tr>\n",
       "    <tr>\n",
       "      <th>1</th>\n",
       "      <td>Accessories</td>\n",
       "      <td>Locks</td>\n",
       "      <td>Cable Lock</td>\n",
       "      <td>United Kingdom</td>\n",
       "      <td>United Kingdom</td>\n",
       "      <td>Berks</td>\n",
       "      <td>England</td>\n",
       "      <td>Gary Suess</td>\n",
       "      <td>Amy Alberts</td>\n",
       "      <td>1</td>\n",
       "      <td>2012-06-30</td>\n",
       "      <td>10</td>\n",
       "      <td>15</td>\n",
       "      <td>0</td>\n",
       "      <td>0</td>\n",
       "      <td>25</td>\n",
       "      <td>62</td>\n",
       "      <td>28</td>\n",
       "      <td>6</td>\n",
       "      <td>90</td>\n",
       "    </tr>\n",
       "    <tr>\n",
       "      <th>2</th>\n",
       "      <td>Clothing</td>\n",
       "      <td>Gloves</td>\n",
       "      <td>Full-Finger Gloves, L</td>\n",
       "      <td>United Kingdom</td>\n",
       "      <td>United Kingdom</td>\n",
       "      <td>Berks</td>\n",
       "      <td>England</td>\n",
       "      <td>Gary Suess</td>\n",
       "      <td>Amy Alberts</td>\n",
       "      <td>1</td>\n",
       "      <td>2012-06-30</td>\n",
       "      <td>16</td>\n",
       "      <td>23</td>\n",
       "      <td>0</td>\n",
       "      <td>0</td>\n",
       "      <td>38</td>\n",
       "      <td>125</td>\n",
       "      <td>57</td>\n",
       "      <td>8</td>\n",
       "      <td>182</td>\n",
       "    </tr>\n",
       "    <tr>\n",
       "      <th>3</th>\n",
       "      <td>Clothing</td>\n",
       "      <td>Gloves</td>\n",
       "      <td>Full-Finger Gloves, L</td>\n",
       "      <td>United Kingdom</td>\n",
       "      <td>United Kingdom</td>\n",
       "      <td>London</td>\n",
       "      <td>England</td>\n",
       "      <td>Linda Martin</td>\n",
       "      <td>Amy Alberts</td>\n",
       "      <td>1</td>\n",
       "      <td>2012-06-30</td>\n",
       "      <td>16</td>\n",
       "      <td>21</td>\n",
       "      <td>0</td>\n",
       "      <td>17</td>\n",
       "      <td>38</td>\n",
       "      <td>251</td>\n",
       "      <td>67</td>\n",
       "      <td>16</td>\n",
       "      <td>318</td>\n",
       "    </tr>\n",
       "    <tr>\n",
       "      <th>4</th>\n",
       "      <td>Clothing</td>\n",
       "      <td>Gloves</td>\n",
       "      <td>Full-Finger Gloves, M</td>\n",
       "      <td>United Kingdom</td>\n",
       "      <td>United Kingdom</td>\n",
       "      <td>Berks</td>\n",
       "      <td>England</td>\n",
       "      <td>Gary Suess</td>\n",
       "      <td>Amy Alberts</td>\n",
       "      <td>1</td>\n",
       "      <td>2012-06-30</td>\n",
       "      <td>16</td>\n",
       "      <td>23</td>\n",
       "      <td>0</td>\n",
       "      <td>0</td>\n",
       "      <td>38</td>\n",
       "      <td>110</td>\n",
       "      <td>50</td>\n",
       "      <td>7</td>\n",
       "      <td>160</td>\n",
       "    </tr>\n",
       "  </tbody>\n",
       "</table>\n",
       "</div>"
      ],
      "text/plain": [
       "      category subcategory                product       territory         country    city    state      customer     employee  ordercount       date  standardcost  unitprice  unitpricediscount  discount  listprice  saleswithstandard  netsales  quantity  sales\n",
       "0     Clothing        Caps           AWC Logo Cap  United Kingdom  United Kingdom   Berks  England    Gary Suess  Amy Alberts           1 2012-06-30             7          5                  0         1          9                 97       -28        14     69\n",
       "1  Accessories       Locks             Cable Lock  United Kingdom  United Kingdom   Berks  England    Gary Suess  Amy Alberts           1 2012-06-30            10         15                  0         0         25                 62        28         6     90\n",
       "2     Clothing      Gloves  Full-Finger Gloves, L  United Kingdom  United Kingdom   Berks  England    Gary Suess  Amy Alberts           1 2012-06-30            16         23                  0         0         38                125        57         8    182\n",
       "3     Clothing      Gloves  Full-Finger Gloves, L  United Kingdom  United Kingdom  London  England  Linda Martin  Amy Alberts           1 2012-06-30            16         21                  0        17         38                251        67        16    318\n",
       "4     Clothing      Gloves  Full-Finger Gloves, M  United Kingdom  United Kingdom   Berks  England    Gary Suess  Amy Alberts           1 2012-06-30            16         23                  0         0         38                110        50         7    160"
      ]
     },
     "execution_count": 148,
     "metadata": {},
     "output_type": "execute_result"
    }
   ],
   "source": [
    "df = df.rename(columns={\n",
    "    'productcategory': 'category',\n",
    "    'saleterritory': 'territory',\n",
    "    'productsubcategory': 'subcategory',\n",
    "    'orderquantity': 'quantity',\n",
    "    'orderdate': 'date',\n",
    "    'sate': 'state'\n",
    "}, errors='raise')\n",
    "df.head()"
   ]
  },
  {
   "cell_type": "code",
   "execution_count": 149,
   "metadata": {},
   "outputs": [
    {
     "data": {
      "text/plain": [
       "(60880, 20)"
      ]
     },
     "execution_count": 149,
     "metadata": {},
     "output_type": "execute_result"
    }
   ],
   "source": [
    "df.shape"
   ]
  },
  {
   "cell_type": "markdown",
   "metadata": {},
   "source": [
    "## get subset of dataframe"
   ]
  },
  {
   "cell_type": "markdown",
   "metadata": {},
   "source": [
    "### get one column"
   ]
  },
  {
   "cell_type": "code",
   "execution_count": 150,
   "metadata": {},
   "outputs": [
    {
     "data": {
      "text/plain": [
       "0             AWC Logo Cap\n",
       "1               Cable Lock\n",
       "2    Full-Finger Gloves, L\n",
       "3    Full-Finger Gloves, L\n",
       "4    Full-Finger Gloves, M\n",
       "Name: product, dtype: object"
      ]
     },
     "execution_count": 150,
     "metadata": {},
     "output_type": "execute_result"
    }
   ],
   "source": [
    "# df['product'].head()\n",
    "df['product'][0:5]\n"
   ]
  },
  {
   "cell_type": "markdown",
   "metadata": {},
   "source": [
    "### get more columns"
   ]
  },
  {
   "cell_type": "code",
   "execution_count": 151,
   "metadata": {},
   "outputs": [
    {
     "data": {
      "text/html": [
       "<div>\n",
       "<style scoped>\n",
       "    .dataframe tbody tr th:only-of-type {\n",
       "        vertical-align: middle;\n",
       "    }\n",
       "\n",
       "    .dataframe tbody tr th {\n",
       "        vertical-align: top;\n",
       "    }\n",
       "\n",
       "    .dataframe thead th {\n",
       "        text-align: right;\n",
       "    }\n",
       "</style>\n",
       "<table border=\"1\" class=\"dataframe\">\n",
       "  <thead>\n",
       "    <tr style=\"text-align: right;\">\n",
       "      <th></th>\n",
       "      <th>category</th>\n",
       "      <th>product</th>\n",
       "    </tr>\n",
       "  </thead>\n",
       "  <tbody>\n",
       "    <tr>\n",
       "      <th>0</th>\n",
       "      <td>Clothing</td>\n",
       "      <td>AWC Logo Cap</td>\n",
       "    </tr>\n",
       "    <tr>\n",
       "      <th>1</th>\n",
       "      <td>Accessories</td>\n",
       "      <td>Cable Lock</td>\n",
       "    </tr>\n",
       "    <tr>\n",
       "      <th>2</th>\n",
       "      <td>Clothing</td>\n",
       "      <td>Full-Finger Gloves, L</td>\n",
       "    </tr>\n",
       "  </tbody>\n",
       "</table>\n",
       "</div>"
      ],
      "text/plain": [
       "      category                product\n",
       "0     Clothing           AWC Logo Cap\n",
       "1  Accessories             Cable Lock\n",
       "2     Clothing  Full-Finger Gloves, L"
      ]
     },
     "execution_count": 151,
     "metadata": {},
     "output_type": "execute_result"
    }
   ],
   "source": [
    "#  pass a list of column names to filter\n",
    "df[['category','product']][0:3]"
   ]
  },
  {
   "cell_type": "markdown",
   "metadata": {},
   "source": [
    "### limit columns of dataframe"
   ]
  },
  {
   "cell_type": "code",
   "execution_count": 152,
   "metadata": {},
   "outputs": [
    {
     "data": {
      "text/plain": [
       "Index(['category', 'subcategory', 'product', 'territory', 'country', 'city', 'state', 'customer', 'employee', 'ordercount', 'date', 'standardcost', 'unitprice', 'unitpricediscount', 'discount', 'listprice', 'saleswithstandard', 'netsales', 'quantity', 'sales'], dtype='object')"
      ]
     },
     "execution_count": 152,
     "metadata": {},
     "output_type": "execute_result"
    }
   ],
   "source": [
    "df.columns"
   ]
  },
  {
   "cell_type": "code",
   "execution_count": 153,
   "metadata": {},
   "outputs": [
    {
     "data": {
      "text/html": [
       "<div>\n",
       "<style scoped>\n",
       "    .dataframe tbody tr th:only-of-type {\n",
       "        vertical-align: middle;\n",
       "    }\n",
       "\n",
       "    .dataframe tbody tr th {\n",
       "        vertical-align: top;\n",
       "    }\n",
       "\n",
       "    .dataframe thead th {\n",
       "        text-align: right;\n",
       "    }\n",
       "</style>\n",
       "<table border=\"1\" class=\"dataframe\">\n",
       "  <thead>\n",
       "    <tr style=\"text-align: right;\">\n",
       "      <th></th>\n",
       "      <th>category</th>\n",
       "      <th>subcategory</th>\n",
       "      <th>product</th>\n",
       "      <th>date</th>\n",
       "      <th>listprice</th>\n",
       "      <th>quantity</th>\n",
       "      <th>sales</th>\n",
       "    </tr>\n",
       "  </thead>\n",
       "  <tbody>\n",
       "    <tr>\n",
       "      <th>0</th>\n",
       "      <td>Clothing</td>\n",
       "      <td>Caps</td>\n",
       "      <td>AWC Logo Cap</td>\n",
       "      <td>2012-06-30</td>\n",
       "      <td>9</td>\n",
       "      <td>14</td>\n",
       "      <td>69</td>\n",
       "    </tr>\n",
       "    <tr>\n",
       "      <th>1</th>\n",
       "      <td>Accessories</td>\n",
       "      <td>Locks</td>\n",
       "      <td>Cable Lock</td>\n",
       "      <td>2012-06-30</td>\n",
       "      <td>25</td>\n",
       "      <td>6</td>\n",
       "      <td>90</td>\n",
       "    </tr>\n",
       "    <tr>\n",
       "      <th>2</th>\n",
       "      <td>Clothing</td>\n",
       "      <td>Gloves</td>\n",
       "      <td>Full-Finger Gloves, L</td>\n",
       "      <td>2012-06-30</td>\n",
       "      <td>38</td>\n",
       "      <td>8</td>\n",
       "      <td>182</td>\n",
       "    </tr>\n",
       "    <tr>\n",
       "      <th>3</th>\n",
       "      <td>Clothing</td>\n",
       "      <td>Gloves</td>\n",
       "      <td>Full-Finger Gloves, L</td>\n",
       "      <td>2012-06-30</td>\n",
       "      <td>38</td>\n",
       "      <td>16</td>\n",
       "      <td>318</td>\n",
       "    </tr>\n",
       "    <tr>\n",
       "      <th>4</th>\n",
       "      <td>Clothing</td>\n",
       "      <td>Gloves</td>\n",
       "      <td>Full-Finger Gloves, M</td>\n",
       "      <td>2012-06-30</td>\n",
       "      <td>38</td>\n",
       "      <td>7</td>\n",
       "      <td>160</td>\n",
       "    </tr>\n",
       "  </tbody>\n",
       "</table>\n",
       "</div>"
      ],
      "text/plain": [
       "      category subcategory                product       date  listprice  quantity  sales\n",
       "0     Clothing        Caps           AWC Logo Cap 2012-06-30          9        14     69\n",
       "1  Accessories       Locks             Cable Lock 2012-06-30         25         6     90\n",
       "2     Clothing      Gloves  Full-Finger Gloves, L 2012-06-30         38         8    182\n",
       "3     Clothing      Gloves  Full-Finger Gloves, L 2012-06-30         38        16    318\n",
       "4     Clothing      Gloves  Full-Finger Gloves, M 2012-06-30         38         7    160"
      ]
     },
     "execution_count": 153,
     "metadata": {},
     "output_type": "execute_result"
    }
   ],
   "source": [
    "df2 = df['category subcategory product date listprice quantity sales'.split()]\n",
    "df2.head()"
   ]
  },
  {
   "cell_type": "markdown",
   "metadata": {},
   "source": [
    "## work with dataframe data types"
   ]
  },
  {
   "cell_type": "markdown",
   "metadata": {},
   "source": [
    "### show dataframe columns data types"
   ]
  },
  {
   "cell_type": "code",
   "execution_count": 154,
   "metadata": {},
   "outputs": [
    {
     "data": {
      "text/plain": [
       "category                     object\n",
       "subcategory                  object\n",
       "product                      object\n",
       "territory                    object\n",
       "country                      object\n",
       "city                         object\n",
       "state                        object\n",
       "customer                     object\n",
       "employee                     object\n",
       "ordercount                    int64\n",
       "date                 datetime64[ns]\n",
       "standardcost                float64\n",
       "unitprice                   float64\n",
       "unitpricediscount           float64\n",
       "discount                    float64\n",
       "listprice                   float64\n",
       "saleswithstandard           float64\n",
       "netsales                    float64\n",
       "quantity                      int64\n",
       "sales                       float64\n",
       "dtype: object"
      ]
     },
     "execution_count": 154,
     "metadata": {},
     "output_type": "execute_result"
    }
   ],
   "source": [
    "df.dtypes"
   ]
  },
  {
   "cell_type": "markdown",
   "metadata": {},
   "source": [
    "### convert column data type"
   ]
  },
  {
   "cell_type": "code",
   "execution_count": 155,
   "metadata": {},
   "outputs": [
    {
     "data": {
      "text/plain": [
       "0   2012-06-30\n",
       "1   2012-06-30\n",
       "2   2012-06-30\n",
       "3   2012-06-30\n",
       "4   2012-06-30\n",
       "Name: date, dtype: datetime64[ns]"
      ]
     },
     "execution_count": 155,
     "metadata": {},
     "output_type": "execute_result"
    }
   ],
   "source": [
    "df['date'] = pd.to_datetime(df['date'])\n",
    "df['date'].head()"
   ]
  },
  {
   "cell_type": "markdown",
   "metadata": {},
   "source": [
    "### raise error when trying to convert NANs (NULLs)"
   ]
  },
  {
   "cell_type": "code",
   "execution_count": 156,
   "metadata": {},
   "outputs": [
    {
     "name": "stdout",
     "output_type": "stream",
     "text": [
      "IntCastingNaNError('Cannot convert non-finite values (NA or inf) to integer')\n"
     ]
    }
   ],
   "source": [
    "try:\n",
    "    df['listprice'] = df['listprice'].astype(int)\n",
    "except Exception as e:\n",
    "    print(repr(e))"
   ]
  },
  {
   "cell_type": "markdown",
   "metadata": {},
   "source": [
    "## fixing NULL values"
   ]
  },
  {
   "cell_type": "markdown",
   "metadata": {},
   "source": [
    "### check whether there are columns containing nulls (nans)"
   ]
  },
  {
   "cell_type": "code",
   "execution_count": 157,
   "metadata": {},
   "outputs": [
    {
     "data": {
      "text/plain": [
       "category              True\n",
       "subcategory           True\n",
       "product               True\n",
       "territory            False\n",
       "country              False\n",
       "city                 False\n",
       "state                False\n",
       "customer             False\n",
       "employee             False\n",
       "ordercount           False\n",
       "date                 False\n",
       "standardcost          True\n",
       "unitprice            False\n",
       "unitpricediscount    False\n",
       "discount             False\n",
       "listprice             True\n",
       "saleswithstandard     True\n",
       "netsales              True\n",
       "quantity             False\n",
       "sales                False\n",
       "dtype: bool"
      ]
     },
     "execution_count": 157,
     "metadata": {},
     "output_type": "execute_result"
    }
   ],
   "source": [
    "df.isnull().any()"
   ]
  },
  {
   "cell_type": "markdown",
   "metadata": {},
   "source": [
    "### count null values per columns"
   ]
  },
  {
   "cell_type": "code",
   "execution_count": 158,
   "metadata": {},
   "outputs": [
    {
     "data": {
      "text/plain": [
       "category             39\n",
       "subcategory          39\n",
       "product              39\n",
       "territory             0\n",
       "country               0\n",
       "city                  0\n",
       "state                 0\n",
       "customer              0\n",
       "employee              0\n",
       "ordercount            0\n",
       "date                  0\n",
       "standardcost         39\n",
       "unitprice             0\n",
       "unitpricediscount     0\n",
       "discount              0\n",
       "listprice            39\n",
       "saleswithstandard    39\n",
       "netsales             39\n",
       "quantity              0\n",
       "sales                 0\n",
       "dtype: int64"
      ]
     },
     "execution_count": 158,
     "metadata": {},
     "output_type": "execute_result"
    }
   ],
   "source": [
    "df.isnull().sum()"
   ]
  },
  {
   "cell_type": "markdown",
   "metadata": {},
   "source": [
    "### fill column null values with custom values"
   ]
  },
  {
   "cell_type": "markdown",
   "metadata": {},
   "source": [
    "> deprecated in pandas 3.0"
   ]
  },
  {
   "cell_type": "code",
   "execution_count": 159,
   "metadata": {},
   "outputs": [
    {
     "name": "stderr",
     "output_type": "stream",
     "text": [
      "/var/folders/l0/1vskk_85141bwjr9lhpxwv1r0000gn/T/ipykernel_28178/2310545220.py:1: FutureWarning: A value is trying to be set on a copy of a DataFrame or Series through chained assignment using an inplace method.\n",
      "The behavior will change in pandas 3.0. This inplace method will never work because the intermediate object on which we are setting values always behaves as a copy.\n",
      "\n",
      "For example, when doing 'df[col].method(value, inplace=True)', try using 'df.method({col: value}, inplace=True)' or df[col] = df[col].method(value) instead, to perform the operation inplace on the original object.\n",
      "\n",
      "\n",
      "  df['category'].fillna('unknown', inplace=True)  # deprecated in pandas 3.0\n"
     ]
    }
   ],
   "source": [
    "df['category'].fillna('unknown', inplace=True)  # deprecated in pandas 3.0\n"
   ]
  },
  {
   "cell_type": "code",
   "execution_count": 160,
   "metadata": {},
   "outputs": [
    {
     "data": {
      "text/html": [
       "<div>\n",
       "<style scoped>\n",
       "    .dataframe tbody tr th:only-of-type {\n",
       "        vertical-align: middle;\n",
       "    }\n",
       "\n",
       "    .dataframe tbody tr th {\n",
       "        vertical-align: top;\n",
       "    }\n",
       "\n",
       "    .dataframe thead th {\n",
       "        text-align: right;\n",
       "    }\n",
       "</style>\n",
       "<table border=\"1\" class=\"dataframe\">\n",
       "  <thead>\n",
       "    <tr style=\"text-align: right;\">\n",
       "      <th></th>\n",
       "      <th>category</th>\n",
       "      <th>subcategory</th>\n",
       "      <th>product</th>\n",
       "      <th>territory</th>\n",
       "      <th>country</th>\n",
       "      <th>city</th>\n",
       "      <th>state</th>\n",
       "      <th>customer</th>\n",
       "      <th>employee</th>\n",
       "      <th>ordercount</th>\n",
       "      <th>date</th>\n",
       "      <th>standardcost</th>\n",
       "      <th>unitprice</th>\n",
       "      <th>unitpricediscount</th>\n",
       "      <th>discount</th>\n",
       "      <th>listprice</th>\n",
       "      <th>saleswithstandard</th>\n",
       "      <th>netsales</th>\n",
       "      <th>quantity</th>\n",
       "      <th>sales</th>\n",
       "    </tr>\n",
       "  </thead>\n",
       "  <tbody>\n",
       "    <tr>\n",
       "      <th>581</th>\n",
       "      <td>unknown</td>\n",
       "      <td>NaN</td>\n",
       "      <td>NaN</td>\n",
       "      <td>Germany</td>\n",
       "      <td>Germany</td>\n",
       "      <td>Frankfurt</td>\n",
       "      <td>Bayern</td>\n",
       "      <td>Onetha Higgs</td>\n",
       "      <td>Amy Alberts</td>\n",
       "      <td>1</td>\n",
       "      <td>2014-02-28</td>\n",
       "      <td>NaN</td>\n",
       "      <td>58</td>\n",
       "      <td>0</td>\n",
       "      <td>0</td>\n",
       "      <td>NaN</td>\n",
       "      <td>NaN</td>\n",
       "      <td>NaN</td>\n",
       "      <td>2</td>\n",
       "      <td>117</td>\n",
       "    </tr>\n",
       "    <tr>\n",
       "      <th>582</th>\n",
       "      <td>unknown</td>\n",
       "      <td>NaN</td>\n",
       "      <td>NaN</td>\n",
       "      <td>Germany</td>\n",
       "      <td>Germany</td>\n",
       "      <td>Frankfurt</td>\n",
       "      <td>Bayern</td>\n",
       "      <td>Onetha Higgs</td>\n",
       "      <td>Amy Alberts</td>\n",
       "      <td>1</td>\n",
       "      <td>2014-02-28</td>\n",
       "      <td>NaN</td>\n",
       "      <td>564</td>\n",
       "      <td>0</td>\n",
       "      <td>0</td>\n",
       "      <td>NaN</td>\n",
       "      <td>NaN</td>\n",
       "      <td>NaN</td>\n",
       "      <td>1</td>\n",
       "      <td>564</td>\n",
       "    </tr>\n",
       "    <tr>\n",
       "      <th>42825</th>\n",
       "      <td>unknown</td>\n",
       "      <td>NaN</td>\n",
       "      <td>NaN</td>\n",
       "      <td>Germany</td>\n",
       "      <td>Germany</td>\n",
       "      <td>Braunschweig</td>\n",
       "      <td>Nordrhein-Westfalen</td>\n",
       "      <td>Marc Faeber</td>\n",
       "      <td>Rachel Valdez</td>\n",
       "      <td>1</td>\n",
       "      <td>2013-05-30</td>\n",
       "      <td>NaN</td>\n",
       "      <td>58</td>\n",
       "      <td>0</td>\n",
       "      <td>0</td>\n",
       "      <td>NaN</td>\n",
       "      <td>NaN</td>\n",
       "      <td>NaN</td>\n",
       "      <td>2</td>\n",
       "      <td>117</td>\n",
       "    </tr>\n",
       "    <tr>\n",
       "      <th>42826</th>\n",
       "      <td>unknown</td>\n",
       "      <td>NaN</td>\n",
       "      <td>NaN</td>\n",
       "      <td>Germany</td>\n",
       "      <td>Germany</td>\n",
       "      <td>Braunschweig</td>\n",
       "      <td>Nordrhein-Westfalen</td>\n",
       "      <td>Marc Faeber</td>\n",
       "      <td>Rachel Valdez</td>\n",
       "      <td>1</td>\n",
       "      <td>2013-05-30</td>\n",
       "      <td>NaN</td>\n",
       "      <td>564</td>\n",
       "      <td>0</td>\n",
       "      <td>0</td>\n",
       "      <td>NaN</td>\n",
       "      <td>NaN</td>\n",
       "      <td>NaN</td>\n",
       "      <td>2</td>\n",
       "      <td>1,128</td>\n",
       "    </tr>\n",
       "    <tr>\n",
       "      <th>42827</th>\n",
       "      <td>unknown</td>\n",
       "      <td>NaN</td>\n",
       "      <td>NaN</td>\n",
       "      <td>Germany</td>\n",
       "      <td>Germany</td>\n",
       "      <td>Frankfurt</td>\n",
       "      <td>Bayern</td>\n",
       "      <td>Onetha Higgs</td>\n",
       "      <td>Rachel Valdez</td>\n",
       "      <td>1</td>\n",
       "      <td>2013-05-30</td>\n",
       "      <td>NaN</td>\n",
       "      <td>264</td>\n",
       "      <td>0</td>\n",
       "      <td>0</td>\n",
       "      <td>NaN</td>\n",
       "      <td>NaN</td>\n",
       "      <td>NaN</td>\n",
       "      <td>2</td>\n",
       "      <td>528</td>\n",
       "    </tr>\n",
       "  </tbody>\n",
       "</table>\n",
       "</div>"
      ],
      "text/plain": [
       "      category subcategory product territory  country          city                state      customer       employee  ordercount       date  standardcost  unitprice  unitpricediscount  discount  listprice  saleswithstandard  netsales  quantity  sales\n",
       "581    unknown         NaN     NaN   Germany  Germany     Frankfurt               Bayern  Onetha Higgs    Amy Alberts           1 2014-02-28           NaN         58                  0         0        NaN                NaN       NaN         2    117\n",
       "582    unknown         NaN     NaN   Germany  Germany     Frankfurt               Bayern  Onetha Higgs    Amy Alberts           1 2014-02-28           NaN        564                  0         0        NaN                NaN       NaN         1    564\n",
       "42825  unknown         NaN     NaN   Germany  Germany  Braunschweig  Nordrhein-Westfalen   Marc Faeber  Rachel Valdez           1 2013-05-30           NaN         58                  0         0        NaN                NaN       NaN         2    117\n",
       "42826  unknown         NaN     NaN   Germany  Germany  Braunschweig  Nordrhein-Westfalen   Marc Faeber  Rachel Valdez           1 2013-05-30           NaN        564                  0         0        NaN                NaN       NaN         2  1,128\n",
       "42827  unknown         NaN     NaN   Germany  Germany     Frankfurt               Bayern  Onetha Higgs  Rachel Valdez           1 2013-05-30           NaN        264                  0         0        NaN                NaN       NaN         2    528"
      ]
     },
     "execution_count": 160,
     "metadata": {},
     "output_type": "execute_result"
    }
   ],
   "source": [
    "df.category = df['category'].fillna('unknown')      # valid\n",
    "df.fillna({'category':'unknown'}, inplace=True)     # valid\n",
    "df[df.category == 'unknown'].head()"
   ]
  },
  {
   "cell_type": "code",
   "execution_count": 161,
   "metadata": {},
   "outputs": [],
   "source": [
    "df.fillna({'subcategory':'unknown'}, inplace=True)\n"
   ]
  },
  {
   "cell_type": "code",
   "execution_count": 162,
   "metadata": {},
   "outputs": [],
   "source": [
    "df.fillna({'category':0}, inplace=True)\n"
   ]
  },
  {
   "cell_type": "markdown",
   "metadata": {},
   "source": [
    "## selecting values"
   ]
  },
  {
   "cell_type": "code",
   "execution_count": 163,
   "metadata": {},
   "outputs": [
    {
     "data": {
      "text/plain": [
       "array(['Clothing', 'Accessories', 'Components', 'Bikes', 'unknown'],\n",
       "      dtype=object)"
      ]
     },
     "execution_count": 163,
     "metadata": {},
     "output_type": "execute_result"
    }
   ],
   "source": [
    "df.category.unique()"
   ]
  },
  {
   "cell_type": "code",
   "execution_count": 164,
   "metadata": {},
   "outputs": [
    {
     "data": {
      "text/plain": [
       "np.float64(80487704.17918801)"
      ]
     },
     "execution_count": 164,
     "metadata": {},
     "output_type": "execute_result"
    }
   ],
   "source": [
    "df.sales.sum()"
   ]
  },
  {
   "cell_type": "code",
   "execution_count": 165,
   "metadata": {},
   "outputs": [
    {
     "data": {
      "text/plain": [
       "np.int64(60880)"
      ]
     },
     "execution_count": 165,
     "metadata": {},
     "output_type": "execute_result"
    }
   ],
   "source": [
    "df.quantity.count()"
   ]
  },
  {
   "cell_type": "markdown",
   "metadata": {},
   "source": [
    "## slicing with loc and iloc"
   ]
  },
  {
   "cell_type": "markdown",
   "metadata": {},
   "source": [
    "### select columns and records\n",
    "\n",
    "<blockquote>\n",
    "pass a list of columns to filter columns\n",
    "\n",
    "slice the record containing the resulting columns\n",
    "\n",
    "[from-included:to-excluded]\n",
    "</blockquote>"
   ]
  },
  {
   "cell_type": "code",
   "execution_count": 166,
   "metadata": {},
   "outputs": [
    {
     "data": {
      "text/html": [
       "<div>\n",
       "<style scoped>\n",
       "    .dataframe tbody tr th:only-of-type {\n",
       "        vertical-align: middle;\n",
       "    }\n",
       "\n",
       "    .dataframe tbody tr th {\n",
       "        vertical-align: top;\n",
       "    }\n",
       "\n",
       "    .dataframe thead th {\n",
       "        text-align: right;\n",
       "    }\n",
       "</style>\n",
       "<table border=\"1\" class=\"dataframe\">\n",
       "  <thead>\n",
       "    <tr style=\"text-align: right;\">\n",
       "      <th></th>\n",
       "      <th>category</th>\n",
       "      <th>date</th>\n",
       "      <th>sales</th>\n",
       "    </tr>\n",
       "  </thead>\n",
       "  <tbody>\n",
       "    <tr>\n",
       "      <th>10</th>\n",
       "      <td>Clothing</td>\n",
       "      <td>2012-06-30</td>\n",
       "      <td>42</td>\n",
       "    </tr>\n",
       "    <tr>\n",
       "      <th>11</th>\n",
       "      <td>Components</td>\n",
       "      <td>2012-06-30</td>\n",
       "      <td>826</td>\n",
       "    </tr>\n",
       "    <tr>\n",
       "      <th>12</th>\n",
       "      <td>Components</td>\n",
       "      <td>2012-06-30</td>\n",
       "      <td>150</td>\n",
       "    </tr>\n",
       "  </tbody>\n",
       "</table>\n",
       "</div>"
      ],
      "text/plain": [
       "      category       date  sales\n",
       "10    Clothing 2012-06-30     42\n",
       "11  Components 2012-06-30    826\n",
       "12  Components 2012-06-30    150"
      ]
     },
     "execution_count": 166,
     "metadata": {},
     "output_type": "execute_result"
    }
   ],
   "source": [
    "df[['category', 'date', 'sales']][10:13]"
   ]
  },
  {
   "cell_type": "markdown",
   "metadata": {},
   "source": [
    "> deprecated in pandas 3.0"
   ]
  },
  {
   "cell_type": "code",
   "execution_count": 167,
   "metadata": {},
   "outputs": [
    {
     "name": "stderr",
     "output_type": "stream",
     "text": [
      "/var/folders/l0/1vskk_85141bwjr9lhpxwv1r0000gn/T/ipykernel_28178/48478257.py:1: FutureWarning: ChainedAssignmentError: behaviour will change in pandas 3.0!\n",
      "You are setting values through chained assignment. Currently this works in certain cases, but when using Copy-on-Write (which will become the default behaviour in pandas 3.0) this will never work to update the original DataFrame or Series, because the intermediate object on which we are setting values will behave as a copy.\n",
      "A typical example is when you are setting values in a column of a DataFrame, like:\n",
      "\n",
      "df[\"col\"][row_indexer] = value\n",
      "\n",
      "Use `df.loc[row_indexer, \"col\"] = values` instead, to perform the assignment in a single step and ensure this keeps updating the original `df`.\n",
      "\n",
      "See the caveats in the documentation: https://pandas.pydata.org/pandas-docs/stable/user_guide/indexing.html#returning-a-view-versus-a-copy\n",
      "\n",
      "  df[10:13]['category'] = df[10:13]['category'].str.lower()     # deprecated in pandas 3.0\n",
      "/var/folders/l0/1vskk_85141bwjr9lhpxwv1r0000gn/T/ipykernel_28178/48478257.py:1: SettingWithCopyWarning: \n",
      "A value is trying to be set on a copy of a slice from a DataFrame.\n",
      "Try using .loc[row_indexer,col_indexer] = value instead\n",
      "\n",
      "See the caveats in the documentation: https://pandas.pydata.org/pandas-docs/stable/user_guide/indexing.html#returning-a-view-versus-a-copy\n",
      "  df[10:13]['category'] = df[10:13]['category'].str.lower()     # deprecated in pandas 3.0\n"
     ]
    }
   ],
   "source": [
    "df[10:13]['category'] = df[10:13]['category'].str.lower()     # deprecated in pandas 3.0\n"
   ]
  },
  {
   "cell_type": "code",
   "execution_count": 168,
   "metadata": {},
   "outputs": [
    {
     "data": {
      "text/plain": [
       "10      clothing\n",
       "11    components\n",
       "12    components\n",
       "Name: category, dtype: object"
      ]
     },
     "execution_count": 168,
     "metadata": {},
     "output_type": "execute_result"
    }
   ],
   "source": [
    "# Use `df.loc[row_indexer, \"col\"] = values` instead, to perform the assignment in a single step and ensure this keeps updating the original `df`.\n",
    "df.loc[10:13, 'category'] = df.loc[10:13, 'category'].str.lower()\n",
    "df[10:13]['category']"
   ]
  },
  {
   "cell_type": "code",
   "execution_count": 169,
   "metadata": {},
   "outputs": [
    {
     "data": {
      "text/html": [
       "<div>\n",
       "<style scoped>\n",
       "    .dataframe tbody tr th:only-of-type {\n",
       "        vertical-align: middle;\n",
       "    }\n",
       "\n",
       "    .dataframe tbody tr th {\n",
       "        vertical-align: top;\n",
       "    }\n",
       "\n",
       "    .dataframe thead th {\n",
       "        text-align: right;\n",
       "    }\n",
       "</style>\n",
       "<table border=\"1\" class=\"dataframe\">\n",
       "  <thead>\n",
       "    <tr style=\"text-align: right;\">\n",
       "      <th></th>\n",
       "      <th>category</th>\n",
       "      <th>subcategory</th>\n",
       "      <th>product</th>\n",
       "      <th>territory</th>\n",
       "      <th>country</th>\n",
       "      <th>city</th>\n",
       "      <th>state</th>\n",
       "      <th>customer</th>\n",
       "      <th>employee</th>\n",
       "      <th>ordercount</th>\n",
       "      <th>date</th>\n",
       "      <th>standardcost</th>\n",
       "      <th>unitprice</th>\n",
       "      <th>unitpricediscount</th>\n",
       "      <th>discount</th>\n",
       "      <th>listprice</th>\n",
       "      <th>saleswithstandard</th>\n",
       "      <th>netsales</th>\n",
       "      <th>quantity</th>\n",
       "      <th>sales</th>\n",
       "    </tr>\n",
       "  </thead>\n",
       "  <tbody>\n",
       "    <tr>\n",
       "      <th>0</th>\n",
       "      <td>Clothing</td>\n",
       "      <td>Caps</td>\n",
       "      <td>AWC Logo Cap</td>\n",
       "      <td>United Kingdom</td>\n",
       "      <td>United Kingdom</td>\n",
       "      <td>Berks</td>\n",
       "      <td>England</td>\n",
       "      <td>Gary Suess</td>\n",
       "      <td>Amy Alberts</td>\n",
       "      <td>1</td>\n",
       "      <td>2012-06-30</td>\n",
       "      <td>7</td>\n",
       "      <td>5</td>\n",
       "      <td>0</td>\n",
       "      <td>1</td>\n",
       "      <td>9</td>\n",
       "      <td>97</td>\n",
       "      <td>-28</td>\n",
       "      <td>14</td>\n",
       "      <td>69</td>\n",
       "    </tr>\n",
       "    <tr>\n",
       "      <th>1</th>\n",
       "      <td>Accessories</td>\n",
       "      <td>Locks</td>\n",
       "      <td>Cable Lock</td>\n",
       "      <td>United Kingdom</td>\n",
       "      <td>United Kingdom</td>\n",
       "      <td>Berks</td>\n",
       "      <td>England</td>\n",
       "      <td>Gary Suess</td>\n",
       "      <td>Amy Alberts</td>\n",
       "      <td>1</td>\n",
       "      <td>2012-06-30</td>\n",
       "      <td>10</td>\n",
       "      <td>15</td>\n",
       "      <td>0</td>\n",
       "      <td>0</td>\n",
       "      <td>25</td>\n",
       "      <td>62</td>\n",
       "      <td>28</td>\n",
       "      <td>6</td>\n",
       "      <td>90</td>\n",
       "    </tr>\n",
       "    <tr>\n",
       "      <th>2</th>\n",
       "      <td>Clothing</td>\n",
       "      <td>Gloves</td>\n",
       "      <td>Full-Finger Gloves, L</td>\n",
       "      <td>United Kingdom</td>\n",
       "      <td>United Kingdom</td>\n",
       "      <td>Berks</td>\n",
       "      <td>England</td>\n",
       "      <td>Gary Suess</td>\n",
       "      <td>Amy Alberts</td>\n",
       "      <td>1</td>\n",
       "      <td>2012-06-30</td>\n",
       "      <td>16</td>\n",
       "      <td>23</td>\n",
       "      <td>0</td>\n",
       "      <td>0</td>\n",
       "      <td>38</td>\n",
       "      <td>125</td>\n",
       "      <td>57</td>\n",
       "      <td>8</td>\n",
       "      <td>182</td>\n",
       "    </tr>\n",
       "    <tr>\n",
       "      <th>3</th>\n",
       "      <td>Clothing</td>\n",
       "      <td>Gloves</td>\n",
       "      <td>Full-Finger Gloves, L</td>\n",
       "      <td>United Kingdom</td>\n",
       "      <td>United Kingdom</td>\n",
       "      <td>London</td>\n",
       "      <td>England</td>\n",
       "      <td>Linda Martin</td>\n",
       "      <td>Amy Alberts</td>\n",
       "      <td>1</td>\n",
       "      <td>2012-06-30</td>\n",
       "      <td>16</td>\n",
       "      <td>21</td>\n",
       "      <td>0</td>\n",
       "      <td>17</td>\n",
       "      <td>38</td>\n",
       "      <td>251</td>\n",
       "      <td>67</td>\n",
       "      <td>16</td>\n",
       "      <td>318</td>\n",
       "    </tr>\n",
       "    <tr>\n",
       "      <th>4</th>\n",
       "      <td>Clothing</td>\n",
       "      <td>Gloves</td>\n",
       "      <td>Full-Finger Gloves, M</td>\n",
       "      <td>United Kingdom</td>\n",
       "      <td>United Kingdom</td>\n",
       "      <td>Berks</td>\n",
       "      <td>England</td>\n",
       "      <td>Gary Suess</td>\n",
       "      <td>Amy Alberts</td>\n",
       "      <td>1</td>\n",
       "      <td>2012-06-30</td>\n",
       "      <td>16</td>\n",
       "      <td>23</td>\n",
       "      <td>0</td>\n",
       "      <td>0</td>\n",
       "      <td>38</td>\n",
       "      <td>110</td>\n",
       "      <td>50</td>\n",
       "      <td>7</td>\n",
       "      <td>160</td>\n",
       "    </tr>\n",
       "  </tbody>\n",
       "</table>\n",
       "</div>"
      ],
      "text/plain": [
       "      category subcategory                product       territory         country    city    state      customer     employee  ordercount       date  standardcost  unitprice  unitpricediscount  discount  listprice  saleswithstandard  netsales  quantity  sales\n",
       "0     Clothing        Caps           AWC Logo Cap  United Kingdom  United Kingdom   Berks  England    Gary Suess  Amy Alberts           1 2012-06-30             7          5                  0         1          9                 97       -28        14     69\n",
       "1  Accessories       Locks             Cable Lock  United Kingdom  United Kingdom   Berks  England    Gary Suess  Amy Alberts           1 2012-06-30            10         15                  0         0         25                 62        28         6     90\n",
       "2     Clothing      Gloves  Full-Finger Gloves, L  United Kingdom  United Kingdom   Berks  England    Gary Suess  Amy Alberts           1 2012-06-30            16         23                  0         0         38                125        57         8    182\n",
       "3     Clothing      Gloves  Full-Finger Gloves, L  United Kingdom  United Kingdom  London  England  Linda Martin  Amy Alberts           1 2012-06-30            16         21                  0        17         38                251        67        16    318\n",
       "4     Clothing      Gloves  Full-Finger Gloves, M  United Kingdom  United Kingdom   Berks  England    Gary Suess  Amy Alberts           1 2012-06-30            16         23                  0         0         38                110        50         7    160"
      ]
     },
     "execution_count": 169,
     "metadata": {},
     "output_type": "execute_result"
    }
   ],
   "source": [
    "df.head()"
   ]
  },
  {
   "cell_type": "code",
   "execution_count": 170,
   "metadata": {},
   "outputs": [
    {
     "data": {
      "text/plain": [
       "'Clothing'"
      ]
     },
     "execution_count": 170,
     "metadata": {},
     "output_type": "execute_result"
    }
   ],
   "source": [
    "df.loc[0, 'category']"
   ]
  },
  {
   "cell_type": "markdown",
   "metadata": {},
   "source": [
    "### set display width"
   ]
  },
  {
   "cell_type": "code",
   "execution_count": 171,
   "metadata": {},
   "outputs": [
    {
     "data": {
      "text/plain": [
       "1000"
      ]
     },
     "execution_count": 171,
     "metadata": {},
     "output_type": "execute_result"
    }
   ],
   "source": [
    "pd.options.display.width    # 80"
   ]
  },
  {
   "cell_type": "code",
   "execution_count": 172,
   "metadata": {},
   "outputs": [],
   "source": [
    "pd.options.display.width = 1000"
   ]
  },
  {
   "cell_type": "code",
   "execution_count": 173,
   "metadata": {},
   "outputs": [
    {
     "name": "stdout",
     "output_type": "stream",
     "text": [
      "10\n",
      "clothing\n",
      "11\n",
      "components\n",
      "12\n",
      "components\n",
      "13\n",
      "components\n"
     ]
    }
   ],
   "source": [
    "for index, row in df.loc[10:13].iterrows():\n",
    "    print(index)\n",
    "    row:pd.Series\n",
    "    # print(row.to_frame().T)\n",
    "    print(row['category'])"
   ]
  },
  {
   "cell_type": "markdown",
   "metadata": {},
   "source": [
    "## create a new column"
   ]
  },
  {
   "cell_type": "code",
   "execution_count": 195,
   "metadata": {},
   "outputs": [],
   "source": [
    "pd.options.display.width = 220"
   ]
  },
  {
   "cell_type": "code",
   "execution_count": 197,
   "metadata": {},
   "outputs": [
    {
     "data": {
      "text/plain": [
       "Index(['category', 'subcategory', 'product', 'territory', 'country', 'city', 'state', 'customer', 'employee', 'ordercount', 'date', 'standardcost', 'unitprice', 'unitpricediscount', 'discount', 'listprice',\n",
       "       'saleswithstandard', 'netsales', 'quantity', 'sales'],\n",
       "      dtype='object')"
      ]
     },
     "execution_count": 197,
     "metadata": {},
     "output_type": "execute_result"
    }
   ],
   "source": [
    "df.columns\n"
   ]
  },
  {
   "cell_type": "code",
   "execution_count": 201,
   "metadata": {},
   "outputs": [
    {
     "data": {
      "text/plain": [
       "array(['United Kingdom', 'France', 'Germany', 'Northwest', 'Canada',\n",
       "       'Central', 'Southwest', 'Northeast', 'Southeast', 'Australia'],\n",
       "      dtype=object)"
      ]
     },
     "execution_count": 201,
     "metadata": {},
     "output_type": "execute_result"
    }
   ],
   "source": [
    "df.loc[:,'territory'].unique()"
   ]
  },
  {
   "cell_type": "code",
   "execution_count": 203,
   "metadata": {},
   "outputs": [
    {
     "data": {
      "text/html": [
       "<div>\n",
       "<style scoped>\n",
       "    .dataframe tbody tr th:only-of-type {\n",
       "        vertical-align: middle;\n",
       "    }\n",
       "\n",
       "    .dataframe tbody tr th {\n",
       "        vertical-align: top;\n",
       "    }\n",
       "\n",
       "    .dataframe thead th {\n",
       "        text-align: right;\n",
       "    }\n",
       "</style>\n",
       "<table border=\"1\" class=\"dataframe\">\n",
       "  <thead>\n",
       "    <tr style=\"text-align: right;\">\n",
       "      <th></th>\n",
       "      <th>category</th>\n",
       "      <th>subcategory</th>\n",
       "      <th>product</th>\n",
       "      <th>territory</th>\n",
       "      <th>country</th>\n",
       "      <th>city</th>\n",
       "      <th>state</th>\n",
       "      <th>customer</th>\n",
       "      <th>employee</th>\n",
       "      <th>ordercount</th>\n",
       "      <th>date</th>\n",
       "      <th>standardcost</th>\n",
       "      <th>unitprice</th>\n",
       "      <th>unitpricediscount</th>\n",
       "      <th>discount</th>\n",
       "      <th>listprice</th>\n",
       "      <th>saleswithstandard</th>\n",
       "      <th>netsales</th>\n",
       "      <th>quantity</th>\n",
       "      <th>sales</th>\n",
       "      <th>region</th>\n",
       "    </tr>\n",
       "  </thead>\n",
       "  <tbody>\n",
       "    <tr>\n",
       "      <th>0</th>\n",
       "      <td>Clothing</td>\n",
       "      <td>Caps</td>\n",
       "      <td>AWC Logo Cap</td>\n",
       "      <td>United Kingdom</td>\n",
       "      <td>United Kingdom</td>\n",
       "      <td>Berks</td>\n",
       "      <td>England</td>\n",
       "      <td>Gary Suess</td>\n",
       "      <td>Amy Alberts</td>\n",
       "      <td>1</td>\n",
       "      <td>2012-06-30 00:00:00</td>\n",
       "      <td>7</td>\n",
       "      <td>5</td>\n",
       "      <td>0</td>\n",
       "      <td>1</td>\n",
       "      <td>9</td>\n",
       "      <td>97</td>\n",
       "      <td>-28</td>\n",
       "      <td>14</td>\n",
       "      <td>69</td>\n",
       "      <td>Europe</td>\n",
       "    </tr>\n",
       "    <tr>\n",
       "      <th>1</th>\n",
       "      <td>Accessories</td>\n",
       "      <td>Locks</td>\n",
       "      <td>Cable Lock</td>\n",
       "      <td>United Kingdom</td>\n",
       "      <td>United Kingdom</td>\n",
       "      <td>Berks</td>\n",
       "      <td>England</td>\n",
       "      <td>Gary Suess</td>\n",
       "      <td>Amy Alberts</td>\n",
       "      <td>1</td>\n",
       "      <td>2012-06-30 00:00:00</td>\n",
       "      <td>10</td>\n",
       "      <td>15</td>\n",
       "      <td>0</td>\n",
       "      <td>0</td>\n",
       "      <td>25</td>\n",
       "      <td>62</td>\n",
       "      <td>28</td>\n",
       "      <td>6</td>\n",
       "      <td>90</td>\n",
       "      <td>Europe</td>\n",
       "    </tr>\n",
       "    <tr>\n",
       "      <th>2</th>\n",
       "      <td>Clothing</td>\n",
       "      <td>Gloves</td>\n",
       "      <td>Full-Finger Gloves, L</td>\n",
       "      <td>United Kingdom</td>\n",
       "      <td>United Kingdom</td>\n",
       "      <td>Berks</td>\n",
       "      <td>England</td>\n",
       "      <td>Gary Suess</td>\n",
       "      <td>Amy Alberts</td>\n",
       "      <td>1</td>\n",
       "      <td>2012-06-30 00:00:00</td>\n",
       "      <td>16</td>\n",
       "      <td>23</td>\n",
       "      <td>0</td>\n",
       "      <td>0</td>\n",
       "      <td>38</td>\n",
       "      <td>125</td>\n",
       "      <td>57</td>\n",
       "      <td>8</td>\n",
       "      <td>182</td>\n",
       "      <td>Europe</td>\n",
       "    </tr>\n",
       "    <tr>\n",
       "      <th>3</th>\n",
       "      <td>Clothing</td>\n",
       "      <td>Gloves</td>\n",
       "      <td>Full-Finger Gloves, L</td>\n",
       "      <td>United Kingdom</td>\n",
       "      <td>United Kingdom</td>\n",
       "      <td>London</td>\n",
       "      <td>England</td>\n",
       "      <td>Linda Martin</td>\n",
       "      <td>Amy Alberts</td>\n",
       "      <td>1</td>\n",
       "      <td>2012-06-30 00:00:00</td>\n",
       "      <td>16</td>\n",
       "      <td>21</td>\n",
       "      <td>0</td>\n",
       "      <td>17</td>\n",
       "      <td>38</td>\n",
       "      <td>251</td>\n",
       "      <td>67</td>\n",
       "      <td>16</td>\n",
       "      <td>318</td>\n",
       "      <td>Europe</td>\n",
       "    </tr>\n",
       "    <tr>\n",
       "      <th>4</th>\n",
       "      <td>Clothing</td>\n",
       "      <td>Gloves</td>\n",
       "      <td>Full-Finger Gloves, M</td>\n",
       "      <td>United Kingdom</td>\n",
       "      <td>United Kingdom</td>\n",
       "      <td>Berks</td>\n",
       "      <td>England</td>\n",
       "      <td>Gary Suess</td>\n",
       "      <td>Amy Alberts</td>\n",
       "      <td>1</td>\n",
       "      <td>2012-06-30 00:00:00</td>\n",
       "      <td>16</td>\n",
       "      <td>23</td>\n",
       "      <td>0</td>\n",
       "      <td>0</td>\n",
       "      <td>38</td>\n",
       "      <td>110</td>\n",
       "      <td>50</td>\n",
       "      <td>7</td>\n",
       "      <td>160</td>\n",
       "      <td>Europe</td>\n",
       "    </tr>\n",
       "    <tr>\n",
       "      <th>...</th>\n",
       "      <td>...</td>\n",
       "      <td>...</td>\n",
       "      <td>...</td>\n",
       "      <td>...</td>\n",
       "      <td>...</td>\n",
       "      <td>...</td>\n",
       "      <td>...</td>\n",
       "      <td>...</td>\n",
       "      <td>...</td>\n",
       "      <td>...</td>\n",
       "      <td>...</td>\n",
       "      <td>...</td>\n",
       "      <td>...</td>\n",
       "      <td>...</td>\n",
       "      <td>...</td>\n",
       "      <td>...</td>\n",
       "      <td>...</td>\n",
       "      <td>...</td>\n",
       "      <td>...</td>\n",
       "      <td>...</td>\n",
       "      <td>...</td>\n",
       "    </tr>\n",
       "    <tr>\n",
       "      <th>60876</th>\n",
       "      <td>Clothing</td>\n",
       "      <td>Shorts</td>\n",
       "      <td>Women's Mountain Shorts, L</td>\n",
       "      <td>Southeast</td>\n",
       "      <td>United States</td>\n",
       "      <td>Miami</td>\n",
       "      <td>Florida</td>\n",
       "      <td>Stephanie Conroy</td>\n",
       "      <td>Tsvi Reiter</td>\n",
       "      <td>1</td>\n",
       "      <td>2014-05-01 00:00:00</td>\n",
       "      <td>26</td>\n",
       "      <td>42</td>\n",
       "      <td>0</td>\n",
       "      <td>0</td>\n",
       "      <td>70</td>\n",
       "      <td>157</td>\n",
       "      <td>95</td>\n",
       "      <td>6</td>\n",
       "      <td>252</td>\n",
       "      <td>Americas</td>\n",
       "    </tr>\n",
       "    <tr>\n",
       "      <th>60877</th>\n",
       "      <td>Clothing</td>\n",
       "      <td>Shorts</td>\n",
       "      <td>Women's Mountain Shorts, M</td>\n",
       "      <td>Southeast</td>\n",
       "      <td>United States</td>\n",
       "      <td>Decatur</td>\n",
       "      <td>Georgia</td>\n",
       "      <td>Pamela Cox</td>\n",
       "      <td>Tsvi Reiter</td>\n",
       "      <td>1</td>\n",
       "      <td>2014-05-01 00:00:00</td>\n",
       "      <td>26</td>\n",
       "      <td>42</td>\n",
       "      <td>0</td>\n",
       "      <td>0</td>\n",
       "      <td>70</td>\n",
       "      <td>79</td>\n",
       "      <td>47</td>\n",
       "      <td>3</td>\n",
       "      <td>126</td>\n",
       "      <td>Americas</td>\n",
       "    </tr>\n",
       "    <tr>\n",
       "      <th>60878</th>\n",
       "      <td>Clothing</td>\n",
       "      <td>Shorts</td>\n",
       "      <td>Women's Mountain Shorts, S</td>\n",
       "      <td>Southeast</td>\n",
       "      <td>United States</td>\n",
       "      <td>Decatur</td>\n",
       "      <td>Georgia</td>\n",
       "      <td>Pamela Cox</td>\n",
       "      <td>Tsvi Reiter</td>\n",
       "      <td>1</td>\n",
       "      <td>2014-05-01 00:00:00</td>\n",
       "      <td>26</td>\n",
       "      <td>42</td>\n",
       "      <td>0</td>\n",
       "      <td>0</td>\n",
       "      <td>70</td>\n",
       "      <td>131</td>\n",
       "      <td>79</td>\n",
       "      <td>5</td>\n",
       "      <td>210</td>\n",
       "      <td>Americas</td>\n",
       "    </tr>\n",
       "    <tr>\n",
       "      <th>60879</th>\n",
       "      <td>Clothing</td>\n",
       "      <td>Shorts</td>\n",
       "      <td>Women's Mountain Shorts, S</td>\n",
       "      <td>Southeast</td>\n",
       "      <td>United States</td>\n",
       "      <td>Miami</td>\n",
       "      <td>Florida</td>\n",
       "      <td>Stephanie Conroy</td>\n",
       "      <td>Tsvi Reiter</td>\n",
       "      <td>1</td>\n",
       "      <td>2014-05-01 00:00:00</td>\n",
       "      <td>26</td>\n",
       "      <td>42</td>\n",
       "      <td>0</td>\n",
       "      <td>0</td>\n",
       "      <td>70</td>\n",
       "      <td>79</td>\n",
       "      <td>47</td>\n",
       "      <td>3</td>\n",
       "      <td>126</td>\n",
       "      <td>Americas</td>\n",
       "    </tr>\n",
       "    <tr>\n",
       "      <th>region</th>\n",
       "      <td>Americas</td>\n",
       "      <td>Americas</td>\n",
       "      <td>Americas</td>\n",
       "      <td>Americas</td>\n",
       "      <td>Americas</td>\n",
       "      <td>Americas</td>\n",
       "      <td>Americas</td>\n",
       "      <td>Americas</td>\n",
       "      <td>Americas</td>\n",
       "      <td>Americas</td>\n",
       "      <td>Americas</td>\n",
       "      <td>Americas</td>\n",
       "      <td>Americas</td>\n",
       "      <td>Americas</td>\n",
       "      <td>Americas</td>\n",
       "      <td>Americas</td>\n",
       "      <td>Americas</td>\n",
       "      <td>Americas</td>\n",
       "      <td>Americas</td>\n",
       "      <td>Americas</td>\n",
       "      <td>Australia</td>\n",
       "    </tr>\n",
       "  </tbody>\n",
       "</table>\n",
       "<p>60881 rows × 21 columns</p>\n",
       "</div>"
      ],
      "text/plain": [
       "           category subcategory                     product       territory         country      city     state          customer     employee ordercount                 date standardcost unitprice unitpricediscount  \\\n",
       "0          Clothing        Caps                AWC Logo Cap  United Kingdom  United Kingdom     Berks   England        Gary Suess  Amy Alberts          1  2012-06-30 00:00:00            7         5                 0   \n",
       "1       Accessories       Locks                  Cable Lock  United Kingdom  United Kingdom     Berks   England        Gary Suess  Amy Alberts          1  2012-06-30 00:00:00           10        15                 0   \n",
       "2          Clothing      Gloves       Full-Finger Gloves, L  United Kingdom  United Kingdom     Berks   England        Gary Suess  Amy Alberts          1  2012-06-30 00:00:00           16        23                 0   \n",
       "3          Clothing      Gloves       Full-Finger Gloves, L  United Kingdom  United Kingdom    London   England      Linda Martin  Amy Alberts          1  2012-06-30 00:00:00           16        21                 0   \n",
       "4          Clothing      Gloves       Full-Finger Gloves, M  United Kingdom  United Kingdom     Berks   England        Gary Suess  Amy Alberts          1  2012-06-30 00:00:00           16        23                 0   \n",
       "...             ...         ...                         ...             ...             ...       ...       ...               ...          ...        ...                  ...          ...       ...               ...   \n",
       "60876      Clothing      Shorts  Women's Mountain Shorts, L       Southeast   United States     Miami   Florida  Stephanie Conroy  Tsvi Reiter          1  2014-05-01 00:00:00           26        42                 0   \n",
       "60877      Clothing      Shorts  Women's Mountain Shorts, M       Southeast   United States   Decatur   Georgia        Pamela Cox  Tsvi Reiter          1  2014-05-01 00:00:00           26        42                 0   \n",
       "60878      Clothing      Shorts  Women's Mountain Shorts, S       Southeast   United States   Decatur   Georgia        Pamela Cox  Tsvi Reiter          1  2014-05-01 00:00:00           26        42                 0   \n",
       "60879      Clothing      Shorts  Women's Mountain Shorts, S       Southeast   United States     Miami   Florida  Stephanie Conroy  Tsvi Reiter          1  2014-05-01 00:00:00           26        42                 0   \n",
       "region     Americas    Americas                    Americas        Americas        Americas  Americas  Americas          Americas     Americas   Americas             Americas     Americas  Americas          Americas   \n",
       "\n",
       "        discount listprice saleswithstandard  netsales  quantity     sales     region  \n",
       "0              1         9                97       -28        14        69     Europe  \n",
       "1              0        25                62        28         6        90     Europe  \n",
       "2              0        38               125        57         8       182     Europe  \n",
       "3             17        38               251        67        16       318     Europe  \n",
       "4              0        38               110        50         7       160     Europe  \n",
       "...          ...       ...               ...       ...       ...       ...        ...  \n",
       "60876          0        70               157        95         6       252   Americas  \n",
       "60877          0        70                79        47         3       126   Americas  \n",
       "60878          0        70               131        79         5       210   Americas  \n",
       "60879          0        70                79        47         3       126   Americas  \n",
       "region  Americas  Americas          Americas  Americas  Americas  Americas  Australia  \n",
       "\n",
       "[60881 rows x 21 columns]"
      ]
     },
     "execution_count": 203,
     "metadata": {},
     "output_type": "execute_result"
    }
   ],
   "source": [
    "AMERICAS = ['Northwest', 'Canada', 'Central', 'Southwest', 'Northeast', 'Southeast']\n",
    "EUROPE = ['United Kingdom', 'France', 'Germany']\n",
    "for index, row in df.iterrows():\n",
    "    if row['territory'] in AMERICAS:\n",
    "        df.loc[index, 'region'] = 'Americas'\n",
    "    elif row['territory'] in EUROPE:\n",
    "        df.loc[index, 'region'] = 'Europe'\n",
    "    else:\n",
    "        df.loc[index, 'region'] = 'Australia'\n",
    "df"
   ]
  },
  {
   "cell_type": "markdown",
   "metadata": {},
   "source": [
    "\n",
    "\n",
    "\n",
    "\n",
    "\n",
    "\n",
    "# BREAK\n",
    "<br/>\n",
    "<br/>\n",
    "<br/>\n",
    "<br/>\n",
    "<br/>\n",
    "<br/>\n",
    "<br/>\n",
    "<br/>\n",
    "<br/>\n",
    "<br/>\n",
    "<br/>\n",
    "<br/>\n",
    "<br/>\n",
    "<br/>\n",
    "<br/>\n",
    "<br/>\n",
    "<br/>\n",
    "<br/>\n",
    "<br/>\n",
    "<br/>\n",
    "<br/>\n",
    "<br/>\n",
    "<br/>\n",
    "\n",
    "---\n"
   ]
  },
  {
   "cell_type": "markdown",
   "metadata": {},
   "source": [
    "# test loc syntax"
   ]
  },
  {
   "cell_type": "markdown",
   "metadata": {},
   "source": [
    "### single row\n",
    ">use index position\n",
    "\n",
    "> returns a series"
   ]
  },
  {
   "cell_type": "code",
   "execution_count": 175,
   "metadata": {},
   "outputs": [
    {
     "data": {
      "text/plain": [
       "pandas.core.series.Series"
      ]
     },
     "execution_count": 175,
     "metadata": {},
     "output_type": "execute_result"
    }
   ],
   "source": [
    "single_row = df.loc[10]\n",
    "type(single_row)\n"
   ]
  },
  {
   "cell_type": "code",
   "execution_count": 176,
   "metadata": {},
   "outputs": [
    {
     "data": {
      "text/plain": [
       "category                          clothing\n",
       "subcategory                         Gloves\n",
       "product              Half-Finger Gloves, S\n",
       "territory                   United Kingdom\n",
       "country                     United Kingdom\n",
       "city                                 Berks\n",
       "state                              England\n",
       "customer                        Gary Suess\n",
       "employee                       Amy Alberts\n",
       "ordercount                               1\n",
       "date                   2012-06-30 00:00:00\n",
       "standardcost                             9\n",
       "unitprice                               14\n",
       "unitpricediscount                        0\n",
       "discount                                 0\n",
       "listprice                               24\n",
       "saleswithstandard                       27\n",
       "netsales                                15\n",
       "quantity                                 3\n",
       "sales                                   42\n",
       "Name: 10, dtype: object"
      ]
     },
     "execution_count": 176,
     "metadata": {},
     "output_type": "execute_result"
    }
   ],
   "source": [
    "single_row"
   ]
  },
  {
   "cell_type": "markdown",
   "metadata": {},
   "source": [
    "### slice of rows\n",
    "> use start and stop indexes\n",
    "\n",
    "> returns dataframe with both start and stop included"
   ]
  },
  {
   "cell_type": "code",
   "execution_count": 177,
   "metadata": {},
   "outputs": [
    {
     "data": {
      "text/plain": [
       "pandas.core.frame.DataFrame"
      ]
     },
     "execution_count": 177,
     "metadata": {},
     "output_type": "execute_result"
    }
   ],
   "source": [
    "rows = df.loc[0:5]\n",
    "type(rows)\n"
   ]
  },
  {
   "cell_type": "code",
   "execution_count": 178,
   "metadata": {},
   "outputs": [
    {
     "data": {
      "text/html": [
       "<div>\n",
       "<style scoped>\n",
       "    .dataframe tbody tr th:only-of-type {\n",
       "        vertical-align: middle;\n",
       "    }\n",
       "\n",
       "    .dataframe tbody tr th {\n",
       "        vertical-align: top;\n",
       "    }\n",
       "\n",
       "    .dataframe thead th {\n",
       "        text-align: right;\n",
       "    }\n",
       "</style>\n",
       "<table border=\"1\" class=\"dataframe\">\n",
       "  <thead>\n",
       "    <tr style=\"text-align: right;\">\n",
       "      <th></th>\n",
       "      <th>category</th>\n",
       "      <th>subcategory</th>\n",
       "      <th>product</th>\n",
       "      <th>territory</th>\n",
       "      <th>country</th>\n",
       "      <th>city</th>\n",
       "      <th>state</th>\n",
       "      <th>customer</th>\n",
       "      <th>employee</th>\n",
       "      <th>ordercount</th>\n",
       "      <th>date</th>\n",
       "      <th>standardcost</th>\n",
       "      <th>unitprice</th>\n",
       "      <th>unitpricediscount</th>\n",
       "      <th>discount</th>\n",
       "      <th>listprice</th>\n",
       "      <th>saleswithstandard</th>\n",
       "      <th>netsales</th>\n",
       "      <th>quantity</th>\n",
       "      <th>sales</th>\n",
       "    </tr>\n",
       "  </thead>\n",
       "  <tbody>\n",
       "    <tr>\n",
       "      <th>0</th>\n",
       "      <td>Clothing</td>\n",
       "      <td>Caps</td>\n",
       "      <td>AWC Logo Cap</td>\n",
       "      <td>United Kingdom</td>\n",
       "      <td>United Kingdom</td>\n",
       "      <td>Berks</td>\n",
       "      <td>England</td>\n",
       "      <td>Gary Suess</td>\n",
       "      <td>Amy Alberts</td>\n",
       "      <td>1</td>\n",
       "      <td>2012-06-30</td>\n",
       "      <td>7</td>\n",
       "      <td>5</td>\n",
       "      <td>0</td>\n",
       "      <td>1</td>\n",
       "      <td>9</td>\n",
       "      <td>97</td>\n",
       "      <td>-28</td>\n",
       "      <td>14</td>\n",
       "      <td>69</td>\n",
       "    </tr>\n",
       "    <tr>\n",
       "      <th>1</th>\n",
       "      <td>Accessories</td>\n",
       "      <td>Locks</td>\n",
       "      <td>Cable Lock</td>\n",
       "      <td>United Kingdom</td>\n",
       "      <td>United Kingdom</td>\n",
       "      <td>Berks</td>\n",
       "      <td>England</td>\n",
       "      <td>Gary Suess</td>\n",
       "      <td>Amy Alberts</td>\n",
       "      <td>1</td>\n",
       "      <td>2012-06-30</td>\n",
       "      <td>10</td>\n",
       "      <td>15</td>\n",
       "      <td>0</td>\n",
       "      <td>0</td>\n",
       "      <td>25</td>\n",
       "      <td>62</td>\n",
       "      <td>28</td>\n",
       "      <td>6</td>\n",
       "      <td>90</td>\n",
       "    </tr>\n",
       "    <tr>\n",
       "      <th>2</th>\n",
       "      <td>Clothing</td>\n",
       "      <td>Gloves</td>\n",
       "      <td>Full-Finger Gloves, L</td>\n",
       "      <td>United Kingdom</td>\n",
       "      <td>United Kingdom</td>\n",
       "      <td>Berks</td>\n",
       "      <td>England</td>\n",
       "      <td>Gary Suess</td>\n",
       "      <td>Amy Alberts</td>\n",
       "      <td>1</td>\n",
       "      <td>2012-06-30</td>\n",
       "      <td>16</td>\n",
       "      <td>23</td>\n",
       "      <td>0</td>\n",
       "      <td>0</td>\n",
       "      <td>38</td>\n",
       "      <td>125</td>\n",
       "      <td>57</td>\n",
       "      <td>8</td>\n",
       "      <td>182</td>\n",
       "    </tr>\n",
       "    <tr>\n",
       "      <th>3</th>\n",
       "      <td>Clothing</td>\n",
       "      <td>Gloves</td>\n",
       "      <td>Full-Finger Gloves, L</td>\n",
       "      <td>United Kingdom</td>\n",
       "      <td>United Kingdom</td>\n",
       "      <td>London</td>\n",
       "      <td>England</td>\n",
       "      <td>Linda Martin</td>\n",
       "      <td>Amy Alberts</td>\n",
       "      <td>1</td>\n",
       "      <td>2012-06-30</td>\n",
       "      <td>16</td>\n",
       "      <td>21</td>\n",
       "      <td>0</td>\n",
       "      <td>17</td>\n",
       "      <td>38</td>\n",
       "      <td>251</td>\n",
       "      <td>67</td>\n",
       "      <td>16</td>\n",
       "      <td>318</td>\n",
       "    </tr>\n",
       "    <tr>\n",
       "      <th>4</th>\n",
       "      <td>Clothing</td>\n",
       "      <td>Gloves</td>\n",
       "      <td>Full-Finger Gloves, M</td>\n",
       "      <td>United Kingdom</td>\n",
       "      <td>United Kingdom</td>\n",
       "      <td>Berks</td>\n",
       "      <td>England</td>\n",
       "      <td>Gary Suess</td>\n",
       "      <td>Amy Alberts</td>\n",
       "      <td>1</td>\n",
       "      <td>2012-06-30</td>\n",
       "      <td>16</td>\n",
       "      <td>23</td>\n",
       "      <td>0</td>\n",
       "      <td>0</td>\n",
       "      <td>38</td>\n",
       "      <td>110</td>\n",
       "      <td>50</td>\n",
       "      <td>7</td>\n",
       "      <td>160</td>\n",
       "    </tr>\n",
       "    <tr>\n",
       "      <th>5</th>\n",
       "      <td>Clothing</td>\n",
       "      <td>Gloves</td>\n",
       "      <td>Full-Finger Gloves, M</td>\n",
       "      <td>United Kingdom</td>\n",
       "      <td>United Kingdom</td>\n",
       "      <td>London</td>\n",
       "      <td>England</td>\n",
       "      <td>Linda Martin</td>\n",
       "      <td>Amy Alberts</td>\n",
       "      <td>1</td>\n",
       "      <td>2012-06-30</td>\n",
       "      <td>16</td>\n",
       "      <td>23</td>\n",
       "      <td>0</td>\n",
       "      <td>0</td>\n",
       "      <td>38</td>\n",
       "      <td>31</td>\n",
       "      <td>14</td>\n",
       "      <td>2</td>\n",
       "      <td>46</td>\n",
       "    </tr>\n",
       "  </tbody>\n",
       "</table>\n",
       "</div>"
      ],
      "text/plain": [
       "      category subcategory                product       territory         country    city    state      customer     employee  ordercount       date  standardcost  unitprice  unitpricediscount  discount  listprice  saleswithstandard  netsales  quantity  sales\n",
       "0     Clothing        Caps           AWC Logo Cap  United Kingdom  United Kingdom   Berks  England    Gary Suess  Amy Alberts           1 2012-06-30             7          5                  0         1          9                 97       -28        14     69\n",
       "1  Accessories       Locks             Cable Lock  United Kingdom  United Kingdom   Berks  England    Gary Suess  Amy Alberts           1 2012-06-30            10         15                  0         0         25                 62        28         6     90\n",
       "2     Clothing      Gloves  Full-Finger Gloves, L  United Kingdom  United Kingdom   Berks  England    Gary Suess  Amy Alberts           1 2012-06-30            16         23                  0         0         38                125        57         8    182\n",
       "3     Clothing      Gloves  Full-Finger Gloves, L  United Kingdom  United Kingdom  London  England  Linda Martin  Amy Alberts           1 2012-06-30            16         21                  0        17         38                251        67        16    318\n",
       "4     Clothing      Gloves  Full-Finger Gloves, M  United Kingdom  United Kingdom   Berks  England    Gary Suess  Amy Alberts           1 2012-06-30            16         23                  0         0         38                110        50         7    160\n",
       "5     Clothing      Gloves  Full-Finger Gloves, M  United Kingdom  United Kingdom  London  England  Linda Martin  Amy Alberts           1 2012-06-30            16         23                  0         0         38                 31        14         2     46"
      ]
     },
     "execution_count": 178,
     "metadata": {},
     "output_type": "execute_result"
    }
   ],
   "source": [
    "rows"
   ]
  },
  {
   "cell_type": "markdown",
   "metadata": {},
   "source": [
    "### select rows and one column"
   ]
  },
  {
   "cell_type": "code",
   "execution_count": 179,
   "metadata": {},
   "outputs": [
    {
     "data": {
      "text/plain": [
       "0       Clothing\n",
       "1    Accessories\n",
       "2       Clothing\n",
       "3       Clothing\n",
       "4       Clothing\n",
       "5       Clothing\n",
       "Name: category, dtype: object"
      ]
     },
     "execution_count": 179,
     "metadata": {},
     "output_type": "execute_result"
    }
   ],
   "source": [
    "df.loc[0:5, 'category']"
   ]
  },
  {
   "cell_type": "markdown",
   "metadata": {},
   "source": [
    "### select rows and more columns"
   ]
  },
  {
   "cell_type": "code",
   "execution_count": 180,
   "metadata": {},
   "outputs": [
    {
     "data": {
      "text/html": [
       "<div>\n",
       "<style scoped>\n",
       "    .dataframe tbody tr th:only-of-type {\n",
       "        vertical-align: middle;\n",
       "    }\n",
       "\n",
       "    .dataframe tbody tr th {\n",
       "        vertical-align: top;\n",
       "    }\n",
       "\n",
       "    .dataframe thead th {\n",
       "        text-align: right;\n",
       "    }\n",
       "</style>\n",
       "<table border=\"1\" class=\"dataframe\">\n",
       "  <thead>\n",
       "    <tr style=\"text-align: right;\">\n",
       "      <th></th>\n",
       "      <th>category</th>\n",
       "      <th>listprice</th>\n",
       "    </tr>\n",
       "  </thead>\n",
       "  <tbody>\n",
       "    <tr>\n",
       "      <th>0</th>\n",
       "      <td>Clothing</td>\n",
       "      <td>9</td>\n",
       "    </tr>\n",
       "    <tr>\n",
       "      <th>1</th>\n",
       "      <td>Accessories</td>\n",
       "      <td>25</td>\n",
       "    </tr>\n",
       "    <tr>\n",
       "      <th>2</th>\n",
       "      <td>Clothing</td>\n",
       "      <td>38</td>\n",
       "    </tr>\n",
       "    <tr>\n",
       "      <th>3</th>\n",
       "      <td>Clothing</td>\n",
       "      <td>38</td>\n",
       "    </tr>\n",
       "    <tr>\n",
       "      <th>4</th>\n",
       "      <td>Clothing</td>\n",
       "      <td>38</td>\n",
       "    </tr>\n",
       "    <tr>\n",
       "      <th>5</th>\n",
       "      <td>Clothing</td>\n",
       "      <td>38</td>\n",
       "    </tr>\n",
       "  </tbody>\n",
       "</table>\n",
       "</div>"
      ],
      "text/plain": [
       "      category  listprice\n",
       "0     Clothing          9\n",
       "1  Accessories         25\n",
       "2     Clothing         38\n",
       "3     Clothing         38\n",
       "4     Clothing         38\n",
       "5     Clothing         38"
      ]
     },
     "execution_count": 180,
     "metadata": {},
     "output_type": "execute_result"
    }
   ],
   "source": [
    "df.loc[0:5, ['category', 'listprice']]"
   ]
  },
  {
   "cell_type": "code",
   "execution_count": 181,
   "metadata": {},
   "outputs": [
    {
     "data": {
      "text/plain": [
       "str"
      ]
     },
     "execution_count": 181,
     "metadata": {},
     "output_type": "execute_result"
    }
   ],
   "source": [
    "df[df.category.name]\n",
    "type(df.category.name)"
   ]
  },
  {
   "cell_type": "markdown",
   "metadata": {},
   "source": [
    "### select records\n",
    "\n",
    "<blockquote>\n",
    "slice the dataframe records\n",
    "\n",
    "[from-included:to-excluded]\n",
    "</blockquote>"
   ]
  },
  {
   "cell_type": "code",
   "execution_count": 182,
   "metadata": {},
   "outputs": [
    {
     "data": {
      "text/html": [
       "<div>\n",
       "<style scoped>\n",
       "    .dataframe tbody tr th:only-of-type {\n",
       "        vertical-align: middle;\n",
       "    }\n",
       "\n",
       "    .dataframe tbody tr th {\n",
       "        vertical-align: top;\n",
       "    }\n",
       "\n",
       "    .dataframe thead th {\n",
       "        text-align: right;\n",
       "    }\n",
       "</style>\n",
       "<table border=\"1\" class=\"dataframe\">\n",
       "  <thead>\n",
       "    <tr style=\"text-align: right;\">\n",
       "      <th></th>\n",
       "      <th>category</th>\n",
       "      <th>subcategory</th>\n",
       "      <th>product</th>\n",
       "      <th>territory</th>\n",
       "      <th>country</th>\n",
       "      <th>city</th>\n",
       "      <th>state</th>\n",
       "      <th>customer</th>\n",
       "      <th>employee</th>\n",
       "      <th>ordercount</th>\n",
       "      <th>date</th>\n",
       "      <th>standardcost</th>\n",
       "      <th>unitprice</th>\n",
       "      <th>unitpricediscount</th>\n",
       "      <th>discount</th>\n",
       "      <th>listprice</th>\n",
       "      <th>saleswithstandard</th>\n",
       "      <th>netsales</th>\n",
       "      <th>quantity</th>\n",
       "      <th>sales</th>\n",
       "    </tr>\n",
       "  </thead>\n",
       "  <tbody>\n",
       "    <tr>\n",
       "      <th>10</th>\n",
       "      <td>clothing</td>\n",
       "      <td>Gloves</td>\n",
       "      <td>Half-Finger Gloves, S</td>\n",
       "      <td>United Kingdom</td>\n",
       "      <td>United Kingdom</td>\n",
       "      <td>Berks</td>\n",
       "      <td>England</td>\n",
       "      <td>Gary Suess</td>\n",
       "      <td>Amy Alberts</td>\n",
       "      <td>1</td>\n",
       "      <td>2012-06-30</td>\n",
       "      <td>9</td>\n",
       "      <td>14</td>\n",
       "      <td>0</td>\n",
       "      <td>0</td>\n",
       "      <td>24</td>\n",
       "      <td>27</td>\n",
       "      <td>15</td>\n",
       "      <td>3</td>\n",
       "      <td>42</td>\n",
       "    </tr>\n",
       "    <tr>\n",
       "      <th>11</th>\n",
       "      <td>components</td>\n",
       "      <td>Forks</td>\n",
       "      <td>HL Fork</td>\n",
       "      <td>United Kingdom</td>\n",
       "      <td>United Kingdom</td>\n",
       "      <td>Berks</td>\n",
       "      <td>England</td>\n",
       "      <td>Gary Suess</td>\n",
       "      <td>Amy Alberts</td>\n",
       "      <td>1</td>\n",
       "      <td>2012-06-30</td>\n",
       "      <td>102</td>\n",
       "      <td>138</td>\n",
       "      <td>0</td>\n",
       "      <td>0</td>\n",
       "      <td>229</td>\n",
       "      <td>611</td>\n",
       "      <td>215</td>\n",
       "      <td>6</td>\n",
       "      <td>826</td>\n",
       "    </tr>\n",
       "    <tr>\n",
       "      <th>12</th>\n",
       "      <td>components</td>\n",
       "      <td>Headsets</td>\n",
       "      <td>HL Headset</td>\n",
       "      <td>United Kingdom</td>\n",
       "      <td>United Kingdom</td>\n",
       "      <td>Berks</td>\n",
       "      <td>England</td>\n",
       "      <td>Gary Suess</td>\n",
       "      <td>Amy Alberts</td>\n",
       "      <td>1</td>\n",
       "      <td>2012-06-30</td>\n",
       "      <td>55</td>\n",
       "      <td>75</td>\n",
       "      <td>0</td>\n",
       "      <td>0</td>\n",
       "      <td>125</td>\n",
       "      <td>111</td>\n",
       "      <td>39</td>\n",
       "      <td>2</td>\n",
       "      <td>150</td>\n",
       "    </tr>\n",
       "  </tbody>\n",
       "</table>\n",
       "</div>"
      ],
      "text/plain": [
       "      category subcategory                product       territory         country   city    state    customer     employee  ordercount       date  standardcost  unitprice  unitpricediscount  discount  listprice  saleswithstandard  netsales  quantity  sales\n",
       "10    clothing      Gloves  Half-Finger Gloves, S  United Kingdom  United Kingdom  Berks  England  Gary Suess  Amy Alberts           1 2012-06-30             9         14                  0         0         24                 27        15         3     42\n",
       "11  components       Forks                HL Fork  United Kingdom  United Kingdom  Berks  England  Gary Suess  Amy Alberts           1 2012-06-30           102        138                  0         0        229                611       215         6    826\n",
       "12  components    Headsets             HL Headset  United Kingdom  United Kingdom  Berks  England  Gary Suess  Amy Alberts           1 2012-06-30            55         75                  0         0        125                111        39         2    150"
      ]
     },
     "execution_count": 182,
     "metadata": {},
     "output_type": "execute_result"
    }
   ],
   "source": [
    "df[10:13]"
   ]
  },
  {
   "cell_type": "code",
   "execution_count": 183,
   "metadata": {},
   "outputs": [
    {
     "data": {
      "text/plain": [
       "Index(['category', 'subcategory', 'product', 'territory', 'country', 'city', 'state', 'customer', 'employee', 'ordercount', 'date', 'standardcost', 'unitprice', 'unitpricediscount', 'discount', 'listprice', 'saleswithstandard', 'netsales', 'quantity', 'sales'], dtype='object')"
      ]
     },
     "execution_count": 183,
     "metadata": {},
     "output_type": "execute_result"
    }
   ],
   "source": [
    "df.columns"
   ]
  },
  {
   "cell_type": "markdown",
   "metadata": {},
   "source": [
    "### select records and column"
   ]
  },
  {
   "cell_type": "code",
   "execution_count": 184,
   "metadata": {},
   "outputs": [
    {
     "data": {
      "text/plain": [
       "10      clothing\n",
       "11    components\n",
       "12    components\n",
       "Name: category, dtype: object"
      ]
     },
     "execution_count": 184,
     "metadata": {},
     "output_type": "execute_result"
    }
   ],
   "source": [
    "df[10:13]['category'].str.lower()"
   ]
  },
  {
   "cell_type": "markdown",
   "metadata": {},
   "source": [
    "> same thing, just swapped selectors\n"
   ]
  },
  {
   "cell_type": "code",
   "execution_count": 185,
   "metadata": {},
   "outputs": [
    {
     "data": {
      "text/plain": [
       "10      clothing\n",
       "11    components\n",
       "12    components\n",
       "Name: category, dtype: object"
      ]
     },
     "execution_count": 185,
     "metadata": {},
     "output_type": "execute_result"
    }
   ],
   "source": [
    "df['category'][10:13].str.lower()"
   ]
  },
  {
   "cell_type": "code",
   "execution_count": 186,
   "metadata": {},
   "outputs": [
    {
     "data": {
      "text/html": [
       "<div>\n",
       "<style scoped>\n",
       "    .dataframe tbody tr th:only-of-type {\n",
       "        vertical-align: middle;\n",
       "    }\n",
       "\n",
       "    .dataframe tbody tr th {\n",
       "        vertical-align: top;\n",
       "    }\n",
       "\n",
       "    .dataframe thead th {\n",
       "        text-align: right;\n",
       "    }\n",
       "</style>\n",
       "<table border=\"1\" class=\"dataframe\">\n",
       "  <thead>\n",
       "    <tr style=\"text-align: right;\">\n",
       "      <th></th>\n",
       "      <th>category</th>\n",
       "      <th>subcategory</th>\n",
       "      <th>product</th>\n",
       "      <th>territory</th>\n",
       "      <th>country</th>\n",
       "      <th>city</th>\n",
       "      <th>state</th>\n",
       "      <th>customer</th>\n",
       "      <th>employee</th>\n",
       "      <th>ordercount</th>\n",
       "      <th>date</th>\n",
       "      <th>standardcost</th>\n",
       "      <th>unitprice</th>\n",
       "      <th>unitpricediscount</th>\n",
       "      <th>discount</th>\n",
       "      <th>listprice</th>\n",
       "      <th>saleswithstandard</th>\n",
       "      <th>netsales</th>\n",
       "      <th>quantity</th>\n",
       "      <th>sales</th>\n",
       "    </tr>\n",
       "  </thead>\n",
       "  <tbody>\n",
       "    <tr>\n",
       "      <th>0</th>\n",
       "      <td>Clothing</td>\n",
       "      <td>Caps</td>\n",
       "      <td>AWC Logo Cap</td>\n",
       "      <td>United Kingdom</td>\n",
       "      <td>United Kingdom</td>\n",
       "      <td>Berks</td>\n",
       "      <td>England</td>\n",
       "      <td>Gary Suess</td>\n",
       "      <td>Amy Alberts</td>\n",
       "      <td>1</td>\n",
       "      <td>2012-06-30</td>\n",
       "      <td>7</td>\n",
       "      <td>5</td>\n",
       "      <td>0</td>\n",
       "      <td>1</td>\n",
       "      <td>9</td>\n",
       "      <td>97</td>\n",
       "      <td>-28</td>\n",
       "      <td>14</td>\n",
       "      <td>69</td>\n",
       "    </tr>\n",
       "    <tr>\n",
       "      <th>1</th>\n",
       "      <td>Accessories</td>\n",
       "      <td>Locks</td>\n",
       "      <td>Cable Lock</td>\n",
       "      <td>United Kingdom</td>\n",
       "      <td>United Kingdom</td>\n",
       "      <td>Berks</td>\n",
       "      <td>England</td>\n",
       "      <td>Gary Suess</td>\n",
       "      <td>Amy Alberts</td>\n",
       "      <td>1</td>\n",
       "      <td>2012-06-30</td>\n",
       "      <td>10</td>\n",
       "      <td>15</td>\n",
       "      <td>0</td>\n",
       "      <td>0</td>\n",
       "      <td>25</td>\n",
       "      <td>62</td>\n",
       "      <td>28</td>\n",
       "      <td>6</td>\n",
       "      <td>90</td>\n",
       "    </tr>\n",
       "    <tr>\n",
       "      <th>2</th>\n",
       "      <td>Clothing</td>\n",
       "      <td>Gloves</td>\n",
       "      <td>Full-Finger Gloves, L</td>\n",
       "      <td>United Kingdom</td>\n",
       "      <td>United Kingdom</td>\n",
       "      <td>Berks</td>\n",
       "      <td>England</td>\n",
       "      <td>Gary Suess</td>\n",
       "      <td>Amy Alberts</td>\n",
       "      <td>1</td>\n",
       "      <td>2012-06-30</td>\n",
       "      <td>16</td>\n",
       "      <td>23</td>\n",
       "      <td>0</td>\n",
       "      <td>0</td>\n",
       "      <td>38</td>\n",
       "      <td>125</td>\n",
       "      <td>57</td>\n",
       "      <td>8</td>\n",
       "      <td>182</td>\n",
       "    </tr>\n",
       "  </tbody>\n",
       "</table>\n",
       "</div>"
      ],
      "text/plain": [
       "      category subcategory                product       territory         country   city    state    customer     employee  ordercount       date  standardcost  unitprice  unitpricediscount  discount  listprice  saleswithstandard  netsales  quantity  sales\n",
       "0     Clothing        Caps           AWC Logo Cap  United Kingdom  United Kingdom  Berks  England  Gary Suess  Amy Alberts           1 2012-06-30             7          5                  0         1          9                 97       -28        14     69\n",
       "1  Accessories       Locks             Cable Lock  United Kingdom  United Kingdom  Berks  England  Gary Suess  Amy Alberts           1 2012-06-30            10         15                  0         0         25                 62        28         6     90\n",
       "2     Clothing      Gloves  Full-Finger Gloves, L  United Kingdom  United Kingdom  Berks  England  Gary Suess  Amy Alberts           1 2012-06-30            16         23                  0         0         38                125        57         8    182"
      ]
     },
     "execution_count": 186,
     "metadata": {},
     "output_type": "execute_result"
    }
   ],
   "source": [
    "df[0:3]"
   ]
  },
  {
   "cell_type": "markdown",
   "metadata": {},
   "source": [
    "## other"
   ]
  },
  {
   "cell_type": "markdown",
   "metadata": {},
   "source": [
    "### pivot"
   ]
  },
  {
   "cell_type": "code",
   "execution_count": 187,
   "metadata": {},
   "outputs": [
    {
     "data": {
      "text/html": [
       "<div>\n",
       "<style scoped>\n",
       "    .dataframe tbody tr th:only-of-type {\n",
       "        vertical-align: middle;\n",
       "    }\n",
       "\n",
       "    .dataframe tbody tr th {\n",
       "        vertical-align: top;\n",
       "    }\n",
       "\n",
       "    .dataframe thead th {\n",
       "        text-align: right;\n",
       "    }\n",
       "</style>\n",
       "<table border=\"1\" class=\"dataframe\">\n",
       "  <thead>\n",
       "    <tr style=\"text-align: right;\">\n",
       "      <th></th>\n",
       "      <th>0</th>\n",
       "      <th>1</th>\n",
       "      <th>2</th>\n",
       "      <th>3</th>\n",
       "      <th>4</th>\n",
       "      <th>5</th>\n",
       "      <th>6</th>\n",
       "      <th>7</th>\n",
       "      <th>8</th>\n",
       "      <th>9</th>\n",
       "      <th>10</th>\n",
       "      <th>11</th>\n",
       "      <th>12</th>\n",
       "      <th>13</th>\n",
       "      <th>14</th>\n",
       "      <th>15</th>\n",
       "      <th>16</th>\n",
       "      <th>17</th>\n",
       "      <th>18</th>\n",
       "      <th>19</th>\n",
       "      <th>20</th>\n",
       "      <th>21</th>\n",
       "      <th>22</th>\n",
       "      <th>23</th>\n",
       "      <th>24</th>\n",
       "      <th>25</th>\n",
       "      <th>26</th>\n",
       "      <th>27</th>\n",
       "      <th>28</th>\n",
       "      <th>29</th>\n",
       "      <th>30</th>\n",
       "      <th>31</th>\n",
       "      <th>32</th>\n",
       "      <th>33</th>\n",
       "      <th>34</th>\n",
       "      <th>35</th>\n",
       "      <th>36</th>\n",
       "      <th>37</th>\n",
       "      <th>38</th>\n",
       "      <th>39</th>\n",
       "      <th>...</th>\n",
       "      <th>60840</th>\n",
       "      <th>60841</th>\n",
       "      <th>60842</th>\n",
       "      <th>60843</th>\n",
       "      <th>60844</th>\n",
       "      <th>60845</th>\n",
       "      <th>60846</th>\n",
       "      <th>60847</th>\n",
       "      <th>60848</th>\n",
       "      <th>60849</th>\n",
       "      <th>60850</th>\n",
       "      <th>60851</th>\n",
       "      <th>60852</th>\n",
       "      <th>60853</th>\n",
       "      <th>60854</th>\n",
       "      <th>60855</th>\n",
       "      <th>60856</th>\n",
       "      <th>60857</th>\n",
       "      <th>60858</th>\n",
       "      <th>60859</th>\n",
       "      <th>60860</th>\n",
       "      <th>60861</th>\n",
       "      <th>60862</th>\n",
       "      <th>60863</th>\n",
       "      <th>60864</th>\n",
       "      <th>60865</th>\n",
       "      <th>60866</th>\n",
       "      <th>60867</th>\n",
       "      <th>60868</th>\n",
       "      <th>60869</th>\n",
       "      <th>60870</th>\n",
       "      <th>60871</th>\n",
       "      <th>60872</th>\n",
       "      <th>60873</th>\n",
       "      <th>60874</th>\n",
       "      <th>60875</th>\n",
       "      <th>60876</th>\n",
       "      <th>60877</th>\n",
       "      <th>60878</th>\n",
       "      <th>60879</th>\n",
       "    </tr>\n",
       "  </thead>\n",
       "  <tbody>\n",
       "    <tr>\n",
       "      <th>category</th>\n",
       "      <td>Clothing</td>\n",
       "      <td>Accessories</td>\n",
       "      <td>Clothing</td>\n",
       "      <td>Clothing</td>\n",
       "      <td>Clothing</td>\n",
       "      <td>Clothing</td>\n",
       "      <td>Clothing</td>\n",
       "      <td>Clothing</td>\n",
       "      <td>Clothing</td>\n",
       "      <td>Clothing</td>\n",
       "      <td>clothing</td>\n",
       "      <td>components</td>\n",
       "      <td>components</td>\n",
       "      <td>components</td>\n",
       "      <td>Components</td>\n",
       "      <td>Components</td>\n",
       "      <td>Components</td>\n",
       "      <td>Components</td>\n",
       "      <td>Components</td>\n",
       "      <td>Components</td>\n",
       "      <td>Components</td>\n",
       "      <td>Components</td>\n",
       "      <td>Components</td>\n",
       "      <td>Components</td>\n",
       "      <td>Components</td>\n",
       "      <td>Components</td>\n",
       "      <td>Components</td>\n",
       "      <td>Components</td>\n",
       "      <td>Clothing</td>\n",
       "      <td>Clothing</td>\n",
       "      <td>Clothing</td>\n",
       "      <td>Clothing</td>\n",
       "      <td>Clothing</td>\n",
       "      <td>Clothing</td>\n",
       "      <td>Clothing</td>\n",
       "      <td>Clothing</td>\n",
       "      <td>Accessories</td>\n",
       "      <td>Components</td>\n",
       "      <td>Components</td>\n",
       "      <td>Components</td>\n",
       "      <td>...</td>\n",
       "      <td>Bikes</td>\n",
       "      <td>Bikes</td>\n",
       "      <td>Bikes</td>\n",
       "      <td>Bikes</td>\n",
       "      <td>Bikes</td>\n",
       "      <td>Bikes</td>\n",
       "      <td>Bikes</td>\n",
       "      <td>Bikes</td>\n",
       "      <td>Bikes</td>\n",
       "      <td>Bikes</td>\n",
       "      <td>Bikes</td>\n",
       "      <td>Bikes</td>\n",
       "      <td>Bikes</td>\n",
       "      <td>Bikes</td>\n",
       "      <td>Bikes</td>\n",
       "      <td>Bikes</td>\n",
       "      <td>Bikes</td>\n",
       "      <td>Bikes</td>\n",
       "      <td>Bikes</td>\n",
       "      <td>Bikes</td>\n",
       "      <td>Bikes</td>\n",
       "      <td>Bikes</td>\n",
       "      <td>Bikes</td>\n",
       "      <td>Bikes</td>\n",
       "      <td>Bikes</td>\n",
       "      <td>Bikes</td>\n",
       "      <td>Bikes</td>\n",
       "      <td>Bikes</td>\n",
       "      <td>Bikes</td>\n",
       "      <td>Bikes</td>\n",
       "      <td>Bikes</td>\n",
       "      <td>Bikes</td>\n",
       "      <td>Bikes</td>\n",
       "      <td>Accessories</td>\n",
       "      <td>Clothing</td>\n",
       "      <td>Clothing</td>\n",
       "      <td>Clothing</td>\n",
       "      <td>Clothing</td>\n",
       "      <td>Clothing</td>\n",
       "      <td>Clothing</td>\n",
       "    </tr>\n",
       "    <tr>\n",
       "      <th>subcategory</th>\n",
       "      <td>Caps</td>\n",
       "      <td>Locks</td>\n",
       "      <td>Gloves</td>\n",
       "      <td>Gloves</td>\n",
       "      <td>Gloves</td>\n",
       "      <td>Gloves</td>\n",
       "      <td>Gloves</td>\n",
       "      <td>Gloves</td>\n",
       "      <td>Gloves</td>\n",
       "      <td>Gloves</td>\n",
       "      <td>Gloves</td>\n",
       "      <td>Forks</td>\n",
       "      <td>Headsets</td>\n",
       "      <td>Mountain Frames</td>\n",
       "      <td>Mountain Frames</td>\n",
       "      <td>Mountain Frames</td>\n",
       "      <td>Mountain Frames</td>\n",
       "      <td>Mountain Frames</td>\n",
       "      <td>Wheels</td>\n",
       "      <td>Handlebars</td>\n",
       "      <td>Wheels</td>\n",
       "      <td>Wheels</td>\n",
       "      <td>Forks</td>\n",
       "      <td>Wheels</td>\n",
       "      <td>Wheels</td>\n",
       "      <td>Handlebars</td>\n",
       "      <td>Wheels</td>\n",
       "      <td>Wheels</td>\n",
       "      <td>Jerseys</td>\n",
       "      <td>Jerseys</td>\n",
       "      <td>Jerseys</td>\n",
       "      <td>Bib-Shorts</td>\n",
       "      <td>Bib-Shorts</td>\n",
       "      <td>Bib-Shorts</td>\n",
       "      <td>Shorts</td>\n",
       "      <td>Shorts</td>\n",
       "      <td>Pumps</td>\n",
       "      <td>Headsets</td>\n",
       "      <td>Mountain Frames</td>\n",
       "      <td>Mountain Frames</td>\n",
       "      <td>...</td>\n",
       "      <td>Touring Bikes</td>\n",
       "      <td>Touring Bikes</td>\n",
       "      <td>Touring Bikes</td>\n",
       "      <td>Touring Bikes</td>\n",
       "      <td>Touring Bikes</td>\n",
       "      <td>Touring Bikes</td>\n",
       "      <td>Touring Bikes</td>\n",
       "      <td>Touring Bikes</td>\n",
       "      <td>Touring Bikes</td>\n",
       "      <td>Touring Bikes</td>\n",
       "      <td>Touring Bikes</td>\n",
       "      <td>Touring Bikes</td>\n",
       "      <td>Touring Bikes</td>\n",
       "      <td>Touring Bikes</td>\n",
       "      <td>Touring Bikes</td>\n",
       "      <td>Touring Bikes</td>\n",
       "      <td>Touring Bikes</td>\n",
       "      <td>Touring Bikes</td>\n",
       "      <td>Touring Bikes</td>\n",
       "      <td>Touring Bikes</td>\n",
       "      <td>Touring Bikes</td>\n",
       "      <td>Touring Bikes</td>\n",
       "      <td>Touring Bikes</td>\n",
       "      <td>Touring Bikes</td>\n",
       "      <td>Touring Bikes</td>\n",
       "      <td>Touring Bikes</td>\n",
       "      <td>Touring Bikes</td>\n",
       "      <td>Touring Bikes</td>\n",
       "      <td>Touring Bikes</td>\n",
       "      <td>Touring Bikes</td>\n",
       "      <td>Touring Bikes</td>\n",
       "      <td>Touring Bikes</td>\n",
       "      <td>Touring Bikes</td>\n",
       "      <td>Bottles and Cages</td>\n",
       "      <td>Shorts</td>\n",
       "      <td>Shorts</td>\n",
       "      <td>Shorts</td>\n",
       "      <td>Shorts</td>\n",
       "      <td>Shorts</td>\n",
       "      <td>Shorts</td>\n",
       "    </tr>\n",
       "    <tr>\n",
       "      <th>product</th>\n",
       "      <td>AWC Logo Cap</td>\n",
       "      <td>Cable Lock</td>\n",
       "      <td>Full-Finger Gloves, L</td>\n",
       "      <td>Full-Finger Gloves, L</td>\n",
       "      <td>Full-Finger Gloves, M</td>\n",
       "      <td>Full-Finger Gloves, M</td>\n",
       "      <td>Full-Finger Gloves, S</td>\n",
       "      <td>Full-Finger Gloves, S</td>\n",
       "      <td>Half-Finger Gloves, L</td>\n",
       "      <td>Half-Finger Gloves, M</td>\n",
       "      <td>Half-Finger Gloves, S</td>\n",
       "      <td>HL Fork</td>\n",
       "      <td>HL Headset</td>\n",
       "      <td>HL Mountain Frame - Black, 38</td>\n",
       "      <td>HL Mountain Frame - Black, 42</td>\n",
       "      <td>HL Mountain Frame - Silver, 38</td>\n",
       "      <td>HL Mountain Frame - Silver, 42</td>\n",
       "      <td>HL Mountain Frame - Silver, 46</td>\n",
       "      <td>HL Mountain Front Wheel</td>\n",
       "      <td>HL Mountain Handlebars</td>\n",
       "      <td>HL Mountain Rear Wheel</td>\n",
       "      <td>HL Mountain Rear Wheel</td>\n",
       "      <td>LL Fork</td>\n",
       "      <td>LL Mountain Front Wheel</td>\n",
       "      <td>LL Mountain Front Wheel</td>\n",
       "      <td>LL Mountain Handlebars</td>\n",
       "      <td>LL Mountain Rear Wheel</td>\n",
       "      <td>LL Mountain Rear Wheel</td>\n",
       "      <td>Long-Sleeve Logo Jersey, L</td>\n",
       "      <td>Long-Sleeve Logo Jersey, M</td>\n",
       "      <td>Long-Sleeve Logo Jersey, XL</td>\n",
       "      <td>Men's Bib-Shorts, L</td>\n",
       "      <td>Men's Bib-Shorts, M</td>\n",
       "      <td>Men's Bib-Shorts, S</td>\n",
       "      <td>Men's Sports Shorts, L</td>\n",
       "      <td>Men's Sports Shorts, M</td>\n",
       "      <td>Minipump</td>\n",
       "      <td>ML Headset</td>\n",
       "      <td>ML Mountain Frame - Black, 40</td>\n",
       "      <td>ML Mountain Frame - Black, 44</td>\n",
       "      <td>...</td>\n",
       "      <td>Touring-2000 Blue, 46</td>\n",
       "      <td>Touring-2000 Blue, 50</td>\n",
       "      <td>Touring-2000 Blue, 54</td>\n",
       "      <td>Touring-2000 Blue, 54</td>\n",
       "      <td>Touring-2000 Blue, 54</td>\n",
       "      <td>Touring-2000 Blue, 54</td>\n",
       "      <td>Touring-2000 Blue, 54</td>\n",
       "      <td>Touring-2000 Blue, 60</td>\n",
       "      <td>Touring-2000 Blue, 60</td>\n",
       "      <td>Touring-2000 Blue, 60</td>\n",
       "      <td>Touring-2000 Blue, 60</td>\n",
       "      <td>Touring-3000 Blue, 50</td>\n",
       "      <td>Touring-3000 Blue, 50</td>\n",
       "      <td>Touring-3000 Blue, 54</td>\n",
       "      <td>Touring-3000 Blue, 54</td>\n",
       "      <td>Touring-3000 Blue, 58</td>\n",
       "      <td>Touring-3000 Blue, 58</td>\n",
       "      <td>Touring-3000 Blue, 58</td>\n",
       "      <td>Touring-3000 Blue, 62</td>\n",
       "      <td>Touring-3000 Yellow, 44</td>\n",
       "      <td>Touring-3000 Yellow, 44</td>\n",
       "      <td>Touring-3000 Yellow, 44</td>\n",
       "      <td>Touring-3000 Yellow, 50</td>\n",
       "      <td>Touring-3000 Yellow, 50</td>\n",
       "      <td>Touring-3000 Yellow, 50</td>\n",
       "      <td>Touring-3000 Yellow, 54</td>\n",
       "      <td>Touring-3000 Yellow, 54</td>\n",
       "      <td>Touring-3000 Yellow, 54</td>\n",
       "      <td>Touring-3000 Yellow, 58</td>\n",
       "      <td>Touring-3000 Yellow, 58</td>\n",
       "      <td>Touring-3000 Yellow, 62</td>\n",
       "      <td>Touring-3000 Yellow, 62</td>\n",
       "      <td>Touring-3000 Yellow, 62</td>\n",
       "      <td>Water Bottle - 30 oz.</td>\n",
       "      <td>Women's Mountain Shorts, L</td>\n",
       "      <td>Women's Mountain Shorts, L</td>\n",
       "      <td>Women's Mountain Shorts, L</td>\n",
       "      <td>Women's Mountain Shorts, M</td>\n",
       "      <td>Women's Mountain Shorts, S</td>\n",
       "      <td>Women's Mountain Shorts, S</td>\n",
       "    </tr>\n",
       "  </tbody>\n",
       "</table>\n",
       "<p>3 rows × 60880 columns</p>\n",
       "</div>"
      ],
      "text/plain": [
       "                    0            1                      2                      3                      4                      5                      6                      7                      8                      9                      10          11          12                             13                             14                              15                              16                              17                       18                      19                      20                      21          22                       23                       24                      25                      26                      27                          28                          29                           30                   31                   32                   33                      34                      35           36          37                             38                             39     ...                  60840                  60841  \\\n",
       "category         Clothing  Accessories               Clothing               Clothing               Clothing               Clothing               Clothing               Clothing               Clothing               Clothing               clothing  components  components                     components                     Components                      Components                      Components                      Components               Components              Components              Components              Components  Components               Components               Components              Components              Components              Components                    Clothing                    Clothing                     Clothing             Clothing             Clothing             Clothing                Clothing                Clothing  Accessories  Components                     Components                     Components  ...                  Bikes                  Bikes   \n",
       "subcategory          Caps        Locks                 Gloves                 Gloves                 Gloves                 Gloves                 Gloves                 Gloves                 Gloves                 Gloves                 Gloves       Forks    Headsets                Mountain Frames                Mountain Frames                 Mountain Frames                 Mountain Frames                 Mountain Frames                   Wheels              Handlebars                  Wheels                  Wheels       Forks                   Wheels                   Wheels              Handlebars                  Wheels                  Wheels                     Jerseys                     Jerseys                      Jerseys           Bib-Shorts           Bib-Shorts           Bib-Shorts                  Shorts                  Shorts        Pumps    Headsets                Mountain Frames                Mountain Frames  ...          Touring Bikes          Touring Bikes   \n",
       "product      AWC Logo Cap   Cable Lock  Full-Finger Gloves, L  Full-Finger Gloves, L  Full-Finger Gloves, M  Full-Finger Gloves, M  Full-Finger Gloves, S  Full-Finger Gloves, S  Half-Finger Gloves, L  Half-Finger Gloves, M  Half-Finger Gloves, S     HL Fork  HL Headset  HL Mountain Frame - Black, 38  HL Mountain Frame - Black, 42  HL Mountain Frame - Silver, 38  HL Mountain Frame - Silver, 42  HL Mountain Frame - Silver, 46  HL Mountain Front Wheel  HL Mountain Handlebars  HL Mountain Rear Wheel  HL Mountain Rear Wheel     LL Fork  LL Mountain Front Wheel  LL Mountain Front Wheel  LL Mountain Handlebars  LL Mountain Rear Wheel  LL Mountain Rear Wheel  Long-Sleeve Logo Jersey, L  Long-Sleeve Logo Jersey, M  Long-Sleeve Logo Jersey, XL  Men's Bib-Shorts, L  Men's Bib-Shorts, M  Men's Bib-Shorts, S  Men's Sports Shorts, L  Men's Sports Shorts, M     Minipump  ML Headset  ML Mountain Frame - Black, 40  ML Mountain Frame - Black, 44  ...  Touring-2000 Blue, 46  Touring-2000 Blue, 50   \n",
       "\n",
       "                             60842                  60843                  60844                  60845                  60846                  60847                  60848                  60849                  60850                  60851                  60852                  60853                  60854                  60855                  60856                  60857                  60858                    60859                    60860                    60861                    60862                    60863                    60864                    60865                    60866                    60867                    60868                    60869                    60870                    60871                    60872                  60873                       60874                       60875                       60876                       60877                       60878                       60879  \n",
       "category                     Bikes                  Bikes                  Bikes                  Bikes                  Bikes                  Bikes                  Bikes                  Bikes                  Bikes                  Bikes                  Bikes                  Bikes                  Bikes                  Bikes                  Bikes                  Bikes                  Bikes                    Bikes                    Bikes                    Bikes                    Bikes                    Bikes                    Bikes                    Bikes                    Bikes                    Bikes                    Bikes                    Bikes                    Bikes                    Bikes                    Bikes            Accessories                    Clothing                    Clothing                    Clothing                    Clothing                    Clothing                    Clothing  \n",
       "subcategory          Touring Bikes          Touring Bikes          Touring Bikes          Touring Bikes          Touring Bikes          Touring Bikes          Touring Bikes          Touring Bikes          Touring Bikes          Touring Bikes          Touring Bikes          Touring Bikes          Touring Bikes          Touring Bikes          Touring Bikes          Touring Bikes          Touring Bikes            Touring Bikes            Touring Bikes            Touring Bikes            Touring Bikes            Touring Bikes            Touring Bikes            Touring Bikes            Touring Bikes            Touring Bikes            Touring Bikes            Touring Bikes            Touring Bikes            Touring Bikes            Touring Bikes      Bottles and Cages                      Shorts                      Shorts                      Shorts                      Shorts                      Shorts                      Shorts  \n",
       "product      Touring-2000 Blue, 54  Touring-2000 Blue, 54  Touring-2000 Blue, 54  Touring-2000 Blue, 54  Touring-2000 Blue, 54  Touring-2000 Blue, 60  Touring-2000 Blue, 60  Touring-2000 Blue, 60  Touring-2000 Blue, 60  Touring-3000 Blue, 50  Touring-3000 Blue, 50  Touring-3000 Blue, 54  Touring-3000 Blue, 54  Touring-3000 Blue, 58  Touring-3000 Blue, 58  Touring-3000 Blue, 58  Touring-3000 Blue, 62  Touring-3000 Yellow, 44  Touring-3000 Yellow, 44  Touring-3000 Yellow, 44  Touring-3000 Yellow, 50  Touring-3000 Yellow, 50  Touring-3000 Yellow, 50  Touring-3000 Yellow, 54  Touring-3000 Yellow, 54  Touring-3000 Yellow, 54  Touring-3000 Yellow, 58  Touring-3000 Yellow, 58  Touring-3000 Yellow, 62  Touring-3000 Yellow, 62  Touring-3000 Yellow, 62  Water Bottle - 30 oz.  Women's Mountain Shorts, L  Women's Mountain Shorts, L  Women's Mountain Shorts, L  Women's Mountain Shorts, M  Women's Mountain Shorts, S  Women's Mountain Shorts, S  \n",
       "\n",
       "[3 rows x 60880 columns]"
      ]
     },
     "execution_count": 187,
     "metadata": {},
     "output_type": "execute_result"
    }
   ],
   "source": [
    "df.T.head(3)"
   ]
  }
 ],
 "metadata": {
  "kernelspec": {
   "display_name": ".venv",
   "language": "python",
   "name": "python3"
  },
  "language_info": {
   "codemirror_mode": {
    "name": "ipython",
    "version": 3
   },
   "file_extension": ".py",
   "mimetype": "text/x-python",
   "name": "python",
   "nbconvert_exporter": "python",
   "pygments_lexer": "ipython3",
   "version": "3.11.4"
  }
 },
 "nbformat": 4,
 "nbformat_minor": 2
}
