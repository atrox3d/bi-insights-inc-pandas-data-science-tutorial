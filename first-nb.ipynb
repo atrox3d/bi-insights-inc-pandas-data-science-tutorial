{
 "cells": [
  {
   "cell_type": "markdown",
   "metadata": {},
   "source": [
    "# import pandas"
   ]
  },
  {
   "cell_type": "code",
   "execution_count": 5,
   "metadata": {},
   "outputs": [],
   "source": [
    "import pandas as pd"
   ]
  },
  {
   "cell_type": "markdown",
   "metadata": {},
   "source": [
    "### explain callable format"
   ]
  },
  {
   "cell_type": "code",
   "execution_count": 6,
   "metadata": {},
   "outputs": [],
   "source": [
    "pd.options.display.float_format = '{:,.0f}'.format"
   ]
  },
  {
   "cell_type": "markdown",
   "metadata": {},
   "source": [
    "<blockquote>\n",
    "\n",
    "f is a method object bound to a string instance\n",
    "\n",
    "the format method is bound to a `str('{:,.0f}')` object\n",
    "\n",
    "when passed as an argument and called, it remebers the self argument\n",
    "\n",
    "the original self object can be retrieved via the `__self__`attribute\n",
    "</blockquote>\n"
   ]
  },
  {
   "cell_type": "code",
   "execution_count": 7,
   "metadata": {},
   "outputs": [
    {
     "data": {
      "text/plain": [
       "\"f.__self__ = '{:,.0f}'\""
      ]
     },
     "execution_count": 7,
     "metadata": {},
     "output_type": "execute_result"
    }
   ],
   "source": [
    "f = '{:,.0f}'.format\n",
    "f'{f.__self__ = }'"
   ]
  },
  {
   "cell_type": "markdown",
   "metadata": {},
   "source": [
    "# import excel file"
   ]
  },
  {
   "cell_type": "code",
   "execution_count": 8,
   "metadata": {},
   "outputs": [
    {
     "data": {
      "application/vnd.microsoft.datawrangler.viewer.v0+json": {
       "columns": [
        {
         "name": "index",
         "rawType": "int64",
         "type": "integer"
        },
        {
         "name": "productcategory",
         "rawType": "object",
         "type": "string"
        },
        {
         "name": "productsubcategory",
         "rawType": "object",
         "type": "string"
        },
        {
         "name": "product",
         "rawType": "object",
         "type": "string"
        },
        {
         "name": "saleterritory",
         "rawType": "object",
         "type": "string"
        },
        {
         "name": "Country",
         "rawType": "object",
         "type": "string"
        },
        {
         "name": "City",
         "rawType": "object",
         "type": "string"
        },
        {
         "name": "Sate",
         "rawType": "object",
         "type": "string"
        },
        {
         "name": "Customer",
         "rawType": "object",
         "type": "string"
        },
        {
         "name": "Employee",
         "rawType": "object",
         "type": "string"
        },
        {
         "name": "OrderCount",
         "rawType": "int64",
         "type": "integer"
        },
        {
         "name": "OrderDate",
         "rawType": "datetime64[ns]",
         "type": "datetime"
        },
        {
         "name": "StandardCost",
         "rawType": "float64",
         "type": "float"
        },
        {
         "name": "UnitPrice",
         "rawType": "float64",
         "type": "float"
        },
        {
         "name": "UnitPriceDiscount",
         "rawType": "float64",
         "type": "float"
        },
        {
         "name": "Discount",
         "rawType": "float64",
         "type": "float"
        },
        {
         "name": "ListPrice",
         "rawType": "float64",
         "type": "float"
        },
        {
         "name": "SaleswithStandard",
         "rawType": "float64",
         "type": "float"
        },
        {
         "name": "NetSales",
         "rawType": "float64",
         "type": "float"
        },
        {
         "name": "OrderQuantity",
         "rawType": "int64",
         "type": "integer"
        },
        {
         "name": "Sales",
         "rawType": "float64",
         "type": "float"
        }
       ],
       "ref": "8645729f-3b8b-4359-b950-82999e7c4094",
       "rows": [
        [
         "0",
         "Clothing",
         "Caps",
         "AWC Logo Cap",
         "United Kingdom",
         "United Kingdom",
         "Berks",
         "England",
         "Gary Suess",
         "Amy Alberts",
         "1",
         "2012-06-30 00:00:00",
         "6.9223",
         "5.0136",
         "0.02",
         "1.4038",
         "8.6442",
         "96.9122",
         "-28.125608",
         "14",
         "68.786592"
        ],
        [
         "1",
         "Accessories",
         "Locks",
         "Cable Lock",
         "United Kingdom",
         "United Kingdom",
         "Berks",
         "England",
         "Gary Suess",
         "Amy Alberts",
         "1",
         "2012-06-30 00:00:00",
         "10.3125",
         "15.0",
         "0.0",
         "0.0",
         "25.0",
         "61.875",
         "28.125",
         "6",
         "90.0"
        ],
        [
         "2",
         "Clothing",
         "Gloves",
         "Full-Finger Gloves, L",
         "United Kingdom",
         "United Kingdom",
         "Berks",
         "England",
         "Gary Suess",
         "Amy Alberts",
         "1",
         "2012-06-30 00:00:00",
         "15.6709",
         "22.794",
         "0.0",
         "0.0",
         "37.99",
         "125.3672",
         "56.9848",
         "8",
         "182.352"
        ],
        [
         "3",
         "Clothing",
         "Gloves",
         "Full-Finger Gloves, L",
         "United Kingdom",
         "United Kingdom",
         "London",
         "England",
         "Linda Martin",
         "Amy Alberts",
         "1",
         "2012-06-30 00:00:00",
         "15.6709",
         "20.8945",
         "0.05",
         "16.7156",
         "37.99",
         "250.7344",
         "66.862",
         "16",
         "317.5964"
        ],
        [
         "4",
         "Clothing",
         "Gloves",
         "Full-Finger Gloves, M",
         "United Kingdom",
         "United Kingdom",
         "Berks",
         "England",
         "Gary Suess",
         "Amy Alberts",
         "1",
         "2012-06-30 00:00:00",
         "15.6709",
         "22.794",
         "0.0",
         "0.0",
         "37.99",
         "109.6963",
         "49.8617",
         "7",
         "159.558"
        ]
       ],
       "shape": {
        "columns": 20,
        "rows": 5
       }
      },
      "text/html": [
       "<div>\n",
       "<style scoped>\n",
       "    .dataframe tbody tr th:only-of-type {\n",
       "        vertical-align: middle;\n",
       "    }\n",
       "\n",
       "    .dataframe tbody tr th {\n",
       "        vertical-align: top;\n",
       "    }\n",
       "\n",
       "    .dataframe thead th {\n",
       "        text-align: right;\n",
       "    }\n",
       "</style>\n",
       "<table border=\"1\" class=\"dataframe\">\n",
       "  <thead>\n",
       "    <tr style=\"text-align: right;\">\n",
       "      <th></th>\n",
       "      <th>productcategory</th>\n",
       "      <th>productsubcategory</th>\n",
       "      <th>product</th>\n",
       "      <th>saleterritory</th>\n",
       "      <th>Country</th>\n",
       "      <th>City</th>\n",
       "      <th>Sate</th>\n",
       "      <th>Customer</th>\n",
       "      <th>Employee</th>\n",
       "      <th>OrderCount</th>\n",
       "      <th>OrderDate</th>\n",
       "      <th>StandardCost</th>\n",
       "      <th>UnitPrice</th>\n",
       "      <th>UnitPriceDiscount</th>\n",
       "      <th>Discount</th>\n",
       "      <th>ListPrice</th>\n",
       "      <th>SaleswithStandard</th>\n",
       "      <th>NetSales</th>\n",
       "      <th>OrderQuantity</th>\n",
       "      <th>Sales</th>\n",
       "    </tr>\n",
       "  </thead>\n",
       "  <tbody>\n",
       "    <tr>\n",
       "      <th>0</th>\n",
       "      <td>Clothing</td>\n",
       "      <td>Caps</td>\n",
       "      <td>AWC Logo Cap</td>\n",
       "      <td>United Kingdom</td>\n",
       "      <td>United Kingdom</td>\n",
       "      <td>Berks</td>\n",
       "      <td>England</td>\n",
       "      <td>Gary Suess</td>\n",
       "      <td>Amy Alberts</td>\n",
       "      <td>1</td>\n",
       "      <td>2012-06-30</td>\n",
       "      <td>7</td>\n",
       "      <td>5</td>\n",
       "      <td>0</td>\n",
       "      <td>1</td>\n",
       "      <td>9</td>\n",
       "      <td>97</td>\n",
       "      <td>-28</td>\n",
       "      <td>14</td>\n",
       "      <td>69</td>\n",
       "    </tr>\n",
       "    <tr>\n",
       "      <th>1</th>\n",
       "      <td>Accessories</td>\n",
       "      <td>Locks</td>\n",
       "      <td>Cable Lock</td>\n",
       "      <td>United Kingdom</td>\n",
       "      <td>United Kingdom</td>\n",
       "      <td>Berks</td>\n",
       "      <td>England</td>\n",
       "      <td>Gary Suess</td>\n",
       "      <td>Amy Alberts</td>\n",
       "      <td>1</td>\n",
       "      <td>2012-06-30</td>\n",
       "      <td>10</td>\n",
       "      <td>15</td>\n",
       "      <td>0</td>\n",
       "      <td>0</td>\n",
       "      <td>25</td>\n",
       "      <td>62</td>\n",
       "      <td>28</td>\n",
       "      <td>6</td>\n",
       "      <td>90</td>\n",
       "    </tr>\n",
       "    <tr>\n",
       "      <th>2</th>\n",
       "      <td>Clothing</td>\n",
       "      <td>Gloves</td>\n",
       "      <td>Full-Finger Gloves, L</td>\n",
       "      <td>United Kingdom</td>\n",
       "      <td>United Kingdom</td>\n",
       "      <td>Berks</td>\n",
       "      <td>England</td>\n",
       "      <td>Gary Suess</td>\n",
       "      <td>Amy Alberts</td>\n",
       "      <td>1</td>\n",
       "      <td>2012-06-30</td>\n",
       "      <td>16</td>\n",
       "      <td>23</td>\n",
       "      <td>0</td>\n",
       "      <td>0</td>\n",
       "      <td>38</td>\n",
       "      <td>125</td>\n",
       "      <td>57</td>\n",
       "      <td>8</td>\n",
       "      <td>182</td>\n",
       "    </tr>\n",
       "    <tr>\n",
       "      <th>3</th>\n",
       "      <td>Clothing</td>\n",
       "      <td>Gloves</td>\n",
       "      <td>Full-Finger Gloves, L</td>\n",
       "      <td>United Kingdom</td>\n",
       "      <td>United Kingdom</td>\n",
       "      <td>London</td>\n",
       "      <td>England</td>\n",
       "      <td>Linda Martin</td>\n",
       "      <td>Amy Alberts</td>\n",
       "      <td>1</td>\n",
       "      <td>2012-06-30</td>\n",
       "      <td>16</td>\n",
       "      <td>21</td>\n",
       "      <td>0</td>\n",
       "      <td>17</td>\n",
       "      <td>38</td>\n",
       "      <td>251</td>\n",
       "      <td>67</td>\n",
       "      <td>16</td>\n",
       "      <td>318</td>\n",
       "    </tr>\n",
       "    <tr>\n",
       "      <th>4</th>\n",
       "      <td>Clothing</td>\n",
       "      <td>Gloves</td>\n",
       "      <td>Full-Finger Gloves, M</td>\n",
       "      <td>United Kingdom</td>\n",
       "      <td>United Kingdom</td>\n",
       "      <td>Berks</td>\n",
       "      <td>England</td>\n",
       "      <td>Gary Suess</td>\n",
       "      <td>Amy Alberts</td>\n",
       "      <td>1</td>\n",
       "      <td>2012-06-30</td>\n",
       "      <td>16</td>\n",
       "      <td>23</td>\n",
       "      <td>0</td>\n",
       "      <td>0</td>\n",
       "      <td>38</td>\n",
       "      <td>110</td>\n",
       "      <td>50</td>\n",
       "      <td>7</td>\n",
       "      <td>160</td>\n",
       "    </tr>\n",
       "  </tbody>\n",
       "</table>\n",
       "</div>"
      ],
      "text/plain": [
       "  productcategory productsubcategory                product   saleterritory  \\\n",
       "0        Clothing               Caps           AWC Logo Cap  United Kingdom   \n",
       "1     Accessories              Locks             Cable Lock  United Kingdom   \n",
       "2        Clothing             Gloves  Full-Finger Gloves, L  United Kingdom   \n",
       "3        Clothing             Gloves  Full-Finger Gloves, L  United Kingdom   \n",
       "4        Clothing             Gloves  Full-Finger Gloves, M  United Kingdom   \n",
       "\n",
       "          Country    City     Sate      Customer     Employee  OrderCount  \\\n",
       "0  United Kingdom   Berks  England    Gary Suess  Amy Alberts           1   \n",
       "1  United Kingdom   Berks  England    Gary Suess  Amy Alberts           1   \n",
       "2  United Kingdom   Berks  England    Gary Suess  Amy Alberts           1   \n",
       "3  United Kingdom  London  England  Linda Martin  Amy Alberts           1   \n",
       "4  United Kingdom   Berks  England    Gary Suess  Amy Alberts           1   \n",
       "\n",
       "   OrderDate  StandardCost  UnitPrice  UnitPriceDiscount  Discount  ListPrice  \\\n",
       "0 2012-06-30             7          5                  0         1          9   \n",
       "1 2012-06-30            10         15                  0         0         25   \n",
       "2 2012-06-30            16         23                  0         0         38   \n",
       "3 2012-06-30            16         21                  0        17         38   \n",
       "4 2012-06-30            16         23                  0         0         38   \n",
       "\n",
       "   SaleswithStandard  NetSales  OrderQuantity  Sales  \n",
       "0                 97       -28             14     69  \n",
       "1                 62        28              6     90  \n",
       "2                125        57              8    182  \n",
       "3                251        67             16    318  \n",
       "4                110        50              7    160  "
      ]
     },
     "execution_count": 8,
     "metadata": {},
     "output_type": "execute_result"
    }
   ],
   "source": [
    "df = pd.read_excel('advworksdata.xlsx')\n",
    "df.head() # first 5"
   ]
  },
  {
   "cell_type": "markdown",
   "metadata": {},
   "source": [
    "## check dataframe properties"
   ]
  },
  {
   "cell_type": "markdown",
   "metadata": {},
   "source": [
    "#### show dataframe type"
   ]
  },
  {
   "cell_type": "code",
   "execution_count": 9,
   "metadata": {},
   "outputs": [
    {
     "data": {
      "text/plain": [
       "pandas.core.frame.DataFrame"
      ]
     },
     "execution_count": 9,
     "metadata": {},
     "output_type": "execute_result"
    }
   ],
   "source": [
    "type(df)"
   ]
  },
  {
   "cell_type": "markdown",
   "metadata": {},
   "source": [
    "### check if dataframe is empty"
   ]
  },
  {
   "cell_type": "code",
   "execution_count": 10,
   "metadata": {},
   "outputs": [
    {
     "data": {
      "text/plain": [
       "False"
      ]
     },
     "execution_count": 10,
     "metadata": {},
     "output_type": "execute_result"
    }
   ],
   "source": [
    "df.empty"
   ]
  },
  {
   "cell_type": "markdown",
   "metadata": {},
   "source": [
    "### show dataframe shape\n",
    "\n",
    "> shape is shown in (rows, columns)"
   ]
  },
  {
   "cell_type": "code",
   "execution_count": 11,
   "metadata": {},
   "outputs": [
    {
     "data": {
      "text/plain": [
       "(60880, 20)"
      ]
     },
     "execution_count": 11,
     "metadata": {},
     "output_type": "execute_result"
    }
   ],
   "source": [
    "df.shape"
   ]
  },
  {
   "cell_type": "markdown",
   "metadata": {},
   "source": [
    "### get list of columns"
   ]
  },
  {
   "cell_type": "code",
   "execution_count": 12,
   "metadata": {},
   "outputs": [
    {
     "data": {
      "text/plain": [
       "Index(['productcategory', 'productsubcategory', 'product', 'saleterritory',\n",
       "       'Country', 'City', 'Sate', 'Customer', 'Employee', 'OrderCount',\n",
       "       'OrderDate', 'StandardCost', 'UnitPrice', 'UnitPriceDiscount',\n",
       "       'Discount', 'ListPrice', 'SaleswithStandard', 'NetSales',\n",
       "       'OrderQuantity', 'Sales'],\n",
       "      dtype='object')"
      ]
     },
     "execution_count": 12,
     "metadata": {},
     "output_type": "execute_result"
    }
   ],
   "source": [
    "df.columns"
   ]
  },
  {
   "cell_type": "markdown",
   "metadata": {},
   "source": [
    "# work with dataframe"
   ]
  },
  {
   "cell_type": "markdown",
   "metadata": {},
   "source": [
    "## modify metadata\n",
    "\n",
    "### rename columns"
   ]
  },
  {
   "cell_type": "code",
   "execution_count": 13,
   "metadata": {},
   "outputs": [
    {
     "data": {
      "application/vnd.microsoft.datawrangler.viewer.v0+json": {
       "columns": [
        {
         "name": "index",
         "rawType": "int64",
         "type": "integer"
        },
        {
         "name": "productcategory",
         "rawType": "object",
         "type": "string"
        },
        {
         "name": "productsubcategory",
         "rawType": "object",
         "type": "string"
        },
        {
         "name": "product",
         "rawType": "object",
         "type": "string"
        },
        {
         "name": "saleterritory",
         "rawType": "object",
         "type": "string"
        },
        {
         "name": "country",
         "rawType": "object",
         "type": "string"
        },
        {
         "name": "city",
         "rawType": "object",
         "type": "string"
        },
        {
         "name": "sate",
         "rawType": "object",
         "type": "string"
        },
        {
         "name": "customer",
         "rawType": "object",
         "type": "string"
        },
        {
         "name": "employee",
         "rawType": "object",
         "type": "string"
        },
        {
         "name": "ordercount",
         "rawType": "int64",
         "type": "integer"
        },
        {
         "name": "orderdate",
         "rawType": "datetime64[ns]",
         "type": "datetime"
        },
        {
         "name": "standardcost",
         "rawType": "float64",
         "type": "float"
        },
        {
         "name": "unitprice",
         "rawType": "float64",
         "type": "float"
        },
        {
         "name": "unitpricediscount",
         "rawType": "float64",
         "type": "float"
        },
        {
         "name": "discount",
         "rawType": "float64",
         "type": "float"
        },
        {
         "name": "listprice",
         "rawType": "float64",
         "type": "float"
        },
        {
         "name": "saleswithstandard",
         "rawType": "float64",
         "type": "float"
        },
        {
         "name": "netsales",
         "rawType": "float64",
         "type": "float"
        },
        {
         "name": "orderquantity",
         "rawType": "int64",
         "type": "integer"
        },
        {
         "name": "sales",
         "rawType": "float64",
         "type": "float"
        }
       ],
       "ref": "69e8544c-c8d5-4f11-9b7e-4722bbdd4e71",
       "rows": [
        [
         "0",
         "Clothing",
         "Caps",
         "AWC Logo Cap",
         "United Kingdom",
         "United Kingdom",
         "Berks",
         "England",
         "Gary Suess",
         "Amy Alberts",
         "1",
         "2012-06-30 00:00:00",
         "6.9223",
         "5.0136",
         "0.02",
         "1.4038",
         "8.6442",
         "96.9122",
         "-28.125608",
         "14",
         "68.786592"
        ],
        [
         "1",
         "Accessories",
         "Locks",
         "Cable Lock",
         "United Kingdom",
         "United Kingdom",
         "Berks",
         "England",
         "Gary Suess",
         "Amy Alberts",
         "1",
         "2012-06-30 00:00:00",
         "10.3125",
         "15.0",
         "0.0",
         "0.0",
         "25.0",
         "61.875",
         "28.125",
         "6",
         "90.0"
        ],
        [
         "2",
         "Clothing",
         "Gloves",
         "Full-Finger Gloves, L",
         "United Kingdom",
         "United Kingdom",
         "Berks",
         "England",
         "Gary Suess",
         "Amy Alberts",
         "1",
         "2012-06-30 00:00:00",
         "15.6709",
         "22.794",
         "0.0",
         "0.0",
         "37.99",
         "125.3672",
         "56.9848",
         "8",
         "182.352"
        ],
        [
         "3",
         "Clothing",
         "Gloves",
         "Full-Finger Gloves, L",
         "United Kingdom",
         "United Kingdom",
         "London",
         "England",
         "Linda Martin",
         "Amy Alberts",
         "1",
         "2012-06-30 00:00:00",
         "15.6709",
         "20.8945",
         "0.05",
         "16.7156",
         "37.99",
         "250.7344",
         "66.862",
         "16",
         "317.5964"
        ],
        [
         "4",
         "Clothing",
         "Gloves",
         "Full-Finger Gloves, M",
         "United Kingdom",
         "United Kingdom",
         "Berks",
         "England",
         "Gary Suess",
         "Amy Alberts",
         "1",
         "2012-06-30 00:00:00",
         "15.6709",
         "22.794",
         "0.0",
         "0.0",
         "37.99",
         "109.6963",
         "49.8617",
         "7",
         "159.558"
        ]
       ],
       "shape": {
        "columns": 20,
        "rows": 5
       }
      },
      "text/html": [
       "<div>\n",
       "<style scoped>\n",
       "    .dataframe tbody tr th:only-of-type {\n",
       "        vertical-align: middle;\n",
       "    }\n",
       "\n",
       "    .dataframe tbody tr th {\n",
       "        vertical-align: top;\n",
       "    }\n",
       "\n",
       "    .dataframe thead th {\n",
       "        text-align: right;\n",
       "    }\n",
       "</style>\n",
       "<table border=\"1\" class=\"dataframe\">\n",
       "  <thead>\n",
       "    <tr style=\"text-align: right;\">\n",
       "      <th></th>\n",
       "      <th>productcategory</th>\n",
       "      <th>productsubcategory</th>\n",
       "      <th>product</th>\n",
       "      <th>saleterritory</th>\n",
       "      <th>country</th>\n",
       "      <th>city</th>\n",
       "      <th>sate</th>\n",
       "      <th>customer</th>\n",
       "      <th>employee</th>\n",
       "      <th>ordercount</th>\n",
       "      <th>orderdate</th>\n",
       "      <th>standardcost</th>\n",
       "      <th>unitprice</th>\n",
       "      <th>unitpricediscount</th>\n",
       "      <th>discount</th>\n",
       "      <th>listprice</th>\n",
       "      <th>saleswithstandard</th>\n",
       "      <th>netsales</th>\n",
       "      <th>orderquantity</th>\n",
       "      <th>sales</th>\n",
       "    </tr>\n",
       "  </thead>\n",
       "  <tbody>\n",
       "    <tr>\n",
       "      <th>0</th>\n",
       "      <td>Clothing</td>\n",
       "      <td>Caps</td>\n",
       "      <td>AWC Logo Cap</td>\n",
       "      <td>United Kingdom</td>\n",
       "      <td>United Kingdom</td>\n",
       "      <td>Berks</td>\n",
       "      <td>England</td>\n",
       "      <td>Gary Suess</td>\n",
       "      <td>Amy Alberts</td>\n",
       "      <td>1</td>\n",
       "      <td>2012-06-30</td>\n",
       "      <td>7</td>\n",
       "      <td>5</td>\n",
       "      <td>0</td>\n",
       "      <td>1</td>\n",
       "      <td>9</td>\n",
       "      <td>97</td>\n",
       "      <td>-28</td>\n",
       "      <td>14</td>\n",
       "      <td>69</td>\n",
       "    </tr>\n",
       "    <tr>\n",
       "      <th>1</th>\n",
       "      <td>Accessories</td>\n",
       "      <td>Locks</td>\n",
       "      <td>Cable Lock</td>\n",
       "      <td>United Kingdom</td>\n",
       "      <td>United Kingdom</td>\n",
       "      <td>Berks</td>\n",
       "      <td>England</td>\n",
       "      <td>Gary Suess</td>\n",
       "      <td>Amy Alberts</td>\n",
       "      <td>1</td>\n",
       "      <td>2012-06-30</td>\n",
       "      <td>10</td>\n",
       "      <td>15</td>\n",
       "      <td>0</td>\n",
       "      <td>0</td>\n",
       "      <td>25</td>\n",
       "      <td>62</td>\n",
       "      <td>28</td>\n",
       "      <td>6</td>\n",
       "      <td>90</td>\n",
       "    </tr>\n",
       "    <tr>\n",
       "      <th>2</th>\n",
       "      <td>Clothing</td>\n",
       "      <td>Gloves</td>\n",
       "      <td>Full-Finger Gloves, L</td>\n",
       "      <td>United Kingdom</td>\n",
       "      <td>United Kingdom</td>\n",
       "      <td>Berks</td>\n",
       "      <td>England</td>\n",
       "      <td>Gary Suess</td>\n",
       "      <td>Amy Alberts</td>\n",
       "      <td>1</td>\n",
       "      <td>2012-06-30</td>\n",
       "      <td>16</td>\n",
       "      <td>23</td>\n",
       "      <td>0</td>\n",
       "      <td>0</td>\n",
       "      <td>38</td>\n",
       "      <td>125</td>\n",
       "      <td>57</td>\n",
       "      <td>8</td>\n",
       "      <td>182</td>\n",
       "    </tr>\n",
       "    <tr>\n",
       "      <th>3</th>\n",
       "      <td>Clothing</td>\n",
       "      <td>Gloves</td>\n",
       "      <td>Full-Finger Gloves, L</td>\n",
       "      <td>United Kingdom</td>\n",
       "      <td>United Kingdom</td>\n",
       "      <td>London</td>\n",
       "      <td>England</td>\n",
       "      <td>Linda Martin</td>\n",
       "      <td>Amy Alberts</td>\n",
       "      <td>1</td>\n",
       "      <td>2012-06-30</td>\n",
       "      <td>16</td>\n",
       "      <td>21</td>\n",
       "      <td>0</td>\n",
       "      <td>17</td>\n",
       "      <td>38</td>\n",
       "      <td>251</td>\n",
       "      <td>67</td>\n",
       "      <td>16</td>\n",
       "      <td>318</td>\n",
       "    </tr>\n",
       "    <tr>\n",
       "      <th>4</th>\n",
       "      <td>Clothing</td>\n",
       "      <td>Gloves</td>\n",
       "      <td>Full-Finger Gloves, M</td>\n",
       "      <td>United Kingdom</td>\n",
       "      <td>United Kingdom</td>\n",
       "      <td>Berks</td>\n",
       "      <td>England</td>\n",
       "      <td>Gary Suess</td>\n",
       "      <td>Amy Alberts</td>\n",
       "      <td>1</td>\n",
       "      <td>2012-06-30</td>\n",
       "      <td>16</td>\n",
       "      <td>23</td>\n",
       "      <td>0</td>\n",
       "      <td>0</td>\n",
       "      <td>38</td>\n",
       "      <td>110</td>\n",
       "      <td>50</td>\n",
       "      <td>7</td>\n",
       "      <td>160</td>\n",
       "    </tr>\n",
       "  </tbody>\n",
       "</table>\n",
       "</div>"
      ],
      "text/plain": [
       "  productcategory productsubcategory                product   saleterritory  \\\n",
       "0        Clothing               Caps           AWC Logo Cap  United Kingdom   \n",
       "1     Accessories              Locks             Cable Lock  United Kingdom   \n",
       "2        Clothing             Gloves  Full-Finger Gloves, L  United Kingdom   \n",
       "3        Clothing             Gloves  Full-Finger Gloves, L  United Kingdom   \n",
       "4        Clothing             Gloves  Full-Finger Gloves, M  United Kingdom   \n",
       "\n",
       "          country    city     sate      customer     employee  ordercount  \\\n",
       "0  United Kingdom   Berks  England    Gary Suess  Amy Alberts           1   \n",
       "1  United Kingdom   Berks  England    Gary Suess  Amy Alberts           1   \n",
       "2  United Kingdom   Berks  England    Gary Suess  Amy Alberts           1   \n",
       "3  United Kingdom  London  England  Linda Martin  Amy Alberts           1   \n",
       "4  United Kingdom   Berks  England    Gary Suess  Amy Alberts           1   \n",
       "\n",
       "   orderdate  standardcost  unitprice  unitpricediscount  discount  listprice  \\\n",
       "0 2012-06-30             7          5                  0         1          9   \n",
       "1 2012-06-30            10         15                  0         0         25   \n",
       "2 2012-06-30            16         23                  0         0         38   \n",
       "3 2012-06-30            16         21                  0        17         38   \n",
       "4 2012-06-30            16         23                  0         0         38   \n",
       "\n",
       "   saleswithstandard  netsales  orderquantity  sales  \n",
       "0                 97       -28             14     69  \n",
       "1                 62        28              6     90  \n",
       "2                125        57              8    182  \n",
       "3                251        67             16    318  \n",
       "4                110        50              7    160  "
      ]
     },
     "execution_count": 13,
     "metadata": {},
     "output_type": "execute_result"
    }
   ],
   "source": [
    "df = df.rename(columns=str.lower)\n",
    "df[0:3].sort_index(axis=1, ascending=False)\n",
    "df.head()"
   ]
  },
  {
   "cell_type": "markdown",
   "metadata": {},
   "source": [
    "### rename dataframe columns\n",
    "\n",
    "> provide a dictionary with the following structure:\n",
    "\n",
    "    {abc:def}"
   ]
  },
  {
   "cell_type": "code",
   "execution_count": 14,
   "metadata": {},
   "outputs": [
    {
     "data": {
      "application/vnd.microsoft.datawrangler.viewer.v0+json": {
       "columns": [
        {
         "name": "index",
         "rawType": "int64",
         "type": "integer"
        },
        {
         "name": "category",
         "rawType": "object",
         "type": "string"
        },
        {
         "name": "subcategory",
         "rawType": "object",
         "type": "string"
        },
        {
         "name": "product",
         "rawType": "object",
         "type": "string"
        },
        {
         "name": "territory",
         "rawType": "object",
         "type": "string"
        },
        {
         "name": "country",
         "rawType": "object",
         "type": "string"
        },
        {
         "name": "city",
         "rawType": "object",
         "type": "string"
        },
        {
         "name": "state",
         "rawType": "object",
         "type": "string"
        },
        {
         "name": "customer",
         "rawType": "object",
         "type": "string"
        },
        {
         "name": "employee",
         "rawType": "object",
         "type": "string"
        },
        {
         "name": "ordercount",
         "rawType": "int64",
         "type": "integer"
        },
        {
         "name": "date",
         "rawType": "datetime64[ns]",
         "type": "datetime"
        },
        {
         "name": "standardcost",
         "rawType": "float64",
         "type": "float"
        },
        {
         "name": "unitprice",
         "rawType": "float64",
         "type": "float"
        },
        {
         "name": "unitpricediscount",
         "rawType": "float64",
         "type": "float"
        },
        {
         "name": "discount",
         "rawType": "float64",
         "type": "float"
        },
        {
         "name": "listprice",
         "rawType": "float64",
         "type": "float"
        },
        {
         "name": "saleswithstandard",
         "rawType": "float64",
         "type": "float"
        },
        {
         "name": "netsales",
         "rawType": "float64",
         "type": "float"
        },
        {
         "name": "quantity",
         "rawType": "int64",
         "type": "integer"
        },
        {
         "name": "sales",
         "rawType": "float64",
         "type": "float"
        }
       ],
       "ref": "82b8cde0-4c9d-4136-8fca-06d651abd73e",
       "rows": [
        [
         "0",
         "Clothing",
         "Caps",
         "AWC Logo Cap",
         "United Kingdom",
         "United Kingdom",
         "Berks",
         "England",
         "Gary Suess",
         "Amy Alberts",
         "1",
         "2012-06-30 00:00:00",
         "6.9223",
         "5.0136",
         "0.02",
         "1.4038",
         "8.6442",
         "96.9122",
         "-28.125608",
         "14",
         "68.786592"
        ],
        [
         "1",
         "Accessories",
         "Locks",
         "Cable Lock",
         "United Kingdom",
         "United Kingdom",
         "Berks",
         "England",
         "Gary Suess",
         "Amy Alberts",
         "1",
         "2012-06-30 00:00:00",
         "10.3125",
         "15.0",
         "0.0",
         "0.0",
         "25.0",
         "61.875",
         "28.125",
         "6",
         "90.0"
        ],
        [
         "2",
         "Clothing",
         "Gloves",
         "Full-Finger Gloves, L",
         "United Kingdom",
         "United Kingdom",
         "Berks",
         "England",
         "Gary Suess",
         "Amy Alberts",
         "1",
         "2012-06-30 00:00:00",
         "15.6709",
         "22.794",
         "0.0",
         "0.0",
         "37.99",
         "125.3672",
         "56.9848",
         "8",
         "182.352"
        ],
        [
         "3",
         "Clothing",
         "Gloves",
         "Full-Finger Gloves, L",
         "United Kingdom",
         "United Kingdom",
         "London",
         "England",
         "Linda Martin",
         "Amy Alberts",
         "1",
         "2012-06-30 00:00:00",
         "15.6709",
         "20.8945",
         "0.05",
         "16.7156",
         "37.99",
         "250.7344",
         "66.862",
         "16",
         "317.5964"
        ],
        [
         "4",
         "Clothing",
         "Gloves",
         "Full-Finger Gloves, M",
         "United Kingdom",
         "United Kingdom",
         "Berks",
         "England",
         "Gary Suess",
         "Amy Alberts",
         "1",
         "2012-06-30 00:00:00",
         "15.6709",
         "22.794",
         "0.0",
         "0.0",
         "37.99",
         "109.6963",
         "49.8617",
         "7",
         "159.558"
        ]
       ],
       "shape": {
        "columns": 20,
        "rows": 5
       }
      },
      "text/html": [
       "<div>\n",
       "<style scoped>\n",
       "    .dataframe tbody tr th:only-of-type {\n",
       "        vertical-align: middle;\n",
       "    }\n",
       "\n",
       "    .dataframe tbody tr th {\n",
       "        vertical-align: top;\n",
       "    }\n",
       "\n",
       "    .dataframe thead th {\n",
       "        text-align: right;\n",
       "    }\n",
       "</style>\n",
       "<table border=\"1\" class=\"dataframe\">\n",
       "  <thead>\n",
       "    <tr style=\"text-align: right;\">\n",
       "      <th></th>\n",
       "      <th>category</th>\n",
       "      <th>subcategory</th>\n",
       "      <th>product</th>\n",
       "      <th>territory</th>\n",
       "      <th>country</th>\n",
       "      <th>city</th>\n",
       "      <th>state</th>\n",
       "      <th>customer</th>\n",
       "      <th>employee</th>\n",
       "      <th>ordercount</th>\n",
       "      <th>date</th>\n",
       "      <th>standardcost</th>\n",
       "      <th>unitprice</th>\n",
       "      <th>unitpricediscount</th>\n",
       "      <th>discount</th>\n",
       "      <th>listprice</th>\n",
       "      <th>saleswithstandard</th>\n",
       "      <th>netsales</th>\n",
       "      <th>quantity</th>\n",
       "      <th>sales</th>\n",
       "    </tr>\n",
       "  </thead>\n",
       "  <tbody>\n",
       "    <tr>\n",
       "      <th>0</th>\n",
       "      <td>Clothing</td>\n",
       "      <td>Caps</td>\n",
       "      <td>AWC Logo Cap</td>\n",
       "      <td>United Kingdom</td>\n",
       "      <td>United Kingdom</td>\n",
       "      <td>Berks</td>\n",
       "      <td>England</td>\n",
       "      <td>Gary Suess</td>\n",
       "      <td>Amy Alberts</td>\n",
       "      <td>1</td>\n",
       "      <td>2012-06-30</td>\n",
       "      <td>7</td>\n",
       "      <td>5</td>\n",
       "      <td>0</td>\n",
       "      <td>1</td>\n",
       "      <td>9</td>\n",
       "      <td>97</td>\n",
       "      <td>-28</td>\n",
       "      <td>14</td>\n",
       "      <td>69</td>\n",
       "    </tr>\n",
       "    <tr>\n",
       "      <th>1</th>\n",
       "      <td>Accessories</td>\n",
       "      <td>Locks</td>\n",
       "      <td>Cable Lock</td>\n",
       "      <td>United Kingdom</td>\n",
       "      <td>United Kingdom</td>\n",
       "      <td>Berks</td>\n",
       "      <td>England</td>\n",
       "      <td>Gary Suess</td>\n",
       "      <td>Amy Alberts</td>\n",
       "      <td>1</td>\n",
       "      <td>2012-06-30</td>\n",
       "      <td>10</td>\n",
       "      <td>15</td>\n",
       "      <td>0</td>\n",
       "      <td>0</td>\n",
       "      <td>25</td>\n",
       "      <td>62</td>\n",
       "      <td>28</td>\n",
       "      <td>6</td>\n",
       "      <td>90</td>\n",
       "    </tr>\n",
       "    <tr>\n",
       "      <th>2</th>\n",
       "      <td>Clothing</td>\n",
       "      <td>Gloves</td>\n",
       "      <td>Full-Finger Gloves, L</td>\n",
       "      <td>United Kingdom</td>\n",
       "      <td>United Kingdom</td>\n",
       "      <td>Berks</td>\n",
       "      <td>England</td>\n",
       "      <td>Gary Suess</td>\n",
       "      <td>Amy Alberts</td>\n",
       "      <td>1</td>\n",
       "      <td>2012-06-30</td>\n",
       "      <td>16</td>\n",
       "      <td>23</td>\n",
       "      <td>0</td>\n",
       "      <td>0</td>\n",
       "      <td>38</td>\n",
       "      <td>125</td>\n",
       "      <td>57</td>\n",
       "      <td>8</td>\n",
       "      <td>182</td>\n",
       "    </tr>\n",
       "    <tr>\n",
       "      <th>3</th>\n",
       "      <td>Clothing</td>\n",
       "      <td>Gloves</td>\n",
       "      <td>Full-Finger Gloves, L</td>\n",
       "      <td>United Kingdom</td>\n",
       "      <td>United Kingdom</td>\n",
       "      <td>London</td>\n",
       "      <td>England</td>\n",
       "      <td>Linda Martin</td>\n",
       "      <td>Amy Alberts</td>\n",
       "      <td>1</td>\n",
       "      <td>2012-06-30</td>\n",
       "      <td>16</td>\n",
       "      <td>21</td>\n",
       "      <td>0</td>\n",
       "      <td>17</td>\n",
       "      <td>38</td>\n",
       "      <td>251</td>\n",
       "      <td>67</td>\n",
       "      <td>16</td>\n",
       "      <td>318</td>\n",
       "    </tr>\n",
       "    <tr>\n",
       "      <th>4</th>\n",
       "      <td>Clothing</td>\n",
       "      <td>Gloves</td>\n",
       "      <td>Full-Finger Gloves, M</td>\n",
       "      <td>United Kingdom</td>\n",
       "      <td>United Kingdom</td>\n",
       "      <td>Berks</td>\n",
       "      <td>England</td>\n",
       "      <td>Gary Suess</td>\n",
       "      <td>Amy Alberts</td>\n",
       "      <td>1</td>\n",
       "      <td>2012-06-30</td>\n",
       "      <td>16</td>\n",
       "      <td>23</td>\n",
       "      <td>0</td>\n",
       "      <td>0</td>\n",
       "      <td>38</td>\n",
       "      <td>110</td>\n",
       "      <td>50</td>\n",
       "      <td>7</td>\n",
       "      <td>160</td>\n",
       "    </tr>\n",
       "  </tbody>\n",
       "</table>\n",
       "</div>"
      ],
      "text/plain": [
       "      category subcategory                product       territory  \\\n",
       "0     Clothing        Caps           AWC Logo Cap  United Kingdom   \n",
       "1  Accessories       Locks             Cable Lock  United Kingdom   \n",
       "2     Clothing      Gloves  Full-Finger Gloves, L  United Kingdom   \n",
       "3     Clothing      Gloves  Full-Finger Gloves, L  United Kingdom   \n",
       "4     Clothing      Gloves  Full-Finger Gloves, M  United Kingdom   \n",
       "\n",
       "          country    city    state      customer     employee  ordercount  \\\n",
       "0  United Kingdom   Berks  England    Gary Suess  Amy Alberts           1   \n",
       "1  United Kingdom   Berks  England    Gary Suess  Amy Alberts           1   \n",
       "2  United Kingdom   Berks  England    Gary Suess  Amy Alberts           1   \n",
       "3  United Kingdom  London  England  Linda Martin  Amy Alberts           1   \n",
       "4  United Kingdom   Berks  England    Gary Suess  Amy Alberts           1   \n",
       "\n",
       "        date  standardcost  unitprice  unitpricediscount  discount  listprice  \\\n",
       "0 2012-06-30             7          5                  0         1          9   \n",
       "1 2012-06-30            10         15                  0         0         25   \n",
       "2 2012-06-30            16         23                  0         0         38   \n",
       "3 2012-06-30            16         21                  0        17         38   \n",
       "4 2012-06-30            16         23                  0         0         38   \n",
       "\n",
       "   saleswithstandard  netsales  quantity  sales  \n",
       "0                 97       -28        14     69  \n",
       "1                 62        28         6     90  \n",
       "2                125        57         8    182  \n",
       "3                251        67        16    318  \n",
       "4                110        50         7    160  "
      ]
     },
     "execution_count": 14,
     "metadata": {},
     "output_type": "execute_result"
    }
   ],
   "source": [
    "df = df.rename(columns={\n",
    "    'productcategory': 'category',\n",
    "    'saleterritory': 'territory',\n",
    "    'productsubcategory': 'subcategory',\n",
    "    'orderquantity': 'quantity',\n",
    "    'orderdate': 'date',\n",
    "    'sate': 'state'\n",
    "}, errors='raise')\n",
    "df.head()"
   ]
  },
  {
   "cell_type": "code",
   "execution_count": 15,
   "metadata": {},
   "outputs": [
    {
     "data": {
      "text/plain": [
       "(60880, 20)"
      ]
     },
     "execution_count": 15,
     "metadata": {},
     "output_type": "execute_result"
    }
   ],
   "source": [
    "df.shape"
   ]
  },
  {
   "cell_type": "markdown",
   "metadata": {},
   "source": [
    "## get subset of dataframe"
   ]
  },
  {
   "cell_type": "markdown",
   "metadata": {},
   "source": [
    "### get one column"
   ]
  },
  {
   "cell_type": "code",
   "execution_count": 16,
   "metadata": {},
   "outputs": [
    {
     "data": {
      "application/vnd.microsoft.datawrangler.viewer.v0+json": {
       "columns": [
        {
         "name": "index",
         "rawType": "int64",
         "type": "integer"
        },
        {
         "name": "product",
         "rawType": "object",
         "type": "string"
        }
       ],
       "ref": "e3de6b61-a332-4ae4-9836-dafc8acd4871",
       "rows": [
        [
         "0",
         "AWC Logo Cap"
        ],
        [
         "1",
         "Cable Lock"
        ],
        [
         "2",
         "Full-Finger Gloves, L"
        ],
        [
         "3",
         "Full-Finger Gloves, L"
        ],
        [
         "4",
         "Full-Finger Gloves, M"
        ]
       ],
       "shape": {
        "columns": 1,
        "rows": 5
       }
      },
      "text/plain": [
       "0             AWC Logo Cap\n",
       "1               Cable Lock\n",
       "2    Full-Finger Gloves, L\n",
       "3    Full-Finger Gloves, L\n",
       "4    Full-Finger Gloves, M\n",
       "Name: product, dtype: object"
      ]
     },
     "execution_count": 16,
     "metadata": {},
     "output_type": "execute_result"
    }
   ],
   "source": [
    "# df['product'].head()\n",
    "df['product'][0:5]\n"
   ]
  },
  {
   "cell_type": "markdown",
   "metadata": {},
   "source": [
    "### get more columns"
   ]
  },
  {
   "cell_type": "code",
   "execution_count": 17,
   "metadata": {},
   "outputs": [
    {
     "data": {
      "application/vnd.microsoft.datawrangler.viewer.v0+json": {
       "columns": [
        {
         "name": "index",
         "rawType": "int64",
         "type": "integer"
        },
        {
         "name": "category",
         "rawType": "object",
         "type": "string"
        },
        {
         "name": "product",
         "rawType": "object",
         "type": "string"
        }
       ],
       "ref": "e2cbaadf-7806-4617-8893-02533a7d28e5",
       "rows": [
        [
         "0",
         "Clothing",
         "AWC Logo Cap"
        ],
        [
         "1",
         "Accessories",
         "Cable Lock"
        ],
        [
         "2",
         "Clothing",
         "Full-Finger Gloves, L"
        ]
       ],
       "shape": {
        "columns": 2,
        "rows": 3
       }
      },
      "text/html": [
       "<div>\n",
       "<style scoped>\n",
       "    .dataframe tbody tr th:only-of-type {\n",
       "        vertical-align: middle;\n",
       "    }\n",
       "\n",
       "    .dataframe tbody tr th {\n",
       "        vertical-align: top;\n",
       "    }\n",
       "\n",
       "    .dataframe thead th {\n",
       "        text-align: right;\n",
       "    }\n",
       "</style>\n",
       "<table border=\"1\" class=\"dataframe\">\n",
       "  <thead>\n",
       "    <tr style=\"text-align: right;\">\n",
       "      <th></th>\n",
       "      <th>category</th>\n",
       "      <th>product</th>\n",
       "    </tr>\n",
       "  </thead>\n",
       "  <tbody>\n",
       "    <tr>\n",
       "      <th>0</th>\n",
       "      <td>Clothing</td>\n",
       "      <td>AWC Logo Cap</td>\n",
       "    </tr>\n",
       "    <tr>\n",
       "      <th>1</th>\n",
       "      <td>Accessories</td>\n",
       "      <td>Cable Lock</td>\n",
       "    </tr>\n",
       "    <tr>\n",
       "      <th>2</th>\n",
       "      <td>Clothing</td>\n",
       "      <td>Full-Finger Gloves, L</td>\n",
       "    </tr>\n",
       "  </tbody>\n",
       "</table>\n",
       "</div>"
      ],
      "text/plain": [
       "      category                product\n",
       "0     Clothing           AWC Logo Cap\n",
       "1  Accessories             Cable Lock\n",
       "2     Clothing  Full-Finger Gloves, L"
      ]
     },
     "execution_count": 17,
     "metadata": {},
     "output_type": "execute_result"
    }
   ],
   "source": [
    "#  pass a list of column names to filter\n",
    "df[['category','product']][0:3]"
   ]
  },
  {
   "cell_type": "markdown",
   "metadata": {},
   "source": [
    "### limit columns of dataframe"
   ]
  },
  {
   "cell_type": "code",
   "execution_count": 18,
   "metadata": {},
   "outputs": [
    {
     "data": {
      "text/plain": [
       "Index(['category', 'subcategory', 'product', 'territory', 'country', 'city',\n",
       "       'state', 'customer', 'employee', 'ordercount', 'date', 'standardcost',\n",
       "       'unitprice', 'unitpricediscount', 'discount', 'listprice',\n",
       "       'saleswithstandard', 'netsales', 'quantity', 'sales'],\n",
       "      dtype='object')"
      ]
     },
     "execution_count": 18,
     "metadata": {},
     "output_type": "execute_result"
    }
   ],
   "source": [
    "df.columns"
   ]
  },
  {
   "cell_type": "code",
   "execution_count": 19,
   "metadata": {},
   "outputs": [
    {
     "data": {
      "application/vnd.microsoft.datawrangler.viewer.v0+json": {
       "columns": [
        {
         "name": "index",
         "rawType": "int64",
         "type": "integer"
        },
        {
         "name": "category",
         "rawType": "object",
         "type": "string"
        },
        {
         "name": "subcategory",
         "rawType": "object",
         "type": "string"
        },
        {
         "name": "product",
         "rawType": "object",
         "type": "string"
        },
        {
         "name": "date",
         "rawType": "datetime64[ns]",
         "type": "datetime"
        },
        {
         "name": "listprice",
         "rawType": "float64",
         "type": "float"
        },
        {
         "name": "quantity",
         "rawType": "int64",
         "type": "integer"
        },
        {
         "name": "sales",
         "rawType": "float64",
         "type": "float"
        }
       ],
       "ref": "ace178e7-6567-4582-8676-d4e814cad047",
       "rows": [
        [
         "0",
         "Clothing",
         "Caps",
         "AWC Logo Cap",
         "2012-06-30 00:00:00",
         "8.6442",
         "14",
         "68.786592"
        ],
        [
         "1",
         "Accessories",
         "Locks",
         "Cable Lock",
         "2012-06-30 00:00:00",
         "25.0",
         "6",
         "90.0"
        ],
        [
         "2",
         "Clothing",
         "Gloves",
         "Full-Finger Gloves, L",
         "2012-06-30 00:00:00",
         "37.99",
         "8",
         "182.352"
        ],
        [
         "3",
         "Clothing",
         "Gloves",
         "Full-Finger Gloves, L",
         "2012-06-30 00:00:00",
         "37.99",
         "16",
         "317.5964"
        ],
        [
         "4",
         "Clothing",
         "Gloves",
         "Full-Finger Gloves, M",
         "2012-06-30 00:00:00",
         "37.99",
         "7",
         "159.558"
        ]
       ],
       "shape": {
        "columns": 7,
        "rows": 5
       }
      },
      "text/html": [
       "<div>\n",
       "<style scoped>\n",
       "    .dataframe tbody tr th:only-of-type {\n",
       "        vertical-align: middle;\n",
       "    }\n",
       "\n",
       "    .dataframe tbody tr th {\n",
       "        vertical-align: top;\n",
       "    }\n",
       "\n",
       "    .dataframe thead th {\n",
       "        text-align: right;\n",
       "    }\n",
       "</style>\n",
       "<table border=\"1\" class=\"dataframe\">\n",
       "  <thead>\n",
       "    <tr style=\"text-align: right;\">\n",
       "      <th></th>\n",
       "      <th>category</th>\n",
       "      <th>subcategory</th>\n",
       "      <th>product</th>\n",
       "      <th>date</th>\n",
       "      <th>listprice</th>\n",
       "      <th>quantity</th>\n",
       "      <th>sales</th>\n",
       "    </tr>\n",
       "  </thead>\n",
       "  <tbody>\n",
       "    <tr>\n",
       "      <th>0</th>\n",
       "      <td>Clothing</td>\n",
       "      <td>Caps</td>\n",
       "      <td>AWC Logo Cap</td>\n",
       "      <td>2012-06-30</td>\n",
       "      <td>9</td>\n",
       "      <td>14</td>\n",
       "      <td>69</td>\n",
       "    </tr>\n",
       "    <tr>\n",
       "      <th>1</th>\n",
       "      <td>Accessories</td>\n",
       "      <td>Locks</td>\n",
       "      <td>Cable Lock</td>\n",
       "      <td>2012-06-30</td>\n",
       "      <td>25</td>\n",
       "      <td>6</td>\n",
       "      <td>90</td>\n",
       "    </tr>\n",
       "    <tr>\n",
       "      <th>2</th>\n",
       "      <td>Clothing</td>\n",
       "      <td>Gloves</td>\n",
       "      <td>Full-Finger Gloves, L</td>\n",
       "      <td>2012-06-30</td>\n",
       "      <td>38</td>\n",
       "      <td>8</td>\n",
       "      <td>182</td>\n",
       "    </tr>\n",
       "    <tr>\n",
       "      <th>3</th>\n",
       "      <td>Clothing</td>\n",
       "      <td>Gloves</td>\n",
       "      <td>Full-Finger Gloves, L</td>\n",
       "      <td>2012-06-30</td>\n",
       "      <td>38</td>\n",
       "      <td>16</td>\n",
       "      <td>318</td>\n",
       "    </tr>\n",
       "    <tr>\n",
       "      <th>4</th>\n",
       "      <td>Clothing</td>\n",
       "      <td>Gloves</td>\n",
       "      <td>Full-Finger Gloves, M</td>\n",
       "      <td>2012-06-30</td>\n",
       "      <td>38</td>\n",
       "      <td>7</td>\n",
       "      <td>160</td>\n",
       "    </tr>\n",
       "  </tbody>\n",
       "</table>\n",
       "</div>"
      ],
      "text/plain": [
       "      category subcategory                product       date  listprice  \\\n",
       "0     Clothing        Caps           AWC Logo Cap 2012-06-30          9   \n",
       "1  Accessories       Locks             Cable Lock 2012-06-30         25   \n",
       "2     Clothing      Gloves  Full-Finger Gloves, L 2012-06-30         38   \n",
       "3     Clothing      Gloves  Full-Finger Gloves, L 2012-06-30         38   \n",
       "4     Clothing      Gloves  Full-Finger Gloves, M 2012-06-30         38   \n",
       "\n",
       "   quantity  sales  \n",
       "0        14     69  \n",
       "1         6     90  \n",
       "2         8    182  \n",
       "3        16    318  \n",
       "4         7    160  "
      ]
     },
     "execution_count": 19,
     "metadata": {},
     "output_type": "execute_result"
    }
   ],
   "source": [
    "df2 = df['category subcategory product date listprice quantity sales'.split()]\n",
    "df2.head()"
   ]
  },
  {
   "cell_type": "markdown",
   "metadata": {},
   "source": [
    "## work with dataframe data types"
   ]
  },
  {
   "cell_type": "markdown",
   "metadata": {},
   "source": [
    "### show dataframe columns data types"
   ]
  },
  {
   "cell_type": "code",
   "execution_count": 20,
   "metadata": {},
   "outputs": [
    {
     "data": {
      "application/vnd.microsoft.datawrangler.viewer.v0+json": {
       "columns": [
        {
         "name": "index",
         "rawType": "object",
         "type": "string"
        },
        {
         "name": "0",
         "rawType": "object",
         "type": "unknown"
        }
       ],
       "ref": "e762b8bc-c25d-4dc2-811a-6e2bef8a0caf",
       "rows": [
        [
         "category",
         "object"
        ],
        [
         "subcategory",
         "object"
        ],
        [
         "product",
         "object"
        ],
        [
         "territory",
         "object"
        ],
        [
         "country",
         "object"
        ],
        [
         "city",
         "object"
        ],
        [
         "state",
         "object"
        ],
        [
         "customer",
         "object"
        ],
        [
         "employee",
         "object"
        ],
        [
         "ordercount",
         "int64"
        ],
        [
         "date",
         "datetime64[ns]"
        ],
        [
         "standardcost",
         "float64"
        ],
        [
         "unitprice",
         "float64"
        ],
        [
         "unitpricediscount",
         "float64"
        ],
        [
         "discount",
         "float64"
        ],
        [
         "listprice",
         "float64"
        ],
        [
         "saleswithstandard",
         "float64"
        ],
        [
         "netsales",
         "float64"
        ],
        [
         "quantity",
         "int64"
        ],
        [
         "sales",
         "float64"
        ]
       ],
       "shape": {
        "columns": 1,
        "rows": 20
       }
      },
      "text/plain": [
       "category                     object\n",
       "subcategory                  object\n",
       "product                      object\n",
       "territory                    object\n",
       "country                      object\n",
       "city                         object\n",
       "state                        object\n",
       "customer                     object\n",
       "employee                     object\n",
       "ordercount                    int64\n",
       "date                 datetime64[ns]\n",
       "standardcost                float64\n",
       "unitprice                   float64\n",
       "unitpricediscount           float64\n",
       "discount                    float64\n",
       "listprice                   float64\n",
       "saleswithstandard           float64\n",
       "netsales                    float64\n",
       "quantity                      int64\n",
       "sales                       float64\n",
       "dtype: object"
      ]
     },
     "execution_count": 20,
     "metadata": {},
     "output_type": "execute_result"
    }
   ],
   "source": [
    "df.dtypes"
   ]
  },
  {
   "cell_type": "markdown",
   "metadata": {},
   "source": [
    "### convert column data type"
   ]
  },
  {
   "cell_type": "code",
   "execution_count": 21,
   "metadata": {},
   "outputs": [
    {
     "data": {
      "application/vnd.microsoft.datawrangler.viewer.v0+json": {
       "columns": [
        {
         "name": "index",
         "rawType": "int64",
         "type": "integer"
        },
        {
         "name": "date",
         "rawType": "datetime64[ns]",
         "type": "datetime"
        }
       ],
       "ref": "c7095bc3-30d3-42e6-b0c5-5e4da4694168",
       "rows": [
        [
         "0",
         "2012-06-30 00:00:00"
        ],
        [
         "1",
         "2012-06-30 00:00:00"
        ],
        [
         "2",
         "2012-06-30 00:00:00"
        ],
        [
         "3",
         "2012-06-30 00:00:00"
        ],
        [
         "4",
         "2012-06-30 00:00:00"
        ]
       ],
       "shape": {
        "columns": 1,
        "rows": 5
       }
      },
      "text/plain": [
       "0   2012-06-30\n",
       "1   2012-06-30\n",
       "2   2012-06-30\n",
       "3   2012-06-30\n",
       "4   2012-06-30\n",
       "Name: date, dtype: datetime64[ns]"
      ]
     },
     "execution_count": 21,
     "metadata": {},
     "output_type": "execute_result"
    }
   ],
   "source": [
    "df['date'] = pd.to_datetime(df['date'])\n",
    "df['date'].head()"
   ]
  },
  {
   "cell_type": "markdown",
   "metadata": {},
   "source": [
    "### raise error when trying to convert NANs (NULLs)"
   ]
  },
  {
   "cell_type": "code",
   "execution_count": 22,
   "metadata": {},
   "outputs": [
    {
     "name": "stdout",
     "output_type": "stream",
     "text": [
      "IntCastingNaNError('Cannot convert non-finite values (NA or inf) to integer')\n"
     ]
    }
   ],
   "source": [
    "try:\n",
    "    df['listprice'] = df['listprice'].astype(int)\n",
    "except Exception as e:\n",
    "    print(repr(e))"
   ]
  },
  {
   "cell_type": "markdown",
   "metadata": {},
   "source": [
    "## fixing NULL values"
   ]
  },
  {
   "cell_type": "markdown",
   "metadata": {},
   "source": [
    "### check whether there are columns containing nulls (nans)"
   ]
  },
  {
   "cell_type": "code",
   "execution_count": 23,
   "metadata": {},
   "outputs": [
    {
     "data": {
      "application/vnd.microsoft.datawrangler.viewer.v0+json": {
       "columns": [
        {
         "name": "index",
         "rawType": "object",
         "type": "string"
        },
        {
         "name": "0",
         "rawType": "bool",
         "type": "boolean"
        }
       ],
       "ref": "a8b40247-8292-4d60-baeb-65ebdc36be31",
       "rows": [
        [
         "category",
         "True"
        ],
        [
         "subcategory",
         "True"
        ],
        [
         "product",
         "True"
        ],
        [
         "territory",
         "False"
        ],
        [
         "country",
         "False"
        ],
        [
         "city",
         "False"
        ],
        [
         "state",
         "False"
        ],
        [
         "customer",
         "False"
        ],
        [
         "employee",
         "False"
        ],
        [
         "ordercount",
         "False"
        ],
        [
         "date",
         "False"
        ],
        [
         "standardcost",
         "True"
        ],
        [
         "unitprice",
         "False"
        ],
        [
         "unitpricediscount",
         "False"
        ],
        [
         "discount",
         "False"
        ],
        [
         "listprice",
         "True"
        ],
        [
         "saleswithstandard",
         "True"
        ],
        [
         "netsales",
         "True"
        ],
        [
         "quantity",
         "False"
        ],
        [
         "sales",
         "False"
        ]
       ],
       "shape": {
        "columns": 1,
        "rows": 20
       }
      },
      "text/plain": [
       "category              True\n",
       "subcategory           True\n",
       "product               True\n",
       "territory            False\n",
       "country              False\n",
       "city                 False\n",
       "state                False\n",
       "customer             False\n",
       "employee             False\n",
       "ordercount           False\n",
       "date                 False\n",
       "standardcost          True\n",
       "unitprice            False\n",
       "unitpricediscount    False\n",
       "discount             False\n",
       "listprice             True\n",
       "saleswithstandard     True\n",
       "netsales              True\n",
       "quantity             False\n",
       "sales                False\n",
       "dtype: bool"
      ]
     },
     "execution_count": 23,
     "metadata": {},
     "output_type": "execute_result"
    }
   ],
   "source": [
    "df.isnull().any()"
   ]
  },
  {
   "cell_type": "markdown",
   "metadata": {},
   "source": [
    "### count null values per columns"
   ]
  },
  {
   "cell_type": "code",
   "execution_count": 24,
   "metadata": {},
   "outputs": [
    {
     "data": {
      "application/vnd.microsoft.datawrangler.viewer.v0+json": {
       "columns": [
        {
         "name": "index",
         "rawType": "object",
         "type": "string"
        },
        {
         "name": "0",
         "rawType": "int64",
         "type": "integer"
        }
       ],
       "ref": "7710827e-aa01-4ad7-a98e-7440dc944ebb",
       "rows": [
        [
         "category",
         "39"
        ],
        [
         "subcategory",
         "39"
        ],
        [
         "product",
         "39"
        ],
        [
         "territory",
         "0"
        ],
        [
         "country",
         "0"
        ],
        [
         "city",
         "0"
        ],
        [
         "state",
         "0"
        ],
        [
         "customer",
         "0"
        ],
        [
         "employee",
         "0"
        ],
        [
         "ordercount",
         "0"
        ],
        [
         "date",
         "0"
        ],
        [
         "standardcost",
         "39"
        ],
        [
         "unitprice",
         "0"
        ],
        [
         "unitpricediscount",
         "0"
        ],
        [
         "discount",
         "0"
        ],
        [
         "listprice",
         "39"
        ],
        [
         "saleswithstandard",
         "39"
        ],
        [
         "netsales",
         "39"
        ],
        [
         "quantity",
         "0"
        ],
        [
         "sales",
         "0"
        ]
       ],
       "shape": {
        "columns": 1,
        "rows": 20
       }
      },
      "text/plain": [
       "category             39\n",
       "subcategory          39\n",
       "product              39\n",
       "territory             0\n",
       "country               0\n",
       "city                  0\n",
       "state                 0\n",
       "customer              0\n",
       "employee              0\n",
       "ordercount            0\n",
       "date                  0\n",
       "standardcost         39\n",
       "unitprice             0\n",
       "unitpricediscount     0\n",
       "discount              0\n",
       "listprice            39\n",
       "saleswithstandard    39\n",
       "netsales             39\n",
       "quantity              0\n",
       "sales                 0\n",
       "dtype: int64"
      ]
     },
     "execution_count": 24,
     "metadata": {},
     "output_type": "execute_result"
    }
   ],
   "source": [
    "df.isnull().sum()"
   ]
  },
  {
   "cell_type": "markdown",
   "metadata": {},
   "source": [
    "### fill column null values with custom values"
   ]
  },
  {
   "cell_type": "markdown",
   "metadata": {},
   "source": [
    "> deprecated in pandas 3.0"
   ]
  },
  {
   "cell_type": "code",
   "execution_count": 25,
   "metadata": {},
   "outputs": [
    {
     "name": "stderr",
     "output_type": "stream",
     "text": [
      "/var/folders/ch/0323xqnn3vbc6t95tfvmh0w40000gn/T/ipykernel_22581/2310545220.py:1: FutureWarning: A value is trying to be set on a copy of a DataFrame or Series through chained assignment using an inplace method.\n",
      "The behavior will change in pandas 3.0. This inplace method will never work because the intermediate object on which we are setting values always behaves as a copy.\n",
      "\n",
      "For example, when doing 'df[col].method(value, inplace=True)', try using 'df.method({col: value}, inplace=True)' or df[col] = df[col].method(value) instead, to perform the operation inplace on the original object.\n",
      "\n",
      "\n",
      "  df['category'].fillna('unknown', inplace=True)  # deprecated in pandas 3.0\n"
     ]
    }
   ],
   "source": [
    "df['category'].fillna('unknown', inplace=True)  # deprecated in pandas 3.0\n"
   ]
  },
  {
   "cell_type": "code",
   "execution_count": 26,
   "metadata": {},
   "outputs": [
    {
     "data": {
      "application/vnd.microsoft.datawrangler.viewer.v0+json": {
       "columns": [
        {
         "name": "index",
         "rawType": "int64",
         "type": "integer"
        },
        {
         "name": "category",
         "rawType": "object",
         "type": "string"
        },
        {
         "name": "subcategory",
         "rawType": "object",
         "type": "unknown"
        },
        {
         "name": "product",
         "rawType": "object",
         "type": "unknown"
        },
        {
         "name": "territory",
         "rawType": "object",
         "type": "string"
        },
        {
         "name": "country",
         "rawType": "object",
         "type": "string"
        },
        {
         "name": "city",
         "rawType": "object",
         "type": "string"
        },
        {
         "name": "state",
         "rawType": "object",
         "type": "string"
        },
        {
         "name": "customer",
         "rawType": "object",
         "type": "string"
        },
        {
         "name": "employee",
         "rawType": "object",
         "type": "string"
        },
        {
         "name": "ordercount",
         "rawType": "int64",
         "type": "integer"
        },
        {
         "name": "date",
         "rawType": "datetime64[ns]",
         "type": "datetime"
        },
        {
         "name": "standardcost",
         "rawType": "float64",
         "type": "float"
        },
        {
         "name": "unitprice",
         "rawType": "float64",
         "type": "float"
        },
        {
         "name": "unitpricediscount",
         "rawType": "float64",
         "type": "float"
        },
        {
         "name": "discount",
         "rawType": "float64",
         "type": "float"
        },
        {
         "name": "listprice",
         "rawType": "float64",
         "type": "float"
        },
        {
         "name": "saleswithstandard",
         "rawType": "float64",
         "type": "float"
        },
        {
         "name": "netsales",
         "rawType": "float64",
         "type": "float"
        },
        {
         "name": "quantity",
         "rawType": "int64",
         "type": "integer"
        },
        {
         "name": "sales",
         "rawType": "float64",
         "type": "float"
        }
       ],
       "ref": "0066488a-ed33-4606-b1fa-9d87d775c03a",
       "rows": [
        [
         "581",
         "unknown",
         null,
         null,
         "Germany",
         "Germany",
         "Frankfurt",
         "Bayern",
         "Onetha Higgs",
         "Amy Alberts",
         "1",
         "2014-02-28 00:00:00",
         null,
         "58.4935",
         "0.0",
         "0.0",
         null,
         null,
         null,
         "2",
         "116.987"
        ],
        [
         "582",
         "unknown",
         null,
         null,
         "Germany",
         "Germany",
         "Frankfurt",
         "Bayern",
         "Onetha Higgs",
         "Amy Alberts",
         "1",
         "2014-02-28 00:00:00",
         null,
         "563.7528",
         "0.0",
         "0.0",
         null,
         null,
         null,
         "1",
         "563.7528"
        ],
        [
         "42825",
         "unknown",
         null,
         null,
         "Germany",
         "Germany",
         "Braunschweig",
         "Nordrhein-Westfalen",
         "Marc Faeber",
         "Rachel Valdez",
         "1",
         "2013-05-30 00:00:00",
         null,
         "58.4935",
         "0.0",
         "0.0",
         null,
         null,
         null,
         "2",
         "116.987"
        ],
        [
         "42826",
         "unknown",
         null,
         null,
         "Germany",
         "Germany",
         "Braunschweig",
         "Nordrhein-Westfalen",
         "Marc Faeber",
         "Rachel Valdez",
         "1",
         "2013-05-30 00:00:00",
         null,
         "563.7528",
         "0.0",
         "0.0",
         null,
         null,
         null,
         "2",
         "1127.5056"
        ],
        [
         "42827",
         "unknown",
         null,
         null,
         "Germany",
         "Germany",
         "Frankfurt",
         "Bayern",
         "Onetha Higgs",
         "Rachel Valdez",
         "1",
         "2013-05-30 00:00:00",
         null,
         "264.2244",
         "0.0",
         "0.0",
         null,
         null,
         null,
         "2",
         "528.4488"
        ]
       ],
       "shape": {
        "columns": 20,
        "rows": 5
       }
      },
      "text/html": [
       "<div>\n",
       "<style scoped>\n",
       "    .dataframe tbody tr th:only-of-type {\n",
       "        vertical-align: middle;\n",
       "    }\n",
       "\n",
       "    .dataframe tbody tr th {\n",
       "        vertical-align: top;\n",
       "    }\n",
       "\n",
       "    .dataframe thead th {\n",
       "        text-align: right;\n",
       "    }\n",
       "</style>\n",
       "<table border=\"1\" class=\"dataframe\">\n",
       "  <thead>\n",
       "    <tr style=\"text-align: right;\">\n",
       "      <th></th>\n",
       "      <th>category</th>\n",
       "      <th>subcategory</th>\n",
       "      <th>product</th>\n",
       "      <th>territory</th>\n",
       "      <th>country</th>\n",
       "      <th>city</th>\n",
       "      <th>state</th>\n",
       "      <th>customer</th>\n",
       "      <th>employee</th>\n",
       "      <th>ordercount</th>\n",
       "      <th>date</th>\n",
       "      <th>standardcost</th>\n",
       "      <th>unitprice</th>\n",
       "      <th>unitpricediscount</th>\n",
       "      <th>discount</th>\n",
       "      <th>listprice</th>\n",
       "      <th>saleswithstandard</th>\n",
       "      <th>netsales</th>\n",
       "      <th>quantity</th>\n",
       "      <th>sales</th>\n",
       "    </tr>\n",
       "  </thead>\n",
       "  <tbody>\n",
       "    <tr>\n",
       "      <th>581</th>\n",
       "      <td>unknown</td>\n",
       "      <td>NaN</td>\n",
       "      <td>NaN</td>\n",
       "      <td>Germany</td>\n",
       "      <td>Germany</td>\n",
       "      <td>Frankfurt</td>\n",
       "      <td>Bayern</td>\n",
       "      <td>Onetha Higgs</td>\n",
       "      <td>Amy Alberts</td>\n",
       "      <td>1</td>\n",
       "      <td>2014-02-28</td>\n",
       "      <td>NaN</td>\n",
       "      <td>58</td>\n",
       "      <td>0</td>\n",
       "      <td>0</td>\n",
       "      <td>NaN</td>\n",
       "      <td>NaN</td>\n",
       "      <td>NaN</td>\n",
       "      <td>2</td>\n",
       "      <td>117</td>\n",
       "    </tr>\n",
       "    <tr>\n",
       "      <th>582</th>\n",
       "      <td>unknown</td>\n",
       "      <td>NaN</td>\n",
       "      <td>NaN</td>\n",
       "      <td>Germany</td>\n",
       "      <td>Germany</td>\n",
       "      <td>Frankfurt</td>\n",
       "      <td>Bayern</td>\n",
       "      <td>Onetha Higgs</td>\n",
       "      <td>Amy Alberts</td>\n",
       "      <td>1</td>\n",
       "      <td>2014-02-28</td>\n",
       "      <td>NaN</td>\n",
       "      <td>564</td>\n",
       "      <td>0</td>\n",
       "      <td>0</td>\n",
       "      <td>NaN</td>\n",
       "      <td>NaN</td>\n",
       "      <td>NaN</td>\n",
       "      <td>1</td>\n",
       "      <td>564</td>\n",
       "    </tr>\n",
       "    <tr>\n",
       "      <th>42825</th>\n",
       "      <td>unknown</td>\n",
       "      <td>NaN</td>\n",
       "      <td>NaN</td>\n",
       "      <td>Germany</td>\n",
       "      <td>Germany</td>\n",
       "      <td>Braunschweig</td>\n",
       "      <td>Nordrhein-Westfalen</td>\n",
       "      <td>Marc Faeber</td>\n",
       "      <td>Rachel Valdez</td>\n",
       "      <td>1</td>\n",
       "      <td>2013-05-30</td>\n",
       "      <td>NaN</td>\n",
       "      <td>58</td>\n",
       "      <td>0</td>\n",
       "      <td>0</td>\n",
       "      <td>NaN</td>\n",
       "      <td>NaN</td>\n",
       "      <td>NaN</td>\n",
       "      <td>2</td>\n",
       "      <td>117</td>\n",
       "    </tr>\n",
       "    <tr>\n",
       "      <th>42826</th>\n",
       "      <td>unknown</td>\n",
       "      <td>NaN</td>\n",
       "      <td>NaN</td>\n",
       "      <td>Germany</td>\n",
       "      <td>Germany</td>\n",
       "      <td>Braunschweig</td>\n",
       "      <td>Nordrhein-Westfalen</td>\n",
       "      <td>Marc Faeber</td>\n",
       "      <td>Rachel Valdez</td>\n",
       "      <td>1</td>\n",
       "      <td>2013-05-30</td>\n",
       "      <td>NaN</td>\n",
       "      <td>564</td>\n",
       "      <td>0</td>\n",
       "      <td>0</td>\n",
       "      <td>NaN</td>\n",
       "      <td>NaN</td>\n",
       "      <td>NaN</td>\n",
       "      <td>2</td>\n",
       "      <td>1,128</td>\n",
       "    </tr>\n",
       "    <tr>\n",
       "      <th>42827</th>\n",
       "      <td>unknown</td>\n",
       "      <td>NaN</td>\n",
       "      <td>NaN</td>\n",
       "      <td>Germany</td>\n",
       "      <td>Germany</td>\n",
       "      <td>Frankfurt</td>\n",
       "      <td>Bayern</td>\n",
       "      <td>Onetha Higgs</td>\n",
       "      <td>Rachel Valdez</td>\n",
       "      <td>1</td>\n",
       "      <td>2013-05-30</td>\n",
       "      <td>NaN</td>\n",
       "      <td>264</td>\n",
       "      <td>0</td>\n",
       "      <td>0</td>\n",
       "      <td>NaN</td>\n",
       "      <td>NaN</td>\n",
       "      <td>NaN</td>\n",
       "      <td>2</td>\n",
       "      <td>528</td>\n",
       "    </tr>\n",
       "  </tbody>\n",
       "</table>\n",
       "</div>"
      ],
      "text/plain": [
       "      category subcategory product territory  country          city  \\\n",
       "581    unknown         NaN     NaN   Germany  Germany     Frankfurt   \n",
       "582    unknown         NaN     NaN   Germany  Germany     Frankfurt   \n",
       "42825  unknown         NaN     NaN   Germany  Germany  Braunschweig   \n",
       "42826  unknown         NaN     NaN   Germany  Germany  Braunschweig   \n",
       "42827  unknown         NaN     NaN   Germany  Germany     Frankfurt   \n",
       "\n",
       "                     state      customer       employee  ordercount  \\\n",
       "581                 Bayern  Onetha Higgs    Amy Alberts           1   \n",
       "582                 Bayern  Onetha Higgs    Amy Alberts           1   \n",
       "42825  Nordrhein-Westfalen   Marc Faeber  Rachel Valdez           1   \n",
       "42826  Nordrhein-Westfalen   Marc Faeber  Rachel Valdez           1   \n",
       "42827               Bayern  Onetha Higgs  Rachel Valdez           1   \n",
       "\n",
       "            date  standardcost  unitprice  unitpricediscount  discount  \\\n",
       "581   2014-02-28           NaN         58                  0         0   \n",
       "582   2014-02-28           NaN        564                  0         0   \n",
       "42825 2013-05-30           NaN         58                  0         0   \n",
       "42826 2013-05-30           NaN        564                  0         0   \n",
       "42827 2013-05-30           NaN        264                  0         0   \n",
       "\n",
       "       listprice  saleswithstandard  netsales  quantity  sales  \n",
       "581          NaN                NaN       NaN         2    117  \n",
       "582          NaN                NaN       NaN         1    564  \n",
       "42825        NaN                NaN       NaN         2    117  \n",
       "42826        NaN                NaN       NaN         2  1,128  \n",
       "42827        NaN                NaN       NaN         2    528  "
      ]
     },
     "execution_count": 26,
     "metadata": {},
     "output_type": "execute_result"
    }
   ],
   "source": [
    "df.category = df['category'].fillna('unknown')      # valid\n",
    "df.fillna({'category':'unknown'}, inplace=True)     # valid\n",
    "df[df.category == 'unknown'].head()"
   ]
  },
  {
   "cell_type": "code",
   "execution_count": 27,
   "metadata": {},
   "outputs": [],
   "source": [
    "df.fillna({'subcategory':'unknown'}, inplace=True)\n"
   ]
  },
  {
   "cell_type": "code",
   "execution_count": 28,
   "metadata": {},
   "outputs": [],
   "source": [
    "df.fillna({'category':0}, inplace=True)\n"
   ]
  },
  {
   "cell_type": "markdown",
   "metadata": {},
   "source": [
    "## selecting values"
   ]
  },
  {
   "cell_type": "code",
   "execution_count": 29,
   "metadata": {},
   "outputs": [
    {
     "data": {
      "text/plain": [
       "array(['Clothing', 'Accessories', 'Components', 'Bikes', 'unknown'],\n",
       "      dtype=object)"
      ]
     },
     "execution_count": 29,
     "metadata": {},
     "output_type": "execute_result"
    }
   ],
   "source": [
    "df.category.unique()"
   ]
  },
  {
   "cell_type": "code",
   "execution_count": 30,
   "metadata": {},
   "outputs": [
    {
     "data": {
      "text/plain": [
       "np.float64(80487704.179188)"
      ]
     },
     "execution_count": 30,
     "metadata": {},
     "output_type": "execute_result"
    }
   ],
   "source": [
    "df.sales.sum()"
   ]
  },
  {
   "cell_type": "code",
   "execution_count": 31,
   "metadata": {},
   "outputs": [
    {
     "data": {
      "text/plain": [
       "np.int64(60880)"
      ]
     },
     "execution_count": 31,
     "metadata": {},
     "output_type": "execute_result"
    }
   ],
   "source": [
    "df.quantity.count()"
   ]
  },
  {
   "cell_type": "markdown",
   "metadata": {},
   "source": [
    "# slicing with loc and iloc"
   ]
  },
  {
   "cell_type": "markdown",
   "metadata": {},
   "source": [
    "### select columns and records\n",
    "\n",
    "<blockquote>\n",
    "pass a list of columns to filter columns\n",
    "\n",
    "slice the record containing the resulting columns\n",
    "\n",
    "[from-included:to-excluded]\n",
    "</blockquote>"
   ]
  },
  {
   "cell_type": "code",
   "execution_count": 32,
   "metadata": {},
   "outputs": [
    {
     "data": {
      "application/vnd.microsoft.datawrangler.viewer.v0+json": {
       "columns": [
        {
         "name": "index",
         "rawType": "int64",
         "type": "integer"
        },
        {
         "name": "category",
         "rawType": "object",
         "type": "string"
        },
        {
         "name": "date",
         "rawType": "datetime64[ns]",
         "type": "datetime"
        },
        {
         "name": "sales",
         "rawType": "float64",
         "type": "float"
        }
       ],
       "ref": "4b7f92fc-a02a-47c6-b1b0-4a59e054b700",
       "rows": [
        [
         "10",
         "Clothing",
         "2012-06-30 00:00:00",
         "42.3867"
        ],
        [
         "11",
         "Components",
         "2012-06-30 00:00:00",
         "826.164"
        ],
        [
         "12",
         "Components",
         "2012-06-30 00:00:00",
         "149.676"
        ]
       ],
       "shape": {
        "columns": 3,
        "rows": 3
       }
      },
      "text/html": [
       "<div>\n",
       "<style scoped>\n",
       "    .dataframe tbody tr th:only-of-type {\n",
       "        vertical-align: middle;\n",
       "    }\n",
       "\n",
       "    .dataframe tbody tr th {\n",
       "        vertical-align: top;\n",
       "    }\n",
       "\n",
       "    .dataframe thead th {\n",
       "        text-align: right;\n",
       "    }\n",
       "</style>\n",
       "<table border=\"1\" class=\"dataframe\">\n",
       "  <thead>\n",
       "    <tr style=\"text-align: right;\">\n",
       "      <th></th>\n",
       "      <th>category</th>\n",
       "      <th>date</th>\n",
       "      <th>sales</th>\n",
       "    </tr>\n",
       "  </thead>\n",
       "  <tbody>\n",
       "    <tr>\n",
       "      <th>10</th>\n",
       "      <td>Clothing</td>\n",
       "      <td>2012-06-30</td>\n",
       "      <td>42</td>\n",
       "    </tr>\n",
       "    <tr>\n",
       "      <th>11</th>\n",
       "      <td>Components</td>\n",
       "      <td>2012-06-30</td>\n",
       "      <td>826</td>\n",
       "    </tr>\n",
       "    <tr>\n",
       "      <th>12</th>\n",
       "      <td>Components</td>\n",
       "      <td>2012-06-30</td>\n",
       "      <td>150</td>\n",
       "    </tr>\n",
       "  </tbody>\n",
       "</table>\n",
       "</div>"
      ],
      "text/plain": [
       "      category       date  sales\n",
       "10    Clothing 2012-06-30     42\n",
       "11  Components 2012-06-30    826\n",
       "12  Components 2012-06-30    150"
      ]
     },
     "execution_count": 32,
     "metadata": {},
     "output_type": "execute_result"
    }
   ],
   "source": [
    "df[['category', 'date', 'sales']][10:13]"
   ]
  },
  {
   "cell_type": "markdown",
   "metadata": {},
   "source": [
    "> deprecated in pandas 3.0"
   ]
  },
  {
   "cell_type": "code",
   "execution_count": 33,
   "metadata": {},
   "outputs": [
    {
     "name": "stderr",
     "output_type": "stream",
     "text": [
      "/var/folders/ch/0323xqnn3vbc6t95tfvmh0w40000gn/T/ipykernel_22581/48478257.py:1: FutureWarning: ChainedAssignmentError: behaviour will change in pandas 3.0!\n",
      "You are setting values through chained assignment. Currently this works in certain cases, but when using Copy-on-Write (which will become the default behaviour in pandas 3.0) this will never work to update the original DataFrame or Series, because the intermediate object on which we are setting values will behave as a copy.\n",
      "A typical example is when you are setting values in a column of a DataFrame, like:\n",
      "\n",
      "df[\"col\"][row_indexer] = value\n",
      "\n",
      "Use `df.loc[row_indexer, \"col\"] = values` instead, to perform the assignment in a single step and ensure this keeps updating the original `df`.\n",
      "\n",
      "See the caveats in the documentation: https://pandas.pydata.org/pandas-docs/stable/user_guide/indexing.html#returning-a-view-versus-a-copy\n",
      "\n",
      "  df[10:13]['category'] = df[10:13]['category'].str.lower()     # deprecated in pandas 3.0\n",
      "/var/folders/ch/0323xqnn3vbc6t95tfvmh0w40000gn/T/ipykernel_22581/48478257.py:1: SettingWithCopyWarning: \n",
      "A value is trying to be set on a copy of a slice from a DataFrame.\n",
      "Try using .loc[row_indexer,col_indexer] = value instead\n",
      "\n",
      "See the caveats in the documentation: https://pandas.pydata.org/pandas-docs/stable/user_guide/indexing.html#returning-a-view-versus-a-copy\n",
      "  df[10:13]['category'] = df[10:13]['category'].str.lower()     # deprecated in pandas 3.0\n"
     ]
    }
   ],
   "source": [
    "df[10:13]['category'] = df[10:13]['category'].str.lower()     # deprecated in pandas 3.0\n"
   ]
  },
  {
   "cell_type": "markdown",
   "metadata": {},
   "source": [
    "## loc"
   ]
  },
  {
   "cell_type": "code",
   "execution_count": 34,
   "metadata": {},
   "outputs": [
    {
     "data": {
      "application/vnd.microsoft.datawrangler.viewer.v0+json": {
       "columns": [
        {
         "name": "index",
         "rawType": "int64",
         "type": "integer"
        },
        {
         "name": "category",
         "rawType": "object",
         "type": "string"
        }
       ],
       "ref": "ac525cf3-ff2d-4ecd-8663-93b9911ba0e8",
       "rows": [
        [
         "10",
         "clothing"
        ],
        [
         "11",
         "components"
        ],
        [
         "12",
         "components"
        ]
       ],
       "shape": {
        "columns": 1,
        "rows": 3
       }
      },
      "text/plain": [
       "10      clothing\n",
       "11    components\n",
       "12    components\n",
       "Name: category, dtype: object"
      ]
     },
     "execution_count": 34,
     "metadata": {},
     "output_type": "execute_result"
    }
   ],
   "source": [
    "# Use `df.loc[row_indexer, \"col\"] = values` instead, to perform the assignment in a single step and ensure this keeps updating the original `df`.\n",
    "df.loc[10:13, 'category'] = df.loc[10:13, 'category'].str.lower()\n",
    "df[10:13]['category']"
   ]
  },
  {
   "cell_type": "code",
   "execution_count": 35,
   "metadata": {},
   "outputs": [
    {
     "data": {
      "application/vnd.microsoft.datawrangler.viewer.v0+json": {
       "columns": [
        {
         "name": "index",
         "rawType": "int64",
         "type": "integer"
        },
        {
         "name": "category",
         "rawType": "object",
         "type": "string"
        },
        {
         "name": "subcategory",
         "rawType": "object",
         "type": "string"
        },
        {
         "name": "product",
         "rawType": "object",
         "type": "string"
        },
        {
         "name": "territory",
         "rawType": "object",
         "type": "string"
        },
        {
         "name": "country",
         "rawType": "object",
         "type": "string"
        },
        {
         "name": "city",
         "rawType": "object",
         "type": "string"
        },
        {
         "name": "state",
         "rawType": "object",
         "type": "string"
        },
        {
         "name": "customer",
         "rawType": "object",
         "type": "string"
        },
        {
         "name": "employee",
         "rawType": "object",
         "type": "string"
        },
        {
         "name": "ordercount",
         "rawType": "int64",
         "type": "integer"
        },
        {
         "name": "date",
         "rawType": "datetime64[ns]",
         "type": "datetime"
        },
        {
         "name": "standardcost",
         "rawType": "float64",
         "type": "float"
        },
        {
         "name": "unitprice",
         "rawType": "float64",
         "type": "float"
        },
        {
         "name": "unitpricediscount",
         "rawType": "float64",
         "type": "float"
        },
        {
         "name": "discount",
         "rawType": "float64",
         "type": "float"
        },
        {
         "name": "listprice",
         "rawType": "float64",
         "type": "float"
        },
        {
         "name": "saleswithstandard",
         "rawType": "float64",
         "type": "float"
        },
        {
         "name": "netsales",
         "rawType": "float64",
         "type": "float"
        },
        {
         "name": "quantity",
         "rawType": "int64",
         "type": "integer"
        },
        {
         "name": "sales",
         "rawType": "float64",
         "type": "float"
        }
       ],
       "ref": "683dab30-f27f-4a08-a441-ff849891864b",
       "rows": [
        [
         "0",
         "Clothing",
         "Caps",
         "AWC Logo Cap",
         "United Kingdom",
         "United Kingdom",
         "Berks",
         "England",
         "Gary Suess",
         "Amy Alberts",
         "1",
         "2012-06-30 00:00:00",
         "6.9223",
         "5.0136",
         "0.02",
         "1.4038",
         "8.6442",
         "96.9122",
         "-28.125608",
         "14",
         "68.786592"
        ],
        [
         "1",
         "Accessories",
         "Locks",
         "Cable Lock",
         "United Kingdom",
         "United Kingdom",
         "Berks",
         "England",
         "Gary Suess",
         "Amy Alberts",
         "1",
         "2012-06-30 00:00:00",
         "10.3125",
         "15.0",
         "0.0",
         "0.0",
         "25.0",
         "61.875",
         "28.125",
         "6",
         "90.0"
        ],
        [
         "2",
         "Clothing",
         "Gloves",
         "Full-Finger Gloves, L",
         "United Kingdom",
         "United Kingdom",
         "Berks",
         "England",
         "Gary Suess",
         "Amy Alberts",
         "1",
         "2012-06-30 00:00:00",
         "15.6709",
         "22.794",
         "0.0",
         "0.0",
         "37.99",
         "125.3672",
         "56.9848",
         "8",
         "182.352"
        ],
        [
         "3",
         "Clothing",
         "Gloves",
         "Full-Finger Gloves, L",
         "United Kingdom",
         "United Kingdom",
         "London",
         "England",
         "Linda Martin",
         "Amy Alberts",
         "1",
         "2012-06-30 00:00:00",
         "15.6709",
         "20.8945",
         "0.05",
         "16.7156",
         "37.99",
         "250.7344",
         "66.862",
         "16",
         "317.5964"
        ],
        [
         "4",
         "Clothing",
         "Gloves",
         "Full-Finger Gloves, M",
         "United Kingdom",
         "United Kingdom",
         "Berks",
         "England",
         "Gary Suess",
         "Amy Alberts",
         "1",
         "2012-06-30 00:00:00",
         "15.6709",
         "22.794",
         "0.0",
         "0.0",
         "37.99",
         "109.6963",
         "49.8617",
         "7",
         "159.558"
        ]
       ],
       "shape": {
        "columns": 20,
        "rows": 5
       }
      },
      "text/html": [
       "<div>\n",
       "<style scoped>\n",
       "    .dataframe tbody tr th:only-of-type {\n",
       "        vertical-align: middle;\n",
       "    }\n",
       "\n",
       "    .dataframe tbody tr th {\n",
       "        vertical-align: top;\n",
       "    }\n",
       "\n",
       "    .dataframe thead th {\n",
       "        text-align: right;\n",
       "    }\n",
       "</style>\n",
       "<table border=\"1\" class=\"dataframe\">\n",
       "  <thead>\n",
       "    <tr style=\"text-align: right;\">\n",
       "      <th></th>\n",
       "      <th>category</th>\n",
       "      <th>subcategory</th>\n",
       "      <th>product</th>\n",
       "      <th>territory</th>\n",
       "      <th>country</th>\n",
       "      <th>city</th>\n",
       "      <th>state</th>\n",
       "      <th>customer</th>\n",
       "      <th>employee</th>\n",
       "      <th>ordercount</th>\n",
       "      <th>date</th>\n",
       "      <th>standardcost</th>\n",
       "      <th>unitprice</th>\n",
       "      <th>unitpricediscount</th>\n",
       "      <th>discount</th>\n",
       "      <th>listprice</th>\n",
       "      <th>saleswithstandard</th>\n",
       "      <th>netsales</th>\n",
       "      <th>quantity</th>\n",
       "      <th>sales</th>\n",
       "    </tr>\n",
       "  </thead>\n",
       "  <tbody>\n",
       "    <tr>\n",
       "      <th>0</th>\n",
       "      <td>Clothing</td>\n",
       "      <td>Caps</td>\n",
       "      <td>AWC Logo Cap</td>\n",
       "      <td>United Kingdom</td>\n",
       "      <td>United Kingdom</td>\n",
       "      <td>Berks</td>\n",
       "      <td>England</td>\n",
       "      <td>Gary Suess</td>\n",
       "      <td>Amy Alberts</td>\n",
       "      <td>1</td>\n",
       "      <td>2012-06-30</td>\n",
       "      <td>7</td>\n",
       "      <td>5</td>\n",
       "      <td>0</td>\n",
       "      <td>1</td>\n",
       "      <td>9</td>\n",
       "      <td>97</td>\n",
       "      <td>-28</td>\n",
       "      <td>14</td>\n",
       "      <td>69</td>\n",
       "    </tr>\n",
       "    <tr>\n",
       "      <th>1</th>\n",
       "      <td>Accessories</td>\n",
       "      <td>Locks</td>\n",
       "      <td>Cable Lock</td>\n",
       "      <td>United Kingdom</td>\n",
       "      <td>United Kingdom</td>\n",
       "      <td>Berks</td>\n",
       "      <td>England</td>\n",
       "      <td>Gary Suess</td>\n",
       "      <td>Amy Alberts</td>\n",
       "      <td>1</td>\n",
       "      <td>2012-06-30</td>\n",
       "      <td>10</td>\n",
       "      <td>15</td>\n",
       "      <td>0</td>\n",
       "      <td>0</td>\n",
       "      <td>25</td>\n",
       "      <td>62</td>\n",
       "      <td>28</td>\n",
       "      <td>6</td>\n",
       "      <td>90</td>\n",
       "    </tr>\n",
       "    <tr>\n",
       "      <th>2</th>\n",
       "      <td>Clothing</td>\n",
       "      <td>Gloves</td>\n",
       "      <td>Full-Finger Gloves, L</td>\n",
       "      <td>United Kingdom</td>\n",
       "      <td>United Kingdom</td>\n",
       "      <td>Berks</td>\n",
       "      <td>England</td>\n",
       "      <td>Gary Suess</td>\n",
       "      <td>Amy Alberts</td>\n",
       "      <td>1</td>\n",
       "      <td>2012-06-30</td>\n",
       "      <td>16</td>\n",
       "      <td>23</td>\n",
       "      <td>0</td>\n",
       "      <td>0</td>\n",
       "      <td>38</td>\n",
       "      <td>125</td>\n",
       "      <td>57</td>\n",
       "      <td>8</td>\n",
       "      <td>182</td>\n",
       "    </tr>\n",
       "    <tr>\n",
       "      <th>3</th>\n",
       "      <td>Clothing</td>\n",
       "      <td>Gloves</td>\n",
       "      <td>Full-Finger Gloves, L</td>\n",
       "      <td>United Kingdom</td>\n",
       "      <td>United Kingdom</td>\n",
       "      <td>London</td>\n",
       "      <td>England</td>\n",
       "      <td>Linda Martin</td>\n",
       "      <td>Amy Alberts</td>\n",
       "      <td>1</td>\n",
       "      <td>2012-06-30</td>\n",
       "      <td>16</td>\n",
       "      <td>21</td>\n",
       "      <td>0</td>\n",
       "      <td>17</td>\n",
       "      <td>38</td>\n",
       "      <td>251</td>\n",
       "      <td>67</td>\n",
       "      <td>16</td>\n",
       "      <td>318</td>\n",
       "    </tr>\n",
       "    <tr>\n",
       "      <th>4</th>\n",
       "      <td>Clothing</td>\n",
       "      <td>Gloves</td>\n",
       "      <td>Full-Finger Gloves, M</td>\n",
       "      <td>United Kingdom</td>\n",
       "      <td>United Kingdom</td>\n",
       "      <td>Berks</td>\n",
       "      <td>England</td>\n",
       "      <td>Gary Suess</td>\n",
       "      <td>Amy Alberts</td>\n",
       "      <td>1</td>\n",
       "      <td>2012-06-30</td>\n",
       "      <td>16</td>\n",
       "      <td>23</td>\n",
       "      <td>0</td>\n",
       "      <td>0</td>\n",
       "      <td>38</td>\n",
       "      <td>110</td>\n",
       "      <td>50</td>\n",
       "      <td>7</td>\n",
       "      <td>160</td>\n",
       "    </tr>\n",
       "  </tbody>\n",
       "</table>\n",
       "</div>"
      ],
      "text/plain": [
       "      category subcategory                product       territory  \\\n",
       "0     Clothing        Caps           AWC Logo Cap  United Kingdom   \n",
       "1  Accessories       Locks             Cable Lock  United Kingdom   \n",
       "2     Clothing      Gloves  Full-Finger Gloves, L  United Kingdom   \n",
       "3     Clothing      Gloves  Full-Finger Gloves, L  United Kingdom   \n",
       "4     Clothing      Gloves  Full-Finger Gloves, M  United Kingdom   \n",
       "\n",
       "          country    city    state      customer     employee  ordercount  \\\n",
       "0  United Kingdom   Berks  England    Gary Suess  Amy Alberts           1   \n",
       "1  United Kingdom   Berks  England    Gary Suess  Amy Alberts           1   \n",
       "2  United Kingdom   Berks  England    Gary Suess  Amy Alberts           1   \n",
       "3  United Kingdom  London  England  Linda Martin  Amy Alberts           1   \n",
       "4  United Kingdom   Berks  England    Gary Suess  Amy Alberts           1   \n",
       "\n",
       "        date  standardcost  unitprice  unitpricediscount  discount  listprice  \\\n",
       "0 2012-06-30             7          5                  0         1          9   \n",
       "1 2012-06-30            10         15                  0         0         25   \n",
       "2 2012-06-30            16         23                  0         0         38   \n",
       "3 2012-06-30            16         21                  0        17         38   \n",
       "4 2012-06-30            16         23                  0         0         38   \n",
       "\n",
       "   saleswithstandard  netsales  quantity  sales  \n",
       "0                 97       -28        14     69  \n",
       "1                 62        28         6     90  \n",
       "2                125        57         8    182  \n",
       "3                251        67        16    318  \n",
       "4                110        50         7    160  "
      ]
     },
     "execution_count": 35,
     "metadata": {},
     "output_type": "execute_result"
    }
   ],
   "source": [
    "df.head()"
   ]
  },
  {
   "cell_type": "code",
   "execution_count": 36,
   "metadata": {},
   "outputs": [
    {
     "data": {
      "text/plain": [
       "'Clothing'"
      ]
     },
     "execution_count": 36,
     "metadata": {},
     "output_type": "execute_result"
    }
   ],
   "source": [
    "df.loc[0, 'category']"
   ]
  },
  {
   "cell_type": "markdown",
   "metadata": {},
   "source": [
    "### set display width"
   ]
  },
  {
   "cell_type": "code",
   "execution_count": 37,
   "metadata": {},
   "outputs": [
    {
     "data": {
      "text/plain": [
       "80"
      ]
     },
     "execution_count": 37,
     "metadata": {},
     "output_type": "execute_result"
    }
   ],
   "source": [
    "pd.options.display.width    # 80"
   ]
  },
  {
   "cell_type": "code",
   "execution_count": 38,
   "metadata": {},
   "outputs": [],
   "source": [
    "pd.options.display.width = 1000"
   ]
  },
  {
   "cell_type": "code",
   "execution_count": 39,
   "metadata": {},
   "outputs": [
    {
     "name": "stdout",
     "output_type": "stream",
     "text": [
      "10\n",
      "clothing\n",
      "11\n",
      "components\n",
      "12\n",
      "components\n",
      "13\n",
      "components\n"
     ]
    }
   ],
   "source": [
    "for index, row in df.loc[10:13].iterrows():\n",
    "    print(index)\n",
    "    row:pd.Series\n",
    "    # print(row.to_frame().T)\n",
    "    print(row['category'])"
   ]
  },
  {
   "cell_type": "markdown",
   "metadata": {},
   "source": [
    "### create a new column"
   ]
  },
  {
   "cell_type": "code",
   "execution_count": 40,
   "metadata": {},
   "outputs": [],
   "source": [
    "pd.options.display.width = 220"
   ]
  },
  {
   "cell_type": "code",
   "execution_count": 41,
   "metadata": {},
   "outputs": [
    {
     "data": {
      "text/plain": [
       "Index(['category', 'subcategory', 'product', 'territory', 'country', 'city', 'state', 'customer', 'employee', 'ordercount', 'date', 'standardcost', 'unitprice', 'unitpricediscount', 'discount', 'listprice',\n",
       "       'saleswithstandard', 'netsales', 'quantity', 'sales'],\n",
       "      dtype='object')"
      ]
     },
     "execution_count": 41,
     "metadata": {},
     "output_type": "execute_result"
    }
   ],
   "source": [
    "df.columns\n"
   ]
  },
  {
   "cell_type": "code",
   "execution_count": 42,
   "metadata": {},
   "outputs": [
    {
     "data": {
      "text/plain": [
       "array(['United Kingdom', 'France', 'Germany', 'Northwest', 'Canada',\n",
       "       'Central', 'Southwest', 'Northeast', 'Southeast', 'Australia'],\n",
       "      dtype=object)"
      ]
     },
     "execution_count": 42,
     "metadata": {},
     "output_type": "execute_result"
    }
   ],
   "source": [
    "df.loc[:,'territory'].unique()"
   ]
  },
  {
   "cell_type": "markdown",
   "metadata": {},
   "source": [
    "### getitem syntax"
   ]
  },
  {
   "cell_type": "code",
   "execution_count": 43,
   "metadata": {},
   "outputs": [],
   "source": [
    "AMERICAS = ['Northwest', 'Canada', 'Central', 'Southwest', 'Northeast', 'Southeast']\n",
    "EUROPE = ['United Kingdom', 'France', 'Germany']\n",
    "for index, row in df.iterrows():\n",
    "    if row['territory'] in AMERICAS:\n",
    "        df.loc[index, 'region'] = 'Americas'\n",
    "    elif row['territory'] in EUROPE:\n",
    "        df.loc[index, 'region'] = 'Europe'\n",
    "    else:\n",
    "        df.loc[index, 'region'] = 'Australia'\n"
   ]
  },
  {
   "cell_type": "markdown",
   "metadata": {},
   "source": [
    "### loc syntax"
   ]
  },
  {
   "cell_type": "code",
   "execution_count": 44,
   "metadata": {},
   "outputs": [],
   "source": [
    "df.loc[df.territory.isin(AMERICAS), 'region2'] = 'Americas'\n",
    "df.loc[df.territory.isin(EUROPE), 'region2'] = 'Europe'\n",
    "df.loc[df.territory.isin(['Australia']), 'region2'] = 'Australia'"
   ]
  },
  {
   "cell_type": "code",
   "execution_count": 45,
   "metadata": {},
   "outputs": [
    {
     "data": {
      "application/vnd.microsoft.datawrangler.viewer.v0+json": {
       "columns": [
        {
         "name": "index",
         "rawType": "object",
         "type": "string"
        },
        {
         "name": "0",
         "rawType": "int64",
         "type": "integer"
        }
       ],
       "ref": "4048e3e6-7929-4801-9e35-e48c031b18c5",
       "rows": [
        [
         "territory",
         "1713"
        ],
        [
         "region",
         "1713"
        ],
        [
         "region2",
         "1713"
        ]
       ],
       "shape": {
        "columns": 1,
        "rows": 3
       }
      },
      "text/plain": [
       "territory    1713\n",
       "region       1713\n",
       "region2      1713\n",
       "dtype: int64"
      ]
     },
     "execution_count": 45,
     "metadata": {},
     "output_type": "execute_result"
    }
   ],
   "source": [
    "df_regions = df[['territory', 'region', 'region2']]\n",
    "df_regions[df.region == 'Australia'].count()"
   ]
  },
  {
   "cell_type": "markdown",
   "metadata": {},
   "source": [
    "### groupby"
   ]
  },
  {
   "cell_type": "code",
   "execution_count": 46,
   "metadata": {},
   "outputs": [
    {
     "data": {
      "application/vnd.microsoft.datawrangler.viewer.v0+json": {
       "columns": [
        {
         "name": "('territory', 'region', 'region2')",
         "rawType": "object",
         "type": "unknown"
        },
        {
         "name": "0",
         "rawType": "int64",
         "type": "integer"
        }
       ],
       "ref": "2b88aa47-30c8-4ab2-b08e-bc705028ef04",
       "rows": [
        [
         "('Australia', 'Australia', 'Australia')",
         "1713"
        ],
        [
         "('Canada', 'Americas', 'Americas')",
         "11444"
        ],
        [
         "('Central', 'Americas', 'Americas')",
         "5812"
        ],
        [
         "('France', 'Europe', 'Europe')",
         "3530"
        ],
        [
         "('Germany', 'Europe', 'Europe')",
         "1864"
        ],
        [
         "('Northeast', 'Americas', 'Americas')",
         "5809"
        ],
        [
         "('Northwest', 'Americas', 'Americas')",
         "7872"
        ],
        [
         "('Southeast', 'Americas', 'Americas')",
         "5937"
        ],
        [
         "('Southwest', 'Americas', 'Americas')",
         "13379"
        ],
        [
         "('United Kingdom', 'Europe', 'Europe')",
         "3520"
        ]
       ],
       "shape": {
        "columns": 1,
        "rows": 10
       }
      },
      "text/plain": [
       "territory       region     region2  \n",
       "Australia       Australia  Australia     1713\n",
       "Canada          Americas   Americas     11444\n",
       "Central         Americas   Americas      5812\n",
       "France          Europe     Europe        3530\n",
       "Germany         Europe     Europe        1864\n",
       "Northeast       Americas   Americas      5809\n",
       "Northwest       Americas   Americas      7872\n",
       "Southeast       Americas   Americas      5937\n",
       "Southwest       Americas   Americas     13379\n",
       "United Kingdom  Europe     Europe        3520\n",
       "dtype: int64"
      ]
     },
     "execution_count": 46,
     "metadata": {},
     "output_type": "execute_result"
    }
   ],
   "source": [
    "df_regions.groupby(['territory', 'region', 'region2']).size()"
   ]
  },
  {
   "cell_type": "markdown",
   "metadata": {},
   "source": [
    "## iloc"
   ]
  },
  {
   "cell_type": "code",
   "execution_count": 47,
   "metadata": {},
   "outputs": [
    {
     "data": {
      "application/vnd.microsoft.datawrangler.viewer.v0+json": {
       "columns": [
        {
         "name": "index",
         "rawType": "int64",
         "type": "integer"
        },
        {
         "name": "category",
         "rawType": "object",
         "type": "string"
        },
        {
         "name": "subcategory",
         "rawType": "object",
         "type": "string"
        },
        {
         "name": "product",
         "rawType": "object",
         "type": "string"
        },
        {
         "name": "territory",
         "rawType": "object",
         "type": "string"
        },
        {
         "name": "country",
         "rawType": "object",
         "type": "string"
        },
        {
         "name": "city",
         "rawType": "object",
         "type": "string"
        },
        {
         "name": "state",
         "rawType": "object",
         "type": "string"
        },
        {
         "name": "customer",
         "rawType": "object",
         "type": "string"
        },
        {
         "name": "employee",
         "rawType": "object",
         "type": "string"
        },
        {
         "name": "ordercount",
         "rawType": "int64",
         "type": "integer"
        },
        {
         "name": "date",
         "rawType": "datetime64[ns]",
         "type": "datetime"
        },
        {
         "name": "standardcost",
         "rawType": "float64",
         "type": "float"
        },
        {
         "name": "unitprice",
         "rawType": "float64",
         "type": "float"
        },
        {
         "name": "unitpricediscount",
         "rawType": "float64",
         "type": "float"
        },
        {
         "name": "discount",
         "rawType": "float64",
         "type": "float"
        },
        {
         "name": "listprice",
         "rawType": "float64",
         "type": "float"
        },
        {
         "name": "saleswithstandard",
         "rawType": "float64",
         "type": "float"
        },
        {
         "name": "netsales",
         "rawType": "float64",
         "type": "float"
        },
        {
         "name": "quantity",
         "rawType": "int64",
         "type": "integer"
        },
        {
         "name": "sales",
         "rawType": "float64",
         "type": "float"
        },
        {
         "name": "region",
         "rawType": "object",
         "type": "string"
        },
        {
         "name": "region2",
         "rawType": "object",
         "type": "string"
        }
       ],
       "ref": "e8d7d69b-5032-460b-9e03-8157c2d2e8b5",
       "rows": [
        [
         "0",
         "Clothing",
         "Caps",
         "AWC Logo Cap",
         "United Kingdom",
         "United Kingdom",
         "Berks",
         "England",
         "Gary Suess",
         "Amy Alberts",
         "1",
         "2012-06-30 00:00:00",
         "6.9223",
         "5.0136",
         "0.02",
         "1.4038",
         "8.6442",
         "96.9122",
         "-28.125608",
         "14",
         "68.786592",
         "Europe",
         "Europe"
        ],
        [
         "1",
         "Accessories",
         "Locks",
         "Cable Lock",
         "United Kingdom",
         "United Kingdom",
         "Berks",
         "England",
         "Gary Suess",
         "Amy Alberts",
         "1",
         "2012-06-30 00:00:00",
         "10.3125",
         "15.0",
         "0.0",
         "0.0",
         "25.0",
         "61.875",
         "28.125",
         "6",
         "90.0",
         "Europe",
         "Europe"
        ],
        [
         "2",
         "Clothing",
         "Gloves",
         "Full-Finger Gloves, L",
         "United Kingdom",
         "United Kingdom",
         "Berks",
         "England",
         "Gary Suess",
         "Amy Alberts",
         "1",
         "2012-06-30 00:00:00",
         "15.6709",
         "22.794",
         "0.0",
         "0.0",
         "37.99",
         "125.3672",
         "56.9848",
         "8",
         "182.352",
         "Europe",
         "Europe"
        ],
        [
         "3",
         "Clothing",
         "Gloves",
         "Full-Finger Gloves, L",
         "United Kingdom",
         "United Kingdom",
         "London",
         "England",
         "Linda Martin",
         "Amy Alberts",
         "1",
         "2012-06-30 00:00:00",
         "15.6709",
         "20.8945",
         "0.05",
         "16.7156",
         "37.99",
         "250.7344",
         "66.862",
         "16",
         "317.5964",
         "Europe",
         "Europe"
        ]
       ],
       "shape": {
        "columns": 22,
        "rows": 4
       }
      },
      "text/html": [
       "<div>\n",
       "<style scoped>\n",
       "    .dataframe tbody tr th:only-of-type {\n",
       "        vertical-align: middle;\n",
       "    }\n",
       "\n",
       "    .dataframe tbody tr th {\n",
       "        vertical-align: top;\n",
       "    }\n",
       "\n",
       "    .dataframe thead th {\n",
       "        text-align: right;\n",
       "    }\n",
       "</style>\n",
       "<table border=\"1\" class=\"dataframe\">\n",
       "  <thead>\n",
       "    <tr style=\"text-align: right;\">\n",
       "      <th></th>\n",
       "      <th>category</th>\n",
       "      <th>subcategory</th>\n",
       "      <th>product</th>\n",
       "      <th>territory</th>\n",
       "      <th>country</th>\n",
       "      <th>city</th>\n",
       "      <th>state</th>\n",
       "      <th>customer</th>\n",
       "      <th>employee</th>\n",
       "      <th>ordercount</th>\n",
       "      <th>...</th>\n",
       "      <th>unitprice</th>\n",
       "      <th>unitpricediscount</th>\n",
       "      <th>discount</th>\n",
       "      <th>listprice</th>\n",
       "      <th>saleswithstandard</th>\n",
       "      <th>netsales</th>\n",
       "      <th>quantity</th>\n",
       "      <th>sales</th>\n",
       "      <th>region</th>\n",
       "      <th>region2</th>\n",
       "    </tr>\n",
       "  </thead>\n",
       "  <tbody>\n",
       "    <tr>\n",
       "      <th>0</th>\n",
       "      <td>Clothing</td>\n",
       "      <td>Caps</td>\n",
       "      <td>AWC Logo Cap</td>\n",
       "      <td>United Kingdom</td>\n",
       "      <td>United Kingdom</td>\n",
       "      <td>Berks</td>\n",
       "      <td>England</td>\n",
       "      <td>Gary Suess</td>\n",
       "      <td>Amy Alberts</td>\n",
       "      <td>1</td>\n",
       "      <td>...</td>\n",
       "      <td>5</td>\n",
       "      <td>0</td>\n",
       "      <td>1</td>\n",
       "      <td>9</td>\n",
       "      <td>97</td>\n",
       "      <td>-28</td>\n",
       "      <td>14</td>\n",
       "      <td>69</td>\n",
       "      <td>Europe</td>\n",
       "      <td>Europe</td>\n",
       "    </tr>\n",
       "    <tr>\n",
       "      <th>1</th>\n",
       "      <td>Accessories</td>\n",
       "      <td>Locks</td>\n",
       "      <td>Cable Lock</td>\n",
       "      <td>United Kingdom</td>\n",
       "      <td>United Kingdom</td>\n",
       "      <td>Berks</td>\n",
       "      <td>England</td>\n",
       "      <td>Gary Suess</td>\n",
       "      <td>Amy Alberts</td>\n",
       "      <td>1</td>\n",
       "      <td>...</td>\n",
       "      <td>15</td>\n",
       "      <td>0</td>\n",
       "      <td>0</td>\n",
       "      <td>25</td>\n",
       "      <td>62</td>\n",
       "      <td>28</td>\n",
       "      <td>6</td>\n",
       "      <td>90</td>\n",
       "      <td>Europe</td>\n",
       "      <td>Europe</td>\n",
       "    </tr>\n",
       "    <tr>\n",
       "      <th>2</th>\n",
       "      <td>Clothing</td>\n",
       "      <td>Gloves</td>\n",
       "      <td>Full-Finger Gloves, L</td>\n",
       "      <td>United Kingdom</td>\n",
       "      <td>United Kingdom</td>\n",
       "      <td>Berks</td>\n",
       "      <td>England</td>\n",
       "      <td>Gary Suess</td>\n",
       "      <td>Amy Alberts</td>\n",
       "      <td>1</td>\n",
       "      <td>...</td>\n",
       "      <td>23</td>\n",
       "      <td>0</td>\n",
       "      <td>0</td>\n",
       "      <td>38</td>\n",
       "      <td>125</td>\n",
       "      <td>57</td>\n",
       "      <td>8</td>\n",
       "      <td>182</td>\n",
       "      <td>Europe</td>\n",
       "      <td>Europe</td>\n",
       "    </tr>\n",
       "    <tr>\n",
       "      <th>3</th>\n",
       "      <td>Clothing</td>\n",
       "      <td>Gloves</td>\n",
       "      <td>Full-Finger Gloves, L</td>\n",
       "      <td>United Kingdom</td>\n",
       "      <td>United Kingdom</td>\n",
       "      <td>London</td>\n",
       "      <td>England</td>\n",
       "      <td>Linda Martin</td>\n",
       "      <td>Amy Alberts</td>\n",
       "      <td>1</td>\n",
       "      <td>...</td>\n",
       "      <td>21</td>\n",
       "      <td>0</td>\n",
       "      <td>17</td>\n",
       "      <td>38</td>\n",
       "      <td>251</td>\n",
       "      <td>67</td>\n",
       "      <td>16</td>\n",
       "      <td>318</td>\n",
       "      <td>Europe</td>\n",
       "      <td>Europe</td>\n",
       "    </tr>\n",
       "  </tbody>\n",
       "</table>\n",
       "<p>4 rows × 22 columns</p>\n",
       "</div>"
      ],
      "text/plain": [
       "      category subcategory                product       territory         country    city    state      customer     employee  ordercount  ... unitprice  unitpricediscount  discount  listprice  saleswithstandard  \\\n",
       "0     Clothing        Caps           AWC Logo Cap  United Kingdom  United Kingdom   Berks  England    Gary Suess  Amy Alberts           1  ...         5                  0         1          9                 97   \n",
       "1  Accessories       Locks             Cable Lock  United Kingdom  United Kingdom   Berks  England    Gary Suess  Amy Alberts           1  ...        15                  0         0         25                 62   \n",
       "2     Clothing      Gloves  Full-Finger Gloves, L  United Kingdom  United Kingdom   Berks  England    Gary Suess  Amy Alberts           1  ...        23                  0         0         38                125   \n",
       "3     Clothing      Gloves  Full-Finger Gloves, L  United Kingdom  United Kingdom  London  England  Linda Martin  Amy Alberts           1  ...        21                  0        17         38                251   \n",
       "\n",
       "   netsales  quantity  sales  region  region2  \n",
       "0       -28        14     69  Europe   Europe  \n",
       "1        28         6     90  Europe   Europe  \n",
       "2        57         8    182  Europe   Europe  \n",
       "3        67        16    318  Europe   Europe  \n",
       "\n",
       "[4 rows x 22 columns]"
      ]
     },
     "execution_count": 47,
     "metadata": {},
     "output_type": "execute_result"
    }
   ],
   "source": [
    "df.iloc[0:4]"
   ]
  },
  {
   "cell_type": "markdown",
   "metadata": {},
   "source": [
    "### iloc single row as a Series"
   ]
  },
  {
   "cell_type": "code",
   "execution_count": 48,
   "metadata": {},
   "outputs": [
    {
     "data": {
      "application/vnd.microsoft.datawrangler.viewer.v0+json": {
       "columns": [
        {
         "name": "index",
         "rawType": "object",
         "type": "string"
        },
        {
         "name": "0",
         "rawType": "object",
         "type": "unknown"
        }
       ],
       "ref": "77f7640f-8f96-4f2c-b25c-edbbcc83bfcd",
       "rows": [
        [
         "category",
         "Clothing"
        ],
        [
         "subcategory",
         "Caps"
        ],
        [
         "product",
         "AWC Logo Cap"
        ],
        [
         "territory",
         "United Kingdom"
        ],
        [
         "country",
         "United Kingdom"
        ],
        [
         "city",
         "Berks"
        ],
        [
         "state",
         "England"
        ],
        [
         "customer",
         "Gary Suess"
        ],
        [
         "employee",
         "Amy Alberts"
        ],
        [
         "ordercount",
         "1"
        ],
        [
         "date",
         "2012-06-30 00:00:00"
        ],
        [
         "standardcost",
         "6.9223"
        ],
        [
         "unitprice",
         "5.0136"
        ],
        [
         "unitpricediscount",
         "0.02"
        ],
        [
         "discount",
         "1.4038"
        ],
        [
         "listprice",
         "8.6442"
        ],
        [
         "saleswithstandard",
         "96.9122"
        ],
        [
         "netsales",
         "-28.125608"
        ],
        [
         "quantity",
         "14"
        ],
        [
         "sales",
         "68.786592"
        ],
        [
         "region",
         "Europe"
        ],
        [
         "region2",
         "Europe"
        ]
       ],
       "shape": {
        "columns": 1,
        "rows": 22
       }
      },
      "text/plain": [
       "category                        Clothing\n",
       "subcategory                         Caps\n",
       "product                     AWC Logo Cap\n",
       "territory                 United Kingdom\n",
       "country                   United Kingdom\n",
       "city                               Berks\n",
       "state                            England\n",
       "customer                      Gary Suess\n",
       "employee                     Amy Alberts\n",
       "ordercount                             1\n",
       "date                 2012-06-30 00:00:00\n",
       "standardcost                           7\n",
       "unitprice                              5\n",
       "unitpricediscount                      0\n",
       "discount                               1\n",
       "listprice                              9\n",
       "saleswithstandard                     97\n",
       "netsales                             -28\n",
       "quantity                              14\n",
       "sales                                 69\n",
       "region                            Europe\n",
       "region2                           Europe\n",
       "Name: 0, dtype: object"
      ]
     },
     "execution_count": 48,
     "metadata": {},
     "output_type": "execute_result"
    }
   ],
   "source": [
    "df.iloc[0]"
   ]
  },
  {
   "cell_type": "markdown",
   "metadata": {},
   "source": [
    "### iloc single row as a Dataframe"
   ]
  },
  {
   "cell_type": "code",
   "execution_count": 49,
   "metadata": {},
   "outputs": [
    {
     "data": {
      "application/vnd.microsoft.datawrangler.viewer.v0+json": {
       "columns": [
        {
         "name": "index",
         "rawType": "int64",
         "type": "integer"
        },
        {
         "name": "category",
         "rawType": "object",
         "type": "string"
        },
        {
         "name": "subcategory",
         "rawType": "object",
         "type": "string"
        },
        {
         "name": "product",
         "rawType": "object",
         "type": "string"
        },
        {
         "name": "territory",
         "rawType": "object",
         "type": "string"
        },
        {
         "name": "country",
         "rawType": "object",
         "type": "string"
        },
        {
         "name": "city",
         "rawType": "object",
         "type": "string"
        },
        {
         "name": "state",
         "rawType": "object",
         "type": "string"
        },
        {
         "name": "customer",
         "rawType": "object",
         "type": "string"
        },
        {
         "name": "employee",
         "rawType": "object",
         "type": "string"
        },
        {
         "name": "ordercount",
         "rawType": "int64",
         "type": "integer"
        },
        {
         "name": "date",
         "rawType": "datetime64[ns]",
         "type": "datetime"
        },
        {
         "name": "standardcost",
         "rawType": "float64",
         "type": "float"
        },
        {
         "name": "unitprice",
         "rawType": "float64",
         "type": "float"
        },
        {
         "name": "unitpricediscount",
         "rawType": "float64",
         "type": "float"
        },
        {
         "name": "discount",
         "rawType": "float64",
         "type": "float"
        },
        {
         "name": "listprice",
         "rawType": "float64",
         "type": "float"
        },
        {
         "name": "saleswithstandard",
         "rawType": "float64",
         "type": "float"
        },
        {
         "name": "netsales",
         "rawType": "float64",
         "type": "float"
        },
        {
         "name": "quantity",
         "rawType": "int64",
         "type": "integer"
        },
        {
         "name": "sales",
         "rawType": "float64",
         "type": "float"
        },
        {
         "name": "region",
         "rawType": "object",
         "type": "string"
        },
        {
         "name": "region2",
         "rawType": "object",
         "type": "string"
        }
       ],
       "ref": "6b9c6c1c-f968-48af-8bfe-0b4b492af2e2",
       "rows": [
        [
         "0",
         "Clothing",
         "Caps",
         "AWC Logo Cap",
         "United Kingdom",
         "United Kingdom",
         "Berks",
         "England",
         "Gary Suess",
         "Amy Alberts",
         "1",
         "2012-06-30 00:00:00",
         "6.9223",
         "5.0136",
         "0.02",
         "1.4038",
         "8.6442",
         "96.9122",
         "-28.125608",
         "14",
         "68.786592",
         "Europe",
         "Europe"
        ]
       ],
       "shape": {
        "columns": 22,
        "rows": 1
       }
      },
      "text/html": [
       "<div>\n",
       "<style scoped>\n",
       "    .dataframe tbody tr th:only-of-type {\n",
       "        vertical-align: middle;\n",
       "    }\n",
       "\n",
       "    .dataframe tbody tr th {\n",
       "        vertical-align: top;\n",
       "    }\n",
       "\n",
       "    .dataframe thead th {\n",
       "        text-align: right;\n",
       "    }\n",
       "</style>\n",
       "<table border=\"1\" class=\"dataframe\">\n",
       "  <thead>\n",
       "    <tr style=\"text-align: right;\">\n",
       "      <th></th>\n",
       "      <th>category</th>\n",
       "      <th>subcategory</th>\n",
       "      <th>product</th>\n",
       "      <th>territory</th>\n",
       "      <th>country</th>\n",
       "      <th>city</th>\n",
       "      <th>state</th>\n",
       "      <th>customer</th>\n",
       "      <th>employee</th>\n",
       "      <th>ordercount</th>\n",
       "      <th>...</th>\n",
       "      <th>unitprice</th>\n",
       "      <th>unitpricediscount</th>\n",
       "      <th>discount</th>\n",
       "      <th>listprice</th>\n",
       "      <th>saleswithstandard</th>\n",
       "      <th>netsales</th>\n",
       "      <th>quantity</th>\n",
       "      <th>sales</th>\n",
       "      <th>region</th>\n",
       "      <th>region2</th>\n",
       "    </tr>\n",
       "  </thead>\n",
       "  <tbody>\n",
       "    <tr>\n",
       "      <th>0</th>\n",
       "      <td>Clothing</td>\n",
       "      <td>Caps</td>\n",
       "      <td>AWC Logo Cap</td>\n",
       "      <td>United Kingdom</td>\n",
       "      <td>United Kingdom</td>\n",
       "      <td>Berks</td>\n",
       "      <td>England</td>\n",
       "      <td>Gary Suess</td>\n",
       "      <td>Amy Alberts</td>\n",
       "      <td>1</td>\n",
       "      <td>...</td>\n",
       "      <td>5</td>\n",
       "      <td>0</td>\n",
       "      <td>1</td>\n",
       "      <td>9</td>\n",
       "      <td>97</td>\n",
       "      <td>-28</td>\n",
       "      <td>14</td>\n",
       "      <td>69</td>\n",
       "      <td>Europe</td>\n",
       "      <td>Europe</td>\n",
       "    </tr>\n",
       "  </tbody>\n",
       "</table>\n",
       "<p>1 rows × 22 columns</p>\n",
       "</div>"
      ],
      "text/plain": [
       "   category subcategory       product       territory         country   city    state    customer     employee  ordercount  ... unitprice  unitpricediscount  discount  listprice  saleswithstandard  netsales  quantity  \\\n",
       "0  Clothing        Caps  AWC Logo Cap  United Kingdom  United Kingdom  Berks  England  Gary Suess  Amy Alberts           1  ...         5                  0         1          9                 97       -28        14   \n",
       "\n",
       "   sales  region  region2  \n",
       "0     69  Europe   Europe  \n",
       "\n",
       "[1 rows x 22 columns]"
      ]
     },
     "execution_count": 49,
     "metadata": {},
     "output_type": "execute_result"
    }
   ],
   "source": [
    "df.iloc[0:1]"
   ]
  },
  {
   "cell_type": "markdown",
   "metadata": {},
   "source": [
    "### iloc multiple rows as a Dataframe"
   ]
  },
  {
   "cell_type": "code",
   "execution_count": 50,
   "metadata": {},
   "outputs": [
    {
     "data": {
      "application/vnd.microsoft.datawrangler.viewer.v0+json": {
       "columns": [
        {
         "name": "index",
         "rawType": "int64",
         "type": "integer"
        },
        {
         "name": "category",
         "rawType": "object",
         "type": "string"
        },
        {
         "name": "subcategory",
         "rawType": "object",
         "type": "string"
        },
        {
         "name": "product",
         "rawType": "object",
         "type": "string"
        },
        {
         "name": "territory",
         "rawType": "object",
         "type": "string"
        },
        {
         "name": "country",
         "rawType": "object",
         "type": "string"
        },
        {
         "name": "city",
         "rawType": "object",
         "type": "string"
        },
        {
         "name": "state",
         "rawType": "object",
         "type": "string"
        },
        {
         "name": "customer",
         "rawType": "object",
         "type": "string"
        },
        {
         "name": "employee",
         "rawType": "object",
         "type": "string"
        },
        {
         "name": "ordercount",
         "rawType": "int64",
         "type": "integer"
        },
        {
         "name": "date",
         "rawType": "datetime64[ns]",
         "type": "datetime"
        },
        {
         "name": "standardcost",
         "rawType": "float64",
         "type": "float"
        },
        {
         "name": "unitprice",
         "rawType": "float64",
         "type": "float"
        },
        {
         "name": "unitpricediscount",
         "rawType": "float64",
         "type": "float"
        },
        {
         "name": "discount",
         "rawType": "float64",
         "type": "float"
        },
        {
         "name": "listprice",
         "rawType": "float64",
         "type": "float"
        },
        {
         "name": "saleswithstandard",
         "rawType": "float64",
         "type": "float"
        },
        {
         "name": "netsales",
         "rawType": "float64",
         "type": "float"
        },
        {
         "name": "quantity",
         "rawType": "int64",
         "type": "integer"
        },
        {
         "name": "sales",
         "rawType": "float64",
         "type": "float"
        },
        {
         "name": "region",
         "rawType": "object",
         "type": "string"
        },
        {
         "name": "region2",
         "rawType": "object",
         "type": "string"
        }
       ],
       "ref": "9b350393-1117-44d8-80af-9901c1fb9029",
       "rows": [
        [
         "0",
         "Clothing",
         "Caps",
         "AWC Logo Cap",
         "United Kingdom",
         "United Kingdom",
         "Berks",
         "England",
         "Gary Suess",
         "Amy Alberts",
         "1",
         "2012-06-30 00:00:00",
         "6.9223",
         "5.0136",
         "0.02",
         "1.4038",
         "8.6442",
         "96.9122",
         "-28.125608",
         "14",
         "68.786592",
         "Europe",
         "Europe"
        ],
        [
         "1",
         "Accessories",
         "Locks",
         "Cable Lock",
         "United Kingdom",
         "United Kingdom",
         "Berks",
         "England",
         "Gary Suess",
         "Amy Alberts",
         "1",
         "2012-06-30 00:00:00",
         "10.3125",
         "15.0",
         "0.0",
         "0.0",
         "25.0",
         "61.875",
         "28.125",
         "6",
         "90.0",
         "Europe",
         "Europe"
        ]
       ],
       "shape": {
        "columns": 22,
        "rows": 2
       }
      },
      "text/html": [
       "<div>\n",
       "<style scoped>\n",
       "    .dataframe tbody tr th:only-of-type {\n",
       "        vertical-align: middle;\n",
       "    }\n",
       "\n",
       "    .dataframe tbody tr th {\n",
       "        vertical-align: top;\n",
       "    }\n",
       "\n",
       "    .dataframe thead th {\n",
       "        text-align: right;\n",
       "    }\n",
       "</style>\n",
       "<table border=\"1\" class=\"dataframe\">\n",
       "  <thead>\n",
       "    <tr style=\"text-align: right;\">\n",
       "      <th></th>\n",
       "      <th>category</th>\n",
       "      <th>subcategory</th>\n",
       "      <th>product</th>\n",
       "      <th>territory</th>\n",
       "      <th>country</th>\n",
       "      <th>city</th>\n",
       "      <th>state</th>\n",
       "      <th>customer</th>\n",
       "      <th>employee</th>\n",
       "      <th>ordercount</th>\n",
       "      <th>...</th>\n",
       "      <th>unitprice</th>\n",
       "      <th>unitpricediscount</th>\n",
       "      <th>discount</th>\n",
       "      <th>listprice</th>\n",
       "      <th>saleswithstandard</th>\n",
       "      <th>netsales</th>\n",
       "      <th>quantity</th>\n",
       "      <th>sales</th>\n",
       "      <th>region</th>\n",
       "      <th>region2</th>\n",
       "    </tr>\n",
       "  </thead>\n",
       "  <tbody>\n",
       "    <tr>\n",
       "      <th>0</th>\n",
       "      <td>Clothing</td>\n",
       "      <td>Caps</td>\n",
       "      <td>AWC Logo Cap</td>\n",
       "      <td>United Kingdom</td>\n",
       "      <td>United Kingdom</td>\n",
       "      <td>Berks</td>\n",
       "      <td>England</td>\n",
       "      <td>Gary Suess</td>\n",
       "      <td>Amy Alberts</td>\n",
       "      <td>1</td>\n",
       "      <td>...</td>\n",
       "      <td>5</td>\n",
       "      <td>0</td>\n",
       "      <td>1</td>\n",
       "      <td>9</td>\n",
       "      <td>97</td>\n",
       "      <td>-28</td>\n",
       "      <td>14</td>\n",
       "      <td>69</td>\n",
       "      <td>Europe</td>\n",
       "      <td>Europe</td>\n",
       "    </tr>\n",
       "    <tr>\n",
       "      <th>1</th>\n",
       "      <td>Accessories</td>\n",
       "      <td>Locks</td>\n",
       "      <td>Cable Lock</td>\n",
       "      <td>United Kingdom</td>\n",
       "      <td>United Kingdom</td>\n",
       "      <td>Berks</td>\n",
       "      <td>England</td>\n",
       "      <td>Gary Suess</td>\n",
       "      <td>Amy Alberts</td>\n",
       "      <td>1</td>\n",
       "      <td>...</td>\n",
       "      <td>15</td>\n",
       "      <td>0</td>\n",
       "      <td>0</td>\n",
       "      <td>25</td>\n",
       "      <td>62</td>\n",
       "      <td>28</td>\n",
       "      <td>6</td>\n",
       "      <td>90</td>\n",
       "      <td>Europe</td>\n",
       "      <td>Europe</td>\n",
       "    </tr>\n",
       "  </tbody>\n",
       "</table>\n",
       "<p>2 rows × 22 columns</p>\n",
       "</div>"
      ],
      "text/plain": [
       "      category subcategory       product       territory         country   city    state    customer     employee  ordercount  ... unitprice  unitpricediscount  discount  listprice  saleswithstandard  netsales  \\\n",
       "0     Clothing        Caps  AWC Logo Cap  United Kingdom  United Kingdom  Berks  England  Gary Suess  Amy Alberts           1  ...         5                  0         1          9                 97       -28   \n",
       "1  Accessories       Locks    Cable Lock  United Kingdom  United Kingdom  Berks  England  Gary Suess  Amy Alberts           1  ...        15                  0         0         25                 62        28   \n",
       "\n",
       "   quantity  sales  region  region2  \n",
       "0        14     69  Europe   Europe  \n",
       "1         6     90  Europe   Europe  \n",
       "\n",
       "[2 rows x 22 columns]"
      ]
     },
     "execution_count": 50,
     "metadata": {},
     "output_type": "execute_result"
    }
   ],
   "source": [
    "df.iloc[0:2]"
   ]
  },
  {
   "cell_type": "markdown",
   "metadata": {},
   "source": [
    "### single cell value"
   ]
  },
  {
   "cell_type": "code",
   "execution_count": 51,
   "metadata": {},
   "outputs": [
    {
     "data": {
      "text/plain": [
       "'Clothing'"
      ]
     },
     "execution_count": 51,
     "metadata": {},
     "output_type": "execute_result"
    }
   ],
   "source": [
    "df.iloc[0, 0]"
   ]
  },
  {
   "cell_type": "code",
   "execution_count": 52,
   "metadata": {},
   "outputs": [
    {
     "data": {
      "text/plain": [
       "'United Kingdom'"
      ]
     },
     "execution_count": 52,
     "metadata": {},
     "output_type": "execute_result"
    }
   ],
   "source": [
    "df.at[0, 'territory']"
   ]
  },
  {
   "cell_type": "markdown",
   "metadata": {},
   "source": [
    "### multiple cells"
   ]
  },
  {
   "cell_type": "markdown",
   "metadata": {},
   "source": [
    "> inclusive"
   ]
  },
  {
   "cell_type": "code",
   "execution_count": 53,
   "metadata": {},
   "outputs": [
    {
     "data": {
      "application/vnd.microsoft.datawrangler.viewer.v0+json": {
       "columns": [
        {
         "name": "index",
         "rawType": "int64",
         "type": "integer"
        },
        {
         "name": "category",
         "rawType": "object",
         "type": "string"
        },
        {
         "name": "sales",
         "rawType": "float64",
         "type": "float"
        }
       ],
       "ref": "0aa689e0-ad41-405b-9b38-5ac3b3590311",
       "rows": [
        [
         "10",
         "clothing",
         "42.3867"
        ],
        [
         "11",
         "components",
         "826.164"
        ],
        [
         "12",
         "components",
         "149.676"
        ],
        [
         "13",
         "components",
         "1472.291"
        ],
        [
         "14",
         "Components",
         "736.1455"
        ],
        [
         "15",
         "Components",
         "744.2727"
        ]
       ],
       "shape": {
        "columns": 2,
        "rows": 6
       }
      },
      "text/html": [
       "<div>\n",
       "<style scoped>\n",
       "    .dataframe tbody tr th:only-of-type {\n",
       "        vertical-align: middle;\n",
       "    }\n",
       "\n",
       "    .dataframe tbody tr th {\n",
       "        vertical-align: top;\n",
       "    }\n",
       "\n",
       "    .dataframe thead th {\n",
       "        text-align: right;\n",
       "    }\n",
       "</style>\n",
       "<table border=\"1\" class=\"dataframe\">\n",
       "  <thead>\n",
       "    <tr style=\"text-align: right;\">\n",
       "      <th></th>\n",
       "      <th>category</th>\n",
       "      <th>sales</th>\n",
       "    </tr>\n",
       "  </thead>\n",
       "  <tbody>\n",
       "    <tr>\n",
       "      <th>10</th>\n",
       "      <td>clothing</td>\n",
       "      <td>42</td>\n",
       "    </tr>\n",
       "    <tr>\n",
       "      <th>11</th>\n",
       "      <td>components</td>\n",
       "      <td>826</td>\n",
       "    </tr>\n",
       "    <tr>\n",
       "      <th>12</th>\n",
       "      <td>components</td>\n",
       "      <td>150</td>\n",
       "    </tr>\n",
       "    <tr>\n",
       "      <th>13</th>\n",
       "      <td>components</td>\n",
       "      <td>1,472</td>\n",
       "    </tr>\n",
       "    <tr>\n",
       "      <th>14</th>\n",
       "      <td>Components</td>\n",
       "      <td>736</td>\n",
       "    </tr>\n",
       "    <tr>\n",
       "      <th>15</th>\n",
       "      <td>Components</td>\n",
       "      <td>744</td>\n",
       "    </tr>\n",
       "  </tbody>\n",
       "</table>\n",
       "</div>"
      ],
      "text/plain": [
       "      category  sales\n",
       "10    clothing     42\n",
       "11  components    826\n",
       "12  components    150\n",
       "13  components  1,472\n",
       "14  Components    736\n",
       "15  Components    744"
      ]
     },
     "execution_count": 53,
     "metadata": {},
     "output_type": "execute_result"
    }
   ],
   "source": [
    "df.loc[10:15, ['category', 'sales']]"
   ]
  },
  {
   "cell_type": "markdown",
   "metadata": {},
   "source": [
    "### get column index"
   ]
  },
  {
   "cell_type": "code",
   "execution_count": 54,
   "metadata": {},
   "outputs": [
    {
     "data": {
      "text/plain": [
       "19"
      ]
     },
     "execution_count": 54,
     "metadata": {},
     "output_type": "execute_result"
    }
   ],
   "source": [
    "sales = df.columns.get_loc('sales')\n",
    "sales"
   ]
  },
  {
   "cell_type": "markdown",
   "metadata": {},
   "source": [
    "> exclusive"
   ]
  },
  {
   "cell_type": "code",
   "execution_count": 55,
   "metadata": {},
   "outputs": [
    {
     "data": {
      "application/vnd.microsoft.datawrangler.viewer.v0+json": {
       "columns": [
        {
         "name": "index",
         "rawType": "int64",
         "type": "integer"
        },
        {
         "name": "category",
         "rawType": "object",
         "type": "string"
        },
        {
         "name": "sales",
         "rawType": "float64",
         "type": "float"
        }
       ],
       "ref": "c7a2b647-5868-4088-a959-0730e0d55e0c",
       "rows": [
        [
         "10",
         "clothing",
         "42.3867"
        ],
        [
         "11",
         "components",
         "826.164"
        ],
        [
         "12",
         "components",
         "149.676"
        ],
        [
         "13",
         "components",
         "1472.291"
        ],
        [
         "14",
         "Components",
         "736.1455"
        ]
       ],
       "shape": {
        "columns": 2,
        "rows": 5
       }
      },
      "text/html": [
       "<div>\n",
       "<style scoped>\n",
       "    .dataframe tbody tr th:only-of-type {\n",
       "        vertical-align: middle;\n",
       "    }\n",
       "\n",
       "    .dataframe tbody tr th {\n",
       "        vertical-align: top;\n",
       "    }\n",
       "\n",
       "    .dataframe thead th {\n",
       "        text-align: right;\n",
       "    }\n",
       "</style>\n",
       "<table border=\"1\" class=\"dataframe\">\n",
       "  <thead>\n",
       "    <tr style=\"text-align: right;\">\n",
       "      <th></th>\n",
       "      <th>category</th>\n",
       "      <th>sales</th>\n",
       "    </tr>\n",
       "  </thead>\n",
       "  <tbody>\n",
       "    <tr>\n",
       "      <th>10</th>\n",
       "      <td>clothing</td>\n",
       "      <td>42</td>\n",
       "    </tr>\n",
       "    <tr>\n",
       "      <th>11</th>\n",
       "      <td>components</td>\n",
       "      <td>826</td>\n",
       "    </tr>\n",
       "    <tr>\n",
       "      <th>12</th>\n",
       "      <td>components</td>\n",
       "      <td>150</td>\n",
       "    </tr>\n",
       "    <tr>\n",
       "      <th>13</th>\n",
       "      <td>components</td>\n",
       "      <td>1,472</td>\n",
       "    </tr>\n",
       "    <tr>\n",
       "      <th>14</th>\n",
       "      <td>Components</td>\n",
       "      <td>736</td>\n",
       "    </tr>\n",
       "  </tbody>\n",
       "</table>\n",
       "</div>"
      ],
      "text/plain": [
       "      category  sales\n",
       "10    clothing     42\n",
       "11  components    826\n",
       "12  components    150\n",
       "13  components  1,472\n",
       "14  Components    736"
      ]
     },
     "execution_count": 55,
     "metadata": {},
     "output_type": "execute_result"
    }
   ],
   "source": [
    "df.iloc[10:15, [0, sales]]"
   ]
  },
  {
   "cell_type": "markdown",
   "metadata": {},
   "source": [
    "### iterate through columns"
   ]
  },
  {
   "cell_type": "code",
   "execution_count": 56,
   "metadata": {},
   "outputs": [
    {
     "name": "stdout",
     "output_type": "stream",
     "text": [
      "column name: category            , index: 0\n",
      "column name: subcategory         , index: 1\n",
      "column name: product             , index: 2\n",
      "column name: territory           , index: 3\n",
      "column name: country             , index: 4\n",
      "column name: city                , index: 5\n",
      "column name: state               , index: 6\n",
      "column name: customer            , index: 7\n",
      "column name: employee            , index: 8\n",
      "column name: ordercount          , index: 9\n",
      "column name: date                , index: 10\n",
      "column name: standardcost        , index: 11\n",
      "column name: unitprice           , index: 12\n",
      "column name: unitpricediscount   , index: 13\n",
      "column name: discount            , index: 14\n",
      "column name: listprice           , index: 15\n",
      "column name: saleswithstandard   , index: 16\n",
      "column name: netsales            , index: 17\n",
      "column name: quantity            , index: 18\n",
      "column name: sales               , index: 19\n",
      "column name: region              , index: 20\n",
      "column name: region2             , index: 21\n"
     ]
    }
   ],
   "source": [
    "for col in df.columns:\n",
    "    print(f'column name: {col:20}, index: {df.columns.get_loc(col)}')"
   ]
  },
  {
   "cell_type": "markdown",
   "metadata": {},
   "source": [
    "## add columns to dataframe"
   ]
  },
  {
   "cell_type": "markdown",
   "metadata": {},
   "source": [
    "### add year column"
   ]
  },
  {
   "cell_type": "code",
   "execution_count": 57,
   "metadata": {},
   "outputs": [],
   "source": [
    "df['date'] = pd.to_datetime(df['date'])\n",
    "df['year'] = df['date'].dt.year"
   ]
  },
  {
   "cell_type": "markdown",
   "metadata": {},
   "source": [
    "### groupby year"
   ]
  },
  {
   "cell_type": "code",
   "execution_count": 58,
   "metadata": {},
   "outputs": [
    {
     "data": {
      "application/vnd.microsoft.datawrangler.viewer.v0+json": {
       "columns": [
        {
         "name": "('region', 'year')",
         "rawType": "object",
         "type": "unknown"
        },
        {
         "name": "0",
         "rawType": "int64",
         "type": "integer"
        }
       ],
       "ref": "9e1f29fd-6d4b-4f07-bd33-b7a3f6f41b6e",
       "rows": [
        [
         "('Americas', np.int32(2011))",
         "4515"
        ],
        [
         "('Americas', np.int32(2012))",
         "17316"
        ],
        [
         "('Americas', np.int32(2013))",
         "21248"
        ],
        [
         "('Americas', np.int32(2014))",
         "7174"
        ],
        [
         "('Australia', np.int32(2013))",
         "1084"
        ],
        [
         "('Australia', np.int32(2014))",
         "629"
        ],
        [
         "('Europe', np.int32(2012))",
         "1630"
        ],
        [
         "('Europe', np.int32(2013))",
         "5251"
        ],
        [
         "('Europe', np.int32(2014))",
         "2033"
        ]
       ],
       "shape": {
        "columns": 1,
        "rows": 9
       }
      },
      "text/plain": [
       "region     year\n",
       "Americas   2011     4515\n",
       "           2012    17316\n",
       "           2013    21248\n",
       "           2014     7174\n",
       "Australia  2013     1084\n",
       "           2014      629\n",
       "Europe     2012     1630\n",
       "           2013     5251\n",
       "           2014     2033\n",
       "dtype: int64"
      ]
     },
     "execution_count": 58,
     "metadata": {},
     "output_type": "execute_result"
    }
   ],
   "source": [
    "df.groupby([df.region, df.year]).size()"
   ]
  },
  {
   "cell_type": "markdown",
   "metadata": {},
   "source": [
    "## drop column"
   ]
  },
  {
   "cell_type": "markdown",
   "metadata": {},
   "source": [
    "### check if columns exists"
   ]
  },
  {
   "cell_type": "code",
   "execution_count": 59,
   "metadata": {},
   "outputs": [
    {
     "data": {
      "text/plain": [
       "True"
      ]
     },
     "execution_count": 59,
     "metadata": {},
     "output_type": "execute_result"
    }
   ],
   "source": [
    "df.columns.__contains__('listprice')"
   ]
  },
  {
   "cell_type": "code",
   "execution_count": 60,
   "metadata": {},
   "outputs": [
    {
     "data": {
      "text/plain": [
       "True"
      ]
     },
     "execution_count": 60,
     "metadata": {},
     "output_type": "execute_result"
    }
   ],
   "source": [
    "'listprice' in df.columns"
   ]
  },
  {
   "cell_type": "code",
   "execution_count": 61,
   "metadata": {},
   "outputs": [
    {
     "data": {
      "application/vnd.microsoft.datawrangler.viewer.v0+json": {
       "columns": [
        {
         "name": "index",
         "rawType": "int64",
         "type": "integer"
        },
        {
         "name": "listprice",
         "rawType": "float64",
         "type": "float"
        }
       ],
       "ref": "45059afa-dfff-44b8-ab4c-1d5971713d70",
       "rows": [
        [
         "0",
         "8.6442"
        ],
        [
         "1",
         "25.0"
        ],
        [
         "2",
         "37.99"
        ],
        [
         "3",
         "37.99"
        ],
        [
         "4",
         "37.99"
        ]
       ],
       "shape": {
        "columns": 1,
        "rows": 5
       }
      },
      "text/plain": [
       "0    9\n",
       "1   25\n",
       "2   38\n",
       "3   38\n",
       "4   38\n",
       "Name: listprice, dtype: float64"
      ]
     },
     "execution_count": 61,
     "metadata": {},
     "output_type": "execute_result"
    }
   ],
   "source": [
    "df.listprice.head()"
   ]
  },
  {
   "cell_type": "markdown",
   "metadata": {},
   "source": [
    "### drop"
   ]
  },
  {
   "cell_type": "code",
   "execution_count": 62,
   "metadata": {},
   "outputs": [
    {
     "name": "stdout",
     "output_type": "stream",
     "text": [
      "SUCCESS | column listprice dropped\n",
      "SUCCESS | column region2 dropped\n"
     ]
    }
   ],
   "source": [
    "for col in ['listprice', 'region2']:\n",
    "    if col in df.columns:\n",
    "        df.drop(col, axis=1, inplace=True)  # axis 0 = rows, 1 = columns\n",
    "        print(f'SUCCESS | column {col} dropped')\n",
    "    else:\n",
    "        print(f'WARNING | column {col} does not exist')\n"
   ]
  },
  {
   "cell_type": "markdown",
   "metadata": {},
   "source": [
    "### check that column does not exist"
   ]
  },
  {
   "cell_type": "code",
   "execution_count": 63,
   "metadata": {},
   "outputs": [
    {
     "data": {
      "text/plain": [
       "False"
      ]
     },
     "execution_count": 63,
     "metadata": {},
     "output_type": "execute_result"
    }
   ],
   "source": [
    "df.columns.__contains__('listprice')"
   ]
  },
  {
   "cell_type": "code",
   "execution_count": 64,
   "metadata": {},
   "outputs": [
    {
     "data": {
      "text/plain": [
       "False"
      ]
     },
     "execution_count": 64,
     "metadata": {},
     "output_type": "execute_result"
    }
   ],
   "source": [
    "'listprice' in df.columns"
   ]
  },
  {
   "cell_type": "markdown",
   "metadata": {},
   "source": [
    "## summarize data"
   ]
  },
  {
   "cell_type": "markdown",
   "metadata": {},
   "source": [
    "### get total sales per category\n",
    "### order by sum descending"
   ]
  },
  {
   "cell_type": "code",
   "execution_count": 65,
   "metadata": {},
   "outputs": [
    {
     "data": {
      "application/vnd.microsoft.datawrangler.viewer.v0+json": {
       "columns": [
        {
         "name": "category",
         "rawType": "object",
         "type": "string"
        },
        {
         "name": "sales",
         "rawType": "float64",
         "type": "float"
        }
       ],
       "ref": "2e2d87d8-583c-40bb-9971-e37513b8904c",
       "rows": [
        [
         "Bikes",
         "66302381.542031"
        ],
        [
         "Components",
         "11796628.52743"
        ],
        [
         "Clothing",
         "1777798.446101"
        ],
        [
         "Accessories",
         "571297.923926"
        ],
        [
         "unknown",
         "37107.222"
        ],
        [
         "components",
         "2448.131"
        ],
        [
         "clothing",
         "42.3867"
        ]
       ],
       "shape": {
        "columns": 1,
        "rows": 7
       }
      },
      "text/plain": [
       "category\n",
       "Bikes         66,302,382\n",
       "Components    11,796,629\n",
       "Clothing       1,777,798\n",
       "Accessories      571,298\n",
       "unknown           37,107\n",
       "components         2,448\n",
       "clothing              42\n",
       "Name: sales, dtype: float64"
      ]
     },
     "execution_count": 65,
     "metadata": {},
     "output_type": "execute_result"
    }
   ],
   "source": [
    "sales_per_category = df.groupby('category')['sales'].sum().sort_values(ascending=False)\n",
    "sales_per_category"
   ]
  },
  {
   "cell_type": "code",
   "execution_count": 66,
   "metadata": {},
   "outputs": [
    {
     "data": {
      "application/vnd.microsoft.datawrangler.viewer.v0+json": {
       "columns": [
        {
         "name": "('region', 'year', 'category')",
         "rawType": "object",
         "type": "unknown"
        },
        {
         "name": "sales",
         "rawType": "float64",
         "type": "float"
        }
       ],
       "ref": "ec496e0b-d730-490d-b846-17fce473c2ac",
       "rows": [
        [
         "('Americas', np.int32(2012), 'Bikes')",
         "21006720.369971998"
        ],
        [
         "('Americas', np.int32(2013), 'Bikes')",
         "20370374.614762"
        ],
        [
         "('Americas', np.int32(2011), 'Bikes')",
         "8082526.7106"
        ],
        [
         "('Americas', np.int32(2014), 'Bikes')",
         "7009510.617892"
        ],
        [
         "('Europe', np.int32(2013), 'Bikes')",
         "4856408.300231"
        ],
        [
         "('Americas', np.int32(2013), 'Components')",
         "4303785.409829"
        ],
        [
         "('Americas', np.int32(2012), 'Components')",
         "3508356.741074"
        ],
        [
         "('Europe', np.int32(2014), 'Bikes')",
         "2064824.669332"
        ],
        [
         "('Europe', np.int32(2012), 'Bikes')",
         "1588195.527423"
        ],
        [
         "('Americas', np.int32(2014), 'Components')",
         "1227252.13438"
        ]
       ],
       "shape": {
        "columns": 1,
        "rows": 10
       }
      },
      "text/plain": [
       "region    year  category  \n",
       "Americas  2012  Bikes        21,006,720\n",
       "          2013  Bikes        20,370,375\n",
       "          2011  Bikes         8,082,527\n",
       "          2014  Bikes         7,009,511\n",
       "Europe    2013  Bikes         4,856,408\n",
       "Americas  2013  Components    4,303,785\n",
       "          2012  Components    3,508,357\n",
       "Europe    2014  Bikes         2,064,825\n",
       "          2012  Bikes         1,588,196\n",
       "Americas  2014  Components    1,227,252\n",
       "Name: sales, dtype: float64"
      ]
     },
     "execution_count": 66,
     "metadata": {},
     "output_type": "execute_result"
    }
   ],
   "source": [
    "df.groupby([df.region, df.year, df.category])['sales'].sum().sort_values(ascending=False).nlargest(10)\n"
   ]
  },
  {
   "cell_type": "code",
   "execution_count": 67,
   "metadata": {},
   "outputs": [
    {
     "data": {
      "application/vnd.microsoft.datawrangler.viewer.v0+json": {
       "columns": [
        {
         "name": "product",
         "rawType": "object",
         "type": "string"
        },
        {
         "name": "sales",
         "rawType": "float64",
         "type": "float"
        }
       ],
       "ref": "13079c55-d114-4e97-a86a-767c51ef7eae",
       "rows": [
        [
         "Mountain-200 Black, 38",
         "3105726.6592"
        ],
        [
         "Mountain-200 Black, 42",
         "2646352.668441"
        ],
        [
         "Mountain-200 Silver, 38",
         "2354215.234872"
        ],
        [
         "Mountain-200 Silver, 42",
         "2181044.287623"
        ],
        [
         "Mountain-200 Silver, 46",
         "2133156.843528"
        ],
        [
         "Mountain-200 Black, 46",
         "1936203.668708"
        ],
        [
         "Road-250 Black, 44",
         "1888480.052418"
        ],
        [
         "Road-250 Black, 48",
         "1656449.690954"
        ],
        [
         "Road-350-W Yellow, 48",
         "1380253.877085"
        ],
        [
         "Touring-1000 Blue, 60",
         "1370784.224355"
        ]
       ],
       "shape": {
        "columns": 1,
        "rows": 10
       }
      },
      "text/plain": [
       "product\n",
       "Mountain-200 Black, 38    3,105,727\n",
       "Mountain-200 Black, 42    2,646,353\n",
       "Mountain-200 Silver, 38   2,354,215\n",
       "Mountain-200 Silver, 42   2,181,044\n",
       "Mountain-200 Silver, 46   2,133,157\n",
       "Mountain-200 Black, 46    1,936,204\n",
       "Road-250 Black, 44        1,888,480\n",
       "Road-250 Black, 48        1,656,450\n",
       "Road-350-W Yellow, 48     1,380,254\n",
       "Touring-1000 Blue, 60     1,370,784\n",
       "Name: sales, dtype: float64"
      ]
     },
     "execution_count": 67,
     "metadata": {},
     "output_type": "execute_result"
    }
   ],
   "source": [
    "product_sales = df.groupby('product')['sales'].sum().sort_values(ascending=False)\n",
    "product_sales.head(10)"
   ]
  },
  {
   "cell_type": "markdown",
   "metadata": {},
   "source": [
    "### count values per category"
   ]
  },
  {
   "cell_type": "code",
   "execution_count": 68,
   "metadata": {},
   "outputs": [
    {
     "data": {
      "application/vnd.microsoft.datawrangler.viewer.v0+json": {
       "columns": [
        {
         "name": "category",
         "rawType": "object",
         "type": "string"
        },
        {
         "name": "count",
         "rawType": "int64",
         "type": "integer"
        }
       ],
       "ref": "8063b596-9810-4c43-8949-42f43a2b24be",
       "rows": [
        [
         "Bikes",
         "24800"
        ],
        [
         "Components",
         "18680"
        ],
        [
         "Clothing",
         "12259"
        ],
        [
         "Accessories",
         "5098"
        ],
        [
         "unknown",
         "39"
        ],
        [
         "components",
         "3"
        ],
        [
         "clothing",
         "1"
        ]
       ],
       "shape": {
        "columns": 1,
        "rows": 7
       }
      },
      "text/plain": [
       "category\n",
       "Bikes          24800\n",
       "Components     18680\n",
       "Clothing       12259\n",
       "Accessories     5098\n",
       "unknown           39\n",
       "components         3\n",
       "clothing           1\n",
       "Name: count, dtype: int64"
      ]
     },
     "execution_count": 68,
     "metadata": {},
     "output_type": "execute_result"
    }
   ],
   "source": [
    "df.category.value_counts()"
   ]
  },
  {
   "cell_type": "code",
   "execution_count": 69,
   "metadata": {},
   "outputs": [
    {
     "data": {
      "application/vnd.microsoft.datawrangler.viewer.v0+json": {
       "columns": [
        {
         "name": "category",
         "rawType": "object",
         "type": "string"
        },
        {
         "name": "2011",
         "rawType": "object",
         "type": "unknown"
        },
        {
         "name": "2012",
         "rawType": "object",
         "type": "unknown"
        },
        {
         "name": "2013",
         "rawType": "object",
         "type": "unknown"
        },
        {
         "name": "2014",
         "rawType": "object",
         "type": "unknown"
        }
       ],
       "ref": "63c9844a-f9b4-41f7-a596-de2987f94e6b",
       "rows": [
        [
         "Accessories",
         "20820.773107999998",
         "102439.820714",
         "322100.220961",
         "125937.109143"
        ],
        [
         "Bikes",
         "8082526.7106",
         "22594915.897395",
         "26032637.715612",
         "9592301.218424"
        ],
        [
         "Clothing",
         "36031.475346",
         "555545.31934",
         "897473.367497",
         "288748.283918"
        ],
        [
         "Components",
         "639173.0405",
         "3878309.821985",
         "5609917.798565",
         "1669227.86638"
        ],
        [
         "clothing",
         "N/A",
         "42.3867",
         "N/A",
         "N/A"
        ],
        [
         "components",
         "N/A",
         "2448.131",
         "N/A",
         "N/A"
        ],
        [
         "unknown",
         "N/A",
         "N/A",
         "28222.619",
         "8884.603"
        ]
       ],
       "shape": {
        "columns": 4,
        "rows": 7
       }
      },
      "text/html": [
       "<div>\n",
       "<style scoped>\n",
       "    .dataframe tbody tr th:only-of-type {\n",
       "        vertical-align: middle;\n",
       "    }\n",
       "\n",
       "    .dataframe tbody tr th {\n",
       "        vertical-align: top;\n",
       "    }\n",
       "\n",
       "    .dataframe thead th {\n",
       "        text-align: right;\n",
       "    }\n",
       "</style>\n",
       "<table border=\"1\" class=\"dataframe\">\n",
       "  <thead>\n",
       "    <tr style=\"text-align: right;\">\n",
       "      <th>year</th>\n",
       "      <th>2011</th>\n",
       "      <th>2012</th>\n",
       "      <th>2013</th>\n",
       "      <th>2014</th>\n",
       "    </tr>\n",
       "    <tr>\n",
       "      <th>category</th>\n",
       "      <th></th>\n",
       "      <th></th>\n",
       "      <th></th>\n",
       "      <th></th>\n",
       "    </tr>\n",
       "  </thead>\n",
       "  <tbody>\n",
       "    <tr>\n",
       "      <th>Accessories</th>\n",
       "      <td>20,821</td>\n",
       "      <td>102,440</td>\n",
       "      <td>322,100</td>\n",
       "      <td>125,937</td>\n",
       "    </tr>\n",
       "    <tr>\n",
       "      <th>Bikes</th>\n",
       "      <td>8,082,527</td>\n",
       "      <td>22,594,916</td>\n",
       "      <td>26,032,638</td>\n",
       "      <td>9,592,301</td>\n",
       "    </tr>\n",
       "    <tr>\n",
       "      <th>Clothing</th>\n",
       "      <td>36,031</td>\n",
       "      <td>555,545</td>\n",
       "      <td>897,473</td>\n",
       "      <td>288,748</td>\n",
       "    </tr>\n",
       "    <tr>\n",
       "      <th>Components</th>\n",
       "      <td>639,173</td>\n",
       "      <td>3,878,310</td>\n",
       "      <td>5,609,918</td>\n",
       "      <td>1,669,228</td>\n",
       "    </tr>\n",
       "    <tr>\n",
       "      <th>clothing</th>\n",
       "      <td>N/A</td>\n",
       "      <td>42</td>\n",
       "      <td>N/A</td>\n",
       "      <td>N/A</td>\n",
       "    </tr>\n",
       "    <tr>\n",
       "      <th>components</th>\n",
       "      <td>N/A</td>\n",
       "      <td>2,448</td>\n",
       "      <td>N/A</td>\n",
       "      <td>N/A</td>\n",
       "    </tr>\n",
       "    <tr>\n",
       "      <th>unknown</th>\n",
       "      <td>N/A</td>\n",
       "      <td>N/A</td>\n",
       "      <td>28,223</td>\n",
       "      <td>8,885</td>\n",
       "    </tr>\n",
       "  </tbody>\n",
       "</table>\n",
       "</div>"
      ],
      "text/plain": [
       "year             2011       2012       2013      2014\n",
       "category                                             \n",
       "Accessories    20,821    102,440    322,100   125,937\n",
       "Bikes       8,082,527 22,594,916 26,032,638 9,592,301\n",
       "Clothing       36,031    555,545    897,473   288,748\n",
       "Components    639,173  3,878,310  5,609,918 1,669,228\n",
       "clothing          N/A         42        N/A       N/A\n",
       "components        N/A      2,448        N/A       N/A\n",
       "unknown           N/A        N/A     28,223     8,885"
      ]
     },
     "execution_count": 69,
     "metadata": {},
     "output_type": "execute_result"
    }
   ],
   "source": [
    "df.pivot_table(index='category', columns='year', values='sales', aggfunc='sum', fill_value='N/A')"
   ]
  },
  {
   "cell_type": "markdown",
   "metadata": {},
   "source": [
    "### pivot table"
   ]
  },
  {
   "cell_type": "markdown",
   "metadata": {},
   "source": [
    "\n",
    "\n",
    "\n",
    "\n",
    "\n",
    "\n",
    "# BREAK\n",
    "<br/>\n",
    "<br/>\n",
    "<br/>\n",
    "<br/>\n",
    "<br/>\n",
    "<br/>\n",
    "<br/>\n",
    "<br/>\n",
    "<br/>\n",
    "<br/>\n",
    "<br/>\n",
    "<br/>\n",
    "<br/>\n",
    "<br/>\n",
    "<br/>\n",
    "<br/>\n",
    "<br/>\n",
    "<br/>\n",
    "<br/>\n",
    "<br/>\n",
    "<br/>\n",
    "<br/>\n",
    "<br/>\n",
    "\n",
    "---\n"
   ]
  },
  {
   "cell_type": "markdown",
   "metadata": {},
   "source": [
    "# test loc syntax"
   ]
  },
  {
   "cell_type": "markdown",
   "metadata": {},
   "source": [
    "### single row\n",
    ">use index position\n",
    "\n",
    "> returns a series"
   ]
  },
  {
   "cell_type": "code",
   "execution_count": 70,
   "metadata": {},
   "outputs": [
    {
     "data": {
      "text/plain": [
       "pandas.core.series.Series"
      ]
     },
     "execution_count": 70,
     "metadata": {},
     "output_type": "execute_result"
    }
   ],
   "source": [
    "single_row = df.loc[10]\n",
    "type(single_row)\n"
   ]
  },
  {
   "cell_type": "code",
   "execution_count": 71,
   "metadata": {},
   "outputs": [
    {
     "data": {
      "application/vnd.microsoft.datawrangler.viewer.v0+json": {
       "columns": [
        {
         "name": "index",
         "rawType": "object",
         "type": "string"
        },
        {
         "name": "10",
         "rawType": "object",
         "type": "unknown"
        }
       ],
       "ref": "6a9b9372-175a-4eac-a59a-88fe1b592095",
       "rows": [
        [
         "category",
         "clothing"
        ],
        [
         "subcategory",
         "Gloves"
        ],
        [
         "product",
         "Half-Finger Gloves, S"
        ],
        [
         "territory",
         "United Kingdom"
        ],
        [
         "country",
         "United Kingdom"
        ],
        [
         "city",
         "Berks"
        ],
        [
         "state",
         "England"
        ],
        [
         "customer",
         "Gary Suess"
        ],
        [
         "employee",
         "Amy Alberts"
        ],
        [
         "ordercount",
         "1"
        ],
        [
         "date",
         "2012-06-30 00:00:00"
        ],
        [
         "standardcost",
         "9.1593"
        ],
        [
         "unitprice",
         "14.1289"
        ],
        [
         "unitpricediscount",
         "0.0"
        ],
        [
         "discount",
         "0.0"
        ],
        [
         "saleswithstandard",
         "27.4779"
        ],
        [
         "netsales",
         "14.9088"
        ],
        [
         "quantity",
         "3"
        ],
        [
         "sales",
         "42.3867"
        ],
        [
         "region",
         "Europe"
        ],
        [
         "year",
         "2012"
        ]
       ],
       "shape": {
        "columns": 1,
        "rows": 21
       }
      },
      "text/plain": [
       "category                          clothing\n",
       "subcategory                         Gloves\n",
       "product              Half-Finger Gloves, S\n",
       "territory                   United Kingdom\n",
       "country                     United Kingdom\n",
       "city                                 Berks\n",
       "state                              England\n",
       "customer                        Gary Suess\n",
       "employee                       Amy Alberts\n",
       "ordercount                               1\n",
       "date                   2012-06-30 00:00:00\n",
       "standardcost                             9\n",
       "unitprice                               14\n",
       "unitpricediscount                        0\n",
       "discount                                 0\n",
       "saleswithstandard                       27\n",
       "netsales                                15\n",
       "quantity                                 3\n",
       "sales                                   42\n",
       "region                              Europe\n",
       "year                                  2012\n",
       "Name: 10, dtype: object"
      ]
     },
     "execution_count": 71,
     "metadata": {},
     "output_type": "execute_result"
    }
   ],
   "source": [
    "single_row"
   ]
  },
  {
   "cell_type": "markdown",
   "metadata": {},
   "source": [
    "### slice of rows\n",
    "> use start and stop indexes\n",
    "\n",
    "> returns dataframe with both start and stop included"
   ]
  },
  {
   "cell_type": "code",
   "execution_count": 72,
   "metadata": {},
   "outputs": [
    {
     "data": {
      "text/plain": [
       "pandas.core.frame.DataFrame"
      ]
     },
     "execution_count": 72,
     "metadata": {},
     "output_type": "execute_result"
    }
   ],
   "source": [
    "rows = df.loc[0:5]\n",
    "type(rows)\n"
   ]
  },
  {
   "cell_type": "code",
   "execution_count": 73,
   "metadata": {},
   "outputs": [
    {
     "data": {
      "application/vnd.microsoft.datawrangler.viewer.v0+json": {
       "columns": [
        {
         "name": "index",
         "rawType": "int64",
         "type": "integer"
        },
        {
         "name": "category",
         "rawType": "object",
         "type": "string"
        },
        {
         "name": "subcategory",
         "rawType": "object",
         "type": "string"
        },
        {
         "name": "product",
         "rawType": "object",
         "type": "string"
        },
        {
         "name": "territory",
         "rawType": "object",
         "type": "string"
        },
        {
         "name": "country",
         "rawType": "object",
         "type": "string"
        },
        {
         "name": "city",
         "rawType": "object",
         "type": "string"
        },
        {
         "name": "state",
         "rawType": "object",
         "type": "string"
        },
        {
         "name": "customer",
         "rawType": "object",
         "type": "string"
        },
        {
         "name": "employee",
         "rawType": "object",
         "type": "string"
        },
        {
         "name": "ordercount",
         "rawType": "int64",
         "type": "integer"
        },
        {
         "name": "date",
         "rawType": "datetime64[ns]",
         "type": "datetime"
        },
        {
         "name": "standardcost",
         "rawType": "float64",
         "type": "float"
        },
        {
         "name": "unitprice",
         "rawType": "float64",
         "type": "float"
        },
        {
         "name": "unitpricediscount",
         "rawType": "float64",
         "type": "float"
        },
        {
         "name": "discount",
         "rawType": "float64",
         "type": "float"
        },
        {
         "name": "saleswithstandard",
         "rawType": "float64",
         "type": "float"
        },
        {
         "name": "netsales",
         "rawType": "float64",
         "type": "float"
        },
        {
         "name": "quantity",
         "rawType": "int64",
         "type": "integer"
        },
        {
         "name": "sales",
         "rawType": "float64",
         "type": "float"
        },
        {
         "name": "region",
         "rawType": "object",
         "type": "string"
        },
        {
         "name": "year",
         "rawType": "int32",
         "type": "integer"
        }
       ],
       "ref": "1137f15b-678f-4abc-b1e2-16b55c81ccd2",
       "rows": [
        [
         "0",
         "Clothing",
         "Caps",
         "AWC Logo Cap",
         "United Kingdom",
         "United Kingdom",
         "Berks",
         "England",
         "Gary Suess",
         "Amy Alberts",
         "1",
         "2012-06-30 00:00:00",
         "6.9223",
         "5.0136",
         "0.02",
         "1.4038",
         "96.9122",
         "-28.125608",
         "14",
         "68.786592",
         "Europe",
         "2012"
        ],
        [
         "1",
         "Accessories",
         "Locks",
         "Cable Lock",
         "United Kingdom",
         "United Kingdom",
         "Berks",
         "England",
         "Gary Suess",
         "Amy Alberts",
         "1",
         "2012-06-30 00:00:00",
         "10.3125",
         "15.0",
         "0.0",
         "0.0",
         "61.875",
         "28.125",
         "6",
         "90.0",
         "Europe",
         "2012"
        ],
        [
         "2",
         "Clothing",
         "Gloves",
         "Full-Finger Gloves, L",
         "United Kingdom",
         "United Kingdom",
         "Berks",
         "England",
         "Gary Suess",
         "Amy Alberts",
         "1",
         "2012-06-30 00:00:00",
         "15.6709",
         "22.794",
         "0.0",
         "0.0",
         "125.3672",
         "56.9848",
         "8",
         "182.352",
         "Europe",
         "2012"
        ],
        [
         "3",
         "Clothing",
         "Gloves",
         "Full-Finger Gloves, L",
         "United Kingdom",
         "United Kingdom",
         "London",
         "England",
         "Linda Martin",
         "Amy Alberts",
         "1",
         "2012-06-30 00:00:00",
         "15.6709",
         "20.8945",
         "0.05",
         "16.7156",
         "250.7344",
         "66.862",
         "16",
         "317.5964",
         "Europe",
         "2012"
        ],
        [
         "4",
         "Clothing",
         "Gloves",
         "Full-Finger Gloves, M",
         "United Kingdom",
         "United Kingdom",
         "Berks",
         "England",
         "Gary Suess",
         "Amy Alberts",
         "1",
         "2012-06-30 00:00:00",
         "15.6709",
         "22.794",
         "0.0",
         "0.0",
         "109.6963",
         "49.8617",
         "7",
         "159.558",
         "Europe",
         "2012"
        ],
        [
         "5",
         "Clothing",
         "Gloves",
         "Full-Finger Gloves, M",
         "United Kingdom",
         "United Kingdom",
         "London",
         "England",
         "Linda Martin",
         "Amy Alberts",
         "1",
         "2012-06-30 00:00:00",
         "15.6709",
         "22.794",
         "0.0",
         "0.0",
         "31.3418",
         "14.2462",
         "2",
         "45.588",
         "Europe",
         "2012"
        ]
       ],
       "shape": {
        "columns": 21,
        "rows": 6
       }
      },
      "text/html": [
       "<div>\n",
       "<style scoped>\n",
       "    .dataframe tbody tr th:only-of-type {\n",
       "        vertical-align: middle;\n",
       "    }\n",
       "\n",
       "    .dataframe tbody tr th {\n",
       "        vertical-align: top;\n",
       "    }\n",
       "\n",
       "    .dataframe thead th {\n",
       "        text-align: right;\n",
       "    }\n",
       "</style>\n",
       "<table border=\"1\" class=\"dataframe\">\n",
       "  <thead>\n",
       "    <tr style=\"text-align: right;\">\n",
       "      <th></th>\n",
       "      <th>category</th>\n",
       "      <th>subcategory</th>\n",
       "      <th>product</th>\n",
       "      <th>territory</th>\n",
       "      <th>country</th>\n",
       "      <th>city</th>\n",
       "      <th>state</th>\n",
       "      <th>customer</th>\n",
       "      <th>employee</th>\n",
       "      <th>ordercount</th>\n",
       "      <th>...</th>\n",
       "      <th>standardcost</th>\n",
       "      <th>unitprice</th>\n",
       "      <th>unitpricediscount</th>\n",
       "      <th>discount</th>\n",
       "      <th>saleswithstandard</th>\n",
       "      <th>netsales</th>\n",
       "      <th>quantity</th>\n",
       "      <th>sales</th>\n",
       "      <th>region</th>\n",
       "      <th>year</th>\n",
       "    </tr>\n",
       "  </thead>\n",
       "  <tbody>\n",
       "    <tr>\n",
       "      <th>0</th>\n",
       "      <td>Clothing</td>\n",
       "      <td>Caps</td>\n",
       "      <td>AWC Logo Cap</td>\n",
       "      <td>United Kingdom</td>\n",
       "      <td>United Kingdom</td>\n",
       "      <td>Berks</td>\n",
       "      <td>England</td>\n",
       "      <td>Gary Suess</td>\n",
       "      <td>Amy Alberts</td>\n",
       "      <td>1</td>\n",
       "      <td>...</td>\n",
       "      <td>7</td>\n",
       "      <td>5</td>\n",
       "      <td>0</td>\n",
       "      <td>1</td>\n",
       "      <td>97</td>\n",
       "      <td>-28</td>\n",
       "      <td>14</td>\n",
       "      <td>69</td>\n",
       "      <td>Europe</td>\n",
       "      <td>2012</td>\n",
       "    </tr>\n",
       "    <tr>\n",
       "      <th>1</th>\n",
       "      <td>Accessories</td>\n",
       "      <td>Locks</td>\n",
       "      <td>Cable Lock</td>\n",
       "      <td>United Kingdom</td>\n",
       "      <td>United Kingdom</td>\n",
       "      <td>Berks</td>\n",
       "      <td>England</td>\n",
       "      <td>Gary Suess</td>\n",
       "      <td>Amy Alberts</td>\n",
       "      <td>1</td>\n",
       "      <td>...</td>\n",
       "      <td>10</td>\n",
       "      <td>15</td>\n",
       "      <td>0</td>\n",
       "      <td>0</td>\n",
       "      <td>62</td>\n",
       "      <td>28</td>\n",
       "      <td>6</td>\n",
       "      <td>90</td>\n",
       "      <td>Europe</td>\n",
       "      <td>2012</td>\n",
       "    </tr>\n",
       "    <tr>\n",
       "      <th>2</th>\n",
       "      <td>Clothing</td>\n",
       "      <td>Gloves</td>\n",
       "      <td>Full-Finger Gloves, L</td>\n",
       "      <td>United Kingdom</td>\n",
       "      <td>United Kingdom</td>\n",
       "      <td>Berks</td>\n",
       "      <td>England</td>\n",
       "      <td>Gary Suess</td>\n",
       "      <td>Amy Alberts</td>\n",
       "      <td>1</td>\n",
       "      <td>...</td>\n",
       "      <td>16</td>\n",
       "      <td>23</td>\n",
       "      <td>0</td>\n",
       "      <td>0</td>\n",
       "      <td>125</td>\n",
       "      <td>57</td>\n",
       "      <td>8</td>\n",
       "      <td>182</td>\n",
       "      <td>Europe</td>\n",
       "      <td>2012</td>\n",
       "    </tr>\n",
       "    <tr>\n",
       "      <th>3</th>\n",
       "      <td>Clothing</td>\n",
       "      <td>Gloves</td>\n",
       "      <td>Full-Finger Gloves, L</td>\n",
       "      <td>United Kingdom</td>\n",
       "      <td>United Kingdom</td>\n",
       "      <td>London</td>\n",
       "      <td>England</td>\n",
       "      <td>Linda Martin</td>\n",
       "      <td>Amy Alberts</td>\n",
       "      <td>1</td>\n",
       "      <td>...</td>\n",
       "      <td>16</td>\n",
       "      <td>21</td>\n",
       "      <td>0</td>\n",
       "      <td>17</td>\n",
       "      <td>251</td>\n",
       "      <td>67</td>\n",
       "      <td>16</td>\n",
       "      <td>318</td>\n",
       "      <td>Europe</td>\n",
       "      <td>2012</td>\n",
       "    </tr>\n",
       "    <tr>\n",
       "      <th>4</th>\n",
       "      <td>Clothing</td>\n",
       "      <td>Gloves</td>\n",
       "      <td>Full-Finger Gloves, M</td>\n",
       "      <td>United Kingdom</td>\n",
       "      <td>United Kingdom</td>\n",
       "      <td>Berks</td>\n",
       "      <td>England</td>\n",
       "      <td>Gary Suess</td>\n",
       "      <td>Amy Alberts</td>\n",
       "      <td>1</td>\n",
       "      <td>...</td>\n",
       "      <td>16</td>\n",
       "      <td>23</td>\n",
       "      <td>0</td>\n",
       "      <td>0</td>\n",
       "      <td>110</td>\n",
       "      <td>50</td>\n",
       "      <td>7</td>\n",
       "      <td>160</td>\n",
       "      <td>Europe</td>\n",
       "      <td>2012</td>\n",
       "    </tr>\n",
       "    <tr>\n",
       "      <th>5</th>\n",
       "      <td>Clothing</td>\n",
       "      <td>Gloves</td>\n",
       "      <td>Full-Finger Gloves, M</td>\n",
       "      <td>United Kingdom</td>\n",
       "      <td>United Kingdom</td>\n",
       "      <td>London</td>\n",
       "      <td>England</td>\n",
       "      <td>Linda Martin</td>\n",
       "      <td>Amy Alberts</td>\n",
       "      <td>1</td>\n",
       "      <td>...</td>\n",
       "      <td>16</td>\n",
       "      <td>23</td>\n",
       "      <td>0</td>\n",
       "      <td>0</td>\n",
       "      <td>31</td>\n",
       "      <td>14</td>\n",
       "      <td>2</td>\n",
       "      <td>46</td>\n",
       "      <td>Europe</td>\n",
       "      <td>2012</td>\n",
       "    </tr>\n",
       "  </tbody>\n",
       "</table>\n",
       "<p>6 rows × 21 columns</p>\n",
       "</div>"
      ],
      "text/plain": [
       "      category subcategory                product       territory         country    city    state      customer     employee  ordercount  ... standardcost  unitprice  unitpricediscount  discount  saleswithstandard  \\\n",
       "0     Clothing        Caps           AWC Logo Cap  United Kingdom  United Kingdom   Berks  England    Gary Suess  Amy Alberts           1  ...            7          5                  0         1                 97   \n",
       "1  Accessories       Locks             Cable Lock  United Kingdom  United Kingdom   Berks  England    Gary Suess  Amy Alberts           1  ...           10         15                  0         0                 62   \n",
       "2     Clothing      Gloves  Full-Finger Gloves, L  United Kingdom  United Kingdom   Berks  England    Gary Suess  Amy Alberts           1  ...           16         23                  0         0                125   \n",
       "3     Clothing      Gloves  Full-Finger Gloves, L  United Kingdom  United Kingdom  London  England  Linda Martin  Amy Alberts           1  ...           16         21                  0        17                251   \n",
       "4     Clothing      Gloves  Full-Finger Gloves, M  United Kingdom  United Kingdom   Berks  England    Gary Suess  Amy Alberts           1  ...           16         23                  0         0                110   \n",
       "5     Clothing      Gloves  Full-Finger Gloves, M  United Kingdom  United Kingdom  London  England  Linda Martin  Amy Alberts           1  ...           16         23                  0         0                 31   \n",
       "\n",
       "   netsales  quantity  sales  region  year  \n",
       "0       -28        14     69  Europe  2012  \n",
       "1        28         6     90  Europe  2012  \n",
       "2        57         8    182  Europe  2012  \n",
       "3        67        16    318  Europe  2012  \n",
       "4        50         7    160  Europe  2012  \n",
       "5        14         2     46  Europe  2012  \n",
       "\n",
       "[6 rows x 21 columns]"
      ]
     },
     "execution_count": 73,
     "metadata": {},
     "output_type": "execute_result"
    }
   ],
   "source": [
    "rows"
   ]
  },
  {
   "cell_type": "markdown",
   "metadata": {},
   "source": [
    "### select rows and one column"
   ]
  },
  {
   "cell_type": "code",
   "execution_count": 74,
   "metadata": {},
   "outputs": [
    {
     "data": {
      "application/vnd.microsoft.datawrangler.viewer.v0+json": {
       "columns": [
        {
         "name": "index",
         "rawType": "int64",
         "type": "integer"
        },
        {
         "name": "category",
         "rawType": "object",
         "type": "string"
        }
       ],
       "ref": "03bfafe2-26d2-49cd-b689-23faf5144abb",
       "rows": [
        [
         "0",
         "Clothing"
        ],
        [
         "1",
         "Accessories"
        ],
        [
         "2",
         "Clothing"
        ],
        [
         "3",
         "Clothing"
        ],
        [
         "4",
         "Clothing"
        ],
        [
         "5",
         "Clothing"
        ]
       ],
       "shape": {
        "columns": 1,
        "rows": 6
       }
      },
      "text/plain": [
       "0       Clothing\n",
       "1    Accessories\n",
       "2       Clothing\n",
       "3       Clothing\n",
       "4       Clothing\n",
       "5       Clothing\n",
       "Name: category, dtype: object"
      ]
     },
     "execution_count": 74,
     "metadata": {},
     "output_type": "execute_result"
    }
   ],
   "source": [
    "df.loc[0:5, 'category']"
   ]
  },
  {
   "cell_type": "markdown",
   "metadata": {},
   "source": [
    "### select rows and more columns"
   ]
  },
  {
   "cell_type": "code",
   "execution_count": 75,
   "metadata": {},
   "outputs": [
    {
     "ename": "KeyError",
     "evalue": "\"['listprice'] not in index\"",
     "output_type": "error",
     "traceback": [
      "\u001b[31m---------------------------------------------------------------------------\u001b[39m",
      "\u001b[31mKeyError\u001b[39m                                  Traceback (most recent call last)",
      "\u001b[36mCell\u001b[39m\u001b[36m \u001b[39m\u001b[32mIn[75]\u001b[39m\u001b[32m, line 1\u001b[39m\n\u001b[32m----> \u001b[39m\u001b[32m1\u001b[39m \u001b[43mdf\u001b[49m\u001b[43m.\u001b[49m\u001b[43mloc\u001b[49m\u001b[43m[\u001b[49m\u001b[32;43m0\u001b[39;49m\u001b[43m:\u001b[49m\u001b[32;43m5\u001b[39;49m\u001b[43m,\u001b[49m\u001b[43m \u001b[49m\u001b[43m[\u001b[49m\u001b[33;43m'\u001b[39;49m\u001b[33;43mcategory\u001b[39;49m\u001b[33;43m'\u001b[39;49m\u001b[43m,\u001b[49m\u001b[43m \u001b[49m\u001b[33;43m'\u001b[39;49m\u001b[33;43mlistprice\u001b[39;49m\u001b[33;43m'\u001b[39;49m\u001b[43m]\u001b[49m\u001b[43m]\u001b[49m\n",
      "\u001b[36mFile \u001b[39m\u001b[32m~/code/python/etl/bi-insights-inc/pandas-data-science-tutorial/.venv/lib/python3.12/site-packages/pandas/core/indexing.py:1184\u001b[39m, in \u001b[36m_LocationIndexer.__getitem__\u001b[39m\u001b[34m(self, key)\u001b[39m\n\u001b[32m   1182\u001b[39m     \u001b[38;5;28;01mif\u001b[39;00m \u001b[38;5;28mself\u001b[39m._is_scalar_access(key):\n\u001b[32m   1183\u001b[39m         \u001b[38;5;28;01mreturn\u001b[39;00m \u001b[38;5;28mself\u001b[39m.obj._get_value(*key, takeable=\u001b[38;5;28mself\u001b[39m._takeable)\n\u001b[32m-> \u001b[39m\u001b[32m1184\u001b[39m     \u001b[38;5;28;01mreturn\u001b[39;00m \u001b[38;5;28;43mself\u001b[39;49m\u001b[43m.\u001b[49m\u001b[43m_getitem_tuple\u001b[49m\u001b[43m(\u001b[49m\u001b[43mkey\u001b[49m\u001b[43m)\u001b[49m\n\u001b[32m   1185\u001b[39m \u001b[38;5;28;01melse\u001b[39;00m:\n\u001b[32m   1186\u001b[39m     \u001b[38;5;66;03m# we by definition only have the 0th axis\u001b[39;00m\n\u001b[32m   1187\u001b[39m     axis = \u001b[38;5;28mself\u001b[39m.axis \u001b[38;5;129;01mor\u001b[39;00m \u001b[32m0\u001b[39m\n",
      "\u001b[36mFile \u001b[39m\u001b[32m~/code/python/etl/bi-insights-inc/pandas-data-science-tutorial/.venv/lib/python3.12/site-packages/pandas/core/indexing.py:1377\u001b[39m, in \u001b[36m_LocIndexer._getitem_tuple\u001b[39m\u001b[34m(self, tup)\u001b[39m\n\u001b[32m   1374\u001b[39m \u001b[38;5;28;01mif\u001b[39;00m \u001b[38;5;28mself\u001b[39m._multi_take_opportunity(tup):\n\u001b[32m   1375\u001b[39m     \u001b[38;5;28;01mreturn\u001b[39;00m \u001b[38;5;28mself\u001b[39m._multi_take(tup)\n\u001b[32m-> \u001b[39m\u001b[32m1377\u001b[39m \u001b[38;5;28;01mreturn\u001b[39;00m \u001b[38;5;28;43mself\u001b[39;49m\u001b[43m.\u001b[49m\u001b[43m_getitem_tuple_same_dim\u001b[49m\u001b[43m(\u001b[49m\u001b[43mtup\u001b[49m\u001b[43m)\u001b[49m\n",
      "\u001b[36mFile \u001b[39m\u001b[32m~/code/python/etl/bi-insights-inc/pandas-data-science-tutorial/.venv/lib/python3.12/site-packages/pandas/core/indexing.py:1020\u001b[39m, in \u001b[36m_LocationIndexer._getitem_tuple_same_dim\u001b[39m\u001b[34m(self, tup)\u001b[39m\n\u001b[32m   1017\u001b[39m \u001b[38;5;28;01mif\u001b[39;00m com.is_null_slice(key):\n\u001b[32m   1018\u001b[39m     \u001b[38;5;28;01mcontinue\u001b[39;00m\n\u001b[32m-> \u001b[39m\u001b[32m1020\u001b[39m retval = \u001b[38;5;28;43mgetattr\u001b[39;49m\u001b[43m(\u001b[49m\u001b[43mretval\u001b[49m\u001b[43m,\u001b[49m\u001b[43m \u001b[49m\u001b[38;5;28;43mself\u001b[39;49m\u001b[43m.\u001b[49m\u001b[43mname\u001b[49m\u001b[43m)\u001b[49m\u001b[43m.\u001b[49m\u001b[43m_getitem_axis\u001b[49m\u001b[43m(\u001b[49m\u001b[43mkey\u001b[49m\u001b[43m,\u001b[49m\u001b[43m \u001b[49m\u001b[43maxis\u001b[49m\u001b[43m=\u001b[49m\u001b[43mi\u001b[49m\u001b[43m)\u001b[49m\n\u001b[32m   1021\u001b[39m \u001b[38;5;66;03m# We should never have retval.ndim < self.ndim, as that should\u001b[39;00m\n\u001b[32m   1022\u001b[39m \u001b[38;5;66;03m#  be handled by the _getitem_lowerdim call above.\u001b[39;00m\n\u001b[32m   1023\u001b[39m \u001b[38;5;28;01massert\u001b[39;00m retval.ndim == \u001b[38;5;28mself\u001b[39m.ndim\n",
      "\u001b[36mFile \u001b[39m\u001b[32m~/code/python/etl/bi-insights-inc/pandas-data-science-tutorial/.venv/lib/python3.12/site-packages/pandas/core/indexing.py:1420\u001b[39m, in \u001b[36m_LocIndexer._getitem_axis\u001b[39m\u001b[34m(self, key, axis)\u001b[39m\n\u001b[32m   1417\u001b[39m     \u001b[38;5;28;01mif\u001b[39;00m \u001b[38;5;28mhasattr\u001b[39m(key, \u001b[33m\"\u001b[39m\u001b[33mndim\u001b[39m\u001b[33m\"\u001b[39m) \u001b[38;5;129;01mand\u001b[39;00m key.ndim > \u001b[32m1\u001b[39m:\n\u001b[32m   1418\u001b[39m         \u001b[38;5;28;01mraise\u001b[39;00m \u001b[38;5;167;01mValueError\u001b[39;00m(\u001b[33m\"\u001b[39m\u001b[33mCannot index with multidimensional key\u001b[39m\u001b[33m\"\u001b[39m)\n\u001b[32m-> \u001b[39m\u001b[32m1420\u001b[39m     \u001b[38;5;28;01mreturn\u001b[39;00m \u001b[38;5;28;43mself\u001b[39;49m\u001b[43m.\u001b[49m\u001b[43m_getitem_iterable\u001b[49m\u001b[43m(\u001b[49m\u001b[43mkey\u001b[49m\u001b[43m,\u001b[49m\u001b[43m \u001b[49m\u001b[43maxis\u001b[49m\u001b[43m=\u001b[49m\u001b[43maxis\u001b[49m\u001b[43m)\u001b[49m\n\u001b[32m   1422\u001b[39m \u001b[38;5;66;03m# nested tuple slicing\u001b[39;00m\n\u001b[32m   1423\u001b[39m \u001b[38;5;28;01mif\u001b[39;00m is_nested_tuple(key, labels):\n",
      "\u001b[36mFile \u001b[39m\u001b[32m~/code/python/etl/bi-insights-inc/pandas-data-science-tutorial/.venv/lib/python3.12/site-packages/pandas/core/indexing.py:1360\u001b[39m, in \u001b[36m_LocIndexer._getitem_iterable\u001b[39m\u001b[34m(self, key, axis)\u001b[39m\n\u001b[32m   1357\u001b[39m \u001b[38;5;28mself\u001b[39m._validate_key(key, axis)\n\u001b[32m   1359\u001b[39m \u001b[38;5;66;03m# A collection of keys\u001b[39;00m\n\u001b[32m-> \u001b[39m\u001b[32m1360\u001b[39m keyarr, indexer = \u001b[38;5;28;43mself\u001b[39;49m\u001b[43m.\u001b[49m\u001b[43m_get_listlike_indexer\u001b[49m\u001b[43m(\u001b[49m\u001b[43mkey\u001b[49m\u001b[43m,\u001b[49m\u001b[43m \u001b[49m\u001b[43maxis\u001b[49m\u001b[43m)\u001b[49m\n\u001b[32m   1361\u001b[39m \u001b[38;5;28;01mreturn\u001b[39;00m \u001b[38;5;28mself\u001b[39m.obj._reindex_with_indexers(\n\u001b[32m   1362\u001b[39m     {axis: [keyarr, indexer]}, copy=\u001b[38;5;28;01mTrue\u001b[39;00m, allow_dups=\u001b[38;5;28;01mTrue\u001b[39;00m\n\u001b[32m   1363\u001b[39m )\n",
      "\u001b[36mFile \u001b[39m\u001b[32m~/code/python/etl/bi-insights-inc/pandas-data-science-tutorial/.venv/lib/python3.12/site-packages/pandas/core/indexing.py:1558\u001b[39m, in \u001b[36m_LocIndexer._get_listlike_indexer\u001b[39m\u001b[34m(self, key, axis)\u001b[39m\n\u001b[32m   1555\u001b[39m ax = \u001b[38;5;28mself\u001b[39m.obj._get_axis(axis)\n\u001b[32m   1556\u001b[39m axis_name = \u001b[38;5;28mself\u001b[39m.obj._get_axis_name(axis)\n\u001b[32m-> \u001b[39m\u001b[32m1558\u001b[39m keyarr, indexer = \u001b[43max\u001b[49m\u001b[43m.\u001b[49m\u001b[43m_get_indexer_strict\u001b[49m\u001b[43m(\u001b[49m\u001b[43mkey\u001b[49m\u001b[43m,\u001b[49m\u001b[43m \u001b[49m\u001b[43maxis_name\u001b[49m\u001b[43m)\u001b[49m\n\u001b[32m   1560\u001b[39m \u001b[38;5;28;01mreturn\u001b[39;00m keyarr, indexer\n",
      "\u001b[36mFile \u001b[39m\u001b[32m~/code/python/etl/bi-insights-inc/pandas-data-science-tutorial/.venv/lib/python3.12/site-packages/pandas/core/indexes/base.py:6212\u001b[39m, in \u001b[36mIndex._get_indexer_strict\u001b[39m\u001b[34m(self, key, axis_name)\u001b[39m\n\u001b[32m   6209\u001b[39m \u001b[38;5;28;01melse\u001b[39;00m:\n\u001b[32m   6210\u001b[39m     keyarr, indexer, new_indexer = \u001b[38;5;28mself\u001b[39m._reindex_non_unique(keyarr)\n\u001b[32m-> \u001b[39m\u001b[32m6212\u001b[39m \u001b[38;5;28;43mself\u001b[39;49m\u001b[43m.\u001b[49m\u001b[43m_raise_if_missing\u001b[49m\u001b[43m(\u001b[49m\u001b[43mkeyarr\u001b[49m\u001b[43m,\u001b[49m\u001b[43m \u001b[49m\u001b[43mindexer\u001b[49m\u001b[43m,\u001b[49m\u001b[43m \u001b[49m\u001b[43maxis_name\u001b[49m\u001b[43m)\u001b[49m\n\u001b[32m   6214\u001b[39m keyarr = \u001b[38;5;28mself\u001b[39m.take(indexer)\n\u001b[32m   6215\u001b[39m \u001b[38;5;28;01mif\u001b[39;00m \u001b[38;5;28misinstance\u001b[39m(key, Index):\n\u001b[32m   6216\u001b[39m     \u001b[38;5;66;03m# GH 42790 - Preserve name from an Index\u001b[39;00m\n",
      "\u001b[36mFile \u001b[39m\u001b[32m~/code/python/etl/bi-insights-inc/pandas-data-science-tutorial/.venv/lib/python3.12/site-packages/pandas/core/indexes/base.py:6264\u001b[39m, in \u001b[36mIndex._raise_if_missing\u001b[39m\u001b[34m(self, key, indexer, axis_name)\u001b[39m\n\u001b[32m   6261\u001b[39m     \u001b[38;5;28;01mraise\u001b[39;00m \u001b[38;5;167;01mKeyError\u001b[39;00m(\u001b[33mf\u001b[39m\u001b[33m\"\u001b[39m\u001b[33mNone of [\u001b[39m\u001b[38;5;132;01m{\u001b[39;00mkey\u001b[38;5;132;01m}\u001b[39;00m\u001b[33m] are in the [\u001b[39m\u001b[38;5;132;01m{\u001b[39;00maxis_name\u001b[38;5;132;01m}\u001b[39;00m\u001b[33m]\u001b[39m\u001b[33m\"\u001b[39m)\n\u001b[32m   6263\u001b[39m not_found = \u001b[38;5;28mlist\u001b[39m(ensure_index(key)[missing_mask.nonzero()[\u001b[32m0\u001b[39m]].unique())\n\u001b[32m-> \u001b[39m\u001b[32m6264\u001b[39m \u001b[38;5;28;01mraise\u001b[39;00m \u001b[38;5;167;01mKeyError\u001b[39;00m(\u001b[33mf\u001b[39m\u001b[33m\"\u001b[39m\u001b[38;5;132;01m{\u001b[39;00mnot_found\u001b[38;5;132;01m}\u001b[39;00m\u001b[33m not in index\u001b[39m\u001b[33m\"\u001b[39m)\n",
      "\u001b[31mKeyError\u001b[39m: \"['listprice'] not in index\""
     ]
    }
   ],
   "source": [
    "df.loc[0:5, ['category', 'listprice']]"
   ]
  },
  {
   "cell_type": "code",
   "execution_count": null,
   "metadata": {},
   "outputs": [
    {
     "data": {
      "text/plain": [
       "str"
      ]
     },
     "execution_count": 225,
     "metadata": {},
     "output_type": "execute_result"
    }
   ],
   "source": [
    "df[df.category.name]\n",
    "type(df.category.name)"
   ]
  },
  {
   "cell_type": "markdown",
   "metadata": {},
   "source": [
    "### select records\n",
    "\n",
    "<blockquote>\n",
    "slice the dataframe records\n",
    "\n",
    "[from-included:to-excluded]\n",
    "</blockquote>"
   ]
  },
  {
   "cell_type": "code",
   "execution_count": null,
   "metadata": {},
   "outputs": [
    {
     "data": {
      "text/html": [
       "<div>\n",
       "<style scoped>\n",
       "    .dataframe tbody tr th:only-of-type {\n",
       "        vertical-align: middle;\n",
       "    }\n",
       "\n",
       "    .dataframe tbody tr th {\n",
       "        vertical-align: top;\n",
       "    }\n",
       "\n",
       "    .dataframe thead th {\n",
       "        text-align: right;\n",
       "    }\n",
       "</style>\n",
       "<table border=\"1\" class=\"dataframe\">\n",
       "  <thead>\n",
       "    <tr style=\"text-align: right;\">\n",
       "      <th></th>\n",
       "      <th>category</th>\n",
       "      <th>subcategory</th>\n",
       "      <th>product</th>\n",
       "      <th>territory</th>\n",
       "      <th>country</th>\n",
       "      <th>city</th>\n",
       "      <th>state</th>\n",
       "      <th>customer</th>\n",
       "      <th>employee</th>\n",
       "      <th>ordercount</th>\n",
       "      <th>...</th>\n",
       "      <th>unitpricediscount</th>\n",
       "      <th>discount</th>\n",
       "      <th>listprice</th>\n",
       "      <th>saleswithstandard</th>\n",
       "      <th>netsales</th>\n",
       "      <th>quantity</th>\n",
       "      <th>sales</th>\n",
       "      <th>region</th>\n",
       "      <th>region2</th>\n",
       "      <th>year</th>\n",
       "    </tr>\n",
       "  </thead>\n",
       "  <tbody>\n",
       "    <tr>\n",
       "      <th>10</th>\n",
       "      <td>clothing</td>\n",
       "      <td>Gloves</td>\n",
       "      <td>Half-Finger Gloves, S</td>\n",
       "      <td>United Kingdom</td>\n",
       "      <td>United Kingdom</td>\n",
       "      <td>Berks</td>\n",
       "      <td>England</td>\n",
       "      <td>Gary Suess</td>\n",
       "      <td>Amy Alberts</td>\n",
       "      <td>1</td>\n",
       "      <td>...</td>\n",
       "      <td>0</td>\n",
       "      <td>0</td>\n",
       "      <td>24</td>\n",
       "      <td>27</td>\n",
       "      <td>15</td>\n",
       "      <td>3</td>\n",
       "      <td>42</td>\n",
       "      <td>Europe</td>\n",
       "      <td>Europe</td>\n",
       "      <td>2012</td>\n",
       "    </tr>\n",
       "    <tr>\n",
       "      <th>11</th>\n",
       "      <td>components</td>\n",
       "      <td>Forks</td>\n",
       "      <td>HL Fork</td>\n",
       "      <td>United Kingdom</td>\n",
       "      <td>United Kingdom</td>\n",
       "      <td>Berks</td>\n",
       "      <td>England</td>\n",
       "      <td>Gary Suess</td>\n",
       "      <td>Amy Alberts</td>\n",
       "      <td>1</td>\n",
       "      <td>...</td>\n",
       "      <td>0</td>\n",
       "      <td>0</td>\n",
       "      <td>229</td>\n",
       "      <td>611</td>\n",
       "      <td>215</td>\n",
       "      <td>6</td>\n",
       "      <td>826</td>\n",
       "      <td>Europe</td>\n",
       "      <td>Europe</td>\n",
       "      <td>2012</td>\n",
       "    </tr>\n",
       "    <tr>\n",
       "      <th>12</th>\n",
       "      <td>components</td>\n",
       "      <td>Headsets</td>\n",
       "      <td>HL Headset</td>\n",
       "      <td>United Kingdom</td>\n",
       "      <td>United Kingdom</td>\n",
       "      <td>Berks</td>\n",
       "      <td>England</td>\n",
       "      <td>Gary Suess</td>\n",
       "      <td>Amy Alberts</td>\n",
       "      <td>1</td>\n",
       "      <td>...</td>\n",
       "      <td>0</td>\n",
       "      <td>0</td>\n",
       "      <td>125</td>\n",
       "      <td>111</td>\n",
       "      <td>39</td>\n",
       "      <td>2</td>\n",
       "      <td>150</td>\n",
       "      <td>Europe</td>\n",
       "      <td>Europe</td>\n",
       "      <td>2012</td>\n",
       "    </tr>\n",
       "  </tbody>\n",
       "</table>\n",
       "<p>3 rows × 23 columns</p>\n",
       "</div>"
      ],
      "text/plain": [
       "      category subcategory                product       territory         country   city    state    customer     employee  ordercount  ... unitpricediscount  discount  listprice  saleswithstandard  netsales  quantity  \\\n",
       "10    clothing      Gloves  Half-Finger Gloves, S  United Kingdom  United Kingdom  Berks  England  Gary Suess  Amy Alberts           1  ...                 0         0         24                 27        15         3   \n",
       "11  components       Forks                HL Fork  United Kingdom  United Kingdom  Berks  England  Gary Suess  Amy Alberts           1  ...                 0         0        229                611       215         6   \n",
       "12  components    Headsets             HL Headset  United Kingdom  United Kingdom  Berks  England  Gary Suess  Amy Alberts           1  ...                 0         0        125                111        39         2   \n",
       "\n",
       "    sales  region  region2  year  \n",
       "10     42  Europe   Europe  2012  \n",
       "11    826  Europe   Europe  2012  \n",
       "12    150  Europe   Europe  2012  \n",
       "\n",
       "[3 rows x 23 columns]"
      ]
     },
     "execution_count": 226,
     "metadata": {},
     "output_type": "execute_result"
    }
   ],
   "source": [
    "df[10:13]"
   ]
  },
  {
   "cell_type": "code",
   "execution_count": null,
   "metadata": {},
   "outputs": [
    {
     "data": {
      "text/plain": [
       "Index(['category', 'subcategory', 'product', 'territory', 'country', 'city', 'state', 'customer', 'employee', 'ordercount', 'date', 'standardcost', 'unitprice', 'unitpricediscount', 'discount', 'listprice',\n",
       "       'saleswithstandard', 'netsales', 'quantity', 'sales', 'region', 'region2', 'year'],\n",
       "      dtype='object')"
      ]
     },
     "execution_count": 227,
     "metadata": {},
     "output_type": "execute_result"
    }
   ],
   "source": [
    "df.columns"
   ]
  },
  {
   "cell_type": "markdown",
   "metadata": {},
   "source": [
    "### select records and column"
   ]
  },
  {
   "cell_type": "code",
   "execution_count": null,
   "metadata": {},
   "outputs": [
    {
     "data": {
      "text/plain": [
       "10      clothing\n",
       "11    components\n",
       "12    components\n",
       "Name: category, dtype: object"
      ]
     },
     "execution_count": 228,
     "metadata": {},
     "output_type": "execute_result"
    }
   ],
   "source": [
    "df[10:13]['category'].str.lower()"
   ]
  },
  {
   "cell_type": "markdown",
   "metadata": {},
   "source": [
    "> same thing, just swapped selectors\n"
   ]
  },
  {
   "cell_type": "code",
   "execution_count": null,
   "metadata": {},
   "outputs": [
    {
     "data": {
      "text/plain": [
       "10      clothing\n",
       "11    components\n",
       "12    components\n",
       "Name: category, dtype: object"
      ]
     },
     "execution_count": 229,
     "metadata": {},
     "output_type": "execute_result"
    }
   ],
   "source": [
    "df['category'][10:13].str.lower()"
   ]
  },
  {
   "cell_type": "code",
   "execution_count": null,
   "metadata": {},
   "outputs": [
    {
     "data": {
      "text/html": [
       "<div>\n",
       "<style scoped>\n",
       "    .dataframe tbody tr th:only-of-type {\n",
       "        vertical-align: middle;\n",
       "    }\n",
       "\n",
       "    .dataframe tbody tr th {\n",
       "        vertical-align: top;\n",
       "    }\n",
       "\n",
       "    .dataframe thead th {\n",
       "        text-align: right;\n",
       "    }\n",
       "</style>\n",
       "<table border=\"1\" class=\"dataframe\">\n",
       "  <thead>\n",
       "    <tr style=\"text-align: right;\">\n",
       "      <th></th>\n",
       "      <th>category</th>\n",
       "      <th>subcategory</th>\n",
       "      <th>product</th>\n",
       "      <th>territory</th>\n",
       "      <th>country</th>\n",
       "      <th>city</th>\n",
       "      <th>state</th>\n",
       "      <th>customer</th>\n",
       "      <th>employee</th>\n",
       "      <th>ordercount</th>\n",
       "      <th>...</th>\n",
       "      <th>unitpricediscount</th>\n",
       "      <th>discount</th>\n",
       "      <th>listprice</th>\n",
       "      <th>saleswithstandard</th>\n",
       "      <th>netsales</th>\n",
       "      <th>quantity</th>\n",
       "      <th>sales</th>\n",
       "      <th>region</th>\n",
       "      <th>region2</th>\n",
       "      <th>year</th>\n",
       "    </tr>\n",
       "  </thead>\n",
       "  <tbody>\n",
       "    <tr>\n",
       "      <th>0</th>\n",
       "      <td>Clothing</td>\n",
       "      <td>Caps</td>\n",
       "      <td>AWC Logo Cap</td>\n",
       "      <td>United Kingdom</td>\n",
       "      <td>United Kingdom</td>\n",
       "      <td>Berks</td>\n",
       "      <td>England</td>\n",
       "      <td>Gary Suess</td>\n",
       "      <td>Amy Alberts</td>\n",
       "      <td>1</td>\n",
       "      <td>...</td>\n",
       "      <td>0</td>\n",
       "      <td>1</td>\n",
       "      <td>9</td>\n",
       "      <td>97</td>\n",
       "      <td>-28</td>\n",
       "      <td>14</td>\n",
       "      <td>69</td>\n",
       "      <td>Europe</td>\n",
       "      <td>Europe</td>\n",
       "      <td>2012</td>\n",
       "    </tr>\n",
       "    <tr>\n",
       "      <th>1</th>\n",
       "      <td>Accessories</td>\n",
       "      <td>Locks</td>\n",
       "      <td>Cable Lock</td>\n",
       "      <td>United Kingdom</td>\n",
       "      <td>United Kingdom</td>\n",
       "      <td>Berks</td>\n",
       "      <td>England</td>\n",
       "      <td>Gary Suess</td>\n",
       "      <td>Amy Alberts</td>\n",
       "      <td>1</td>\n",
       "      <td>...</td>\n",
       "      <td>0</td>\n",
       "      <td>0</td>\n",
       "      <td>25</td>\n",
       "      <td>62</td>\n",
       "      <td>28</td>\n",
       "      <td>6</td>\n",
       "      <td>90</td>\n",
       "      <td>Europe</td>\n",
       "      <td>Europe</td>\n",
       "      <td>2012</td>\n",
       "    </tr>\n",
       "    <tr>\n",
       "      <th>2</th>\n",
       "      <td>Clothing</td>\n",
       "      <td>Gloves</td>\n",
       "      <td>Full-Finger Gloves, L</td>\n",
       "      <td>United Kingdom</td>\n",
       "      <td>United Kingdom</td>\n",
       "      <td>Berks</td>\n",
       "      <td>England</td>\n",
       "      <td>Gary Suess</td>\n",
       "      <td>Amy Alberts</td>\n",
       "      <td>1</td>\n",
       "      <td>...</td>\n",
       "      <td>0</td>\n",
       "      <td>0</td>\n",
       "      <td>38</td>\n",
       "      <td>125</td>\n",
       "      <td>57</td>\n",
       "      <td>8</td>\n",
       "      <td>182</td>\n",
       "      <td>Europe</td>\n",
       "      <td>Europe</td>\n",
       "      <td>2012</td>\n",
       "    </tr>\n",
       "  </tbody>\n",
       "</table>\n",
       "<p>3 rows × 23 columns</p>\n",
       "</div>"
      ],
      "text/plain": [
       "      category subcategory                product       territory         country   city    state    customer     employee  ordercount  ... unitpricediscount  discount  listprice  saleswithstandard  netsales  quantity  \\\n",
       "0     Clothing        Caps           AWC Logo Cap  United Kingdom  United Kingdom  Berks  England  Gary Suess  Amy Alberts           1  ...                 0         1          9                 97       -28        14   \n",
       "1  Accessories       Locks             Cable Lock  United Kingdom  United Kingdom  Berks  England  Gary Suess  Amy Alberts           1  ...                 0         0         25                 62        28         6   \n",
       "2     Clothing      Gloves  Full-Finger Gloves, L  United Kingdom  United Kingdom  Berks  England  Gary Suess  Amy Alberts           1  ...                 0         0         38                125        57         8   \n",
       "\n",
       "   sales  region  region2  year  \n",
       "0     69  Europe   Europe  2012  \n",
       "1     90  Europe   Europe  2012  \n",
       "2    182  Europe   Europe  2012  \n",
       "\n",
       "[3 rows x 23 columns]"
      ]
     },
     "execution_count": 230,
     "metadata": {},
     "output_type": "execute_result"
    }
   ],
   "source": [
    "df[0:3]"
   ]
  },
  {
   "cell_type": "markdown",
   "metadata": {},
   "source": [
    "## other"
   ]
  },
  {
   "cell_type": "markdown",
   "metadata": {},
   "source": [
    "### pivot"
   ]
  },
  {
   "cell_type": "code",
   "execution_count": null,
   "metadata": {},
   "outputs": [
    {
     "data": {
      "text/html": [
       "<div>\n",
       "<style scoped>\n",
       "    .dataframe tbody tr th:only-of-type {\n",
       "        vertical-align: middle;\n",
       "    }\n",
       "\n",
       "    .dataframe tbody tr th {\n",
       "        vertical-align: top;\n",
       "    }\n",
       "\n",
       "    .dataframe thead th {\n",
       "        text-align: right;\n",
       "    }\n",
       "</style>\n",
       "<table border=\"1\" class=\"dataframe\">\n",
       "  <thead>\n",
       "    <tr style=\"text-align: right;\">\n",
       "      <th></th>\n",
       "      <th>0</th>\n",
       "      <th>1</th>\n",
       "      <th>2</th>\n",
       "      <th>3</th>\n",
       "      <th>4</th>\n",
       "      <th>5</th>\n",
       "      <th>6</th>\n",
       "      <th>7</th>\n",
       "      <th>8</th>\n",
       "      <th>9</th>\n",
       "      <th>...</th>\n",
       "      <th>60870</th>\n",
       "      <th>60871</th>\n",
       "      <th>60872</th>\n",
       "      <th>60873</th>\n",
       "      <th>60874</th>\n",
       "      <th>60875</th>\n",
       "      <th>60876</th>\n",
       "      <th>60877</th>\n",
       "      <th>60878</th>\n",
       "      <th>60879</th>\n",
       "    </tr>\n",
       "  </thead>\n",
       "  <tbody>\n",
       "    <tr>\n",
       "      <th>category</th>\n",
       "      <td>Clothing</td>\n",
       "      <td>Accessories</td>\n",
       "      <td>Clothing</td>\n",
       "      <td>Clothing</td>\n",
       "      <td>Clothing</td>\n",
       "      <td>Clothing</td>\n",
       "      <td>Clothing</td>\n",
       "      <td>Clothing</td>\n",
       "      <td>Clothing</td>\n",
       "      <td>Clothing</td>\n",
       "      <td>...</td>\n",
       "      <td>Bikes</td>\n",
       "      <td>Bikes</td>\n",
       "      <td>Bikes</td>\n",
       "      <td>Accessories</td>\n",
       "      <td>Clothing</td>\n",
       "      <td>Clothing</td>\n",
       "      <td>Clothing</td>\n",
       "      <td>Clothing</td>\n",
       "      <td>Clothing</td>\n",
       "      <td>Clothing</td>\n",
       "    </tr>\n",
       "    <tr>\n",
       "      <th>subcategory</th>\n",
       "      <td>Caps</td>\n",
       "      <td>Locks</td>\n",
       "      <td>Gloves</td>\n",
       "      <td>Gloves</td>\n",
       "      <td>Gloves</td>\n",
       "      <td>Gloves</td>\n",
       "      <td>Gloves</td>\n",
       "      <td>Gloves</td>\n",
       "      <td>Gloves</td>\n",
       "      <td>Gloves</td>\n",
       "      <td>...</td>\n",
       "      <td>Touring Bikes</td>\n",
       "      <td>Touring Bikes</td>\n",
       "      <td>Touring Bikes</td>\n",
       "      <td>Bottles and Cages</td>\n",
       "      <td>Shorts</td>\n",
       "      <td>Shorts</td>\n",
       "      <td>Shorts</td>\n",
       "      <td>Shorts</td>\n",
       "      <td>Shorts</td>\n",
       "      <td>Shorts</td>\n",
       "    </tr>\n",
       "    <tr>\n",
       "      <th>product</th>\n",
       "      <td>AWC Logo Cap</td>\n",
       "      <td>Cable Lock</td>\n",
       "      <td>Full-Finger Gloves, L</td>\n",
       "      <td>Full-Finger Gloves, L</td>\n",
       "      <td>Full-Finger Gloves, M</td>\n",
       "      <td>Full-Finger Gloves, M</td>\n",
       "      <td>Full-Finger Gloves, S</td>\n",
       "      <td>Full-Finger Gloves, S</td>\n",
       "      <td>Half-Finger Gloves, L</td>\n",
       "      <td>Half-Finger Gloves, M</td>\n",
       "      <td>...</td>\n",
       "      <td>Touring-3000 Yellow, 62</td>\n",
       "      <td>Touring-3000 Yellow, 62</td>\n",
       "      <td>Touring-3000 Yellow, 62</td>\n",
       "      <td>Water Bottle - 30 oz.</td>\n",
       "      <td>Women's Mountain Shorts, L</td>\n",
       "      <td>Women's Mountain Shorts, L</td>\n",
       "      <td>Women's Mountain Shorts, L</td>\n",
       "      <td>Women's Mountain Shorts, M</td>\n",
       "      <td>Women's Mountain Shorts, S</td>\n",
       "      <td>Women's Mountain Shorts, S</td>\n",
       "    </tr>\n",
       "  </tbody>\n",
       "</table>\n",
       "<p>3 rows × 60880 columns</p>\n",
       "</div>"
      ],
      "text/plain": [
       "                    0            1                      2                      3                      4                      5                      6                      7                      8      \\\n",
       "category         Clothing  Accessories               Clothing               Clothing               Clothing               Clothing               Clothing               Clothing               Clothing   \n",
       "subcategory          Caps        Locks                 Gloves                 Gloves                 Gloves                 Gloves                 Gloves                 Gloves                 Gloves   \n",
       "product      AWC Logo Cap   Cable Lock  Full-Finger Gloves, L  Full-Finger Gloves, L  Full-Finger Gloves, M  Full-Finger Gloves, M  Full-Finger Gloves, S  Full-Finger Gloves, S  Half-Finger Gloves, L   \n",
       "\n",
       "                             9      ...                    60870                    60871                    60872                  60873                       60874                       60875  \\\n",
       "category                  Clothing  ...                    Bikes                    Bikes                    Bikes            Accessories                    Clothing                    Clothing   \n",
       "subcategory                 Gloves  ...            Touring Bikes            Touring Bikes            Touring Bikes      Bottles and Cages                      Shorts                      Shorts   \n",
       "product      Half-Finger Gloves, M  ...  Touring-3000 Yellow, 62  Touring-3000 Yellow, 62  Touring-3000 Yellow, 62  Water Bottle - 30 oz.  Women's Mountain Shorts, L  Women's Mountain Shorts, L   \n",
       "\n",
       "                                  60876                       60877                       60878                       60879  \n",
       "category                       Clothing                    Clothing                    Clothing                    Clothing  \n",
       "subcategory                      Shorts                      Shorts                      Shorts                      Shorts  \n",
       "product      Women's Mountain Shorts, L  Women's Mountain Shorts, M  Women's Mountain Shorts, S  Women's Mountain Shorts, S  \n",
       "\n",
       "[3 rows x 60880 columns]"
      ]
     },
     "execution_count": 231,
     "metadata": {},
     "output_type": "execute_result"
    }
   ],
   "source": [
    "df.T.head(3)"
   ]
  }
 ],
 "metadata": {
  "kernelspec": {
   "display_name": ".venv",
   "language": "python",
   "name": "python3"
  },
  "language_info": {
   "codemirror_mode": {
    "name": "ipython",
    "version": 3
   },
   "file_extension": ".py",
   "mimetype": "text/x-python",
   "name": "python",
   "nbconvert_exporter": "python",
   "pygments_lexer": "ipython3",
   "version": "3.12.4"
  }
 },
 "nbformat": 4,
 "nbformat_minor": 2
}
